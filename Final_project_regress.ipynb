{
 "cells": [
  {
   "cell_type": "code",
   "execution_count": 1,
   "id": "0ec452d3",
   "metadata": {},
   "outputs": [],
   "source": [
    "import numpy as np\n",
    "import pandas as pd\n",
    "import matplotlib.pyplot as plt\n",
    "import seaborn as sns\n",
    "sns.set()\n",
    "\n",
    "import statsmodels.api as sm\n",
    "\n",
    "from sklearn.linear_model import LinearRegression\n",
    "\n",
    "pd.set_option('display.max_columns', None)\n",
    "pd.set_option('display.max_rows', None)"
   ]
  },
  {
   "cell_type": "code",
   "execution_count": 2,
   "id": "5b9f266b",
   "metadata": {},
   "outputs": [
    {
     "data": {
      "text/html": [
       "<div>\n",
       "<style scoped>\n",
       "    .dataframe tbody tr th:only-of-type {\n",
       "        vertical-align: middle;\n",
       "    }\n",
       "\n",
       "    .dataframe tbody tr th {\n",
       "        vertical-align: top;\n",
       "    }\n",
       "\n",
       "    .dataframe thead th {\n",
       "        text-align: right;\n",
       "    }\n",
       "</style>\n",
       "<table border=\"1\" class=\"dataframe\">\n",
       "  <thead>\n",
       "    <tr style=\"text-align: right;\">\n",
       "      <th></th>\n",
       "      <th>Country</th>\n",
       "      <th>Year</th>\n",
       "      <th>Status</th>\n",
       "      <th>Adult Mortality</th>\n",
       "      <th>infant deaths</th>\n",
       "      <th>Alcohol</th>\n",
       "      <th>percentage expenditure</th>\n",
       "      <th>Hepatitis B</th>\n",
       "      <th>Measles</th>\n",
       "      <th>BMI</th>\n",
       "      <th>under-five deaths</th>\n",
       "      <th>Polio</th>\n",
       "      <th>Total expenditure</th>\n",
       "      <th>Diphtheria</th>\n",
       "      <th>HIV/AIDS</th>\n",
       "      <th>GDP</th>\n",
       "      <th>Population</th>\n",
       "      <th>thinness  1-19 years</th>\n",
       "      <th>thinness 5-9 years</th>\n",
       "      <th>Income composition of resources</th>\n",
       "      <th>Schooling</th>\n",
       "      <th>Life expectancy</th>\n",
       "    </tr>\n",
       "  </thead>\n",
       "  <tbody>\n",
       "    <tr>\n",
       "      <th>0</th>\n",
       "      <td>Afghanistan</td>\n",
       "      <td>2015</td>\n",
       "      <td>Developing</td>\n",
       "      <td>263.0</td>\n",
       "      <td>62</td>\n",
       "      <td>0.01</td>\n",
       "      <td>71.279624</td>\n",
       "      <td>65.0</td>\n",
       "      <td>1154</td>\n",
       "      <td>19.1</td>\n",
       "      <td>83</td>\n",
       "      <td>6.0</td>\n",
       "      <td>8.16</td>\n",
       "      <td>65.0</td>\n",
       "      <td>0.1</td>\n",
       "      <td>584.259210</td>\n",
       "      <td>33736494.0</td>\n",
       "      <td>17.2</td>\n",
       "      <td>17.3</td>\n",
       "      <td>0.479</td>\n",
       "      <td>10.1</td>\n",
       "      <td>65.0</td>\n",
       "    </tr>\n",
       "    <tr>\n",
       "      <th>1</th>\n",
       "      <td>Afghanistan</td>\n",
       "      <td>2014</td>\n",
       "      <td>Developing</td>\n",
       "      <td>271.0</td>\n",
       "      <td>64</td>\n",
       "      <td>0.01</td>\n",
       "      <td>73.523582</td>\n",
       "      <td>62.0</td>\n",
       "      <td>492</td>\n",
       "      <td>18.6</td>\n",
       "      <td>86</td>\n",
       "      <td>58.0</td>\n",
       "      <td>8.18</td>\n",
       "      <td>62.0</td>\n",
       "      <td>0.1</td>\n",
       "      <td>612.696514</td>\n",
       "      <td>327582.0</td>\n",
       "      <td>17.5</td>\n",
       "      <td>17.5</td>\n",
       "      <td>0.476</td>\n",
       "      <td>10.0</td>\n",
       "      <td>59.9</td>\n",
       "    </tr>\n",
       "    <tr>\n",
       "      <th>2</th>\n",
       "      <td>Afghanistan</td>\n",
       "      <td>2013</td>\n",
       "      <td>Developing</td>\n",
       "      <td>268.0</td>\n",
       "      <td>66</td>\n",
       "      <td>0.01</td>\n",
       "      <td>73.219243</td>\n",
       "      <td>64.0</td>\n",
       "      <td>430</td>\n",
       "      <td>18.1</td>\n",
       "      <td>89</td>\n",
       "      <td>62.0</td>\n",
       "      <td>8.13</td>\n",
       "      <td>64.0</td>\n",
       "      <td>0.1</td>\n",
       "      <td>631.744976</td>\n",
       "      <td>31731688.0</td>\n",
       "      <td>17.7</td>\n",
       "      <td>17.7</td>\n",
       "      <td>0.470</td>\n",
       "      <td>9.9</td>\n",
       "      <td>59.9</td>\n",
       "    </tr>\n",
       "    <tr>\n",
       "      <th>3</th>\n",
       "      <td>Afghanistan</td>\n",
       "      <td>2012</td>\n",
       "      <td>Developing</td>\n",
       "      <td>272.0</td>\n",
       "      <td>69</td>\n",
       "      <td>0.01</td>\n",
       "      <td>78.184215</td>\n",
       "      <td>67.0</td>\n",
       "      <td>2787</td>\n",
       "      <td>17.6</td>\n",
       "      <td>93</td>\n",
       "      <td>67.0</td>\n",
       "      <td>8.52</td>\n",
       "      <td>67.0</td>\n",
       "      <td>0.1</td>\n",
       "      <td>669.959000</td>\n",
       "      <td>3696958.0</td>\n",
       "      <td>17.9</td>\n",
       "      <td>18.0</td>\n",
       "      <td>0.463</td>\n",
       "      <td>9.8</td>\n",
       "      <td>59.5</td>\n",
       "    </tr>\n",
       "    <tr>\n",
       "      <th>4</th>\n",
       "      <td>Afghanistan</td>\n",
       "      <td>2011</td>\n",
       "      <td>Developing</td>\n",
       "      <td>275.0</td>\n",
       "      <td>71</td>\n",
       "      <td>0.01</td>\n",
       "      <td>7.097109</td>\n",
       "      <td>68.0</td>\n",
       "      <td>3013</td>\n",
       "      <td>17.2</td>\n",
       "      <td>97</td>\n",
       "      <td>68.0</td>\n",
       "      <td>7.87</td>\n",
       "      <td>68.0</td>\n",
       "      <td>0.1</td>\n",
       "      <td>63.537231</td>\n",
       "      <td>2978599.0</td>\n",
       "      <td>18.2</td>\n",
       "      <td>18.2</td>\n",
       "      <td>0.454</td>\n",
       "      <td>9.5</td>\n",
       "      <td>59.2</td>\n",
       "    </tr>\n",
       "  </tbody>\n",
       "</table>\n",
       "</div>"
      ],
      "text/plain": [
       "       Country  Year      Status  Adult Mortality  infant deaths  Alcohol  \\\n",
       "0  Afghanistan  2015  Developing            263.0             62     0.01   \n",
       "1  Afghanistan  2014  Developing            271.0             64     0.01   \n",
       "2  Afghanistan  2013  Developing            268.0             66     0.01   \n",
       "3  Afghanistan  2012  Developing            272.0             69     0.01   \n",
       "4  Afghanistan  2011  Developing            275.0             71     0.01   \n",
       "\n",
       "   percentage expenditure  Hepatitis B  Measles    BMI   under-five deaths   \\\n",
       "0               71.279624         65.0      1154   19.1                  83   \n",
       "1               73.523582         62.0       492   18.6                  86   \n",
       "2               73.219243         64.0       430   18.1                  89   \n",
       "3               78.184215         67.0      2787   17.6                  93   \n",
       "4                7.097109         68.0      3013   17.2                  97   \n",
       "\n",
       "   Polio  Total expenditure  Diphtheria    HIV/AIDS         GDP  Population  \\\n",
       "0    6.0               8.16         65.0        0.1  584.259210  33736494.0   \n",
       "1   58.0               8.18         62.0        0.1  612.696514    327582.0   \n",
       "2   62.0               8.13         64.0        0.1  631.744976  31731688.0   \n",
       "3   67.0               8.52         67.0        0.1  669.959000   3696958.0   \n",
       "4   68.0               7.87         68.0        0.1   63.537231   2978599.0   \n",
       "\n",
       "    thinness  1-19 years   thinness 5-9 years  \\\n",
       "0                   17.2                 17.3   \n",
       "1                   17.5                 17.5   \n",
       "2                   17.7                 17.7   \n",
       "3                   17.9                 18.0   \n",
       "4                   18.2                 18.2   \n",
       "\n",
       "   Income composition of resources  Schooling  Life expectancy   \n",
       "0                            0.479       10.1              65.0  \n",
       "1                            0.476       10.0              59.9  \n",
       "2                            0.470        9.9              59.9  \n",
       "3                            0.463        9.8              59.5  \n",
       "4                            0.454        9.5              59.2  "
      ]
     },
     "execution_count": 2,
     "metadata": {},
     "output_type": "execute_result"
    }
   ],
   "source": [
    "data = pd.read_csv('Life Expectancy Data.csv')\n",
    "data.head()"
   ]
  },
  {
   "cell_type": "code",
   "execution_count": 3,
   "id": "1cfe57f6",
   "metadata": {},
   "outputs": [
    {
     "data": {
      "text/html": [
       "<div>\n",
       "<style scoped>\n",
       "    .dataframe tbody tr th:only-of-type {\n",
       "        vertical-align: middle;\n",
       "    }\n",
       "\n",
       "    .dataframe tbody tr th {\n",
       "        vertical-align: top;\n",
       "    }\n",
       "\n",
       "    .dataframe thead th {\n",
       "        text-align: right;\n",
       "    }\n",
       "</style>\n",
       "<table border=\"1\" class=\"dataframe\">\n",
       "  <thead>\n",
       "    <tr style=\"text-align: right;\">\n",
       "      <th></th>\n",
       "      <th>Country</th>\n",
       "      <th>Year</th>\n",
       "      <th>Status</th>\n",
       "      <th>Adult Mortality</th>\n",
       "      <th>infant deaths</th>\n",
       "      <th>Alcohol</th>\n",
       "      <th>percentage expenditure</th>\n",
       "      <th>Hepatitis B</th>\n",
       "      <th>Measles</th>\n",
       "      <th>BMI</th>\n",
       "      <th>under-five deaths</th>\n",
       "      <th>Polio</th>\n",
       "      <th>Total expenditure</th>\n",
       "      <th>Diphtheria</th>\n",
       "      <th>HIV/AIDS</th>\n",
       "      <th>GDP</th>\n",
       "      <th>Population</th>\n",
       "      <th>thinness  1-19 years</th>\n",
       "      <th>thinness 5-9 years</th>\n",
       "      <th>Income composition of resources</th>\n",
       "      <th>Schooling</th>\n",
       "      <th>Life expectancy</th>\n",
       "    </tr>\n",
       "  </thead>\n",
       "  <tbody>\n",
       "    <tr>\n",
       "      <th>count</th>\n",
       "      <td>2938</td>\n",
       "      <td>2938.000000</td>\n",
       "      <td>2938</td>\n",
       "      <td>2928.000000</td>\n",
       "      <td>2938.000000</td>\n",
       "      <td>2744.000000</td>\n",
       "      <td>2938.000000</td>\n",
       "      <td>2385.000000</td>\n",
       "      <td>2938.000000</td>\n",
       "      <td>2904.000000</td>\n",
       "      <td>2938.000000</td>\n",
       "      <td>2919.000000</td>\n",
       "      <td>2712.00000</td>\n",
       "      <td>2919.000000</td>\n",
       "      <td>2938.000000</td>\n",
       "      <td>2490.000000</td>\n",
       "      <td>2.286000e+03</td>\n",
       "      <td>2904.000000</td>\n",
       "      <td>2904.000000</td>\n",
       "      <td>2771.000000</td>\n",
       "      <td>2775.000000</td>\n",
       "      <td>2928.000000</td>\n",
       "    </tr>\n",
       "    <tr>\n",
       "      <th>unique</th>\n",
       "      <td>193</td>\n",
       "      <td>NaN</td>\n",
       "      <td>2</td>\n",
       "      <td>NaN</td>\n",
       "      <td>NaN</td>\n",
       "      <td>NaN</td>\n",
       "      <td>NaN</td>\n",
       "      <td>NaN</td>\n",
       "      <td>NaN</td>\n",
       "      <td>NaN</td>\n",
       "      <td>NaN</td>\n",
       "      <td>NaN</td>\n",
       "      <td>NaN</td>\n",
       "      <td>NaN</td>\n",
       "      <td>NaN</td>\n",
       "      <td>NaN</td>\n",
       "      <td>NaN</td>\n",
       "      <td>NaN</td>\n",
       "      <td>NaN</td>\n",
       "      <td>NaN</td>\n",
       "      <td>NaN</td>\n",
       "      <td>NaN</td>\n",
       "    </tr>\n",
       "    <tr>\n",
       "      <th>top</th>\n",
       "      <td>Afghanistan</td>\n",
       "      <td>NaN</td>\n",
       "      <td>Developing</td>\n",
       "      <td>NaN</td>\n",
       "      <td>NaN</td>\n",
       "      <td>NaN</td>\n",
       "      <td>NaN</td>\n",
       "      <td>NaN</td>\n",
       "      <td>NaN</td>\n",
       "      <td>NaN</td>\n",
       "      <td>NaN</td>\n",
       "      <td>NaN</td>\n",
       "      <td>NaN</td>\n",
       "      <td>NaN</td>\n",
       "      <td>NaN</td>\n",
       "      <td>NaN</td>\n",
       "      <td>NaN</td>\n",
       "      <td>NaN</td>\n",
       "      <td>NaN</td>\n",
       "      <td>NaN</td>\n",
       "      <td>NaN</td>\n",
       "      <td>NaN</td>\n",
       "    </tr>\n",
       "    <tr>\n",
       "      <th>freq</th>\n",
       "      <td>16</td>\n",
       "      <td>NaN</td>\n",
       "      <td>2426</td>\n",
       "      <td>NaN</td>\n",
       "      <td>NaN</td>\n",
       "      <td>NaN</td>\n",
       "      <td>NaN</td>\n",
       "      <td>NaN</td>\n",
       "      <td>NaN</td>\n",
       "      <td>NaN</td>\n",
       "      <td>NaN</td>\n",
       "      <td>NaN</td>\n",
       "      <td>NaN</td>\n",
       "      <td>NaN</td>\n",
       "      <td>NaN</td>\n",
       "      <td>NaN</td>\n",
       "      <td>NaN</td>\n",
       "      <td>NaN</td>\n",
       "      <td>NaN</td>\n",
       "      <td>NaN</td>\n",
       "      <td>NaN</td>\n",
       "      <td>NaN</td>\n",
       "    </tr>\n",
       "    <tr>\n",
       "      <th>mean</th>\n",
       "      <td>NaN</td>\n",
       "      <td>2007.518720</td>\n",
       "      <td>NaN</td>\n",
       "      <td>164.796448</td>\n",
       "      <td>30.303948</td>\n",
       "      <td>4.602861</td>\n",
       "      <td>738.251295</td>\n",
       "      <td>80.940461</td>\n",
       "      <td>2419.592240</td>\n",
       "      <td>38.321247</td>\n",
       "      <td>42.035739</td>\n",
       "      <td>82.550188</td>\n",
       "      <td>5.93819</td>\n",
       "      <td>82.324084</td>\n",
       "      <td>1.742103</td>\n",
       "      <td>7483.158469</td>\n",
       "      <td>1.275338e+07</td>\n",
       "      <td>4.839704</td>\n",
       "      <td>4.870317</td>\n",
       "      <td>0.627551</td>\n",
       "      <td>11.992793</td>\n",
       "      <td>69.224932</td>\n",
       "    </tr>\n",
       "    <tr>\n",
       "      <th>std</th>\n",
       "      <td>NaN</td>\n",
       "      <td>4.613841</td>\n",
       "      <td>NaN</td>\n",
       "      <td>124.292079</td>\n",
       "      <td>117.926501</td>\n",
       "      <td>4.052413</td>\n",
       "      <td>1987.914858</td>\n",
       "      <td>25.070016</td>\n",
       "      <td>11467.272489</td>\n",
       "      <td>20.044034</td>\n",
       "      <td>160.445548</td>\n",
       "      <td>23.428046</td>\n",
       "      <td>2.49832</td>\n",
       "      <td>23.716912</td>\n",
       "      <td>5.077785</td>\n",
       "      <td>14270.169342</td>\n",
       "      <td>6.101210e+07</td>\n",
       "      <td>4.420195</td>\n",
       "      <td>4.508882</td>\n",
       "      <td>0.210904</td>\n",
       "      <td>3.358920</td>\n",
       "      <td>9.523867</td>\n",
       "    </tr>\n",
       "    <tr>\n",
       "      <th>min</th>\n",
       "      <td>NaN</td>\n",
       "      <td>2000.000000</td>\n",
       "      <td>NaN</td>\n",
       "      <td>1.000000</td>\n",
       "      <td>0.000000</td>\n",
       "      <td>0.010000</td>\n",
       "      <td>0.000000</td>\n",
       "      <td>1.000000</td>\n",
       "      <td>0.000000</td>\n",
       "      <td>1.000000</td>\n",
       "      <td>0.000000</td>\n",
       "      <td>3.000000</td>\n",
       "      <td>0.37000</td>\n",
       "      <td>2.000000</td>\n",
       "      <td>0.100000</td>\n",
       "      <td>1.681350</td>\n",
       "      <td>3.400000e+01</td>\n",
       "      <td>0.100000</td>\n",
       "      <td>0.100000</td>\n",
       "      <td>0.000000</td>\n",
       "      <td>0.000000</td>\n",
       "      <td>36.300000</td>\n",
       "    </tr>\n",
       "    <tr>\n",
       "      <th>25%</th>\n",
       "      <td>NaN</td>\n",
       "      <td>2004.000000</td>\n",
       "      <td>NaN</td>\n",
       "      <td>74.000000</td>\n",
       "      <td>0.000000</td>\n",
       "      <td>0.877500</td>\n",
       "      <td>4.685343</td>\n",
       "      <td>77.000000</td>\n",
       "      <td>0.000000</td>\n",
       "      <td>19.300000</td>\n",
       "      <td>0.000000</td>\n",
       "      <td>78.000000</td>\n",
       "      <td>4.26000</td>\n",
       "      <td>78.000000</td>\n",
       "      <td>0.100000</td>\n",
       "      <td>463.935626</td>\n",
       "      <td>1.957932e+05</td>\n",
       "      <td>1.600000</td>\n",
       "      <td>1.500000</td>\n",
       "      <td>0.493000</td>\n",
       "      <td>10.100000</td>\n",
       "      <td>63.100000</td>\n",
       "    </tr>\n",
       "    <tr>\n",
       "      <th>50%</th>\n",
       "      <td>NaN</td>\n",
       "      <td>2008.000000</td>\n",
       "      <td>NaN</td>\n",
       "      <td>144.000000</td>\n",
       "      <td>3.000000</td>\n",
       "      <td>3.755000</td>\n",
       "      <td>64.912906</td>\n",
       "      <td>92.000000</td>\n",
       "      <td>17.000000</td>\n",
       "      <td>43.500000</td>\n",
       "      <td>4.000000</td>\n",
       "      <td>93.000000</td>\n",
       "      <td>5.75500</td>\n",
       "      <td>93.000000</td>\n",
       "      <td>0.100000</td>\n",
       "      <td>1766.947595</td>\n",
       "      <td>1.386542e+06</td>\n",
       "      <td>3.300000</td>\n",
       "      <td>3.300000</td>\n",
       "      <td>0.677000</td>\n",
       "      <td>12.300000</td>\n",
       "      <td>72.100000</td>\n",
       "    </tr>\n",
       "    <tr>\n",
       "      <th>75%</th>\n",
       "      <td>NaN</td>\n",
       "      <td>2012.000000</td>\n",
       "      <td>NaN</td>\n",
       "      <td>228.000000</td>\n",
       "      <td>22.000000</td>\n",
       "      <td>7.702500</td>\n",
       "      <td>441.534144</td>\n",
       "      <td>97.000000</td>\n",
       "      <td>360.250000</td>\n",
       "      <td>56.200000</td>\n",
       "      <td>28.000000</td>\n",
       "      <td>97.000000</td>\n",
       "      <td>7.49250</td>\n",
       "      <td>97.000000</td>\n",
       "      <td>0.800000</td>\n",
       "      <td>5910.806335</td>\n",
       "      <td>7.420359e+06</td>\n",
       "      <td>7.200000</td>\n",
       "      <td>7.200000</td>\n",
       "      <td>0.779000</td>\n",
       "      <td>14.300000</td>\n",
       "      <td>75.700000</td>\n",
       "    </tr>\n",
       "    <tr>\n",
       "      <th>max</th>\n",
       "      <td>NaN</td>\n",
       "      <td>2015.000000</td>\n",
       "      <td>NaN</td>\n",
       "      <td>723.000000</td>\n",
       "      <td>1800.000000</td>\n",
       "      <td>17.870000</td>\n",
       "      <td>19479.911610</td>\n",
       "      <td>99.000000</td>\n",
       "      <td>212183.000000</td>\n",
       "      <td>87.300000</td>\n",
       "      <td>2500.000000</td>\n",
       "      <td>99.000000</td>\n",
       "      <td>17.60000</td>\n",
       "      <td>99.000000</td>\n",
       "      <td>50.600000</td>\n",
       "      <td>119172.741800</td>\n",
       "      <td>1.293859e+09</td>\n",
       "      <td>27.700000</td>\n",
       "      <td>28.600000</td>\n",
       "      <td>0.948000</td>\n",
       "      <td>20.700000</td>\n",
       "      <td>89.000000</td>\n",
       "    </tr>\n",
       "  </tbody>\n",
       "</table>\n",
       "</div>"
      ],
      "text/plain": [
       "            Country         Year      Status  Adult Mortality  infant deaths  \\\n",
       "count          2938  2938.000000        2938      2928.000000    2938.000000   \n",
       "unique          193          NaN           2              NaN            NaN   \n",
       "top     Afghanistan          NaN  Developing              NaN            NaN   \n",
       "freq             16          NaN        2426              NaN            NaN   \n",
       "mean            NaN  2007.518720         NaN       164.796448      30.303948   \n",
       "std             NaN     4.613841         NaN       124.292079     117.926501   \n",
       "min             NaN  2000.000000         NaN         1.000000       0.000000   \n",
       "25%             NaN  2004.000000         NaN        74.000000       0.000000   \n",
       "50%             NaN  2008.000000         NaN       144.000000       3.000000   \n",
       "75%             NaN  2012.000000         NaN       228.000000      22.000000   \n",
       "max             NaN  2015.000000         NaN       723.000000    1800.000000   \n",
       "\n",
       "            Alcohol  percentage expenditure  Hepatitis B       Measles   \\\n",
       "count   2744.000000             2938.000000  2385.000000    2938.000000   \n",
       "unique          NaN                     NaN          NaN            NaN   \n",
       "top             NaN                     NaN          NaN            NaN   \n",
       "freq            NaN                     NaN          NaN            NaN   \n",
       "mean       4.602861              738.251295    80.940461    2419.592240   \n",
       "std        4.052413             1987.914858    25.070016   11467.272489   \n",
       "min        0.010000                0.000000     1.000000       0.000000   \n",
       "25%        0.877500                4.685343    77.000000       0.000000   \n",
       "50%        3.755000               64.912906    92.000000      17.000000   \n",
       "75%        7.702500              441.534144    97.000000     360.250000   \n",
       "max       17.870000            19479.911610    99.000000  212183.000000   \n",
       "\n",
       "               BMI   under-five deaths         Polio  Total expenditure  \\\n",
       "count   2904.000000         2938.000000  2919.000000         2712.00000   \n",
       "unique          NaN                 NaN          NaN                NaN   \n",
       "top             NaN                 NaN          NaN                NaN   \n",
       "freq            NaN                 NaN          NaN                NaN   \n",
       "mean      38.321247           42.035739    82.550188            5.93819   \n",
       "std       20.044034          160.445548    23.428046            2.49832   \n",
       "min        1.000000            0.000000     3.000000            0.37000   \n",
       "25%       19.300000            0.000000    78.000000            4.26000   \n",
       "50%       43.500000            4.000000    93.000000            5.75500   \n",
       "75%       56.200000           28.000000    97.000000            7.49250   \n",
       "max       87.300000         2500.000000    99.000000           17.60000   \n",
       "\n",
       "        Diphtheria      HIV/AIDS            GDP    Population  \\\n",
       "count   2919.000000  2938.000000    2490.000000  2.286000e+03   \n",
       "unique          NaN          NaN            NaN           NaN   \n",
       "top             NaN          NaN            NaN           NaN   \n",
       "freq            NaN          NaN            NaN           NaN   \n",
       "mean      82.324084     1.742103    7483.158469  1.275338e+07   \n",
       "std       23.716912     5.077785   14270.169342  6.101210e+07   \n",
       "min        2.000000     0.100000       1.681350  3.400000e+01   \n",
       "25%       78.000000     0.100000     463.935626  1.957932e+05   \n",
       "50%       93.000000     0.100000    1766.947595  1.386542e+06   \n",
       "75%       97.000000     0.800000    5910.806335  7.420359e+06   \n",
       "max       99.000000    50.600000  119172.741800  1.293859e+09   \n",
       "\n",
       "         thinness  1-19 years   thinness 5-9 years  \\\n",
       "count             2904.000000          2904.000000   \n",
       "unique                    NaN                  NaN   \n",
       "top                       NaN                  NaN   \n",
       "freq                      NaN                  NaN   \n",
       "mean                 4.839704             4.870317   \n",
       "std                  4.420195             4.508882   \n",
       "min                  0.100000             0.100000   \n",
       "25%                  1.600000             1.500000   \n",
       "50%                  3.300000             3.300000   \n",
       "75%                  7.200000             7.200000   \n",
       "max                 27.700000            28.600000   \n",
       "\n",
       "        Income composition of resources    Schooling  Life expectancy   \n",
       "count                       2771.000000  2775.000000       2928.000000  \n",
       "unique                              NaN          NaN               NaN  \n",
       "top                                 NaN          NaN               NaN  \n",
       "freq                                NaN          NaN               NaN  \n",
       "mean                           0.627551    11.992793         69.224932  \n",
       "std                            0.210904     3.358920          9.523867  \n",
       "min                            0.000000     0.000000         36.300000  \n",
       "25%                            0.493000    10.100000         63.100000  \n",
       "50%                            0.677000    12.300000         72.100000  \n",
       "75%                            0.779000    14.300000         75.700000  \n",
       "max                            0.948000    20.700000         89.000000  "
      ]
     },
     "execution_count": 3,
     "metadata": {},
     "output_type": "execute_result"
    }
   ],
   "source": [
    "data.describe(include = 'all')"
   ]
  },
  {
   "cell_type": "code",
   "execution_count": 4,
   "id": "2f6bd20b",
   "metadata": {},
   "outputs": [
    {
     "data": {
      "text/plain": [
       "(2938, 22)"
      ]
     },
     "execution_count": 4,
     "metadata": {},
     "output_type": "execute_result"
    }
   ],
   "source": [
    "data.shape"
   ]
  },
  {
   "cell_type": "code",
   "execution_count": 5,
   "id": "f6d326d7",
   "metadata": {},
   "outputs": [
    {
     "data": {
      "text/plain": [
       "Country                            2938\n",
       "Year                               2938\n",
       "Status                             2938\n",
       "Adult Mortality                    2928\n",
       "infant deaths                      2938\n",
       "Alcohol                            2744\n",
       "percentage expenditure             2938\n",
       "Hepatitis B                        2385\n",
       "Measles                            2938\n",
       " BMI                               2904\n",
       "under-five deaths                  2938\n",
       "Polio                              2919\n",
       "Total expenditure                  2712\n",
       "Diphtheria                         2919\n",
       " HIV/AIDS                          2938\n",
       "GDP                                2490\n",
       "Population                         2286\n",
       " thinness  1-19 years              2904\n",
       " thinness 5-9 years                2904\n",
       "Income composition of resources    2771\n",
       "Schooling                          2775\n",
       "Life expectancy                    2928\n",
       "dtype: int64"
      ]
     },
     "execution_count": 5,
     "metadata": {},
     "output_type": "execute_result"
    }
   ],
   "source": [
    "data.count()"
   ]
  },
  {
   "cell_type": "code",
   "execution_count": 6,
   "id": "63b25294",
   "metadata": {},
   "outputs": [
    {
     "data": {
      "text/plain": [
       "Country                              0\n",
       "Year                                 0\n",
       "Status                               0\n",
       "Adult Mortality                     10\n",
       "infant deaths                        0\n",
       "Alcohol                            194\n",
       "percentage expenditure               0\n",
       "Hepatitis B                        553\n",
       "Measles                              0\n",
       " BMI                                34\n",
       "under-five deaths                    0\n",
       "Polio                               19\n",
       "Total expenditure                  226\n",
       "Diphtheria                          19\n",
       " HIV/AIDS                            0\n",
       "GDP                                448\n",
       "Population                         652\n",
       " thinness  1-19 years               34\n",
       " thinness 5-9 years                 34\n",
       "Income composition of resources    167\n",
       "Schooling                          163\n",
       "Life expectancy                     10\n",
       "dtype: int64"
      ]
     },
     "execution_count": 6,
     "metadata": {},
     "output_type": "execute_result"
    }
   ],
   "source": [
    "data.isnull().sum()"
   ]
  },
  {
   "cell_type": "code",
   "execution_count": 7,
   "id": "583c3ad1",
   "metadata": {},
   "outputs": [],
   "source": [
    "data['Adult Mortality'].fillna(data['Adult Mortality'].mean(), inplace=True)"
   ]
  },
  {
   "cell_type": "code",
   "execution_count": 8,
   "id": "132f4c1b",
   "metadata": {},
   "outputs": [
    {
     "data": {
      "text/plain": [
       "Country                              0\n",
       "Year                                 0\n",
       "Status                               0\n",
       "Adult Mortality                      0\n",
       "infant deaths                        0\n",
       "Alcohol                            194\n",
       "percentage expenditure               0\n",
       "Hepatitis B                        553\n",
       "Measles                              0\n",
       " BMI                                34\n",
       "under-five deaths                    0\n",
       "Polio                               19\n",
       "Total expenditure                  226\n",
       "Diphtheria                          19\n",
       " HIV/AIDS                            0\n",
       "GDP                                448\n",
       "Population                         652\n",
       " thinness  1-19 years               34\n",
       " thinness 5-9 years                 34\n",
       "Income composition of resources    167\n",
       "Schooling                          163\n",
       "Life expectancy                     10\n",
       "dtype: int64"
      ]
     },
     "execution_count": 8,
     "metadata": {},
     "output_type": "execute_result"
    }
   ],
   "source": [
    "data.isnull().sum()"
   ]
  },
  {
   "cell_type": "code",
   "execution_count": 9,
   "id": "9ba7fd30",
   "metadata": {},
   "outputs": [],
   "source": [
    "data['Alcohol'].fillna(data['Alcohol'].mean(), inplace=True)"
   ]
  },
  {
   "cell_type": "code",
   "execution_count": 10,
   "id": "a2804266",
   "metadata": {},
   "outputs": [],
   "source": [
    "data['Hepatitis B'].fillna(data['Hepatitis B'].mean(), inplace=True)"
   ]
  },
  {
   "cell_type": "code",
   "execution_count": 11,
   "id": "4a24299c",
   "metadata": {},
   "outputs": [
    {
     "data": {
      "text/plain": [
       "Index(['Country', 'Year', 'Status', 'Adult Mortality', 'infant deaths',\n",
       "       'Alcohol', 'percentage expenditure', 'Hepatitis B', 'Measles ', ' BMI ',\n",
       "       'under-five deaths ', 'Polio', 'Total expenditure', 'Diphtheria ',\n",
       "       ' HIV/AIDS', 'GDP', 'Population', ' thinness  1-19 years',\n",
       "       ' thinness 5-9 years', 'Income composition of resources', 'Schooling',\n",
       "       'Life expectancy '],\n",
       "      dtype='object')"
      ]
     },
     "execution_count": 11,
     "metadata": {},
     "output_type": "execute_result"
    }
   ],
   "source": [
    "data.columns"
   ]
  },
  {
   "cell_type": "code",
   "execution_count": 12,
   "id": "8e9ce78f",
   "metadata": {},
   "outputs": [],
   "source": [
    "data[' BMI '].fillna(data[' BMI '].mean(), inplace=True)"
   ]
  },
  {
   "cell_type": "code",
   "execution_count": 13,
   "id": "23e5c0b1",
   "metadata": {},
   "outputs": [],
   "source": [
    "data['Total expenditure'].fillna(data['Total expenditure'].mean(), inplace=True)\n",
    "data['Diphtheria '].fillna(data['Diphtheria '].mean(), inplace=True)"
   ]
  },
  {
   "cell_type": "code",
   "execution_count": 14,
   "id": "1b74e256",
   "metadata": {},
   "outputs": [
    {
     "data": {
      "text/html": [
       "<div>\n",
       "<style scoped>\n",
       "    .dataframe tbody tr th:only-of-type {\n",
       "        vertical-align: middle;\n",
       "    }\n",
       "\n",
       "    .dataframe tbody tr th {\n",
       "        vertical-align: top;\n",
       "    }\n",
       "\n",
       "    .dataframe thead th {\n",
       "        text-align: right;\n",
       "    }\n",
       "</style>\n",
       "<table border=\"1\" class=\"dataframe\">\n",
       "  <thead>\n",
       "    <tr style=\"text-align: right;\">\n",
       "      <th></th>\n",
       "      <th>Country</th>\n",
       "      <th>Year</th>\n",
       "      <th>Status</th>\n",
       "      <th>Adult Mortality</th>\n",
       "      <th>infant deaths</th>\n",
       "      <th>Alcohol</th>\n",
       "      <th>percentage expenditure</th>\n",
       "      <th>Hepatitis B</th>\n",
       "      <th>Measles</th>\n",
       "      <th>BMI</th>\n",
       "      <th>under-five deaths</th>\n",
       "      <th>Polio</th>\n",
       "      <th>Total expenditure</th>\n",
       "      <th>Diphtheria</th>\n",
       "      <th>HIV/AIDS</th>\n",
       "      <th>GDP</th>\n",
       "      <th>Population</th>\n",
       "      <th>thinness  1-19 years</th>\n",
       "      <th>thinness 5-9 years</th>\n",
       "      <th>Income composition of resources</th>\n",
       "      <th>Schooling</th>\n",
       "      <th>Life expectancy</th>\n",
       "    </tr>\n",
       "  </thead>\n",
       "  <tbody>\n",
       "    <tr>\n",
       "      <th>0</th>\n",
       "      <td>Afghanistan</td>\n",
       "      <td>2015</td>\n",
       "      <td>Developing</td>\n",
       "      <td>263.0</td>\n",
       "      <td>62</td>\n",
       "      <td>0.01</td>\n",
       "      <td>71.279624</td>\n",
       "      <td>65.0</td>\n",
       "      <td>1154</td>\n",
       "      <td>19.1</td>\n",
       "      <td>83</td>\n",
       "      <td>6.0</td>\n",
       "      <td>8.16</td>\n",
       "      <td>65.0</td>\n",
       "      <td>0.1</td>\n",
       "      <td>584.259210</td>\n",
       "      <td>33736494.0</td>\n",
       "      <td>17.2</td>\n",
       "      <td>17.3</td>\n",
       "      <td>0.479</td>\n",
       "      <td>10.1</td>\n",
       "      <td>65.0</td>\n",
       "    </tr>\n",
       "    <tr>\n",
       "      <th>1</th>\n",
       "      <td>Afghanistan</td>\n",
       "      <td>2014</td>\n",
       "      <td>Developing</td>\n",
       "      <td>271.0</td>\n",
       "      <td>64</td>\n",
       "      <td>0.01</td>\n",
       "      <td>73.523582</td>\n",
       "      <td>62.0</td>\n",
       "      <td>492</td>\n",
       "      <td>18.6</td>\n",
       "      <td>86</td>\n",
       "      <td>58.0</td>\n",
       "      <td>8.18</td>\n",
       "      <td>62.0</td>\n",
       "      <td>0.1</td>\n",
       "      <td>612.696514</td>\n",
       "      <td>327582.0</td>\n",
       "      <td>17.5</td>\n",
       "      <td>17.5</td>\n",
       "      <td>0.476</td>\n",
       "      <td>10.0</td>\n",
       "      <td>59.9</td>\n",
       "    </tr>\n",
       "    <tr>\n",
       "      <th>2</th>\n",
       "      <td>Afghanistan</td>\n",
       "      <td>2013</td>\n",
       "      <td>Developing</td>\n",
       "      <td>268.0</td>\n",
       "      <td>66</td>\n",
       "      <td>0.01</td>\n",
       "      <td>73.219243</td>\n",
       "      <td>64.0</td>\n",
       "      <td>430</td>\n",
       "      <td>18.1</td>\n",
       "      <td>89</td>\n",
       "      <td>62.0</td>\n",
       "      <td>8.13</td>\n",
       "      <td>64.0</td>\n",
       "      <td>0.1</td>\n",
       "      <td>631.744976</td>\n",
       "      <td>31731688.0</td>\n",
       "      <td>17.7</td>\n",
       "      <td>17.7</td>\n",
       "      <td>0.470</td>\n",
       "      <td>9.9</td>\n",
       "      <td>59.9</td>\n",
       "    </tr>\n",
       "    <tr>\n",
       "      <th>3</th>\n",
       "      <td>Afghanistan</td>\n",
       "      <td>2012</td>\n",
       "      <td>Developing</td>\n",
       "      <td>272.0</td>\n",
       "      <td>69</td>\n",
       "      <td>0.01</td>\n",
       "      <td>78.184215</td>\n",
       "      <td>67.0</td>\n",
       "      <td>2787</td>\n",
       "      <td>17.6</td>\n",
       "      <td>93</td>\n",
       "      <td>67.0</td>\n",
       "      <td>8.52</td>\n",
       "      <td>67.0</td>\n",
       "      <td>0.1</td>\n",
       "      <td>669.959000</td>\n",
       "      <td>3696958.0</td>\n",
       "      <td>17.9</td>\n",
       "      <td>18.0</td>\n",
       "      <td>0.463</td>\n",
       "      <td>9.8</td>\n",
       "      <td>59.5</td>\n",
       "    </tr>\n",
       "    <tr>\n",
       "      <th>4</th>\n",
       "      <td>Afghanistan</td>\n",
       "      <td>2011</td>\n",
       "      <td>Developing</td>\n",
       "      <td>275.0</td>\n",
       "      <td>71</td>\n",
       "      <td>0.01</td>\n",
       "      <td>7.097109</td>\n",
       "      <td>68.0</td>\n",
       "      <td>3013</td>\n",
       "      <td>17.2</td>\n",
       "      <td>97</td>\n",
       "      <td>68.0</td>\n",
       "      <td>7.87</td>\n",
       "      <td>68.0</td>\n",
       "      <td>0.1</td>\n",
       "      <td>63.537231</td>\n",
       "      <td>2978599.0</td>\n",
       "      <td>18.2</td>\n",
       "      <td>18.2</td>\n",
       "      <td>0.454</td>\n",
       "      <td>9.5</td>\n",
       "      <td>59.2</td>\n",
       "    </tr>\n",
       "  </tbody>\n",
       "</table>\n",
       "</div>"
      ],
      "text/plain": [
       "       Country  Year      Status  Adult Mortality  infant deaths  Alcohol  \\\n",
       "0  Afghanistan  2015  Developing            263.0             62     0.01   \n",
       "1  Afghanistan  2014  Developing            271.0             64     0.01   \n",
       "2  Afghanistan  2013  Developing            268.0             66     0.01   \n",
       "3  Afghanistan  2012  Developing            272.0             69     0.01   \n",
       "4  Afghanistan  2011  Developing            275.0             71     0.01   \n",
       "\n",
       "   percentage expenditure  Hepatitis B  Measles    BMI   under-five deaths   \\\n",
       "0               71.279624         65.0      1154   19.1                  83   \n",
       "1               73.523582         62.0       492   18.6                  86   \n",
       "2               73.219243         64.0       430   18.1                  89   \n",
       "3               78.184215         67.0      2787   17.6                  93   \n",
       "4                7.097109         68.0      3013   17.2                  97   \n",
       "\n",
       "   Polio  Total expenditure  Diphtheria    HIV/AIDS         GDP  Population  \\\n",
       "0    6.0               8.16         65.0        0.1  584.259210  33736494.0   \n",
       "1   58.0               8.18         62.0        0.1  612.696514    327582.0   \n",
       "2   62.0               8.13         64.0        0.1  631.744976  31731688.0   \n",
       "3   67.0               8.52         67.0        0.1  669.959000   3696958.0   \n",
       "4   68.0               7.87         68.0        0.1   63.537231   2978599.0   \n",
       "\n",
       "    thinness  1-19 years   thinness 5-9 years  \\\n",
       "0                   17.2                 17.3   \n",
       "1                   17.5                 17.5   \n",
       "2                   17.7                 17.7   \n",
       "3                   17.9                 18.0   \n",
       "4                   18.2                 18.2   \n",
       "\n",
       "   Income composition of resources  Schooling  Life expectancy   \n",
       "0                            0.479       10.1              65.0  \n",
       "1                            0.476       10.0              59.9  \n",
       "2                            0.470        9.9              59.9  \n",
       "3                            0.463        9.8              59.5  \n",
       "4                            0.454        9.5              59.2  "
      ]
     },
     "execution_count": 14,
     "metadata": {},
     "output_type": "execute_result"
    }
   ],
   "source": [
    "data.head()"
   ]
  },
  {
   "cell_type": "code",
   "execution_count": 15,
   "id": "d6af67a7",
   "metadata": {},
   "outputs": [
    {
     "data": {
      "text/html": [
       "<div>\n",
       "<style scoped>\n",
       "    .dataframe tbody tr th:only-of-type {\n",
       "        vertical-align: middle;\n",
       "    }\n",
       "\n",
       "    .dataframe tbody tr th {\n",
       "        vertical-align: top;\n",
       "    }\n",
       "\n",
       "    .dataframe thead th {\n",
       "        text-align: right;\n",
       "    }\n",
       "</style>\n",
       "<table border=\"1\" class=\"dataframe\">\n",
       "  <thead>\n",
       "    <tr style=\"text-align: right;\">\n",
       "      <th></th>\n",
       "      <th>Country</th>\n",
       "      <th>Year</th>\n",
       "      <th>Status</th>\n",
       "      <th>Adult Mortality</th>\n",
       "      <th>infant deaths</th>\n",
       "      <th>Alcohol</th>\n",
       "      <th>percentage expenditure</th>\n",
       "      <th>Hepatitis B</th>\n",
       "      <th>Measles</th>\n",
       "      <th>BMI</th>\n",
       "      <th>under-five deaths</th>\n",
       "      <th>Polio</th>\n",
       "      <th>Total expenditure</th>\n",
       "      <th>Diphtheria</th>\n",
       "      <th>HIV/AIDS</th>\n",
       "      <th>GDP</th>\n",
       "      <th>Population</th>\n",
       "      <th>thinness  1-19 years</th>\n",
       "      <th>thinness 5-9 years</th>\n",
       "      <th>Income composition of resources</th>\n",
       "      <th>Schooling</th>\n",
       "      <th>Life expectancy</th>\n",
       "    </tr>\n",
       "  </thead>\n",
       "  <tbody>\n",
       "    <tr>\n",
       "      <th>count</th>\n",
       "      <td>2938</td>\n",
       "      <td>2938.000000</td>\n",
       "      <td>2938</td>\n",
       "      <td>2938.000000</td>\n",
       "      <td>2938.000000</td>\n",
       "      <td>2938.000000</td>\n",
       "      <td>2938.000000</td>\n",
       "      <td>2938.000000</td>\n",
       "      <td>2938.000000</td>\n",
       "      <td>2938.000000</td>\n",
       "      <td>2938.000000</td>\n",
       "      <td>2919.000000</td>\n",
       "      <td>2938.000000</td>\n",
       "      <td>2938.000000</td>\n",
       "      <td>2938.000000</td>\n",
       "      <td>2490.000000</td>\n",
       "      <td>2.286000e+03</td>\n",
       "      <td>2904.000000</td>\n",
       "      <td>2904.000000</td>\n",
       "      <td>2771.000000</td>\n",
       "      <td>2775.000000</td>\n",
       "      <td>2928.000000</td>\n",
       "    </tr>\n",
       "    <tr>\n",
       "      <th>unique</th>\n",
       "      <td>193</td>\n",
       "      <td>NaN</td>\n",
       "      <td>2</td>\n",
       "      <td>NaN</td>\n",
       "      <td>NaN</td>\n",
       "      <td>NaN</td>\n",
       "      <td>NaN</td>\n",
       "      <td>NaN</td>\n",
       "      <td>NaN</td>\n",
       "      <td>NaN</td>\n",
       "      <td>NaN</td>\n",
       "      <td>NaN</td>\n",
       "      <td>NaN</td>\n",
       "      <td>NaN</td>\n",
       "      <td>NaN</td>\n",
       "      <td>NaN</td>\n",
       "      <td>NaN</td>\n",
       "      <td>NaN</td>\n",
       "      <td>NaN</td>\n",
       "      <td>NaN</td>\n",
       "      <td>NaN</td>\n",
       "      <td>NaN</td>\n",
       "    </tr>\n",
       "    <tr>\n",
       "      <th>top</th>\n",
       "      <td>Afghanistan</td>\n",
       "      <td>NaN</td>\n",
       "      <td>Developing</td>\n",
       "      <td>NaN</td>\n",
       "      <td>NaN</td>\n",
       "      <td>NaN</td>\n",
       "      <td>NaN</td>\n",
       "      <td>NaN</td>\n",
       "      <td>NaN</td>\n",
       "      <td>NaN</td>\n",
       "      <td>NaN</td>\n",
       "      <td>NaN</td>\n",
       "      <td>NaN</td>\n",
       "      <td>NaN</td>\n",
       "      <td>NaN</td>\n",
       "      <td>NaN</td>\n",
       "      <td>NaN</td>\n",
       "      <td>NaN</td>\n",
       "      <td>NaN</td>\n",
       "      <td>NaN</td>\n",
       "      <td>NaN</td>\n",
       "      <td>NaN</td>\n",
       "    </tr>\n",
       "    <tr>\n",
       "      <th>freq</th>\n",
       "      <td>16</td>\n",
       "      <td>NaN</td>\n",
       "      <td>2426</td>\n",
       "      <td>NaN</td>\n",
       "      <td>NaN</td>\n",
       "      <td>NaN</td>\n",
       "      <td>NaN</td>\n",
       "      <td>NaN</td>\n",
       "      <td>NaN</td>\n",
       "      <td>NaN</td>\n",
       "      <td>NaN</td>\n",
       "      <td>NaN</td>\n",
       "      <td>NaN</td>\n",
       "      <td>NaN</td>\n",
       "      <td>NaN</td>\n",
       "      <td>NaN</td>\n",
       "      <td>NaN</td>\n",
       "      <td>NaN</td>\n",
       "      <td>NaN</td>\n",
       "      <td>NaN</td>\n",
       "      <td>NaN</td>\n",
       "      <td>NaN</td>\n",
       "    </tr>\n",
       "    <tr>\n",
       "      <th>mean</th>\n",
       "      <td>NaN</td>\n",
       "      <td>2007.518720</td>\n",
       "      <td>NaN</td>\n",
       "      <td>164.796448</td>\n",
       "      <td>30.303948</td>\n",
       "      <td>4.602861</td>\n",
       "      <td>738.251295</td>\n",
       "      <td>80.940461</td>\n",
       "      <td>2419.592240</td>\n",
       "      <td>38.321247</td>\n",
       "      <td>42.035739</td>\n",
       "      <td>82.550188</td>\n",
       "      <td>5.938190</td>\n",
       "      <td>82.324084</td>\n",
       "      <td>1.742103</td>\n",
       "      <td>7483.158469</td>\n",
       "      <td>1.275338e+07</td>\n",
       "      <td>4.839704</td>\n",
       "      <td>4.870317</td>\n",
       "      <td>0.627551</td>\n",
       "      <td>11.992793</td>\n",
       "      <td>69.224932</td>\n",
       "    </tr>\n",
       "    <tr>\n",
       "      <th>std</th>\n",
       "      <td>NaN</td>\n",
       "      <td>4.613841</td>\n",
       "      <td>NaN</td>\n",
       "      <td>124.080302</td>\n",
       "      <td>117.926501</td>\n",
       "      <td>3.916288</td>\n",
       "      <td>1987.914858</td>\n",
       "      <td>22.586855</td>\n",
       "      <td>11467.272489</td>\n",
       "      <td>19.927677</td>\n",
       "      <td>160.445548</td>\n",
       "      <td>23.428046</td>\n",
       "      <td>2.400274</td>\n",
       "      <td>23.640073</td>\n",
       "      <td>5.077785</td>\n",
       "      <td>14270.169342</td>\n",
       "      <td>6.101210e+07</td>\n",
       "      <td>4.420195</td>\n",
       "      <td>4.508882</td>\n",
       "      <td>0.210904</td>\n",
       "      <td>3.358920</td>\n",
       "      <td>9.523867</td>\n",
       "    </tr>\n",
       "    <tr>\n",
       "      <th>min</th>\n",
       "      <td>NaN</td>\n",
       "      <td>2000.000000</td>\n",
       "      <td>NaN</td>\n",
       "      <td>1.000000</td>\n",
       "      <td>0.000000</td>\n",
       "      <td>0.010000</td>\n",
       "      <td>0.000000</td>\n",
       "      <td>1.000000</td>\n",
       "      <td>0.000000</td>\n",
       "      <td>1.000000</td>\n",
       "      <td>0.000000</td>\n",
       "      <td>3.000000</td>\n",
       "      <td>0.370000</td>\n",
       "      <td>2.000000</td>\n",
       "      <td>0.100000</td>\n",
       "      <td>1.681350</td>\n",
       "      <td>3.400000e+01</td>\n",
       "      <td>0.100000</td>\n",
       "      <td>0.100000</td>\n",
       "      <td>0.000000</td>\n",
       "      <td>0.000000</td>\n",
       "      <td>36.300000</td>\n",
       "    </tr>\n",
       "    <tr>\n",
       "      <th>25%</th>\n",
       "      <td>NaN</td>\n",
       "      <td>2004.000000</td>\n",
       "      <td>NaN</td>\n",
       "      <td>74.000000</td>\n",
       "      <td>0.000000</td>\n",
       "      <td>1.092500</td>\n",
       "      <td>4.685343</td>\n",
       "      <td>80.940461</td>\n",
       "      <td>0.000000</td>\n",
       "      <td>19.400000</td>\n",
       "      <td>0.000000</td>\n",
       "      <td>78.000000</td>\n",
       "      <td>4.370000</td>\n",
       "      <td>78.000000</td>\n",
       "      <td>0.100000</td>\n",
       "      <td>463.935626</td>\n",
       "      <td>1.957932e+05</td>\n",
       "      <td>1.600000</td>\n",
       "      <td>1.500000</td>\n",
       "      <td>0.493000</td>\n",
       "      <td>10.100000</td>\n",
       "      <td>63.100000</td>\n",
       "    </tr>\n",
       "    <tr>\n",
       "      <th>50%</th>\n",
       "      <td>NaN</td>\n",
       "      <td>2008.000000</td>\n",
       "      <td>NaN</td>\n",
       "      <td>144.000000</td>\n",
       "      <td>3.000000</td>\n",
       "      <td>4.160000</td>\n",
       "      <td>64.912906</td>\n",
       "      <td>87.000000</td>\n",
       "      <td>17.000000</td>\n",
       "      <td>43.000000</td>\n",
       "      <td>4.000000</td>\n",
       "      <td>93.000000</td>\n",
       "      <td>5.938190</td>\n",
       "      <td>93.000000</td>\n",
       "      <td>0.100000</td>\n",
       "      <td>1766.947595</td>\n",
       "      <td>1.386542e+06</td>\n",
       "      <td>3.300000</td>\n",
       "      <td>3.300000</td>\n",
       "      <td>0.677000</td>\n",
       "      <td>12.300000</td>\n",
       "      <td>72.100000</td>\n",
       "    </tr>\n",
       "    <tr>\n",
       "      <th>75%</th>\n",
       "      <td>NaN</td>\n",
       "      <td>2012.000000</td>\n",
       "      <td>NaN</td>\n",
       "      <td>227.000000</td>\n",
       "      <td>22.000000</td>\n",
       "      <td>7.390000</td>\n",
       "      <td>441.534144</td>\n",
       "      <td>96.000000</td>\n",
       "      <td>360.250000</td>\n",
       "      <td>56.100000</td>\n",
       "      <td>28.000000</td>\n",
       "      <td>97.000000</td>\n",
       "      <td>7.330000</td>\n",
       "      <td>97.000000</td>\n",
       "      <td>0.800000</td>\n",
       "      <td>5910.806335</td>\n",
       "      <td>7.420359e+06</td>\n",
       "      <td>7.200000</td>\n",
       "      <td>7.200000</td>\n",
       "      <td>0.779000</td>\n",
       "      <td>14.300000</td>\n",
       "      <td>75.700000</td>\n",
       "    </tr>\n",
       "    <tr>\n",
       "      <th>max</th>\n",
       "      <td>NaN</td>\n",
       "      <td>2015.000000</td>\n",
       "      <td>NaN</td>\n",
       "      <td>723.000000</td>\n",
       "      <td>1800.000000</td>\n",
       "      <td>17.870000</td>\n",
       "      <td>19479.911610</td>\n",
       "      <td>99.000000</td>\n",
       "      <td>212183.000000</td>\n",
       "      <td>87.300000</td>\n",
       "      <td>2500.000000</td>\n",
       "      <td>99.000000</td>\n",
       "      <td>17.600000</td>\n",
       "      <td>99.000000</td>\n",
       "      <td>50.600000</td>\n",
       "      <td>119172.741800</td>\n",
       "      <td>1.293859e+09</td>\n",
       "      <td>27.700000</td>\n",
       "      <td>28.600000</td>\n",
       "      <td>0.948000</td>\n",
       "      <td>20.700000</td>\n",
       "      <td>89.000000</td>\n",
       "    </tr>\n",
       "  </tbody>\n",
       "</table>\n",
       "</div>"
      ],
      "text/plain": [
       "            Country         Year      Status  Adult Mortality  infant deaths  \\\n",
       "count          2938  2938.000000        2938      2938.000000    2938.000000   \n",
       "unique          193          NaN           2              NaN            NaN   \n",
       "top     Afghanistan          NaN  Developing              NaN            NaN   \n",
       "freq             16          NaN        2426              NaN            NaN   \n",
       "mean            NaN  2007.518720         NaN       164.796448      30.303948   \n",
       "std             NaN     4.613841         NaN       124.080302     117.926501   \n",
       "min             NaN  2000.000000         NaN         1.000000       0.000000   \n",
       "25%             NaN  2004.000000         NaN        74.000000       0.000000   \n",
       "50%             NaN  2008.000000         NaN       144.000000       3.000000   \n",
       "75%             NaN  2012.000000         NaN       227.000000      22.000000   \n",
       "max             NaN  2015.000000         NaN       723.000000    1800.000000   \n",
       "\n",
       "            Alcohol  percentage expenditure  Hepatitis B       Measles   \\\n",
       "count   2938.000000             2938.000000  2938.000000    2938.000000   \n",
       "unique          NaN                     NaN          NaN            NaN   \n",
       "top             NaN                     NaN          NaN            NaN   \n",
       "freq            NaN                     NaN          NaN            NaN   \n",
       "mean       4.602861              738.251295    80.940461    2419.592240   \n",
       "std        3.916288             1987.914858    22.586855   11467.272489   \n",
       "min        0.010000                0.000000     1.000000       0.000000   \n",
       "25%        1.092500                4.685343    80.940461       0.000000   \n",
       "50%        4.160000               64.912906    87.000000      17.000000   \n",
       "75%        7.390000              441.534144    96.000000     360.250000   \n",
       "max       17.870000            19479.911610    99.000000  212183.000000   \n",
       "\n",
       "               BMI   under-five deaths         Polio  Total expenditure  \\\n",
       "count   2938.000000         2938.000000  2919.000000        2938.000000   \n",
       "unique          NaN                 NaN          NaN                NaN   \n",
       "top             NaN                 NaN          NaN                NaN   \n",
       "freq            NaN                 NaN          NaN                NaN   \n",
       "mean      38.321247           42.035739    82.550188           5.938190   \n",
       "std       19.927677          160.445548    23.428046           2.400274   \n",
       "min        1.000000            0.000000     3.000000           0.370000   \n",
       "25%       19.400000            0.000000    78.000000           4.370000   \n",
       "50%       43.000000            4.000000    93.000000           5.938190   \n",
       "75%       56.100000           28.000000    97.000000           7.330000   \n",
       "max       87.300000         2500.000000    99.000000          17.600000   \n",
       "\n",
       "        Diphtheria      HIV/AIDS            GDP    Population  \\\n",
       "count   2938.000000  2938.000000    2490.000000  2.286000e+03   \n",
       "unique          NaN          NaN            NaN           NaN   \n",
       "top             NaN          NaN            NaN           NaN   \n",
       "freq            NaN          NaN            NaN           NaN   \n",
       "mean      82.324084     1.742103    7483.158469  1.275338e+07   \n",
       "std       23.640073     5.077785   14270.169342  6.101210e+07   \n",
       "min        2.000000     0.100000       1.681350  3.400000e+01   \n",
       "25%       78.000000     0.100000     463.935626  1.957932e+05   \n",
       "50%       93.000000     0.100000    1766.947595  1.386542e+06   \n",
       "75%       97.000000     0.800000    5910.806335  7.420359e+06   \n",
       "max       99.000000    50.600000  119172.741800  1.293859e+09   \n",
       "\n",
       "         thinness  1-19 years   thinness 5-9 years  \\\n",
       "count             2904.000000          2904.000000   \n",
       "unique                    NaN                  NaN   \n",
       "top                       NaN                  NaN   \n",
       "freq                      NaN                  NaN   \n",
       "mean                 4.839704             4.870317   \n",
       "std                  4.420195             4.508882   \n",
       "min                  0.100000             0.100000   \n",
       "25%                  1.600000             1.500000   \n",
       "50%                  3.300000             3.300000   \n",
       "75%                  7.200000             7.200000   \n",
       "max                 27.700000            28.600000   \n",
       "\n",
       "        Income composition of resources    Schooling  Life expectancy   \n",
       "count                       2771.000000  2775.000000       2928.000000  \n",
       "unique                              NaN          NaN               NaN  \n",
       "top                                 NaN          NaN               NaN  \n",
       "freq                                NaN          NaN               NaN  \n",
       "mean                           0.627551    11.992793         69.224932  \n",
       "std                            0.210904     3.358920          9.523867  \n",
       "min                            0.000000     0.000000         36.300000  \n",
       "25%                            0.493000    10.100000         63.100000  \n",
       "50%                            0.677000    12.300000         72.100000  \n",
       "75%                            0.779000    14.300000         75.700000  \n",
       "max                            0.948000    20.700000         89.000000  "
      ]
     },
     "execution_count": 15,
     "metadata": {},
     "output_type": "execute_result"
    }
   ],
   "source": [
    "data.describe(include = 'all')"
   ]
  },
  {
   "cell_type": "code",
   "execution_count": 16,
   "id": "60635c70",
   "metadata": {},
   "outputs": [
    {
     "data": {
      "text/plain": [
       "Country                              0\n",
       "Year                                 0\n",
       "Status                               0\n",
       "Adult Mortality                      0\n",
       "infant deaths                        0\n",
       "Alcohol                              0\n",
       "percentage expenditure               0\n",
       "Hepatitis B                          0\n",
       "Measles                              0\n",
       " BMI                                 0\n",
       "under-five deaths                    0\n",
       "Polio                               19\n",
       "Total expenditure                    0\n",
       "Diphtheria                           0\n",
       " HIV/AIDS                            0\n",
       "GDP                                448\n",
       "Population                         652\n",
       " thinness  1-19 years               34\n",
       " thinness 5-9 years                 34\n",
       "Income composition of resources    167\n",
       "Schooling                          163\n",
       "Life expectancy                     10\n",
       "dtype: int64"
      ]
     },
     "execution_count": 16,
     "metadata": {},
     "output_type": "execute_result"
    }
   ],
   "source": [
    "data.isnull().sum()"
   ]
  },
  {
   "cell_type": "code",
   "execution_count": 17,
   "id": "ff05369a",
   "metadata": {},
   "outputs": [
    {
     "data": {
      "text/plain": [
       "Index(['Country', 'Year', 'Status', 'Adult Mortality', 'infant deaths',\n",
       "       'Alcohol', 'percentage expenditure', 'Hepatitis B', 'Measles ', ' BMI ',\n",
       "       'under-five deaths ', 'Polio', 'Total expenditure', 'Diphtheria ',\n",
       "       ' HIV/AIDS', 'GDP', 'Population', ' thinness  1-19 years',\n",
       "       ' thinness 5-9 years', 'Income composition of resources', 'Schooling',\n",
       "       'Life expectancy '],\n",
       "      dtype='object')"
      ]
     },
     "execution_count": 17,
     "metadata": {},
     "output_type": "execute_result"
    }
   ],
   "source": [
    "data.columns"
   ]
  },
  {
   "cell_type": "code",
   "execution_count": 18,
   "id": "4af7298a",
   "metadata": {},
   "outputs": [],
   "source": [
    "data['Polio'].fillna(data['Polio'].mean(), inplace=True)\n",
    "data['GDP'].fillna(data['GDP'].mean(), inplace=True)\n",
    "data[' thinness  1-19 years'].fillna(data[' thinness  1-19 years'].mean(), inplace=True)\n",
    "data[' thinness 5-9 years'].fillna(data[' thinness 5-9 years'].mean(), inplace=True)\n",
    "data['Income composition of resources'].fillna(data['Income composition of resources'].mean(), inplace=True)\n",
    "data['Schooling'].fillna(data['Schooling'].mean(), inplace=True)\n",
    "data['Life expectancy '].fillna(data['Life expectancy '].mean(), inplace=True)"
   ]
  },
  {
   "cell_type": "code",
   "execution_count": 19,
   "id": "b70077a5",
   "metadata": {},
   "outputs": [
    {
     "data": {
      "text/plain": [
       "Country                              0\n",
       "Year                                 0\n",
       "Status                               0\n",
       "Adult Mortality                      0\n",
       "infant deaths                        0\n",
       "Alcohol                              0\n",
       "percentage expenditure               0\n",
       "Hepatitis B                          0\n",
       "Measles                              0\n",
       " BMI                                 0\n",
       "under-five deaths                    0\n",
       "Polio                                0\n",
       "Total expenditure                    0\n",
       "Diphtheria                           0\n",
       " HIV/AIDS                            0\n",
       "GDP                                  0\n",
       "Population                         652\n",
       " thinness  1-19 years                0\n",
       " thinness 5-9 years                  0\n",
       "Income composition of resources      0\n",
       "Schooling                            0\n",
       "Life expectancy                      0\n",
       "dtype: int64"
      ]
     },
     "execution_count": 19,
     "metadata": {},
     "output_type": "execute_result"
    }
   ],
   "source": [
    "data.isnull().sum()"
   ]
  },
  {
   "cell_type": "code",
   "execution_count": 20,
   "id": "a7fc8d7b",
   "metadata": {},
   "outputs": [
    {
     "data": {
      "text/html": [
       "<div>\n",
       "<style scoped>\n",
       "    .dataframe tbody tr th:only-of-type {\n",
       "        vertical-align: middle;\n",
       "    }\n",
       "\n",
       "    .dataframe tbody tr th {\n",
       "        vertical-align: top;\n",
       "    }\n",
       "\n",
       "    .dataframe thead th {\n",
       "        text-align: right;\n",
       "    }\n",
       "</style>\n",
       "<table border=\"1\" class=\"dataframe\">\n",
       "  <thead>\n",
       "    <tr style=\"text-align: right;\">\n",
       "      <th></th>\n",
       "      <th>Status</th>\n",
       "      <th>Adult Mortality</th>\n",
       "      <th>infant deaths</th>\n",
       "      <th>Alcohol</th>\n",
       "      <th>percentage expenditure</th>\n",
       "      <th>Hepatitis B</th>\n",
       "      <th>Measles</th>\n",
       "      <th>BMI</th>\n",
       "      <th>under-five deaths</th>\n",
       "      <th>Polio</th>\n",
       "      <th>Total expenditure</th>\n",
       "      <th>Diphtheria</th>\n",
       "      <th>HIV/AIDS</th>\n",
       "      <th>GDP</th>\n",
       "      <th>thinness  1-19 years</th>\n",
       "      <th>thinness 5-9 years</th>\n",
       "      <th>Income composition of resources</th>\n",
       "      <th>Schooling</th>\n",
       "      <th>Life expectancy</th>\n",
       "    </tr>\n",
       "  </thead>\n",
       "  <tbody>\n",
       "    <tr>\n",
       "      <th>0</th>\n",
       "      <td>Developing</td>\n",
       "      <td>263.0</td>\n",
       "      <td>62</td>\n",
       "      <td>0.01</td>\n",
       "      <td>71.279624</td>\n",
       "      <td>65.0</td>\n",
       "      <td>1154</td>\n",
       "      <td>19.1</td>\n",
       "      <td>83</td>\n",
       "      <td>6.0</td>\n",
       "      <td>8.16</td>\n",
       "      <td>65.0</td>\n",
       "      <td>0.1</td>\n",
       "      <td>584.259210</td>\n",
       "      <td>17.2</td>\n",
       "      <td>17.3</td>\n",
       "      <td>0.479</td>\n",
       "      <td>10.1</td>\n",
       "      <td>65.0</td>\n",
       "    </tr>\n",
       "    <tr>\n",
       "      <th>1</th>\n",
       "      <td>Developing</td>\n",
       "      <td>271.0</td>\n",
       "      <td>64</td>\n",
       "      <td>0.01</td>\n",
       "      <td>73.523582</td>\n",
       "      <td>62.0</td>\n",
       "      <td>492</td>\n",
       "      <td>18.6</td>\n",
       "      <td>86</td>\n",
       "      <td>58.0</td>\n",
       "      <td>8.18</td>\n",
       "      <td>62.0</td>\n",
       "      <td>0.1</td>\n",
       "      <td>612.696514</td>\n",
       "      <td>17.5</td>\n",
       "      <td>17.5</td>\n",
       "      <td>0.476</td>\n",
       "      <td>10.0</td>\n",
       "      <td>59.9</td>\n",
       "    </tr>\n",
       "    <tr>\n",
       "      <th>2</th>\n",
       "      <td>Developing</td>\n",
       "      <td>268.0</td>\n",
       "      <td>66</td>\n",
       "      <td>0.01</td>\n",
       "      <td>73.219243</td>\n",
       "      <td>64.0</td>\n",
       "      <td>430</td>\n",
       "      <td>18.1</td>\n",
       "      <td>89</td>\n",
       "      <td>62.0</td>\n",
       "      <td>8.13</td>\n",
       "      <td>64.0</td>\n",
       "      <td>0.1</td>\n",
       "      <td>631.744976</td>\n",
       "      <td>17.7</td>\n",
       "      <td>17.7</td>\n",
       "      <td>0.470</td>\n",
       "      <td>9.9</td>\n",
       "      <td>59.9</td>\n",
       "    </tr>\n",
       "    <tr>\n",
       "      <th>3</th>\n",
       "      <td>Developing</td>\n",
       "      <td>272.0</td>\n",
       "      <td>69</td>\n",
       "      <td>0.01</td>\n",
       "      <td>78.184215</td>\n",
       "      <td>67.0</td>\n",
       "      <td>2787</td>\n",
       "      <td>17.6</td>\n",
       "      <td>93</td>\n",
       "      <td>67.0</td>\n",
       "      <td>8.52</td>\n",
       "      <td>67.0</td>\n",
       "      <td>0.1</td>\n",
       "      <td>669.959000</td>\n",
       "      <td>17.9</td>\n",
       "      <td>18.0</td>\n",
       "      <td>0.463</td>\n",
       "      <td>9.8</td>\n",
       "      <td>59.5</td>\n",
       "    </tr>\n",
       "    <tr>\n",
       "      <th>4</th>\n",
       "      <td>Developing</td>\n",
       "      <td>275.0</td>\n",
       "      <td>71</td>\n",
       "      <td>0.01</td>\n",
       "      <td>7.097109</td>\n",
       "      <td>68.0</td>\n",
       "      <td>3013</td>\n",
       "      <td>17.2</td>\n",
       "      <td>97</td>\n",
       "      <td>68.0</td>\n",
       "      <td>7.87</td>\n",
       "      <td>68.0</td>\n",
       "      <td>0.1</td>\n",
       "      <td>63.537231</td>\n",
       "      <td>18.2</td>\n",
       "      <td>18.2</td>\n",
       "      <td>0.454</td>\n",
       "      <td>9.5</td>\n",
       "      <td>59.2</td>\n",
       "    </tr>\n",
       "  </tbody>\n",
       "</table>\n",
       "</div>"
      ],
      "text/plain": [
       "       Status  Adult Mortality  infant deaths  Alcohol  \\\n",
       "0  Developing            263.0             62     0.01   \n",
       "1  Developing            271.0             64     0.01   \n",
       "2  Developing            268.0             66     0.01   \n",
       "3  Developing            272.0             69     0.01   \n",
       "4  Developing            275.0             71     0.01   \n",
       "\n",
       "   percentage expenditure  Hepatitis B  Measles    BMI   under-five deaths   \\\n",
       "0               71.279624         65.0      1154   19.1                  83   \n",
       "1               73.523582         62.0       492   18.6                  86   \n",
       "2               73.219243         64.0       430   18.1                  89   \n",
       "3               78.184215         67.0      2787   17.6                  93   \n",
       "4                7.097109         68.0      3013   17.2                  97   \n",
       "\n",
       "   Polio  Total expenditure  Diphtheria    HIV/AIDS         GDP  \\\n",
       "0    6.0               8.16         65.0        0.1  584.259210   \n",
       "1   58.0               8.18         62.0        0.1  612.696514   \n",
       "2   62.0               8.13         64.0        0.1  631.744976   \n",
       "3   67.0               8.52         67.0        0.1  669.959000   \n",
       "4   68.0               7.87         68.0        0.1   63.537231   \n",
       "\n",
       "    thinness  1-19 years   thinness 5-9 years  \\\n",
       "0                   17.2                 17.3   \n",
       "1                   17.5                 17.5   \n",
       "2                   17.7                 17.7   \n",
       "3                   17.9                 18.0   \n",
       "4                   18.2                 18.2   \n",
       "\n",
       "   Income composition of resources  Schooling  Life expectancy   \n",
       "0                            0.479       10.1              65.0  \n",
       "1                            0.476       10.0              59.9  \n",
       "2                            0.470        9.9              59.9  \n",
       "3                            0.463        9.8              59.5  \n",
       "4                            0.454        9.5              59.2  "
      ]
     },
     "execution_count": 20,
     "metadata": {},
     "output_type": "execute_result"
    }
   ],
   "source": [
    "data = data[['Status', 'Adult Mortality', 'infant deaths',\n",
    "       'Alcohol', 'percentage expenditure', 'Hepatitis B', 'Measles ', ' BMI ',\n",
    "       'under-five deaths ', 'Polio', 'Total expenditure', 'Diphtheria ',\n",
    "       ' HIV/AIDS', 'GDP', ' thinness  1-19 years',\n",
    "       ' thinness 5-9 years', 'Income composition of resources', 'Schooling',\n",
    "       'Life expectancy ']]\n",
    "data.head()"
   ]
  },
  {
   "cell_type": "code",
   "execution_count": 21,
   "id": "b19e4932",
   "metadata": {},
   "outputs": [
    {
     "data": {
      "text/plain": [
       "Developing    2426\n",
       "Developed      512\n",
       "Name: Status, dtype: int64"
      ]
     },
     "execution_count": 21,
     "metadata": {},
     "output_type": "execute_result"
    }
   ],
   "source": [
    "data['Status'].value_counts()"
   ]
  },
  {
   "cell_type": "code",
   "execution_count": 22,
   "id": "78c63469",
   "metadata": {},
   "outputs": [],
   "source": [
    "from sklearn.preprocessing import LabelEncoder\n",
    "labelencoder = LabelEncoder()"
   ]
  },
  {
   "cell_type": "code",
   "execution_count": 23,
   "id": "b69e80f4",
   "metadata": {},
   "outputs": [
    {
     "data": {
      "text/plain": [
       "1    2426\n",
       "0     512\n",
       "Name: Status, dtype: int64"
      ]
     },
     "execution_count": 23,
     "metadata": {},
     "output_type": "execute_result"
    }
   ],
   "source": [
    "data['Status'] = labelencoder.fit_transform(data['Status'])\n",
    "data.Status.value_counts()"
   ]
  },
  {
   "cell_type": "code",
   "execution_count": 24,
   "id": "e44c1b65",
   "metadata": {},
   "outputs": [
    {
     "data": {
      "text/html": [
       "<div>\n",
       "<style scoped>\n",
       "    .dataframe tbody tr th:only-of-type {\n",
       "        vertical-align: middle;\n",
       "    }\n",
       "\n",
       "    .dataframe tbody tr th {\n",
       "        vertical-align: top;\n",
       "    }\n",
       "\n",
       "    .dataframe thead th {\n",
       "        text-align: right;\n",
       "    }\n",
       "</style>\n",
       "<table border=\"1\" class=\"dataframe\">\n",
       "  <thead>\n",
       "    <tr style=\"text-align: right;\">\n",
       "      <th></th>\n",
       "      <th>Status</th>\n",
       "      <th>Adult Mortality</th>\n",
       "      <th>infant deaths</th>\n",
       "      <th>Alcohol</th>\n",
       "      <th>percentage expenditure</th>\n",
       "      <th>Hepatitis B</th>\n",
       "      <th>Measles</th>\n",
       "      <th>BMI</th>\n",
       "      <th>under-five deaths</th>\n",
       "      <th>Polio</th>\n",
       "      <th>Total expenditure</th>\n",
       "      <th>Diphtheria</th>\n",
       "      <th>HIV/AIDS</th>\n",
       "      <th>GDP</th>\n",
       "      <th>thinness  1-19 years</th>\n",
       "      <th>thinness 5-9 years</th>\n",
       "      <th>Income composition of resources</th>\n",
       "      <th>Schooling</th>\n",
       "      <th>Life expectancy</th>\n",
       "    </tr>\n",
       "  </thead>\n",
       "  <tbody>\n",
       "    <tr>\n",
       "      <th>0</th>\n",
       "      <td>1</td>\n",
       "      <td>263.0</td>\n",
       "      <td>62</td>\n",
       "      <td>0.01</td>\n",
       "      <td>71.279624</td>\n",
       "      <td>65.0</td>\n",
       "      <td>1154</td>\n",
       "      <td>19.1</td>\n",
       "      <td>83</td>\n",
       "      <td>6.0</td>\n",
       "      <td>8.16</td>\n",
       "      <td>65.0</td>\n",
       "      <td>0.1</td>\n",
       "      <td>584.259210</td>\n",
       "      <td>17.2</td>\n",
       "      <td>17.3</td>\n",
       "      <td>0.479</td>\n",
       "      <td>10.1</td>\n",
       "      <td>65.0</td>\n",
       "    </tr>\n",
       "    <tr>\n",
       "      <th>1</th>\n",
       "      <td>1</td>\n",
       "      <td>271.0</td>\n",
       "      <td>64</td>\n",
       "      <td>0.01</td>\n",
       "      <td>73.523582</td>\n",
       "      <td>62.0</td>\n",
       "      <td>492</td>\n",
       "      <td>18.6</td>\n",
       "      <td>86</td>\n",
       "      <td>58.0</td>\n",
       "      <td>8.18</td>\n",
       "      <td>62.0</td>\n",
       "      <td>0.1</td>\n",
       "      <td>612.696514</td>\n",
       "      <td>17.5</td>\n",
       "      <td>17.5</td>\n",
       "      <td>0.476</td>\n",
       "      <td>10.0</td>\n",
       "      <td>59.9</td>\n",
       "    </tr>\n",
       "    <tr>\n",
       "      <th>2</th>\n",
       "      <td>1</td>\n",
       "      <td>268.0</td>\n",
       "      <td>66</td>\n",
       "      <td>0.01</td>\n",
       "      <td>73.219243</td>\n",
       "      <td>64.0</td>\n",
       "      <td>430</td>\n",
       "      <td>18.1</td>\n",
       "      <td>89</td>\n",
       "      <td>62.0</td>\n",
       "      <td>8.13</td>\n",
       "      <td>64.0</td>\n",
       "      <td>0.1</td>\n",
       "      <td>631.744976</td>\n",
       "      <td>17.7</td>\n",
       "      <td>17.7</td>\n",
       "      <td>0.470</td>\n",
       "      <td>9.9</td>\n",
       "      <td>59.9</td>\n",
       "    </tr>\n",
       "    <tr>\n",
       "      <th>3</th>\n",
       "      <td>1</td>\n",
       "      <td>272.0</td>\n",
       "      <td>69</td>\n",
       "      <td>0.01</td>\n",
       "      <td>78.184215</td>\n",
       "      <td>67.0</td>\n",
       "      <td>2787</td>\n",
       "      <td>17.6</td>\n",
       "      <td>93</td>\n",
       "      <td>67.0</td>\n",
       "      <td>8.52</td>\n",
       "      <td>67.0</td>\n",
       "      <td>0.1</td>\n",
       "      <td>669.959000</td>\n",
       "      <td>17.9</td>\n",
       "      <td>18.0</td>\n",
       "      <td>0.463</td>\n",
       "      <td>9.8</td>\n",
       "      <td>59.5</td>\n",
       "    </tr>\n",
       "    <tr>\n",
       "      <th>4</th>\n",
       "      <td>1</td>\n",
       "      <td>275.0</td>\n",
       "      <td>71</td>\n",
       "      <td>0.01</td>\n",
       "      <td>7.097109</td>\n",
       "      <td>68.0</td>\n",
       "      <td>3013</td>\n",
       "      <td>17.2</td>\n",
       "      <td>97</td>\n",
       "      <td>68.0</td>\n",
       "      <td>7.87</td>\n",
       "      <td>68.0</td>\n",
       "      <td>0.1</td>\n",
       "      <td>63.537231</td>\n",
       "      <td>18.2</td>\n",
       "      <td>18.2</td>\n",
       "      <td>0.454</td>\n",
       "      <td>9.5</td>\n",
       "      <td>59.2</td>\n",
       "    </tr>\n",
       "  </tbody>\n",
       "</table>\n",
       "</div>"
      ],
      "text/plain": [
       "   Status  Adult Mortality  infant deaths  Alcohol  percentage expenditure  \\\n",
       "0       1            263.0             62     0.01               71.279624   \n",
       "1       1            271.0             64     0.01               73.523582   \n",
       "2       1            268.0             66     0.01               73.219243   \n",
       "3       1            272.0             69     0.01               78.184215   \n",
       "4       1            275.0             71     0.01                7.097109   \n",
       "\n",
       "   Hepatitis B  Measles    BMI   under-five deaths   Polio  Total expenditure  \\\n",
       "0         65.0      1154   19.1                  83    6.0               8.16   \n",
       "1         62.0       492   18.6                  86   58.0               8.18   \n",
       "2         64.0       430   18.1                  89   62.0               8.13   \n",
       "3         67.0      2787   17.6                  93   67.0               8.52   \n",
       "4         68.0      3013   17.2                  97   68.0               7.87   \n",
       "\n",
       "   Diphtheria    HIV/AIDS         GDP   thinness  1-19 years  \\\n",
       "0         65.0        0.1  584.259210                   17.2   \n",
       "1         62.0        0.1  612.696514                   17.5   \n",
       "2         64.0        0.1  631.744976                   17.7   \n",
       "3         67.0        0.1  669.959000                   17.9   \n",
       "4         68.0        0.1   63.537231                   18.2   \n",
       "\n",
       "    thinness 5-9 years  Income composition of resources  Schooling  \\\n",
       "0                 17.3                            0.479       10.1   \n",
       "1                 17.5                            0.476       10.0   \n",
       "2                 17.7                            0.470        9.9   \n",
       "3                 18.0                            0.463        9.8   \n",
       "4                 18.2                            0.454        9.5   \n",
       "\n",
       "   Life expectancy   \n",
       "0              65.0  \n",
       "1              59.9  \n",
       "2              59.9  \n",
       "3              59.5  \n",
       "4              59.2  "
      ]
     },
     "execution_count": 24,
     "metadata": {},
     "output_type": "execute_result"
    }
   ],
   "source": [
    "data.head()"
   ]
  },
  {
   "cell_type": "code",
   "execution_count": 25,
   "id": "8106817b",
   "metadata": {},
   "outputs": [
    {
     "data": {
      "text/html": [
       "<div>\n",
       "<style scoped>\n",
       "    .dataframe tbody tr th:only-of-type {\n",
       "        vertical-align: middle;\n",
       "    }\n",
       "\n",
       "    .dataframe tbody tr th {\n",
       "        vertical-align: top;\n",
       "    }\n",
       "\n",
       "    .dataframe thead th {\n",
       "        text-align: right;\n",
       "    }\n",
       "</style>\n",
       "<table border=\"1\" class=\"dataframe\">\n",
       "  <thead>\n",
       "    <tr style=\"text-align: right;\">\n",
       "      <th></th>\n",
       "      <th>Status</th>\n",
       "      <th>Adult Mortality</th>\n",
       "      <th>infant deaths</th>\n",
       "      <th>Alcohol</th>\n",
       "      <th>percentage expenditure</th>\n",
       "      <th>Hepatitis B</th>\n",
       "      <th>Measles</th>\n",
       "      <th>BMI</th>\n",
       "      <th>under-five deaths</th>\n",
       "      <th>Polio</th>\n",
       "      <th>Total expenditure</th>\n",
       "      <th>Diphtheria</th>\n",
       "      <th>HIV/AIDS</th>\n",
       "      <th>GDP</th>\n",
       "      <th>thinness  1-19 years</th>\n",
       "      <th>thinness 5-9 years</th>\n",
       "      <th>Income composition of resources</th>\n",
       "      <th>Schooling</th>\n",
       "      <th>Life expectancy</th>\n",
       "    </tr>\n",
       "  </thead>\n",
       "  <tbody>\n",
       "    <tr>\n",
       "      <th>Status</th>\n",
       "      <td>1.000000</td>\n",
       "      <td>0.315171</td>\n",
       "      <td>0.112252</td>\n",
       "      <td>-0.579371</td>\n",
       "      <td>-0.454261</td>\n",
       "      <td>-0.095642</td>\n",
       "      <td>0.076955</td>\n",
       "      <td>-0.310873</td>\n",
       "      <td>0.115195</td>\n",
       "      <td>-0.220098</td>\n",
       "      <td>-0.289985</td>\n",
       "      <td>-0.216763</td>\n",
       "      <td>0.148590</td>\n",
       "      <td>-0.445911</td>\n",
       "      <td>0.367934</td>\n",
       "      <td>0.366297</td>\n",
       "      <td>-0.457302</td>\n",
       "      <td>-0.491444</td>\n",
       "      <td>-0.481962</td>\n",
       "    </tr>\n",
       "    <tr>\n",
       "      <th>Adult Mortality</th>\n",
       "      <td>0.315171</td>\n",
       "      <td>1.000000</td>\n",
       "      <td>0.078747</td>\n",
       "      <td>-0.190408</td>\n",
       "      <td>-0.242814</td>\n",
       "      <td>-0.138591</td>\n",
       "      <td>0.031174</td>\n",
       "      <td>-0.381449</td>\n",
       "      <td>0.094135</td>\n",
       "      <td>-0.272694</td>\n",
       "      <td>-0.110875</td>\n",
       "      <td>-0.273014</td>\n",
       "      <td>0.523727</td>\n",
       "      <td>-0.277053</td>\n",
       "      <td>0.299863</td>\n",
       "      <td>0.305366</td>\n",
       "      <td>-0.440062</td>\n",
       "      <td>-0.435108</td>\n",
       "      <td>-0.696359</td>\n",
       "    </tr>\n",
       "    <tr>\n",
       "      <th>infant deaths</th>\n",
       "      <td>0.112252</td>\n",
       "      <td>0.078747</td>\n",
       "      <td>1.000000</td>\n",
       "      <td>-0.113812</td>\n",
       "      <td>-0.085612</td>\n",
       "      <td>-0.178783</td>\n",
       "      <td>0.501128</td>\n",
       "      <td>-0.227220</td>\n",
       "      <td>0.996629</td>\n",
       "      <td>-0.170674</td>\n",
       "      <td>-0.126564</td>\n",
       "      <td>-0.175156</td>\n",
       "      <td>0.025231</td>\n",
       "      <td>-0.107109</td>\n",
       "      <td>0.465590</td>\n",
       "      <td>0.471228</td>\n",
       "      <td>-0.143663</td>\n",
       "      <td>-0.191757</td>\n",
       "      <td>-0.196535</td>\n",
       "    </tr>\n",
       "    <tr>\n",
       "      <th>Alcohol</th>\n",
       "      <td>-0.579371</td>\n",
       "      <td>-0.190408</td>\n",
       "      <td>-0.113812</td>\n",
       "      <td>1.000000</td>\n",
       "      <td>0.339634</td>\n",
       "      <td>0.075447</td>\n",
       "      <td>-0.051055</td>\n",
       "      <td>0.318070</td>\n",
       "      <td>-0.110777</td>\n",
       "      <td>0.213744</td>\n",
       "      <td>0.294898</td>\n",
       "      <td>0.215242</td>\n",
       "      <td>-0.048650</td>\n",
       "      <td>0.318591</td>\n",
       "      <td>-0.416946</td>\n",
       "      <td>-0.405881</td>\n",
       "      <td>0.416099</td>\n",
       "      <td>0.497546</td>\n",
       "      <td>0.391598</td>\n",
       "    </tr>\n",
       "    <tr>\n",
       "      <th>percentage expenditure</th>\n",
       "      <td>-0.454261</td>\n",
       "      <td>-0.242814</td>\n",
       "      <td>-0.085612</td>\n",
       "      <td>0.339634</td>\n",
       "      <td>1.000000</td>\n",
       "      <td>0.011679</td>\n",
       "      <td>-0.056596</td>\n",
       "      <td>0.228537</td>\n",
       "      <td>-0.087852</td>\n",
       "      <td>0.147203</td>\n",
       "      <td>0.173414</td>\n",
       "      <td>0.143570</td>\n",
       "      <td>-0.097857</td>\n",
       "      <td>0.888140</td>\n",
       "      <td>-0.251190</td>\n",
       "      <td>-0.252725</td>\n",
       "      <td>0.380374</td>\n",
       "      <td>0.388105</td>\n",
       "      <td>0.381791</td>\n",
       "    </tr>\n",
       "    <tr>\n",
       "      <th>Hepatitis B</th>\n",
       "      <td>-0.095642</td>\n",
       "      <td>-0.138591</td>\n",
       "      <td>-0.178783</td>\n",
       "      <td>0.075447</td>\n",
       "      <td>0.011679</td>\n",
       "      <td>1.000000</td>\n",
       "      <td>-0.090317</td>\n",
       "      <td>0.134929</td>\n",
       "      <td>-0.184413</td>\n",
       "      <td>0.408519</td>\n",
       "      <td>0.050084</td>\n",
       "      <td>0.499958</td>\n",
       "      <td>-0.102405</td>\n",
       "      <td>0.062318</td>\n",
       "      <td>-0.105144</td>\n",
       "      <td>-0.108334</td>\n",
       "      <td>0.150992</td>\n",
       "      <td>0.171755</td>\n",
       "      <td>0.203771</td>\n",
       "    </tr>\n",
       "    <tr>\n",
       "      <th>Measles</th>\n",
       "      <td>0.076955</td>\n",
       "      <td>0.031174</td>\n",
       "      <td>0.501128</td>\n",
       "      <td>-0.051055</td>\n",
       "      <td>-0.056596</td>\n",
       "      <td>-0.090317</td>\n",
       "      <td>1.000000</td>\n",
       "      <td>-0.175925</td>\n",
       "      <td>0.507809</td>\n",
       "      <td>-0.136146</td>\n",
       "      <td>-0.104569</td>\n",
       "      <td>-0.141861</td>\n",
       "      <td>0.030899</td>\n",
       "      <td>-0.068060</td>\n",
       "      <td>0.224742</td>\n",
       "      <td>0.221007</td>\n",
       "      <td>-0.115764</td>\n",
       "      <td>-0.122609</td>\n",
       "      <td>-0.157574</td>\n",
       "    </tr>\n",
       "    <tr>\n",
       "      <th>BMI</th>\n",
       "      <td>-0.310873</td>\n",
       "      <td>-0.381449</td>\n",
       "      <td>-0.227220</td>\n",
       "      <td>0.318070</td>\n",
       "      <td>0.228537</td>\n",
       "      <td>0.134929</td>\n",
       "      <td>-0.175925</td>\n",
       "      <td>1.000000</td>\n",
       "      <td>-0.237586</td>\n",
       "      <td>0.282156</td>\n",
       "      <td>0.231814</td>\n",
       "      <td>0.281059</td>\n",
       "      <td>-0.243548</td>\n",
       "      <td>0.276645</td>\n",
       "      <td>-0.532025</td>\n",
       "      <td>-0.538911</td>\n",
       "      <td>0.479837</td>\n",
       "      <td>0.508105</td>\n",
       "      <td>0.559255</td>\n",
       "    </tr>\n",
       "    <tr>\n",
       "      <th>under-five deaths</th>\n",
       "      <td>0.115195</td>\n",
       "      <td>0.094135</td>\n",
       "      <td>0.996629</td>\n",
       "      <td>-0.110777</td>\n",
       "      <td>-0.087852</td>\n",
       "      <td>-0.184413</td>\n",
       "      <td>0.507809</td>\n",
       "      <td>-0.237586</td>\n",
       "      <td>1.000000</td>\n",
       "      <td>-0.188703</td>\n",
       "      <td>-0.128269</td>\n",
       "      <td>-0.195651</td>\n",
       "      <td>0.038062</td>\n",
       "      <td>-0.110640</td>\n",
       "      <td>0.467626</td>\n",
       "      <td>0.472099</td>\n",
       "      <td>-0.161533</td>\n",
       "      <td>-0.207111</td>\n",
       "      <td>-0.222503</td>\n",
       "    </tr>\n",
       "    <tr>\n",
       "      <th>Polio</th>\n",
       "      <td>-0.220098</td>\n",
       "      <td>-0.272694</td>\n",
       "      <td>-0.170674</td>\n",
       "      <td>0.213744</td>\n",
       "      <td>0.147203</td>\n",
       "      <td>0.408519</td>\n",
       "      <td>-0.136146</td>\n",
       "      <td>0.282156</td>\n",
       "      <td>-0.188703</td>\n",
       "      <td>1.000000</td>\n",
       "      <td>0.130129</td>\n",
       "      <td>0.673553</td>\n",
       "      <td>-0.159489</td>\n",
       "      <td>0.193980</td>\n",
       "      <td>-0.219938</td>\n",
       "      <td>-0.220710</td>\n",
       "      <td>0.355398</td>\n",
       "      <td>0.385832</td>\n",
       "      <td>0.461574</td>\n",
       "    </tr>\n",
       "    <tr>\n",
       "      <th>Total expenditure</th>\n",
       "      <td>-0.289985</td>\n",
       "      <td>-0.110875</td>\n",
       "      <td>-0.126564</td>\n",
       "      <td>0.294898</td>\n",
       "      <td>0.173414</td>\n",
       "      <td>0.050084</td>\n",
       "      <td>-0.104569</td>\n",
       "      <td>0.231814</td>\n",
       "      <td>-0.128269</td>\n",
       "      <td>0.130129</td>\n",
       "      <td>1.000000</td>\n",
       "      <td>0.145597</td>\n",
       "      <td>-0.001383</td>\n",
       "      <td>0.121467</td>\n",
       "      <td>-0.268724</td>\n",
       "      <td>-0.275240</td>\n",
       "      <td>0.149095</td>\n",
       "      <td>0.218310</td>\n",
       "      <td>0.207981</td>\n",
       "    </tr>\n",
       "    <tr>\n",
       "      <th>Diphtheria</th>\n",
       "      <td>-0.216763</td>\n",
       "      <td>-0.273014</td>\n",
       "      <td>-0.175156</td>\n",
       "      <td>0.215242</td>\n",
       "      <td>0.143570</td>\n",
       "      <td>0.499958</td>\n",
       "      <td>-0.141861</td>\n",
       "      <td>0.281059</td>\n",
       "      <td>-0.195651</td>\n",
       "      <td>0.673553</td>\n",
       "      <td>0.145597</td>\n",
       "      <td>1.000000</td>\n",
       "      <td>-0.164787</td>\n",
       "      <td>0.182795</td>\n",
       "      <td>-0.227820</td>\n",
       "      <td>-0.221105</td>\n",
       "      <td>0.371729</td>\n",
       "      <td>0.389944</td>\n",
       "      <td>0.475418</td>\n",
       "    </tr>\n",
       "    <tr>\n",
       "      <th>HIV/AIDS</th>\n",
       "      <td>0.148590</td>\n",
       "      <td>0.523727</td>\n",
       "      <td>0.025231</td>\n",
       "      <td>-0.048650</td>\n",
       "      <td>-0.097857</td>\n",
       "      <td>-0.102405</td>\n",
       "      <td>0.030899</td>\n",
       "      <td>-0.243548</td>\n",
       "      <td>0.038062</td>\n",
       "      <td>-0.159489</td>\n",
       "      <td>-0.001383</td>\n",
       "      <td>-0.164787</td>\n",
       "      <td>1.000000</td>\n",
       "      <td>-0.134514</td>\n",
       "      <td>0.203922</td>\n",
       "      <td>0.207140</td>\n",
       "      <td>-0.247454</td>\n",
       "      <td>-0.218620</td>\n",
       "      <td>-0.556457</td>\n",
       "    </tr>\n",
       "    <tr>\n",
       "      <th>GDP</th>\n",
       "      <td>-0.445911</td>\n",
       "      <td>-0.277053</td>\n",
       "      <td>-0.107109</td>\n",
       "      <td>0.318591</td>\n",
       "      <td>0.888140</td>\n",
       "      <td>0.062318</td>\n",
       "      <td>-0.068060</td>\n",
       "      <td>0.276645</td>\n",
       "      <td>-0.110640</td>\n",
       "      <td>0.193980</td>\n",
       "      <td>0.121467</td>\n",
       "      <td>0.182795</td>\n",
       "      <td>-0.134514</td>\n",
       "      <td>1.000000</td>\n",
       "      <td>-0.267745</td>\n",
       "      <td>-0.272400</td>\n",
       "      <td>0.440317</td>\n",
       "      <td>0.429489</td>\n",
       "      <td>0.430493</td>\n",
       "    </tr>\n",
       "    <tr>\n",
       "      <th>thinness  1-19 years</th>\n",
       "      <td>0.367934</td>\n",
       "      <td>0.299863</td>\n",
       "      <td>0.465590</td>\n",
       "      <td>-0.416946</td>\n",
       "      <td>-0.251190</td>\n",
       "      <td>-0.105144</td>\n",
       "      <td>0.224742</td>\n",
       "      <td>-0.532025</td>\n",
       "      <td>0.467626</td>\n",
       "      <td>-0.219938</td>\n",
       "      <td>-0.268724</td>\n",
       "      <td>-0.227820</td>\n",
       "      <td>0.203922</td>\n",
       "      <td>-0.267745</td>\n",
       "      <td>1.000000</td>\n",
       "      <td>0.939102</td>\n",
       "      <td>-0.406662</td>\n",
       "      <td>-0.446140</td>\n",
       "      <td>-0.472162</td>\n",
       "    </tr>\n",
       "    <tr>\n",
       "      <th>thinness 5-9 years</th>\n",
       "      <td>0.366297</td>\n",
       "      <td>0.305366</td>\n",
       "      <td>0.471228</td>\n",
       "      <td>-0.405881</td>\n",
       "      <td>-0.252725</td>\n",
       "      <td>-0.108334</td>\n",
       "      <td>0.221007</td>\n",
       "      <td>-0.538911</td>\n",
       "      <td>0.472099</td>\n",
       "      <td>-0.220710</td>\n",
       "      <td>-0.275240</td>\n",
       "      <td>-0.221105</td>\n",
       "      <td>0.207140</td>\n",
       "      <td>-0.272400</td>\n",
       "      <td>0.939102</td>\n",
       "      <td>1.000000</td>\n",
       "      <td>-0.395779</td>\n",
       "      <td>-0.435777</td>\n",
       "      <td>-0.466629</td>\n",
       "    </tr>\n",
       "    <tr>\n",
       "      <th>Income composition of resources</th>\n",
       "      <td>-0.457302</td>\n",
       "      <td>-0.440062</td>\n",
       "      <td>-0.143663</td>\n",
       "      <td>0.416099</td>\n",
       "      <td>0.380374</td>\n",
       "      <td>0.150992</td>\n",
       "      <td>-0.115764</td>\n",
       "      <td>0.479837</td>\n",
       "      <td>-0.161533</td>\n",
       "      <td>0.355398</td>\n",
       "      <td>0.149095</td>\n",
       "      <td>0.371729</td>\n",
       "      <td>-0.247454</td>\n",
       "      <td>0.440317</td>\n",
       "      <td>-0.406662</td>\n",
       "      <td>-0.395779</td>\n",
       "      <td>1.000000</td>\n",
       "      <td>0.796207</td>\n",
       "      <td>0.692483</td>\n",
       "    </tr>\n",
       "    <tr>\n",
       "      <th>Schooling</th>\n",
       "      <td>-0.491444</td>\n",
       "      <td>-0.435108</td>\n",
       "      <td>-0.191757</td>\n",
       "      <td>0.497546</td>\n",
       "      <td>0.388105</td>\n",
       "      <td>0.171755</td>\n",
       "      <td>-0.122609</td>\n",
       "      <td>0.508105</td>\n",
       "      <td>-0.207111</td>\n",
       "      <td>0.385832</td>\n",
       "      <td>0.218310</td>\n",
       "      <td>0.389944</td>\n",
       "      <td>-0.218620</td>\n",
       "      <td>0.429489</td>\n",
       "      <td>-0.446140</td>\n",
       "      <td>-0.435777</td>\n",
       "      <td>0.796207</td>\n",
       "      <td>1.000000</td>\n",
       "      <td>0.715066</td>\n",
       "    </tr>\n",
       "    <tr>\n",
       "      <th>Life expectancy</th>\n",
       "      <td>-0.481962</td>\n",
       "      <td>-0.696359</td>\n",
       "      <td>-0.196535</td>\n",
       "      <td>0.391598</td>\n",
       "      <td>0.381791</td>\n",
       "      <td>0.203771</td>\n",
       "      <td>-0.157574</td>\n",
       "      <td>0.559255</td>\n",
       "      <td>-0.222503</td>\n",
       "      <td>0.461574</td>\n",
       "      <td>0.207981</td>\n",
       "      <td>0.475418</td>\n",
       "      <td>-0.556457</td>\n",
       "      <td>0.430493</td>\n",
       "      <td>-0.472162</td>\n",
       "      <td>-0.466629</td>\n",
       "      <td>0.692483</td>\n",
       "      <td>0.715066</td>\n",
       "      <td>1.000000</td>\n",
       "    </tr>\n",
       "  </tbody>\n",
       "</table>\n",
       "</div>"
      ],
      "text/plain": [
       "                                   Status  Adult Mortality  infant deaths  \\\n",
       "Status                           1.000000         0.315171       0.112252   \n",
       "Adult Mortality                  0.315171         1.000000       0.078747   \n",
       "infant deaths                    0.112252         0.078747       1.000000   \n",
       "Alcohol                         -0.579371        -0.190408      -0.113812   \n",
       "percentage expenditure          -0.454261        -0.242814      -0.085612   \n",
       "Hepatitis B                     -0.095642        -0.138591      -0.178783   \n",
       "Measles                          0.076955         0.031174       0.501128   \n",
       " BMI                            -0.310873        -0.381449      -0.227220   \n",
       "under-five deaths                0.115195         0.094135       0.996629   \n",
       "Polio                           -0.220098        -0.272694      -0.170674   \n",
       "Total expenditure               -0.289985        -0.110875      -0.126564   \n",
       "Diphtheria                      -0.216763        -0.273014      -0.175156   \n",
       " HIV/AIDS                        0.148590         0.523727       0.025231   \n",
       "GDP                             -0.445911        -0.277053      -0.107109   \n",
       " thinness  1-19 years            0.367934         0.299863       0.465590   \n",
       " thinness 5-9 years              0.366297         0.305366       0.471228   \n",
       "Income composition of resources -0.457302        -0.440062      -0.143663   \n",
       "Schooling                       -0.491444        -0.435108      -0.191757   \n",
       "Life expectancy                 -0.481962        -0.696359      -0.196535   \n",
       "\n",
       "                                  Alcohol  percentage expenditure  \\\n",
       "Status                          -0.579371               -0.454261   \n",
       "Adult Mortality                 -0.190408               -0.242814   \n",
       "infant deaths                   -0.113812               -0.085612   \n",
       "Alcohol                          1.000000                0.339634   \n",
       "percentage expenditure           0.339634                1.000000   \n",
       "Hepatitis B                      0.075447                0.011679   \n",
       "Measles                         -0.051055               -0.056596   \n",
       " BMI                             0.318070                0.228537   \n",
       "under-five deaths               -0.110777               -0.087852   \n",
       "Polio                            0.213744                0.147203   \n",
       "Total expenditure                0.294898                0.173414   \n",
       "Diphtheria                       0.215242                0.143570   \n",
       " HIV/AIDS                       -0.048650               -0.097857   \n",
       "GDP                              0.318591                0.888140   \n",
       " thinness  1-19 years           -0.416946               -0.251190   \n",
       " thinness 5-9 years             -0.405881               -0.252725   \n",
       "Income composition of resources  0.416099                0.380374   \n",
       "Schooling                        0.497546                0.388105   \n",
       "Life expectancy                  0.391598                0.381791   \n",
       "\n",
       "                                 Hepatitis B  Measles       BMI   \\\n",
       "Status                             -0.095642  0.076955 -0.310873   \n",
       "Adult Mortality                    -0.138591  0.031174 -0.381449   \n",
       "infant deaths                      -0.178783  0.501128 -0.227220   \n",
       "Alcohol                             0.075447 -0.051055  0.318070   \n",
       "percentage expenditure              0.011679 -0.056596  0.228537   \n",
       "Hepatitis B                         1.000000 -0.090317  0.134929   \n",
       "Measles                            -0.090317  1.000000 -0.175925   \n",
       " BMI                                0.134929 -0.175925  1.000000   \n",
       "under-five deaths                  -0.184413  0.507809 -0.237586   \n",
       "Polio                               0.408519 -0.136146  0.282156   \n",
       "Total expenditure                   0.050084 -0.104569  0.231814   \n",
       "Diphtheria                          0.499958 -0.141861  0.281059   \n",
       " HIV/AIDS                          -0.102405  0.030899 -0.243548   \n",
       "GDP                                 0.062318 -0.068060  0.276645   \n",
       " thinness  1-19 years              -0.105144  0.224742 -0.532025   \n",
       " thinness 5-9 years                -0.108334  0.221007 -0.538911   \n",
       "Income composition of resources     0.150992 -0.115764  0.479837   \n",
       "Schooling                           0.171755 -0.122609  0.508105   \n",
       "Life expectancy                     0.203771 -0.157574  0.559255   \n",
       "\n",
       "                                 under-five deaths      Polio  \\\n",
       "Status                                     0.115195 -0.220098   \n",
       "Adult Mortality                            0.094135 -0.272694   \n",
       "infant deaths                              0.996629 -0.170674   \n",
       "Alcohol                                   -0.110777  0.213744   \n",
       "percentage expenditure                    -0.087852  0.147203   \n",
       "Hepatitis B                               -0.184413  0.408519   \n",
       "Measles                                    0.507809 -0.136146   \n",
       " BMI                                      -0.237586  0.282156   \n",
       "under-five deaths                          1.000000 -0.188703   \n",
       "Polio                                     -0.188703  1.000000   \n",
       "Total expenditure                         -0.128269  0.130129   \n",
       "Diphtheria                                -0.195651  0.673553   \n",
       " HIV/AIDS                                  0.038062 -0.159489   \n",
       "GDP                                       -0.110640  0.193980   \n",
       " thinness  1-19 years                      0.467626 -0.219938   \n",
       " thinness 5-9 years                        0.472099 -0.220710   \n",
       "Income composition of resources           -0.161533  0.355398   \n",
       "Schooling                                 -0.207111  0.385832   \n",
       "Life expectancy                           -0.222503  0.461574   \n",
       "\n",
       "                                 Total expenditure  Diphtheria    HIV/AIDS  \\\n",
       "Status                                   -0.289985    -0.216763   0.148590   \n",
       "Adult Mortality                          -0.110875    -0.273014   0.523727   \n",
       "infant deaths                            -0.126564    -0.175156   0.025231   \n",
       "Alcohol                                   0.294898     0.215242  -0.048650   \n",
       "percentage expenditure                    0.173414     0.143570  -0.097857   \n",
       "Hepatitis B                               0.050084     0.499958  -0.102405   \n",
       "Measles                                  -0.104569    -0.141861   0.030899   \n",
       " BMI                                      0.231814     0.281059  -0.243548   \n",
       "under-five deaths                        -0.128269    -0.195651   0.038062   \n",
       "Polio                                     0.130129     0.673553  -0.159489   \n",
       "Total expenditure                         1.000000     0.145597  -0.001383   \n",
       "Diphtheria                                0.145597     1.000000  -0.164787   \n",
       " HIV/AIDS                                -0.001383    -0.164787   1.000000   \n",
       "GDP                                       0.121467     0.182795  -0.134514   \n",
       " thinness  1-19 years                    -0.268724    -0.227820   0.203922   \n",
       " thinness 5-9 years                      -0.275240    -0.221105   0.207140   \n",
       "Income composition of resources           0.149095     0.371729  -0.247454   \n",
       "Schooling                                 0.218310     0.389944  -0.218620   \n",
       "Life expectancy                           0.207981     0.475418  -0.556457   \n",
       "\n",
       "                                      GDP   thinness  1-19 years  \\\n",
       "Status                          -0.445911               0.367934   \n",
       "Adult Mortality                 -0.277053               0.299863   \n",
       "infant deaths                   -0.107109               0.465590   \n",
       "Alcohol                          0.318591              -0.416946   \n",
       "percentage expenditure           0.888140              -0.251190   \n",
       "Hepatitis B                      0.062318              -0.105144   \n",
       "Measles                         -0.068060               0.224742   \n",
       " BMI                             0.276645              -0.532025   \n",
       "under-five deaths               -0.110640               0.467626   \n",
       "Polio                            0.193980              -0.219938   \n",
       "Total expenditure                0.121467              -0.268724   \n",
       "Diphtheria                       0.182795              -0.227820   \n",
       " HIV/AIDS                       -0.134514               0.203922   \n",
       "GDP                              1.000000              -0.267745   \n",
       " thinness  1-19 years           -0.267745               1.000000   \n",
       " thinness 5-9 years             -0.272400               0.939102   \n",
       "Income composition of resources  0.440317              -0.406662   \n",
       "Schooling                        0.429489              -0.446140   \n",
       "Life expectancy                  0.430493              -0.472162   \n",
       "\n",
       "                                  thinness 5-9 years  \\\n",
       "Status                                      0.366297   \n",
       "Adult Mortality                             0.305366   \n",
       "infant deaths                               0.471228   \n",
       "Alcohol                                    -0.405881   \n",
       "percentage expenditure                     -0.252725   \n",
       "Hepatitis B                                -0.108334   \n",
       "Measles                                     0.221007   \n",
       " BMI                                       -0.538911   \n",
       "under-five deaths                           0.472099   \n",
       "Polio                                      -0.220710   \n",
       "Total expenditure                          -0.275240   \n",
       "Diphtheria                                 -0.221105   \n",
       " HIV/AIDS                                   0.207140   \n",
       "GDP                                        -0.272400   \n",
       " thinness  1-19 years                       0.939102   \n",
       " thinness 5-9 years                         1.000000   \n",
       "Income composition of resources            -0.395779   \n",
       "Schooling                                  -0.435777   \n",
       "Life expectancy                            -0.466629   \n",
       "\n",
       "                                 Income composition of resources  Schooling  \\\n",
       "Status                                                 -0.457302  -0.491444   \n",
       "Adult Mortality                                        -0.440062  -0.435108   \n",
       "infant deaths                                          -0.143663  -0.191757   \n",
       "Alcohol                                                 0.416099   0.497546   \n",
       "percentage expenditure                                  0.380374   0.388105   \n",
       "Hepatitis B                                             0.150992   0.171755   \n",
       "Measles                                                -0.115764  -0.122609   \n",
       " BMI                                                    0.479837   0.508105   \n",
       "under-five deaths                                      -0.161533  -0.207111   \n",
       "Polio                                                   0.355398   0.385832   \n",
       "Total expenditure                                       0.149095   0.218310   \n",
       "Diphtheria                                              0.371729   0.389944   \n",
       " HIV/AIDS                                              -0.247454  -0.218620   \n",
       "GDP                                                     0.440317   0.429489   \n",
       " thinness  1-19 years                                  -0.406662  -0.446140   \n",
       " thinness 5-9 years                                    -0.395779  -0.435777   \n",
       "Income composition of resources                         1.000000   0.796207   \n",
       "Schooling                                               0.796207   1.000000   \n",
       "Life expectancy                                         0.692483   0.715066   \n",
       "\n",
       "                                 Life expectancy   \n",
       "Status                                  -0.481962  \n",
       "Adult Mortality                         -0.696359  \n",
       "infant deaths                           -0.196535  \n",
       "Alcohol                                  0.391598  \n",
       "percentage expenditure                   0.381791  \n",
       "Hepatitis B                              0.203771  \n",
       "Measles                                 -0.157574  \n",
       " BMI                                     0.559255  \n",
       "under-five deaths                       -0.222503  \n",
       "Polio                                    0.461574  \n",
       "Total expenditure                        0.207981  \n",
       "Diphtheria                               0.475418  \n",
       " HIV/AIDS                               -0.556457  \n",
       "GDP                                      0.430493  \n",
       " thinness  1-19 years                   -0.472162  \n",
       " thinness 5-9 years                     -0.466629  \n",
       "Income composition of resources          0.692483  \n",
       "Schooling                                0.715066  \n",
       "Life expectancy                          1.000000  "
      ]
     },
     "execution_count": 25,
     "metadata": {},
     "output_type": "execute_result"
    }
   ],
   "source": [
    "data.corr()"
   ]
  },
  {
   "cell_type": "code",
   "execution_count": 26,
   "id": "4346d33a",
   "metadata": {},
   "outputs": [
    {
     "data": {
      "text/plain": [
       "Index(['Status', 'Adult Mortality', 'infant deaths', 'Alcohol',\n",
       "       'percentage expenditure', 'Hepatitis B', 'Measles ', ' BMI ',\n",
       "       'under-five deaths ', 'Polio', 'Total expenditure', 'Diphtheria ',\n",
       "       ' HIV/AIDS', 'GDP', ' thinness  1-19 years', ' thinness 5-9 years',\n",
       "       'Income composition of resources', 'Schooling', 'Life expectancy '],\n",
       "      dtype='object')"
      ]
     },
     "execution_count": 26,
     "metadata": {},
     "output_type": "execute_result"
    }
   ],
   "source": [
    "data.columns"
   ]
  },
  {
   "cell_type": "code",
   "execution_count": 27,
   "id": "e3766a79",
   "metadata": {},
   "outputs": [],
   "source": [
    "data = data[['Status', 'Adult Mortality', ' BMI ', 'Polio', 'Diphtheria ',\n",
    "       ' HIV/AIDS', 'GDP', ' thinness  1-19 years',' thinness 5-9 years',\n",
    "       'Income composition of resources', 'Schooling', 'Life expectancy ']]"
   ]
  },
  {
   "cell_type": "code",
   "execution_count": 28,
   "id": "1e1f30f1",
   "metadata": {},
   "outputs": [
    {
     "data": {
      "text/html": [
       "<div>\n",
       "<style scoped>\n",
       "    .dataframe tbody tr th:only-of-type {\n",
       "        vertical-align: middle;\n",
       "    }\n",
       "\n",
       "    .dataframe tbody tr th {\n",
       "        vertical-align: top;\n",
       "    }\n",
       "\n",
       "    .dataframe thead th {\n",
       "        text-align: right;\n",
       "    }\n",
       "</style>\n",
       "<table border=\"1\" class=\"dataframe\">\n",
       "  <thead>\n",
       "    <tr style=\"text-align: right;\">\n",
       "      <th></th>\n",
       "      <th>Status</th>\n",
       "      <th>Adult Mortality</th>\n",
       "      <th>BMI</th>\n",
       "      <th>Polio</th>\n",
       "      <th>Diphtheria</th>\n",
       "      <th>HIV/AIDS</th>\n",
       "      <th>GDP</th>\n",
       "      <th>thinness  1-19 years</th>\n",
       "      <th>thinness 5-9 years</th>\n",
       "      <th>Income composition of resources</th>\n",
       "      <th>Schooling</th>\n",
       "      <th>Life expectancy</th>\n",
       "    </tr>\n",
       "  </thead>\n",
       "  <tbody>\n",
       "    <tr>\n",
       "      <th>Status</th>\n",
       "      <td>1.000000</td>\n",
       "      <td>0.315171</td>\n",
       "      <td>-0.310873</td>\n",
       "      <td>-0.220098</td>\n",
       "      <td>-0.216763</td>\n",
       "      <td>0.148590</td>\n",
       "      <td>-0.445911</td>\n",
       "      <td>0.367934</td>\n",
       "      <td>0.366297</td>\n",
       "      <td>-0.457302</td>\n",
       "      <td>-0.491444</td>\n",
       "      <td>-0.481962</td>\n",
       "    </tr>\n",
       "    <tr>\n",
       "      <th>Adult Mortality</th>\n",
       "      <td>0.315171</td>\n",
       "      <td>1.000000</td>\n",
       "      <td>-0.381449</td>\n",
       "      <td>-0.272694</td>\n",
       "      <td>-0.273014</td>\n",
       "      <td>0.523727</td>\n",
       "      <td>-0.277053</td>\n",
       "      <td>0.299863</td>\n",
       "      <td>0.305366</td>\n",
       "      <td>-0.440062</td>\n",
       "      <td>-0.435108</td>\n",
       "      <td>-0.696359</td>\n",
       "    </tr>\n",
       "    <tr>\n",
       "      <th>BMI</th>\n",
       "      <td>-0.310873</td>\n",
       "      <td>-0.381449</td>\n",
       "      <td>1.000000</td>\n",
       "      <td>0.282156</td>\n",
       "      <td>0.281059</td>\n",
       "      <td>-0.243548</td>\n",
       "      <td>0.276645</td>\n",
       "      <td>-0.532025</td>\n",
       "      <td>-0.538911</td>\n",
       "      <td>0.479837</td>\n",
       "      <td>0.508105</td>\n",
       "      <td>0.559255</td>\n",
       "    </tr>\n",
       "    <tr>\n",
       "      <th>Polio</th>\n",
       "      <td>-0.220098</td>\n",
       "      <td>-0.272694</td>\n",
       "      <td>0.282156</td>\n",
       "      <td>1.000000</td>\n",
       "      <td>0.673553</td>\n",
       "      <td>-0.159489</td>\n",
       "      <td>0.193980</td>\n",
       "      <td>-0.219938</td>\n",
       "      <td>-0.220710</td>\n",
       "      <td>0.355398</td>\n",
       "      <td>0.385832</td>\n",
       "      <td>0.461574</td>\n",
       "    </tr>\n",
       "    <tr>\n",
       "      <th>Diphtheria</th>\n",
       "      <td>-0.216763</td>\n",
       "      <td>-0.273014</td>\n",
       "      <td>0.281059</td>\n",
       "      <td>0.673553</td>\n",
       "      <td>1.000000</td>\n",
       "      <td>-0.164787</td>\n",
       "      <td>0.182795</td>\n",
       "      <td>-0.227820</td>\n",
       "      <td>-0.221105</td>\n",
       "      <td>0.371729</td>\n",
       "      <td>0.389944</td>\n",
       "      <td>0.475418</td>\n",
       "    </tr>\n",
       "    <tr>\n",
       "      <th>HIV/AIDS</th>\n",
       "      <td>0.148590</td>\n",
       "      <td>0.523727</td>\n",
       "      <td>-0.243548</td>\n",
       "      <td>-0.159489</td>\n",
       "      <td>-0.164787</td>\n",
       "      <td>1.000000</td>\n",
       "      <td>-0.134514</td>\n",
       "      <td>0.203922</td>\n",
       "      <td>0.207140</td>\n",
       "      <td>-0.247454</td>\n",
       "      <td>-0.218620</td>\n",
       "      <td>-0.556457</td>\n",
       "    </tr>\n",
       "    <tr>\n",
       "      <th>GDP</th>\n",
       "      <td>-0.445911</td>\n",
       "      <td>-0.277053</td>\n",
       "      <td>0.276645</td>\n",
       "      <td>0.193980</td>\n",
       "      <td>0.182795</td>\n",
       "      <td>-0.134514</td>\n",
       "      <td>1.000000</td>\n",
       "      <td>-0.267745</td>\n",
       "      <td>-0.272400</td>\n",
       "      <td>0.440317</td>\n",
       "      <td>0.429489</td>\n",
       "      <td>0.430493</td>\n",
       "    </tr>\n",
       "    <tr>\n",
       "      <th>thinness  1-19 years</th>\n",
       "      <td>0.367934</td>\n",
       "      <td>0.299863</td>\n",
       "      <td>-0.532025</td>\n",
       "      <td>-0.219938</td>\n",
       "      <td>-0.227820</td>\n",
       "      <td>0.203922</td>\n",
       "      <td>-0.267745</td>\n",
       "      <td>1.000000</td>\n",
       "      <td>0.939102</td>\n",
       "      <td>-0.406662</td>\n",
       "      <td>-0.446140</td>\n",
       "      <td>-0.472162</td>\n",
       "    </tr>\n",
       "    <tr>\n",
       "      <th>thinness 5-9 years</th>\n",
       "      <td>0.366297</td>\n",
       "      <td>0.305366</td>\n",
       "      <td>-0.538911</td>\n",
       "      <td>-0.220710</td>\n",
       "      <td>-0.221105</td>\n",
       "      <td>0.207140</td>\n",
       "      <td>-0.272400</td>\n",
       "      <td>0.939102</td>\n",
       "      <td>1.000000</td>\n",
       "      <td>-0.395779</td>\n",
       "      <td>-0.435777</td>\n",
       "      <td>-0.466629</td>\n",
       "    </tr>\n",
       "    <tr>\n",
       "      <th>Income composition of resources</th>\n",
       "      <td>-0.457302</td>\n",
       "      <td>-0.440062</td>\n",
       "      <td>0.479837</td>\n",
       "      <td>0.355398</td>\n",
       "      <td>0.371729</td>\n",
       "      <td>-0.247454</td>\n",
       "      <td>0.440317</td>\n",
       "      <td>-0.406662</td>\n",
       "      <td>-0.395779</td>\n",
       "      <td>1.000000</td>\n",
       "      <td>0.796207</td>\n",
       "      <td>0.692483</td>\n",
       "    </tr>\n",
       "    <tr>\n",
       "      <th>Schooling</th>\n",
       "      <td>-0.491444</td>\n",
       "      <td>-0.435108</td>\n",
       "      <td>0.508105</td>\n",
       "      <td>0.385832</td>\n",
       "      <td>0.389944</td>\n",
       "      <td>-0.218620</td>\n",
       "      <td>0.429489</td>\n",
       "      <td>-0.446140</td>\n",
       "      <td>-0.435777</td>\n",
       "      <td>0.796207</td>\n",
       "      <td>1.000000</td>\n",
       "      <td>0.715066</td>\n",
       "    </tr>\n",
       "    <tr>\n",
       "      <th>Life expectancy</th>\n",
       "      <td>-0.481962</td>\n",
       "      <td>-0.696359</td>\n",
       "      <td>0.559255</td>\n",
       "      <td>0.461574</td>\n",
       "      <td>0.475418</td>\n",
       "      <td>-0.556457</td>\n",
       "      <td>0.430493</td>\n",
       "      <td>-0.472162</td>\n",
       "      <td>-0.466629</td>\n",
       "      <td>0.692483</td>\n",
       "      <td>0.715066</td>\n",
       "      <td>1.000000</td>\n",
       "    </tr>\n",
       "  </tbody>\n",
       "</table>\n",
       "</div>"
      ],
      "text/plain": [
       "                                   Status  Adult Mortality      BMI   \\\n",
       "Status                           1.000000         0.315171 -0.310873   \n",
       "Adult Mortality                  0.315171         1.000000 -0.381449   \n",
       " BMI                            -0.310873        -0.381449  1.000000   \n",
       "Polio                           -0.220098        -0.272694  0.282156   \n",
       "Diphtheria                      -0.216763        -0.273014  0.281059   \n",
       " HIV/AIDS                        0.148590         0.523727 -0.243548   \n",
       "GDP                             -0.445911        -0.277053  0.276645   \n",
       " thinness  1-19 years            0.367934         0.299863 -0.532025   \n",
       " thinness 5-9 years              0.366297         0.305366 -0.538911   \n",
       "Income composition of resources -0.457302        -0.440062  0.479837   \n",
       "Schooling                       -0.491444        -0.435108  0.508105   \n",
       "Life expectancy                 -0.481962        -0.696359  0.559255   \n",
       "\n",
       "                                    Polio  Diphtheria    HIV/AIDS       GDP  \\\n",
       "Status                          -0.220098    -0.216763   0.148590 -0.445911   \n",
       "Adult Mortality                 -0.272694    -0.273014   0.523727 -0.277053   \n",
       " BMI                             0.282156     0.281059  -0.243548  0.276645   \n",
       "Polio                            1.000000     0.673553  -0.159489  0.193980   \n",
       "Diphtheria                       0.673553     1.000000  -0.164787  0.182795   \n",
       " HIV/AIDS                       -0.159489    -0.164787   1.000000 -0.134514   \n",
       "GDP                              0.193980     0.182795  -0.134514  1.000000   \n",
       " thinness  1-19 years           -0.219938    -0.227820   0.203922 -0.267745   \n",
       " thinness 5-9 years             -0.220710    -0.221105   0.207140 -0.272400   \n",
       "Income composition of resources  0.355398     0.371729  -0.247454  0.440317   \n",
       "Schooling                        0.385832     0.389944  -0.218620  0.429489   \n",
       "Life expectancy                  0.461574     0.475418  -0.556457  0.430493   \n",
       "\n",
       "                                  thinness  1-19 years   thinness 5-9 years  \\\n",
       "Status                                        0.367934             0.366297   \n",
       "Adult Mortality                               0.299863             0.305366   \n",
       " BMI                                         -0.532025            -0.538911   \n",
       "Polio                                        -0.219938            -0.220710   \n",
       "Diphtheria                                   -0.227820            -0.221105   \n",
       " HIV/AIDS                                     0.203922             0.207140   \n",
       "GDP                                          -0.267745            -0.272400   \n",
       " thinness  1-19 years                         1.000000             0.939102   \n",
       " thinness 5-9 years                           0.939102             1.000000   \n",
       "Income composition of resources              -0.406662            -0.395779   \n",
       "Schooling                                    -0.446140            -0.435777   \n",
       "Life expectancy                              -0.472162            -0.466629   \n",
       "\n",
       "                                 Income composition of resources  Schooling  \\\n",
       "Status                                                 -0.457302  -0.491444   \n",
       "Adult Mortality                                        -0.440062  -0.435108   \n",
       " BMI                                                    0.479837   0.508105   \n",
       "Polio                                                   0.355398   0.385832   \n",
       "Diphtheria                                              0.371729   0.389944   \n",
       " HIV/AIDS                                              -0.247454  -0.218620   \n",
       "GDP                                                     0.440317   0.429489   \n",
       " thinness  1-19 years                                  -0.406662  -0.446140   \n",
       " thinness 5-9 years                                    -0.395779  -0.435777   \n",
       "Income composition of resources                         1.000000   0.796207   \n",
       "Schooling                                               0.796207   1.000000   \n",
       "Life expectancy                                         0.692483   0.715066   \n",
       "\n",
       "                                 Life expectancy   \n",
       "Status                                  -0.481962  \n",
       "Adult Mortality                         -0.696359  \n",
       " BMI                                     0.559255  \n",
       "Polio                                    0.461574  \n",
       "Diphtheria                               0.475418  \n",
       " HIV/AIDS                               -0.556457  \n",
       "GDP                                      0.430493  \n",
       " thinness  1-19 years                   -0.472162  \n",
       " thinness 5-9 years                     -0.466629  \n",
       "Income composition of resources          0.692483  \n",
       "Schooling                                0.715066  \n",
       "Life expectancy                          1.000000  "
      ]
     },
     "execution_count": 28,
     "metadata": {},
     "output_type": "execute_result"
    }
   ],
   "source": [
    "data.corr()"
   ]
  },
  {
   "cell_type": "code",
   "execution_count": 29,
   "id": "f683c670",
   "metadata": {},
   "outputs": [
    {
     "data": {
      "text/plain": [
       "<AxesSubplot:>"
      ]
     },
     "execution_count": 29,
     "metadata": {},
     "output_type": "execute_result"
    },
    {
     "data": {
      "image/png": "[encoded data removed]",
      "text/plain": [
       "<Figure size 2000x500 with 2 Axes>"
      ]
     },
     "metadata": {},
     "output_type": "display_data"
    }
   ],
   "source": [
    "plt.figure(figsize = (20,5))\n",
    "\n",
    "sns.heatmap(data.corr(),cmap='coolwarm',annot=True)"
   ]
  },
  {
   "cell_type": "code",
   "execution_count": 30,
   "id": "a8fdc362",
   "metadata": {},
   "outputs": [
    {
     "data": {
      "image/png": "[encoded data removed]",
      "text/plain": [
       "<Figure size 640x480 with 1 Axes>"
      ]
     },
     "metadata": {},
     "output_type": "display_data"
    },
    {
     "data": {
      "image/png": "[encoded data removed]",
      "text/plain": [
       "<Figure size 640x480 with 1 Axes>"
      ]
     },
     "metadata": {},
     "output_type": "display_data"
    },
    {
     "data": {
      "image/png": "[encoded data removed]",
      "text/plain": [
       "<Figure size 640x480 with 1 Axes>"
      ]
     },
     "metadata": {},
     "output_type": "display_data"
    },
    {
     "data": {
      "image/png": "[encoded data removed]",
      "text/plain": [
       "<Figure size 640x480 with 1 Axes>"
      ]
     },
     "metadata": {},
     "output_type": "display_data"
    },
    {
     "data": {
      "image/png": "[encoded data removed]",
      "text/plain": [
       "<Figure size 640x480 with 1 Axes>"
      ]
     },
     "metadata": {},
     "output_type": "display_data"
    },
    {
     "data": {
      "image/png": "[encoded data removed]",
      "text/plain": [
       "<Figure size 640x480 with 1 Axes>"
      ]
     },
     "metadata": {},
     "output_type": "display_data"
    },
    {
     "data": {
      "image/png": "[encoded data removed]",
      "text/plain": [
       "<Figure size 640x480 with 1 Axes>"
      ]
     },
     "metadata": {},
     "output_type": "display_data"
    },
    {
     "data": {
      "image/png": "[encoded data removed]",
      "text/plain": [
       "<Figure size 640x480 with 1 Axes>"
      ]
     },
     "metadata": {},
     "output_type": "display_data"
    },
    {
     "data": {
      "image/png": "[encoded data removed]",
      "text/plain": [
       "<Figure size 640x480 with 1 Axes>"
      ]
     },
     "metadata": {},
     "output_type": "display_data"
    },
    {
     "data": {
      "image/png": "[encoded data removed]",
      "text/plain": [
       "<Figure size 640x480 with 1 Axes>"
      ]
     },
     "metadata": {},
     "output_type": "display_data"
    },
    {
     "data": {
      "image/png": "[encoded data removed]",
      "text/plain": [
       "<Figure size 640x480 with 1 Axes>"
      ]
     },
     "metadata": {},
     "output_type": "display_data"
    }
   ],
   "source": [
    "for i in data.iloc[:, 1:]:\n",
    "    sns.boxplot(data = data, x = data[i])\n",
    "    plt.show()"
   ]
  },
  {
   "cell_type": "code",
   "execution_count": 31,
   "id": "588dde38",
   "metadata": {},
   "outputs": [],
   "source": [
    "q1=data.quantile(0.25)\n",
    "q3=data.quantile(0.75)\n",
    "IQR=q3-q1\n",
    "\n",
    "Lower = q1-1.5*IQR\n",
    "Upper = q3+1.5*IQR"
   ]
  },
  {
   "cell_type": "code",
   "execution_count": 32,
   "id": "83dfcf9a",
   "metadata": {},
   "outputs": [
    {
     "data": {
      "image/png": "[encoded data removed]",
      "text/plain": [
       "<Figure size 640x480 with 1 Axes>"
      ]
     },
     "metadata": {},
     "output_type": "display_data"
    },
    {
     "data": {
      "image/png": "[encoded data removed]",
      "text/plain": [
       "<Figure size 640x480 with 1 Axes>"
      ]
     },
     "metadata": {},
     "output_type": "display_data"
    },
    {
     "data": {
      "image/png": "[encoded data removed]",
      "text/plain": [
       "<Figure size 640x480 with 1 Axes>"
      ]
     },
     "metadata": {},
     "output_type": "display_data"
    },
    {
     "data": {
      "image/png": "[encoded data removed]",
      "text/plain": [
       "<Figure size 640x480 with 1 Axes>"
      ]
     },
     "metadata": {},
     "output_type": "display_data"
    },
    {
     "data": {
      "image/png": "[encoded data removed]",
      "text/plain": [
       "<Figure size 640x480 with 1 Axes>"
      ]
     },
     "metadata": {},
     "output_type": "display_data"
    },
    {
     "data": {
      "image/png": "[encoded data removed]",
      "text/plain": [
       "<Figure size 640x480 with 1 Axes>"
      ]
     },
     "metadata": {},
     "output_type": "display_data"
    },
    {
     "data": {
      "image/png": "[encoded data removed]",
      "text/plain": [
       "<Figure size 640x480 with 1 Axes>"
      ]
     },
     "metadata": {},
     "output_type": "display_data"
    },
    {
     "data": {
      "image/png": "[encoded data removed]",
      "text/plain": [
       "<Figure size 640x480 with 1 Axes>"
      ]
     },
     "metadata": {},
     "output_type": "display_data"
    },
    {
     "data": {
      "image/png": "[encoded data removed]",
      "text/plain": [
       "<Figure size 640x480 with 1 Axes>"
      ]
     },
     "metadata": {},
     "output_type": "display_data"
    },
    {
     "data": {
      "image/png": "[encoded data removed]",
      "text/plain": [
       "<Figure size 640x480 with 1 Axes>"
      ]
     },
     "metadata": {},
     "output_type": "display_data"
    },
    {
     "data": {
      "image/png": "[encoded data removed]",
      "text/plain": [
       "<Figure size 640x480 with 1 Axes>"
      ]
     },
     "metadata": {},
     "output_type": "display_data"
    }
   ],
   "source": [
    "for i in data.iloc[:, 1:]:\n",
    "    data[i] = np.where(data[i] > Upper[i],Upper[i],data[i])\n",
    "    data[i] = np.where(data[i] < Lower[i],Lower[i],data[i])\n",
    "    sns.boxplot(data=data,x=data[i])\n",
    "    plt.show()"
   ]
  },
  {
   "cell_type": "code",
   "execution_count": 33,
   "id": "8ff1b688",
   "metadata": {},
   "outputs": [
    {
     "data": {
      "text/plain": [
       "Index(['Status', 'Adult Mortality', ' BMI ', 'Polio', 'Diphtheria ',\n",
       "       ' HIV/AIDS', 'GDP', ' thinness  1-19 years', ' thinness 5-9 years',\n",
       "       'Income composition of resources', 'Schooling', 'Life expectancy '],\n",
       "      dtype='object')"
      ]
     },
     "execution_count": 33,
     "metadata": {},
     "output_type": "execute_result"
    }
   ],
   "source": [
    "data.columns"
   ]
  },
  {
   "cell_type": "code",
   "execution_count": 34,
   "id": "1da30e91",
   "metadata": {},
   "outputs": [
    {
     "data": {
      "text/html": [
       "<div>\n",
       "<style scoped>\n",
       "    .dataframe tbody tr th:only-of-type {\n",
       "        vertical-align: middle;\n",
       "    }\n",
       "\n",
       "    .dataframe tbody tr th {\n",
       "        vertical-align: top;\n",
       "    }\n",
       "\n",
       "    .dataframe thead th {\n",
       "        text-align: right;\n",
       "    }\n",
       "</style>\n",
       "<table border=\"1\" class=\"dataframe\">\n",
       "  <thead>\n",
       "    <tr style=\"text-align: right;\">\n",
       "      <th></th>\n",
       "      <th>VIF</th>\n",
       "      <th>Features</th>\n",
       "    </tr>\n",
       "  </thead>\n",
       "  <tbody>\n",
       "    <tr>\n",
       "      <th>0</th>\n",
       "      <td>4.488139</td>\n",
       "      <td>Status</td>\n",
       "    </tr>\n",
       "    <tr>\n",
       "      <th>1</th>\n",
       "      <td>4.544546</td>\n",
       "      <td>Adult Mortality</td>\n",
       "    </tr>\n",
       "    <tr>\n",
       "      <th>2</th>\n",
       "      <td>3.834789</td>\n",
       "      <td>BMI</td>\n",
       "    </tr>\n",
       "    <tr>\n",
       "      <th>3</th>\n",
       "      <td>2.739104</td>\n",
       "      <td>HIV/AIDS</td>\n",
       "    </tr>\n",
       "    <tr>\n",
       "      <th>4</th>\n",
       "      <td>2.099235</td>\n",
       "      <td>GDP</td>\n",
       "    </tr>\n",
       "  </tbody>\n",
       "</table>\n",
       "</div>"
      ],
      "text/plain": [
       "        VIF         Features\n",
       "0  4.488139           Status\n",
       "1  4.544546  Adult Mortality\n",
       "2  3.834789             BMI \n",
       "3  2.739104         HIV/AIDS\n",
       "4  2.099235              GDP"
      ]
     },
     "execution_count": 34,
     "metadata": {},
     "output_type": "execute_result"
    }
   ],
   "source": [
    "from statsmodels.stats.outliers_influence import variance_inflation_factor\n",
    "\n",
    "variables = data[['Status', 'Adult Mortality', ' BMI ', ' HIV/AIDS', 'GDP']]\n",
    "\n",
    "vif = pd.DataFrame()\n",
    "\n",
    "vif[\"VIF\"] = [variance_inflation_factor(variables.values, i) for i in range(variables.shape[1])]\n",
    "\n",
    "vif[\"Features\"] = variables.columns\n",
    "vif"
   ]
  },
  {
   "cell_type": "code",
   "execution_count": 35,
   "id": "ff45b360",
   "metadata": {},
   "outputs": [
    {
     "data": {
      "text/html": [
       "<div>\n",
       "<style scoped>\n",
       "    .dataframe tbody tr th:only-of-type {\n",
       "        vertical-align: middle;\n",
       "    }\n",
       "\n",
       "    .dataframe tbody tr th {\n",
       "        vertical-align: top;\n",
       "    }\n",
       "\n",
       "    .dataframe thead th {\n",
       "        text-align: right;\n",
       "    }\n",
       "</style>\n",
       "<table border=\"1\" class=\"dataframe\">\n",
       "  <thead>\n",
       "    <tr style=\"text-align: right;\">\n",
       "      <th></th>\n",
       "      <th>Status</th>\n",
       "      <th>Adult Mortality</th>\n",
       "      <th>BMI</th>\n",
       "      <th>HIV/AIDS</th>\n",
       "      <th>GDP</th>\n",
       "      <th>Life expectancy</th>\n",
       "    </tr>\n",
       "  </thead>\n",
       "  <tbody>\n",
       "    <tr>\n",
       "      <th>0</th>\n",
       "      <td>1</td>\n",
       "      <td>263.0</td>\n",
       "      <td>19.1</td>\n",
       "      <td>0.1</td>\n",
       "      <td>584.259210</td>\n",
       "      <td>65.0</td>\n",
       "    </tr>\n",
       "    <tr>\n",
       "      <th>1</th>\n",
       "      <td>1</td>\n",
       "      <td>271.0</td>\n",
       "      <td>18.6</td>\n",
       "      <td>0.1</td>\n",
       "      <td>612.696514</td>\n",
       "      <td>59.9</td>\n",
       "    </tr>\n",
       "    <tr>\n",
       "      <th>2</th>\n",
       "      <td>1</td>\n",
       "      <td>268.0</td>\n",
       "      <td>18.1</td>\n",
       "      <td>0.1</td>\n",
       "      <td>631.744976</td>\n",
       "      <td>59.9</td>\n",
       "    </tr>\n",
       "    <tr>\n",
       "      <th>3</th>\n",
       "      <td>1</td>\n",
       "      <td>272.0</td>\n",
       "      <td>17.6</td>\n",
       "      <td>0.1</td>\n",
       "      <td>669.959000</td>\n",
       "      <td>59.5</td>\n",
       "    </tr>\n",
       "    <tr>\n",
       "      <th>4</th>\n",
       "      <td>1</td>\n",
       "      <td>275.0</td>\n",
       "      <td>17.2</td>\n",
       "      <td>0.1</td>\n",
       "      <td>63.537231</td>\n",
       "      <td>59.2</td>\n",
       "    </tr>\n",
       "  </tbody>\n",
       "</table>\n",
       "</div>"
      ],
      "text/plain": [
       "   Status  Adult Mortality   BMI    HIV/AIDS         GDP  Life expectancy \n",
       "0       1            263.0   19.1        0.1  584.259210              65.0\n",
       "1       1            271.0   18.6        0.1  612.696514              59.9\n",
       "2       1            268.0   18.1        0.1  631.744976              59.9\n",
       "3       1            272.0   17.6        0.1  669.959000              59.5\n",
       "4       1            275.0   17.2        0.1   63.537231              59.2"
      ]
     },
     "execution_count": 35,
     "metadata": {},
     "output_type": "execute_result"
    }
   ],
   "source": [
    "data = data[['Status', 'Adult Mortality', ' BMI ', ' HIV/AIDS', 'GDP', 'Life expectancy ']]\n",
    "data.head()"
   ]
  },
  {
   "cell_type": "markdown",
   "id": "e54bda85",
   "metadata": {},
   "source": [
    "# ---"
   ]
  },
  {
   "cell_type": "code",
   "execution_count": 36,
   "id": "780a750c",
   "metadata": {},
   "outputs": [],
   "source": [
    "x = data[['Status', 'Adult Mortality', ' BMI ', ' HIV/AIDS', 'GDP']]\n",
    "y = data['Life expectancy ']"
   ]
  },
  {
   "cell_type": "code",
   "execution_count": 37,
   "id": "a982a781",
   "metadata": {},
   "outputs": [],
   "source": [
    "from sklearn.preprocessing import StandardScaler\n",
    "scaler = StandardScaler()\n",
    "scaler.fit(x)\n",
    "x_scaled = scaler.transform(x)"
   ]
  },
  {
   "cell_type": "code",
   "execution_count": 38,
   "id": "ca2cc17f",
   "metadata": {},
   "outputs": [],
   "source": [
    "from sklearn.model_selection import train_test_split\n",
    "\n",
    "X_train, X_test, y_train, y_test = train_test_split(x_scaled, y, test_size = 0.2, random_state=42)"
   ]
  },
  {
   "cell_type": "markdown",
   "id": "28639259",
   "metadata": {},
   "source": [
    "# Linear regression"
   ]
  },
  {
   "cell_type": "code",
   "execution_count": 39,
   "id": "d10b0ca6",
   "metadata": {},
   "outputs": [
    {
     "data": {
      "text/plain": [
       "LinearRegression()"
      ]
     },
     "execution_count": 39,
     "metadata": {},
     "output_type": "execute_result"
    }
   ],
   "source": [
    "reg = LinearRegression()\n",
    "# Fit the regression with the scaled TRAIN inputs and targets\n",
    "reg.fit(X_train,y_train)"
   ]
  },
  {
   "cell_type": "code",
   "execution_count": 40,
   "id": "9859eb79",
   "metadata": {},
   "outputs": [
    {
     "data": {
      "text/plain": [
       "69.28222243716144"
      ]
     },
     "execution_count": 40,
     "metadata": {},
     "output_type": "execute_result"
    }
   ],
   "source": [
    "reg.intercept_"
   ]
  },
  {
   "cell_type": "code",
   "execution_count": 41,
   "id": "5a5da9d5",
   "metadata": {},
   "outputs": [
    {
     "data": {
      "text/plain": [
       "array([-1.47154769, -2.41686696,  1.20375654, -4.68986534,  1.31178785])"
      ]
     },
     "execution_count": 41,
     "metadata": {},
     "output_type": "execute_result"
    }
   ],
   "source": [
    "reg.coef_"
   ]
  },
  {
   "cell_type": "code",
   "execution_count": 42,
   "id": "42dce56f",
   "metadata": {},
   "outputs": [],
   "source": [
    "y_pred = reg.predict(X_test)"
   ]
  },
  {
   "cell_type": "code",
   "execution_count": 43,
   "id": "d3808bb9",
   "metadata": {},
   "outputs": [
    {
     "name": "stdout",
     "output_type": "stream",
     "text": [
      "The model performance for testing set\n",
      "--------------------------------------\n",
      "MAE is 3.2237277669198448\n",
      "MSE is 18.170178270480143\n",
      "RMSE is 4.262649208002007\n",
      "R2 score is 0.7899619324107421\n"
     ]
    }
   ],
   "source": [
    "from sklearn import metrics\n",
    "\n",
    "mae = metrics.mean_absolute_error(y_test, y_pred)\n",
    "mse = metrics.mean_squared_error(y_test, y_pred)\n",
    "rmse = np.sqrt(mse)\n",
    "r2 = metrics.r2_score(y_test, y_pred)\n",
    "\n",
    "print(\"The model performance for testing set\")\n",
    "print(\"--------------------------------------\")\n",
    "print('MAE is {}'.format(mae))\n",
    "print('MSE is {}'.format(mse))\n",
    "print('RMSE is {}'.format(rmse))\n",
    "print('R2 score is {}'.format(r2))"
   ]
  },
  {
   "cell_type": "code",
   "execution_count": 44,
   "id": "2826a47a",
   "metadata": {},
   "outputs": [
    {
     "data": {
      "text/html": [
       "<div>\n",
       "<style scoped>\n",
       "    .dataframe tbody tr th:only-of-type {\n",
       "        vertical-align: middle;\n",
       "    }\n",
       "\n",
       "    .dataframe tbody tr th {\n",
       "        vertical-align: top;\n",
       "    }\n",
       "\n",
       "    .dataframe thead th {\n",
       "        text-align: right;\n",
       "    }\n",
       "</style>\n",
       "<table border=\"1\" class=\"dataframe\">\n",
       "  <thead>\n",
       "    <tr style=\"text-align: right;\">\n",
       "      <th></th>\n",
       "      <th>Prediction</th>\n",
       "    </tr>\n",
       "  </thead>\n",
       "  <tbody>\n",
       "    <tr>\n",
       "      <th>0</th>\n",
       "      <td>2.261603e+31</td>\n",
       "    </tr>\n",
       "    <tr>\n",
       "      <th>1</th>\n",
       "      <td>2.287696e+34</td>\n",
       "    </tr>\n",
       "    <tr>\n",
       "      <th>2</th>\n",
       "      <td>9.807921e+31</td>\n",
       "    </tr>\n",
       "    <tr>\n",
       "      <th>3</th>\n",
       "      <td>2.650198e+34</td>\n",
       "    </tr>\n",
       "    <tr>\n",
       "      <th>4</th>\n",
       "      <td>2.348474e+22</td>\n",
       "    </tr>\n",
       "  </tbody>\n",
       "</table>\n",
       "</div>"
      ],
      "text/plain": [
       "     Prediction\n",
       "0  2.261603e+31\n",
       "1  2.287696e+34\n",
       "2  9.807921e+31\n",
       "3  2.650198e+34\n",
       "4  2.348474e+22"
      ]
     },
     "execution_count": 44,
     "metadata": {},
     "output_type": "execute_result"
    }
   ],
   "source": [
    "df_pf = pd.DataFrame(np.exp(y_pred), columns=['Prediction'])\n",
    "df_pf.head()"
   ]
  },
  {
   "cell_type": "code",
   "execution_count": 45,
   "id": "9c2b55ae",
   "metadata": {},
   "outputs": [
    {
     "data": {
      "text/plain": [
       "0    73.7\n",
       "1    75.9\n",
       "2    74.2\n",
       "3    76.8\n",
       "4    51.9\n",
       "Name: Life expectancy , dtype: float64"
      ]
     },
     "execution_count": 45,
     "metadata": {},
     "output_type": "execute_result"
    }
   ],
   "source": [
    "y_test = y_test.reset_index(drop=True)\n",
    "\n",
    "y_test.head()"
   ]
  },
  {
   "cell_type": "code",
   "execution_count": 46,
   "id": "9c44613d",
   "metadata": {},
   "outputs": [
    {
     "data": {
      "text/html": [
       "<div>\n",
       "<style scoped>\n",
       "    .dataframe tbody tr th:only-of-type {\n",
       "        vertical-align: middle;\n",
       "    }\n",
       "\n",
       "    .dataframe tbody tr th {\n",
       "        vertical-align: top;\n",
       "    }\n",
       "\n",
       "    .dataframe thead th {\n",
       "        text-align: right;\n",
       "    }\n",
       "</style>\n",
       "<table border=\"1\" class=\"dataframe\">\n",
       "  <thead>\n",
       "    <tr style=\"text-align: right;\">\n",
       "      <th></th>\n",
       "      <th>Prediction</th>\n",
       "      <th>Target</th>\n",
       "    </tr>\n",
       "  </thead>\n",
       "  <tbody>\n",
       "    <tr>\n",
       "      <th>0</th>\n",
       "      <td>2.261603e+31</td>\n",
       "      <td>1.017427e+32</td>\n",
       "    </tr>\n",
       "    <tr>\n",
       "      <th>1</th>\n",
       "      <td>2.287696e+34</td>\n",
       "      <td>9.182294e+32</td>\n",
       "    </tr>\n",
       "    <tr>\n",
       "      <th>2</th>\n",
       "      <td>9.807921e+31</td>\n",
       "      <td>1.677454e+32</td>\n",
       "    </tr>\n",
       "    <tr>\n",
       "      <th>3</th>\n",
       "      <td>2.650198e+34</td>\n",
       "      <td>2.258480e+33</td>\n",
       "    </tr>\n",
       "    <tr>\n",
       "      <th>4</th>\n",
       "      <td>2.348474e+22</td>\n",
       "      <td>3.466439e+22</td>\n",
       "    </tr>\n",
       "  </tbody>\n",
       "</table>\n",
       "</div>"
      ],
      "text/plain": [
       "     Prediction        Target\n",
       "0  2.261603e+31  1.017427e+32\n",
       "1  2.287696e+34  9.182294e+32\n",
       "2  9.807921e+31  1.677454e+32\n",
       "3  2.650198e+34  2.258480e+33\n",
       "4  2.348474e+22  3.466439e+22"
      ]
     },
     "execution_count": 46,
     "metadata": {},
     "output_type": "execute_result"
    }
   ],
   "source": [
    "df_pf['Target'] = np.exp(y_test)\n",
    "df_pf.head()"
   ]
  },
  {
   "cell_type": "markdown",
   "id": "98692038",
   "metadata": {},
   "source": [
    "# Decision tree"
   ]
  },
  {
   "cell_type": "code",
   "execution_count": 47,
   "id": "37fca1a3",
   "metadata": {},
   "outputs": [],
   "source": [
    "from sklearn.tree import DecisionTreeRegressor"
   ]
  },
  {
   "cell_type": "code",
   "execution_count": 48,
   "id": "b83146c3",
   "metadata": {},
   "outputs": [],
   "source": [
    "from sklearn.preprocessing import StandardScaler\n",
    "scaler = StandardScaler()\n",
    "scaler.fit(x)\n",
    "x_scaled = scaler.transform(x)"
   ]
  },
  {
   "cell_type": "code",
   "execution_count": 49,
   "id": "86918a6c",
   "metadata": {},
   "outputs": [],
   "source": [
    "from sklearn.model_selection import train_test_split\n",
    "X_train, X_test, y_train, y_test = train_test_split(x_scaled, y, test_size = 0.2, random_state=42)"
   ]
  },
  {
   "cell_type": "code",
   "execution_count": 50,
   "id": "75c50b16",
   "metadata": {},
   "outputs": [],
   "source": [
    "reg = DecisionTreeRegressor()"
   ]
  },
  {
   "cell_type": "code",
   "execution_count": 51,
   "id": "78326806",
   "metadata": {},
   "outputs": [
    {
     "data": {
      "text/plain": [
       "DecisionTreeRegressor()"
      ]
     },
     "execution_count": 51,
     "metadata": {},
     "output_type": "execute_result"
    }
   ],
   "source": [
    "reg.fit(X_train,y_train)"
   ]
  },
  {
   "cell_type": "code",
   "execution_count": 52,
   "id": "85415b03",
   "metadata": {},
   "outputs": [],
   "source": [
    "y_pred = reg.predict(X_test)"
   ]
  },
  {
   "cell_type": "code",
   "execution_count": 53,
   "id": "8b6b9710",
   "metadata": {},
   "outputs": [
    {
     "name": "stdout",
     "output_type": "stream",
     "text": [
      "The model performance for testing set\n",
      "--------------------------------------\n",
      "MAE is 2.1159866268911935\n",
      "MSE is 10.039227328941443\n",
      "RMSE is 3.1684739747931405\n",
      "R2 score is 0.8839516114332318\n"
     ]
    }
   ],
   "source": [
    "from sklearn import metrics\n",
    "\n",
    "mae = metrics.mean_absolute_error(y_test, y_pred)\n",
    "mse = metrics.mean_squared_error(y_test, y_pred)\n",
    "rmse = np.sqrt(mse)\n",
    "r2 = metrics.r2_score(y_test, y_pred)\n",
    "\n",
    "print(\"The model performance for testing set\")\n",
    "print(\"--------------------------------------\")\n",
    "print('MAE is {}'.format(mae))\n",
    "print('MSE is {}'.format(mse))\n",
    "print('RMSE is {}'.format(rmse))\n",
    "print('R2 score is {}'.format(r2))"
   ]
  },
  {
   "cell_type": "markdown",
   "id": "b22d8476",
   "metadata": {},
   "source": [
    "# Random forest"
   ]
  },
  {
   "cell_type": "code",
   "execution_count": 54,
   "id": "46f1841b",
   "metadata": {},
   "outputs": [],
   "source": [
    "from sklearn.ensemble import RandomForestRegressor\n",
    "regRF = RandomForestRegressor(n_estimators = 10)"
   ]
  },
  {
   "cell_type": "code",
   "execution_count": 55,
   "id": "d9c4dec3",
   "metadata": {},
   "outputs": [
    {
     "data": {
      "text/plain": [
       "RandomForestRegressor(n_estimators=10)"
      ]
     },
     "execution_count": 55,
     "metadata": {},
     "output_type": "execute_result"
    }
   ],
   "source": [
    "regRF.fit(X_train,y_train)"
   ]
  },
  {
   "cell_type": "code",
   "execution_count": 56,
   "id": "64e75afc",
   "metadata": {},
   "outputs": [],
   "source": [
    "y_predRF = regRF.predict(X_test)"
   ]
  },
  {
   "cell_type": "code",
   "execution_count": 57,
   "id": "7cbae537",
   "metadata": {},
   "outputs": [
    {
     "name": "stdout",
     "output_type": "stream",
     "text": [
      "The model performance for testing set\n",
      "--------------------------------------\n",
      "MAE is 1.7029958873674373\n",
      "MSE is 6.233259904379576\n",
      "RMSE is 2.496649736022171\n",
      "R2 score is 0.9279466692286397\n"
     ]
    }
   ],
   "source": [
    "from sklearn import metrics\n",
    "\n",
    "mae = metrics.mean_absolute_error(y_test, y_predRF)\n",
    "mse = metrics.mean_squared_error(y_test, y_predRF)\n",
    "rmse = np.sqrt(mse)\n",
    "r2 = metrics.r2_score(y_test, y_predRF)\n",
    "\n",
    "print(\"The model performance for testing set\")\n",
    "print(\"--------------------------------------\")\n",
    "print('MAE is {}'.format(mae))\n",
    "print('MSE is {}'.format(mse))\n",
    "print('RMSE is {}'.format(rmse))\n",
    "print('R2 score is {}'.format(r2))"
   ]
  },
  {
   "cell_type": "code",
   "execution_count": 58,
   "id": "d740aa62",
   "metadata": {},
   "outputs": [
    {
     "name": "stdout",
     "output_type": "stream",
     "text": [
      "{'n_estimators': [200, 400, 600, 800, 1000, 1200, 1400, 1600, 1800, 2000], 'max_features': ['auto', 'sqrt'], 'max_depth': [10, 20, 30, 40, 50, 60, 70, 80, 90, 100, 110], 'min_samples_split': [2, 5, 10], 'min_samples_leaf': [1, 2, 4]}\n"
     ]
    }
   ],
   "source": [
    "from sklearn.model_selection import RandomizedSearchCV\n",
    "# Number of trees in random forest\n",
    "n_estimators = [int(x) for x in np.linspace(start = 200, stop = 2000, num = 10)]\n",
    "# Number of features to consider at every split\n",
    "max_features = ['auto', 'sqrt']\n",
    "# Maximum number of levels in tree\n",
    "max_depth = [int(x) for x in np.linspace(10, 110, num = 11)]\n",
    "# Minimum number of samples required to split a node\n",
    "min_samples_split = [2, 5, 10]\n",
    "# Minimum number of samples required at each leaf node\n",
    "min_samples_leaf = [1, 2, 4]\n",
    "\n",
    "\n",
    "# Create the random grid\n",
    "random_grid = {'n_estimators': n_estimators,\n",
    "               'max_features': max_features,\n",
    "               'max_depth': max_depth,\n",
    "               'min_samples_split': min_samples_split,\n",
    "               'min_samples_leaf': min_samples_leaf}\n",
    "print(random_grid)    "
   ]
  },
  {
   "cell_type": "code",
   "execution_count": 59,
   "id": "94611057",
   "metadata": {},
   "outputs": [
    {
     "name": "stdout",
     "output_type": "stream",
     "text": [
      "Fitting 3 folds for each of 50 candidates, totalling 150 fits\n"
     ]
    },
    {
     "data": {
      "text/plain": [
       "RandomizedSearchCV(cv=3, estimator=RandomForestRegressor(n_estimators=10),\n",
       "                   n_iter=50, n_jobs=-1,\n",
       "                   param_distributions={'max_depth': [10, 20, 30, 40, 50, 60,\n",
       "                                                      70, 80, 90, 100, 110],\n",
       "                                        'max_features': ['auto', 'sqrt'],\n",
       "                                        'min_samples_leaf': [1, 2, 4],\n",
       "                                        'min_samples_split': [2, 5, 10],\n",
       "                                        'n_estimators': [200, 400, 600, 800,\n",
       "                                                         1000, 1200, 1400, 1600,\n",
       "                                                         1800, 2000]},\n",
       "                   random_state=42, verbose=1)"
      ]
     },
     "execution_count": 59,
     "metadata": {},
     "output_type": "execute_result"
    }
   ],
   "source": [
    "rf_random = RandomizedSearchCV(estimator = regRF, param_distributions = random_grid, n_iter = 50, cv = 3, verbose=1, random_state=42, n_jobs = -1)\n",
    "# Fit the random search model\n",
    "rf_random.fit(X_train, y_train)"
   ]
  },
  {
   "cell_type": "code",
   "execution_count": 60,
   "id": "2e8bc694",
   "metadata": {},
   "outputs": [
    {
     "data": {
      "text/plain": [
       "{'n_estimators': 200,\n",
       " 'min_samples_split': 2,\n",
       " 'min_samples_leaf': 1,\n",
       " 'max_features': 'sqrt',\n",
       " 'max_depth': 70}"
      ]
     },
     "execution_count": 60,
     "metadata": {},
     "output_type": "execute_result"
    }
   ],
   "source": [
    "rf_random.best_params_"
   ]
  },
  {
   "cell_type": "code",
   "execution_count": 61,
   "id": "a874a5c1",
   "metadata": {},
   "outputs": [],
   "source": [
    "optimizedmodel = RandomForestRegressor(n_estimators = 1800, min_samples_split = 2, min_samples_leaf = 1, max_features = 'sqrt', max_depth = 90)"
   ]
  },
  {
   "cell_type": "code",
   "execution_count": 62,
   "id": "e0806752",
   "metadata": {},
   "outputs": [
    {
     "data": {
      "text/plain": [
       "RandomForestRegressor(max_depth=90, max_features='sqrt', n_estimators=1800)"
      ]
     },
     "execution_count": 62,
     "metadata": {},
     "output_type": "execute_result"
    }
   ],
   "source": [
    "optimizedmodel.fit(X_train, y_train)\n"
   ]
  },
  {
   "cell_type": "code",
   "execution_count": 63,
   "id": "6e8d1874",
   "metadata": {},
   "outputs": [],
   "source": [
    "y_pred = optimizedmodel.predict(X_test)"
   ]
  },
  {
   "cell_type": "code",
   "execution_count": 64,
   "id": "e3b1d00a",
   "metadata": {},
   "outputs": [
    {
     "name": "stdout",
     "output_type": "stream",
     "text": [
      "The model performance for testing set\n",
      "--------------------------------------\n",
      "MAE is 1.553935950580147\n",
      "MSE is 4.921100492271456\n",
      "RMSE is 2.2183553575276114\n",
      "R2 score is 0.9431145681444143\n"
     ]
    }
   ],
   "source": [
    "from sklearn import metrics\n",
    "\n",
    "mae = metrics.mean_absolute_error(y_test, y_pred)\n",
    "mse = metrics.mean_squared_error(y_test, y_pred)\n",
    "rmse = np.sqrt(mse)\n",
    "r2 = metrics.r2_score(y_test, y_pred)\n",
    "\n",
    "print(\"The model performance for testing set\")\n",
    "print(\"--------------------------------------\")\n",
    "print('MAE is {}'.format(mae))\n",
    "print('MSE is {}'.format(mse))\n",
    "print('RMSE is {}'.format(rmse))\n",
    "print('R2 score is {}'.format(r2))"
   ]
  },
  {
   "cell_type": "markdown",
   "id": "8bab4ca2",
   "metadata": {},
   "source": [
    "# SVM"
   ]
  },
  {
   "cell_type": "code",
   "execution_count": 65,
   "id": "4293de9a",
   "metadata": {},
   "outputs": [],
   "source": [
    "from sklearn import metrics\n",
    "\n",
    "def evaluate(model, X_test, y_test):\n",
    "    y_pred = model.predict(X_test)\n",
    "    mae = metrics.mean_absolute_error(y_test, y_pred)\n",
    "    mse = metrics.mean_squared_error(y_test, y_pred)\n",
    "    rmse = np.sqrt(mse)\n",
    "    r2 = metrics.r2_score(y_test, y_pred)\n",
    "    print('Model Performance')\n",
    "    print('Accuracy is', r2*100, '%')\n",
    "    \n",
    "    return mae\n",
    "    return mse\n",
    "    return rmse\n",
    "    return r2"
   ]
  },
  {
   "cell_type": "code",
   "execution_count": 66,
   "id": "9ed0d563",
   "metadata": {},
   "outputs": [],
   "source": [
    "from sklearn.model_selection import train_test_split\n",
    "\n",
    "x_train, x_test, y_train, y_test = train_test_split(x_scaled, y, test_size=0.2, random_state=42)"
   ]
  },
  {
   "cell_type": "code",
   "execution_count": 67,
   "id": "d00417e6",
   "metadata": {},
   "outputs": [
    {
     "name": "stdout",
     "output_type": "stream",
     "text": [
      "Model Performance\n",
      "Accuracy is 88.8133860525119 %\n"
     ]
    }
   ],
   "source": [
    "from sklearn.svm import SVR\n",
    "\n",
    "base_model = SVR()\n",
    "base_model.fit(x_train, y_train)\n",
    "base_accuracy = evaluate(base_model, x_test, y_test)"
   ]
  },
  {
   "cell_type": "code",
   "execution_count": 68,
   "id": "ab5513e2",
   "metadata": {},
   "outputs": [
    {
     "name": "stdout",
     "output_type": "stream",
     "text": [
      "{'kernel': ['linear', 'poly', 'rbf', 'sigmoid'], 'gamma': ['scale', 'auto'], 'C': [1, 10, 100, 1000.0, 10000.0, 100000.0, 1000000.0], 'epsilon': [0.1, 0.01, 0.001, 0.0001]}\n"
     ]
    }
   ],
   "source": [
    "from sklearn.model_selection import RandomizedSearchCV\n",
    "\n",
    "kernel = ['linear', 'poly', 'rbf', 'sigmoid']\n",
    "# kernel trick\n",
    "\n",
    "gamma = ['scale', 'auto'] \n",
    "#Kernel coefficient for ‘rbf’, ‘poly’ and ‘sigmoid’.\n",
    "\n",
    "#if gamma='scale' (default) is passed then it uses 1 / (n_features * X.var()) as value of gamma\n",
    "#if ‘auto’, uses 1 / n_features.\n",
    "\n",
    "C = [1, 10, 100, 1e3, 1e4, 1e5, 1e6]\n",
    "# Must be strictly positive.\n",
    "\n",
    "epsilon = [0.1 , 0.01, 0.001, 0.0001]\n",
    "\n",
    "\n",
    "# Create the random grid\n",
    "random_grid = {'kernel': kernel,\n",
    "               'gamma': gamma,\n",
    "               'C': C,\n",
    "               'epsilon': epsilon}\n",
    "print(random_grid)"
   ]
  },
  {
   "cell_type": "code",
   "execution_count": 69,
   "id": "3be439d8",
   "metadata": {},
   "outputs": [
    {
     "name": "stdout",
     "output_type": "stream",
     "text": [
      "Fitting 3 folds for each of 3 candidates, totalling 9 fits\n"
     ]
    },
    {
     "data": {
      "text/plain": [
       "RandomizedSearchCV(cv=3, estimator=SVR(), n_iter=3, n_jobs=-1,\n",
       "                   param_distributions={'C': [1, 10, 100, 1000.0, 10000.0,\n",
       "                                              100000.0, 1000000.0],\n",
       "                                        'epsilon': [0.1, 0.01, 0.001, 0.0001],\n",
       "                                        'gamma': ['scale', 'auto'],\n",
       "                                        'kernel': ['linear', 'poly', 'rbf',\n",
       "                                                   'sigmoid']},\n",
       "                   verbose=1)"
      ]
     },
     "execution_count": 69,
     "metadata": {},
     "output_type": "execute_result"
    }
   ],
   "source": [
    "svr_random = RandomizedSearchCV(estimator = base_model, param_distributions = random_grid, n_iter = 3, cv = 3, verbose=1, n_jobs = -1)\n",
    "# Fit the random search model\n",
    "svr_random.fit(x_train, y_train)"
   ]
  },
  {
   "cell_type": "code",
   "execution_count": 70,
   "id": "d3a624a5",
   "metadata": {},
   "outputs": [
    {
     "data": {
      "text/plain": [
       "{'kernel': 'rbf', 'gamma': 'auto', 'epsilon': 0.1, 'C': 10}"
      ]
     },
     "execution_count": 70,
     "metadata": {},
     "output_type": "execute_result"
    }
   ],
   "source": [
    "svr_random.best_params_"
   ]
  },
  {
   "cell_type": "code",
   "execution_count": 71,
   "id": "0297b1f7",
   "metadata": {},
   "outputs": [
    {
     "name": "stdout",
     "output_type": "stream",
     "text": [
      "Model Performance\n",
      "Accuracy is 90.03935356099795 %\n"
     ]
    }
   ],
   "source": [
    "optimized_model = svr_random.best_estimator_\n",
    "optmized_accuracy = evaluate(optimized_model, x_test, y_test)"
   ]
  },
  {
   "cell_type": "markdown",
   "id": "3f180a4b",
   "metadata": {},
   "source": [
    "# KNN"
   ]
  },
  {
   "cell_type": "code",
   "execution_count": 72,
   "id": "1ddc520c",
   "metadata": {},
   "outputs": [],
   "source": [
    "from sklearn.model_selection import train_test_split\n",
    "\n",
    "X_train, X_test, y_train, y_test = train_test_split(x_scaled, y, test_size=0.3, random_state=42)"
   ]
  },
  {
   "cell_type": "code",
   "execution_count": 73,
   "id": "8d2261c0",
   "metadata": {},
   "outputs": [],
   "source": [
    "from sklearn import metrics\n",
    "\n",
    "def evaluate(model, X_test, y_test):\n",
    "    y_pred = model.predict(X_test)\n",
    "    mae = metrics.mean_absolute_error(y_test, y_pred)\n",
    "    mse = metrics.mean_squared_error(y_test, y_pred)\n",
    "    rmse = np.sqrt(mse)\n",
    "    r2 = (metrics.r2_score(y_test, y_pred))*100\n",
    "    print('Model Performance')\n",
    "    print('rmse is', rmse)\n",
    "    print('Accuracy is', r2.round(4), '%')\n",
    "    \n",
    "    return rmse\n",
    "    return r2"
   ]
  },
  {
   "cell_type": "code",
   "execution_count": 74,
   "id": "6d266041",
   "metadata": {},
   "outputs": [
    {
     "data": {
      "text/plain": [
       "KNeighborsRegressor()"
      ]
     },
     "execution_count": 74,
     "metadata": {},
     "output_type": "execute_result"
    }
   ],
   "source": [
    "from sklearn.neighbors import KNeighborsRegressor\n",
    "\n",
    "base_model = KNeighborsRegressor()\n",
    "base_model.fit(X_train, y_train)"
   ]
  },
  {
   "cell_type": "code",
   "execution_count": 75,
   "id": "b8d2f5bd",
   "metadata": {},
   "outputs": [
    {
     "name": "stdout",
     "output_type": "stream",
     "text": [
      "Model Performance\n",
      "rmse is 2.702854619520226\n",
      "Accuracy is 92.1177 %\n"
     ]
    }
   ],
   "source": [
    "base_accuracy = evaluate(base_model, X_test, y_test)"
   ]
  },
  {
   "cell_type": "code",
   "execution_count": 76,
   "id": "8496babe",
   "metadata": {},
   "outputs": [
    {
     "name": "stdout",
     "output_type": "stream",
     "text": [
      "RMSE value for k=  1 is: 2.902354817523619\n",
      "RMSE value for k=  2 is: 2.719424784083932\n",
      "RMSE value for k=  3 is: 2.6509193448996213\n",
      "RMSE value for k=  4 is: 2.697972738624289\n",
      "RMSE value for k=  5 is: 2.702854619520226\n",
      "RMSE value for k=  6 is: 2.737977700132292\n",
      "RMSE value for k=  7 is: 2.7634168281996168\n",
      "RMSE value for k=  8 is: 2.788494499407201\n",
      "RMSE value for k=  9 is: 2.808958656397703\n",
      "RMSE value for k=  10 is: 2.8222309739629745\n",
      "RMSE value for k=  11 is: 2.83299207944473\n",
      "RMSE value for k=  12 is: 2.8443186232844697\n",
      "RMSE value for k=  13 is: 2.8499789729796317\n",
      "RMSE value for k=  14 is: 2.8574536830517934\n",
      "RMSE value for k=  15 is: 2.8795978878764767\n",
      "RMSE value for k=  16 is: 2.9061117397003926\n",
      "RMSE value for k=  17 is: 2.913123304938057\n",
      "RMSE value for k=  18 is: 2.929485314962086\n",
      "RMSE value for k=  19 is: 2.9372550800276733\n",
      "RMSE value for k=  20 is: 2.951304940380344\n"
     ]
    }
   ],
   "source": [
    "from sklearn import neighbors\n",
    "from sklearn.metrics import mean_squared_error \n",
    "from math import sqrt\n",
    "\n",
    "rmse_val = [] #to store rmse values for different k\n",
    "\n",
    "for K in range(20):\n",
    "    K = K+1\n",
    "    model = neighbors.KNeighborsRegressor(n_neighbors = K)\n",
    "\n",
    "    model.fit(X_train, y_train)  #fit the model\n",
    "    y1_pred=model.predict(X_test) #make prediction on test set\n",
    "    \n",
    "    error = sqrt(mean_squared_error(y_test,y1_pred)) #calculate rmse\n",
    "    rmse_val.append(error) #store rmse values\n",
    "    \n",
    "    print('RMSE value for k= ' , K , 'is:', error)"
   ]
  },
  {
   "cell_type": "code",
   "execution_count": 77,
   "id": "700897cb",
   "metadata": {},
   "outputs": [
    {
     "data": {
      "text/plain": [
       "[2.902354817523619,\n",
       " 2.719424784083932,\n",
       " 2.6509193448996213,\n",
       " 2.697972738624289,\n",
       " 2.702854619520226,\n",
       " 2.737977700132292,\n",
       " 2.7634168281996168,\n",
       " 2.788494499407201,\n",
       " 2.808958656397703,\n",
       " 2.8222309739629745,\n",
       " 2.83299207944473,\n",
       " 2.8443186232844697,\n",
       " 2.8499789729796317,\n",
       " 2.8574536830517934,\n",
       " 2.8795978878764767,\n",
       " 2.9061117397003926,\n",
       " 2.913123304938057,\n",
       " 2.929485314962086,\n",
       " 2.9372550800276733,\n",
       " 2.951304940380344]"
      ]
     },
     "execution_count": 77,
     "metadata": {},
     "output_type": "execute_result"
    }
   ],
   "source": [
    "rmse_val"
   ]
  },
  {
   "cell_type": "code",
   "execution_count": 78,
   "id": "f1ea1ef9",
   "metadata": {},
   "outputs": [
    {
     "name": "stdout",
     "output_type": "stream",
     "text": [
      "Optimal Neighbor is  3  min rmse is 2.6509193448996213\n"
     ]
    }
   ],
   "source": [
    "min_rmse = min(rmse_val)\n",
    "min_rmse_index = rmse_val.index(min_rmse) + 1\n",
    "\n",
    "\n",
    "print('Optimal Neighbor is ',min_rmse_index,' min rmse is', min_rmse) "
   ]
  },
  {
   "cell_type": "code",
   "execution_count": 79,
   "id": "c7b40309",
   "metadata": {},
   "outputs": [
    {
     "name": "stdout",
     "output_type": "stream",
     "text": [
      "Model Performance\n",
      "rmse is 2.6509193448996213\n",
      "Accuracy is 92.4177 %\n"
     ]
    }
   ],
   "source": [
    "min_rmse_model = KNeighborsRegressor(n_neighbors=3)\n",
    "min_rmse_model.fit(X_train, y_train)\n",
    "min_rmse_accuracy = evaluate(min_rmse_model, X_test, y_test)"
   ]
  },
  {
   "cell_type": "code",
   "execution_count": 80,
   "id": "34cd5284",
   "metadata": {},
   "outputs": [
    {
     "data": {
      "text/plain": [
       "<AxesSubplot:>"
      ]
     },
     "execution_count": 80,
     "metadata": {},
     "output_type": "execute_result"
    },
    {
     "data": {
      "image/png": "[encoded data removed]",
      "text/plain": [
       "<Figure size 640x480 with 1 Axes>"
      ]
     },
     "metadata": {},
     "output_type": "display_data"
    }
   ],
   "source": [
    "curve = pd.DataFrame(rmse_val)\n",
    "curve.plot()"
   ]
  },
  {
   "cell_type": "code",
   "execution_count": 81,
   "id": "8113b7c0",
   "metadata": {},
   "outputs": [
    {
     "data": {
      "text/plain": [
       "{'n_neighbors': 3}"
      ]
     },
     "execution_count": 81,
     "metadata": {},
     "output_type": "execute_result"
    }
   ],
   "source": [
    "from sklearn.model_selection import GridSearchCV\n",
    "params = {'n_neighbors':[2,3,4,5,6,7,8,9]}\n",
    "\n",
    "knn = neighbors.KNeighborsRegressor()\n",
    "\n",
    "model = GridSearchCV(knn, params, cv=5)\n",
    "model.fit(X_train,y_train)\n",
    "model.best_params_\n"
   ]
  },
  {
   "cell_type": "code",
   "execution_count": 82,
   "id": "a15480e0",
   "metadata": {},
   "outputs": [
    {
     "name": "stdout",
     "output_type": "stream",
     "text": [
      "{'n_neighbors': [1, 2, 3, 4, 5, 6, 7, 8, 9, 10, 11, 12, 13, 14, 15, 16, 17, 18, 19, 20], 'weights': ['uniform', 'distance']}\n"
     ]
    }
   ],
   "source": [
    "from sklearn.model_selection import RandomizedSearchCV\n",
    "\n",
    "neighbors = [int(x) for x in np.linspace(start = 1, stop = 20, num = 20)]\n",
    "weight  = ['uniform','distance']\n",
    "\n",
    "\n",
    "# Create the random grid\n",
    "random_grid = {'n_neighbors': neighbors,\n",
    "               'weights': weight}\n",
    "print(random_grid)"
   ]
  },
  {
   "cell_type": "code",
   "execution_count": 83,
   "id": "504f8dc5",
   "metadata": {},
   "outputs": [
    {
     "name": "stdout",
     "output_type": "stream",
     "text": [
      "Fitting 3 folds for each of 40 candidates, totalling 120 fits\n"
     ]
    },
    {
     "name": "stderr",
     "output_type": "stream",
     "text": [
      "D:\\anaconda\\lib\\site-packages\\sklearn\\model_selection\\_search.py:292: UserWarning: The total space of parameters 40 is smaller than n_iter=100. Running 40 iterations. For exhaustive searches, use GridSearchCV.\n",
      "  warnings.warn(\n"
     ]
    },
    {
     "data": {
      "text/plain": [
       "RandomizedSearchCV(cv=3, estimator=KNeighborsRegressor(), n_iter=100, n_jobs=-1,\n",
       "                   param_distributions={'n_neighbors': [1, 2, 3, 4, 5, 6, 7, 8,\n",
       "                                                        9, 10, 11, 12, 13, 14,\n",
       "                                                        15, 16, 17, 18, 19,\n",
       "                                                        20],\n",
       "                                        'weights': ['uniform', 'distance']},\n",
       "                   verbose=1)"
      ]
     },
     "execution_count": 83,
     "metadata": {},
     "output_type": "execute_result"
    }
   ],
   "source": [
    "knn_random = RandomizedSearchCV(estimator = base_model, param_distributions = random_grid, n_iter = 100, cv = 3, verbose=1, n_jobs = -1)\n",
    "# Fit the random search model\n",
    "knn_random.fit(X_train, y_train)"
   ]
  },
  {
   "cell_type": "code",
   "execution_count": 84,
   "id": "bd03d966",
   "metadata": {},
   "outputs": [
    {
     "data": {
      "text/plain": [
       "{'weights': 'distance', 'n_neighbors': 9}"
      ]
     },
     "execution_count": 84,
     "metadata": {},
     "output_type": "execute_result"
    }
   ],
   "source": [
    "knn_random.best_params_"
   ]
  },
  {
   "cell_type": "code",
   "execution_count": 85,
   "id": "9fb06c4c",
   "metadata": {},
   "outputs": [
    {
     "name": "stdout",
     "output_type": "stream",
     "text": [
      "Model Performance\n",
      "rmse is 2.573838820510765\n",
      "Accuracy is 92.8523 %\n"
     ]
    }
   ],
   "source": [
    "optimized_model = knn_random.best_estimator_\n",
    "optmized_accuracy = evaluate(optimized_model, X_test, y_test)"
   ]
  },
  {
   "cell_type": "markdown",
   "id": "2a72c245",
   "metadata": {},
   "source": [
    "## Modified KNN"
   ]
  },
  {
   "cell_type": "code",
   "execution_count": 87,
   "id": "d0658b34",
   "metadata": {},
   "outputs": [],
   "source": [
    "from sklearn.preprocessing import StandardScaler\n",
    "scaler = StandardScaler()\n",
    "scaler.fit(x)\n",
    "x_scaled = scaler.transform(x)"
   ]
  },
  {
   "cell_type": "code",
   "execution_count": 88,
   "id": "52ee1d1a",
   "metadata": {},
   "outputs": [],
   "source": [
    "from sklearn.model_selection import train_test_split\n",
    "\n",
    "x_train, x_test, y_train, y_test = train_test_split(x_scaled, y, test_size=0.2, random_state=42)"
   ]
  },
  {
   "cell_type": "code",
   "execution_count": 89,
   "id": "32520161",
   "metadata": {},
   "outputs": [],
   "source": [
    "from sklearn import metrics\n",
    "\n",
    "def evaluate(model, X_test, y_test):\n",
    "    y_pred = model.predict(X_test)\n",
    "    mae = metrics.mean_absolute_error(y_test, y_pred)\n",
    "    mse = metrics.mean_squared_error(y_test, y_pred)\n",
    "    rmse = np.sqrt(mse)\n",
    "    r2 = (metrics.r2_score(y_test, y_pred))*100\n",
    "    print('Model Performance')\n",
    "    print('rmse is', rmse)\n",
    "    print('Accuracy is', r2.round(4), '%')\n",
    "    \n",
    "    return rmse\n",
    "    return r2"
   ]
  },
  {
   "cell_type": "code",
   "execution_count": 90,
   "id": "577e1c97",
   "metadata": {},
   "outputs": [
    {
     "name": "stdout",
     "output_type": "stream",
     "text": [
      "Model Performance\n",
      "rmse is 2.614414242226952\n",
      "Accuracy is 92.0989 %\n"
     ]
    }
   ],
   "source": [
    "from sklearn.neighbors import KNeighborsRegressor\n",
    "\n",
    "base_model = KNeighborsRegressor()\n",
    "base_model.fit(x_train, y_train)\n",
    "base_accuracy = evaluate(base_model, x_test, y_test)"
   ]
  },
  {
   "cell_type": "code",
   "execution_count": 91,
   "id": "fd6bab86",
   "metadata": {},
   "outputs": [
    {
     "name": "stdout",
     "output_type": "stream",
     "text": [
      "RMSE value for k=  1 is: 2.95092225869655\n",
      "RMSE value for k=  2 is: 2.6017353415477853\n",
      "RMSE value for k=  3 is: 2.5066649766167797\n",
      "RMSE value for k=  4 is: 2.590729120603347\n",
      "RMSE value for k=  5 is: 2.614414242226952\n",
      "RMSE value for k=  6 is: 2.6333299663984575\n",
      "RMSE value for k=  7 is: 2.6921791735354565\n",
      "RMSE value for k=  8 is: 2.706000129453614\n",
      "RMSE value for k=  9 is: 2.736687909727696\n",
      "RMSE value for k=  10 is: 2.773042721295799\n",
      "RMSE value for k=  11 is: 2.773766828808487\n",
      "RMSE value for k=  12 is: 2.786073748260493\n",
      "RMSE value for k=  13 is: 2.8135030168048907\n",
      "RMSE value for k=  14 is: 2.8089398572480495\n",
      "RMSE value for k=  15 is: 2.821965521269988\n",
      "RMSE value for k=  16 is: 2.8447076154223527\n",
      "RMSE value for k=  17 is: 2.8615319379133397\n",
      "RMSE value for k=  18 is: 2.875911339249063\n",
      "RMSE value for k=  19 is: 2.906563290724301\n",
      "RMSE value for k=  20 is: 2.9119505216181523\n",
      "Optimal Neighbor is  3  min rmse is 2.5066649766167797\n"
     ]
    }
   ],
   "source": [
    "from sklearn import neighbors\n",
    "from sklearn.metrics import mean_squared_error \n",
    "from math import sqrt\n",
    "\n",
    "rmse_val = [] #to store rmse values for different k\n",
    "\n",
    "for K in range(20):\n",
    "    K = K+1\n",
    "    model = neighbors.KNeighborsRegressor(n_neighbors = K)\n",
    "\n",
    "    model.fit(x_train, y_train)  #fit the model\n",
    "    y1_pred=model.predict(x_test) #make prediction on test set\n",
    "    \n",
    "    error = sqrt(mean_squared_error(y_test,y1_pred)) #calculate rmse\n",
    "    rmse_val.append(error) #store rmse values\n",
    "    \n",
    "    print('RMSE value for k= ' , K , 'is:', error)\n",
    "    \n",
    "\n",
    "min_rmse = min(rmse_val)\n",
    "min_rmse_index = rmse_val.index(min_rmse) + 1\n",
    "\n",
    "\n",
    "print('Optimal Neighbor is ',min_rmse_index,' min rmse is', min_rmse) "
   ]
  },
  {
   "cell_type": "code",
   "execution_count": 92,
   "id": "77dce273",
   "metadata": {},
   "outputs": [
    {
     "name": "stdout",
     "output_type": "stream",
     "text": [
      "Model Performance\n",
      "rmse is 2.5066649766167797\n",
      "Accuracy is 92.7367 %\n"
     ]
    }
   ],
   "source": [
    "min_rmse_model = KNeighborsRegressor(n_neighbors=3)\n",
    "min_rmse_model.fit(x_train, y_train)\n",
    "min_rmse_accuracy = evaluate(min_rmse_model, x_test, y_test)"
   ]
  },
  {
   "cell_type": "code",
   "execution_count": 93,
   "id": "cf37c3d2",
   "metadata": {},
   "outputs": [
    {
     "name": "stdout",
     "output_type": "stream",
     "text": [
      "{'n_neighbors': [1, 2, 4, 5, 7, 8, 10, 11, 13, 14, 16, 17, 19, 20, 22, 23, 25, 26, 28, 30], 'weights': ['uniform', 'distance']}\n",
      "Fitting 3 folds for each of 40 candidates, totalling 120 fits\n"
     ]
    },
    {
     "name": "stderr",
     "output_type": "stream",
     "text": [
      "D:\\anaconda\\lib\\site-packages\\sklearn\\model_selection\\_search.py:292: UserWarning: The total space of parameters 40 is smaller than n_iter=100. Running 40 iterations. For exhaustive searches, use GridSearchCV.\n",
      "  warnings.warn(\n"
     ]
    },
    {
     "data": {
      "text/plain": [
       "{'weights': 'distance', 'n_neighbors': 7}"
      ]
     },
     "execution_count": 93,
     "metadata": {},
     "output_type": "execute_result"
    }
   ],
   "source": [
    "from sklearn.model_selection import RandomizedSearchCV\n",
    "\n",
    "neighbors = [int(x) for x in np.linspace(start = 1, stop = 30, num = 20)]\n",
    "weight  = ['uniform','distance']\n",
    "\n",
    "\n",
    "# Create the random grid\n",
    "random_grid = {'n_neighbors': neighbors,\n",
    "               'weights': weight}\n",
    "print(random_grid)\n",
    "\n",
    "knn_random = RandomizedSearchCV(estimator = base_model, param_distributions = random_grid, n_iter = 100, cv = 3, verbose=1, n_jobs = -1)\n",
    "# Fit the random search model\n",
    "knn_random.fit(x_train, y_train)\n",
    "\n",
    "knn_random.best_params_"
   ]
  },
  {
   "cell_type": "code",
   "execution_count": 94,
   "id": "2f2d7e7c",
   "metadata": {},
   "outputs": [
    {
     "name": "stdout",
     "output_type": "stream",
     "text": [
      "Model Performance\n",
      "rmse is 2.498542234575827\n",
      "Accuracy is 92.7837 %\n"
     ]
    }
   ],
   "source": [
    "optimized_model = knn_random.best_estimator_\n",
    "optmized_accuracy = evaluate(optimized_model, x_test, y_test)"
   ]
  }
 ],
 "metadata": {
  "kernelspec": {
   "display_name": "Python 3 (ipykernel)",
   "language": "python",
   "name": "python3"
  },
  "language_info": {
   "codemirror_mode": {
    "name": "ipython",
    "version": 3
   },
   "file_extension": ".py",
   "mimetype": "text/x-python",
   "name": "python",
   "nbconvert_exporter": "python",
   "pygments_lexer": "ipython3",
   "version": "3.9.13"
  }
 },
 "nbformat": 4,
 "nbformat_minor": 5
}
