{
 "cells": [
  {
   "cell_type": "markdown",
   "metadata": {},
   "source": [
    "# 1st Task\n",
    "\n",
    "\n",
    "Ashaqida verilen cedvele gore insanin illik geliri uzre vergini hesablayin.\n",
    "\n",
    "Meselen 45000 AZN illik geliri olan adamin vergi borcu ashaqidaki kimi hesablanacaq.\n",
    "\n",
    "(10000)*0% + (10000)10%  + (25000)20% = 6000.\n",
    "\n",
    "P.S illik gelir input ile daxil olunmalidir"
   ]
  },
  {
   "attachments": {
    "image.png": {
     "image/png": "[encoded data removed]"
    }
   },
   "cell_type": "markdown",
   "metadata": {},
   "source": [
    "![image.png](attachment:image.png)"
   ]
  },
  {
   "cell_type": "code",
   "execution_count": 102,
   "metadata": {},
   "outputs": [
    {
     "name": "stdout",
     "output_type": "stream",
     "text": [
      "Illik gelirinizi daxil edin: 45000\n",
      "Sizin verginiz: \n",
      "6000.0\n"
     ]
    }
   ],
   "source": [
    "salary = int(input(\"Illik gelirinizi daxil edin: \"))\n",
    "    \n",
    "\n",
    "if salary <= 10000:\n",
    "    print(\"Sizin verginiz: 0\")\n",
    "elif salary > 10000 and salary <= 20000:\n",
    "    print(\"Sizin verginiz:\")\n",
    "    print((salary - 10000) * 0.1) \n",
    "else:\n",
    "    print(\"Sizin verginiz: \")\n",
    "    print( 10000* 0.1 + (salary - 20000) * 0.2)"
   ]
  },
  {
   "cell_type": "markdown",
   "metadata": {},
   "source": [
    "# 2nd Task\n",
    "\n",
    "45 ile 144 arasinda (her ikisi daxil) hem 3e hem 11e qaliqsiz bolunen ededleri gosterin.\n"
   ]
  },
  {
   "cell_type": "code",
   "execution_count": 30,
   "metadata": {},
   "outputs": [
    {
     "name": "stdout",
     "output_type": "stream",
     "text": [
      "66\n",
      "99\n",
      "132\n"
     ]
    }
   ],
   "source": [
    "for i in range(45, 145):\n",
    "    if i % 3 == 0 and i%11 == 0:\n",
    "        print(i)"
   ]
  },
  {
   "cell_type": "markdown",
   "metadata": {},
   "source": [
    "# 3rd Task"
   ]
  },
  {
   "cell_type": "markdown",
   "metadata": {},
   "source": [
    "Quracaqiniz proqram 10-15 arasindaki reqemi texmin etmelidir. \n",
    "\n",
    "Random vasitesile verilen araliqda reqem yadda saxlanilir.\n",
    "\n",
    "Input ile user-in daxil edeceyi reqem ile random-dan gelen reqem eyni olarsa hemin reqem print olunur.\n",
    "\n",
    "Eks halda reqem doqru tapilana kimi proses davam edir."
   ]
  },
  {
   "cell_type": "markdown",
   "metadata": {},
   "source": [
    "Texmin etdiyimiz reqem: 11\n",
    "\n",
    "Texmin etdiyimiz reqem: 10\n",
    "\n",
    "Texmin etdiyimiz reqem: 12\n",
    "\n",
    "Texmin etdiyimiz reqem: 13\n",
    "\n",
    "Texmin etdiyimiz reqem: 14\n",
    "\n",
    "Texmin etdiyimiz reqem: 15\n",
    "\n",
    "15"
   ]
  },
  {
   "cell_type": "code",
   "execution_count": 78,
   "metadata": {},
   "outputs": [
    {
     "name": "stdout",
     "output_type": "stream",
     "text": [
      "Reqem texmin edin: 10\n",
      "Reqem texmin edin: 1\n",
      "Reqem texmin edin: 11\n",
      "Reqem texmin edin: 12\n",
      "Tebrikler, duz tapdiniz\n",
      "12\n"
     ]
    }
   ],
   "source": [
    "from random import randint\n",
    "rand_num = randint(10,15)\n",
    "\n",
    "\n",
    "\n",
    "while True:\n",
    "    reqem = int(input(\"Reqem texmin edin: \"))\n",
    "    if rand_num == reqem:\n",
    "        print(\"Tebrikler, duz tapdiniz\")\n",
    "        print(rand_num)\n",
    "        break"
   ]
  },
  {
   "cell_type": "markdown",
   "metadata": {},
   "source": [
    "# 4th task"
   ]
  },
  {
   "cell_type": "markdown",
   "metadata": {},
   "source": [
    "Verilmish listin daxilindeki deyerlerin nece defe tekrarlandiqin dictionary ile gosterin.\n",
    "\n",
    "Listdeki deyerler 'key', tekrarlanma sayi ise 'value' olmalidir.\n",
    "\n",
    "List - [142, 'laptop', 'point', 13, 'point', 142, 'real', 'real', 13]\n",
    "\n",
    "netice:\n",
    "\n",
    "{142: 2, 'laptop': 1, 'point': 2, 13: 2, 'real': 2}"
   ]
  },
  {
   "cell_type": "code",
   "execution_count": 101,
   "metadata": {},
   "outputs": [
    {
     "data": {
      "text/plain": [
       "{142: 2, 'laptop': 1, 'point': 2, 13: 2, 'real': 2}"
      ]
     },
     "execution_count": 101,
     "metadata": {},
     "output_type": "execute_result"
    }
   ],
   "source": [
    "my_list = [142, 'laptop', 'point', 13, 'point', 142, 'real', 'real', 13]\n",
    "\n",
    "dict((i, my_list.count(i)) for i in my_list)"
   ]
  },
  {
   "cell_type": "markdown",
   "metadata": {},
   "source": [
    "# 5th task \n",
    "\n",
    "1-7 arasindaki ededlerle ozunden evvelki ededlerin cemini hesablayan proqram qurun.\n",
    "\n",
    "Netice:\n",
    "\n",
    "Cari eded 1 Onceki Eded 0 Cem 1\n",
    "\n",
    "Cari eded 2 Onceki Eded 1 Cem 3\n",
    "\n",
    "Cari eded 3 Onceki Eded 2 Cem 5\n",
    "\n",
    "Cari eded 4 Onceki Eded 3 Cem 7\n",
    "\n",
    "Cari eded 5 Onceki Eded 4 Cem 9\n",
    "\n",
    "Cari eded 6 Onceki Eded 5 Cem 11"
   ]
  },
  {
   "cell_type": "code",
   "execution_count": 109,
   "metadata": {},
   "outputs": [
    {
     "name": "stdout",
     "output_type": "stream",
     "text": [
      "Cari eded: 1, Onceki eded: 0, Cem: 1\n",
      "Cari eded: 2, Onceki eded: 1, Cem: 3\n",
      "Cari eded: 3, Onceki eded: 2, Cem: 5\n",
      "Cari eded: 4, Onceki eded: 3, Cem: 7\n",
      "Cari eded: 5, Onceki eded: 4, Cem: 9\n",
      "Cari eded: 6, Onceki eded: 5, Cem: 11\n"
     ]
    }
   ],
   "source": [
    "for i in range(1,7):\n",
    "    a= i\n",
    "    b = a-1\n",
    "    c = a+b\n",
    "    print(\"Cari eded: {0}, Onceki eded: {1}, Cem: {2}\".format(a, b, c))"
   ]
  },
  {
   "cell_type": "code",
   "execution_count": null,
   "metadata": {},
   "outputs": [],
   "source": []
  }
 ],
 "metadata": {
  "kernelspec": {
   "display_name": "Python 3 (ipykernel)",
   "language": "python",
   "name": "python3"
  },
  "language_info": {
   "codemirror_mode": {
    "name": "ipython",
    "version": 3
   },
   "file_extension": ".py",
   "mimetype": "text/x-python",
   "name": "python",
   "nbconvert_exporter": "python",
   "pygments_lexer": "ipython3",
   "version": "3.9.13"
  }
 },
 "nbformat": 4,
 "nbformat_minor": 2
}
