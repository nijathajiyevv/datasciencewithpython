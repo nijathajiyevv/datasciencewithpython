{
 "cells": [
  {
   "cell_type": "markdown",
   "id": "e107f490",
   "metadata": {},
   "source": [
    "# Homework"
   ]
  },
  {
   "cell_type": "markdown",
   "id": "9d84aa29",
   "metadata": {},
   "source": [
    "1. Create a function that accepts 2 integer arguments: a and b.\n",
    "\n",
    "The method should return True if one of the arguments is 12\n",
    "or if the sum of both arguments equals 12.\n",
    "\n",
    "a=12\n",
    "b=12\n",
    "a+b=12\n"
   ]
  },
  {
   "cell_type": "code",
   "execution_count": 55,
   "id": "cb10561a",
   "metadata": {},
   "outputs": [
    {
     "name": "stdout",
     "output_type": "stream",
     "text": [
      "Try again with different numbers\n",
      "None\n",
      "True\n",
      "True\n",
      "True\n",
      "Try again with different numbers\n",
      "None\n",
      "True\n",
      "Try again with different numbers\n",
      "None\n"
     ]
    }
   ],
   "source": [
    "def function(a, b):\n",
    "    if a == 12 or b == 12 or a + b == 12:\n",
    "        return True\n",
    "    else:\n",
    "        print(\"Try again with different numbers\")\n",
    "\n",
    "print(function(1,2))\n",
    "print(function(12,12))\n",
    "print(function(12,0))\n",
    "print(function(6,6))\n",
    "print(function(7,65))\n",
    "print(function(8,4))\n",
    "print(function(1,3))"
   ]
  },
  {
   "cell_type": "markdown",
   "id": "2afb50ff",
   "metadata": {},
   "source": [
    "2. Create a function that accepts hours, daily income and bonus.\n",
    "\n",
    "This function will be used to decide how much an employee will receive at the end of the day.\n",
    "\n",
    "If an employee is working more than 8 hours he/she will receive extra 25% of his daily income.\n",
    "\n",
    "Otherwise will receive just daily income.\n"
   ]
  },
  {
   "cell_type": "code",
   "execution_count": 61,
   "id": "c37cffdd",
   "metadata": {},
   "outputs": [
    {
     "name": "stdout",
     "output_type": "stream",
     "text": [
      "505\n",
      "810\n",
      "935.0\n",
      "280\n",
      "594.0\n"
     ]
    }
   ],
   "source": [
    "'''\n",
    "a = hours (for example 8 hours)\n",
    "b = daily income (for example 100 AZN)\n",
    "c = bonus (for example 10 azn (daily))\n",
    "'''\n",
    "\n",
    "def function_two(a, b, c):\n",
    "    if a<= 8:\n",
    "        return a * b\n",
    "    else:\n",
    "        return  a * b + c + 0.25 * b\n",
    "\n",
    "print(function_two(5, 100, 5))\n",
    "print(function_two(8, 100, 10))\n",
    "print(function_two(9, 100, 10))\n",
    "print(function_two(2, 90, 100))\n",
    "print(function_two(10, 56, 20))\n"
   ]
  },
  {
   "cell_type": "markdown",
   "id": "d0c8d2fa",
   "metadata": {},
   "source": [
    "3. Write a program to count the total number of digits in a number using a while loop.\n",
    "\n",
    "the number is 678, so the output should be 3.\n",
    "\n",
    "You can use floor division.\n",
    "\n",
    "----input\n",
    "\n",
    "how it works\n",
    "\n",
    "num = 678\n",
    "\n",
    "a = num // 10\n",
    "\n",
    "a\n",
    "\n",
    "----output\n",
    "67\n"
   ]
  },
  {
   "cell_type": "code",
   "execution_count": 10,
   "id": "72c3aa02",
   "metadata": {},
   "outputs": [
    {
     "name": "stdout",
     "output_type": "stream",
     "text": [
      "5\n",
      "5\n"
     ]
    }
   ],
   "source": [
    "def len_function(a):\n",
    "    while True:\n",
    "        return len(str(a))\n",
    "    \n",
    "print(len_function(12345))\n",
    "\n",
    "\n",
    "\n",
    "def digits(n):\n",
    "    count = 0\n",
    "    while n != 0:\n",
    "        n //= 10\n",
    "        count += 1\n",
    "    return count\n",
    " \n",
    "n = 12345\n",
    "print((digits(n)))"
   ]
  },
  {
   "cell_type": "markdown",
   "id": "a8124fab",
   "metadata": {},
   "source": [
    "4. Print multiplication table of 5 using both for and while loop.\n",
    "\n",
    "Idea is multiply 5 by 1,2,3 till 10(included).\n",
    "\n",
    "Output should be:\n",
    "    \n",
    "5\n",
    "10\n",
    "15\n",
    "20\n",
    "25\n",
    "30\n",
    "35\n",
    "40\n",
    "45\n",
    "50\n"
   ]
  },
  {
   "cell_type": "code",
   "execution_count": 3,
   "id": "5da9004f",
   "metadata": {},
   "outputs": [
    {
     "name": "stdout",
     "output_type": "stream",
     "text": [
      "0\n",
      "5\n",
      "10\n",
      "15\n",
      "20\n",
      "25\n",
      "30\n",
      "35\n",
      "40\n",
      "45\n",
      "50\n"
     ]
    }
   ],
   "source": [
    "num = 5\n",
    "i = 1\n",
    "\n",
    "for i in range(11):\n",
    "    print(num * i)\n",
    "    i = i+1"
   ]
  }
 ],
 "metadata": {
  "kernelspec": {
   "display_name": "Python 3 (ipykernel)",
   "language": "python",
   "name": "python3"
  },
  "language_info": {
   "codemirror_mode": {
    "name": "ipython",
    "version": 3
   },
   "file_extension": ".py",
   "mimetype": "text/x-python",
   "name": "python",
   "nbconvert_exporter": "python",
   "pygments_lexer": "ipython3",
   "version": "3.9.13"
  }
 },
 "nbformat": 4,
 "nbformat_minor": 5
}
