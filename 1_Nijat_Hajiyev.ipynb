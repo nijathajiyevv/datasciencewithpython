{
 "cells": [
  {
   "cell_type": "markdown",
   "id": "5250b27d",
   "metadata": {},
   "source": [
    "# Homework"
   ]
  },
  {
   "cell_type": "markdown",
   "id": "1ebed1ea",
   "metadata": {},
   "source": [
    "1.  We would like to get the remainder of 15 divided by 4."
   ]
  },
  {
   "cell_type": "code",
   "execution_count": 2,
   "id": "97c23d86",
   "metadata": {},
   "outputs": [
    {
     "name": "stdout",
     "output_type": "stream",
     "text": [
      "3\n"
     ]
    }
   ],
   "source": [
    "num1 = 15\n",
    "num2 = 4\n",
    "\n",
    "result1 = num1 % num2\n",
    "print(result1)"
   ]
  },
  {
   "cell_type": "markdown",
   "id": "83cad983",
   "metadata": {},
   "source": [
    "2.  Use method format() and print out \"We have 10 small, 12 large, and 12 medium boxes.\""
   ]
  },
  {
   "cell_type": "code",
   "execution_count": 8,
   "id": "c991fedb",
   "metadata": {},
   "outputs": [
    {
     "name": "stdout",
     "output_type": "stream",
     "text": [
      "We have 10 small, 12 large, and 12 medium boxes\n"
     ]
    }
   ],
   "source": [
    "sentense = \"We have {0} small, {1} large, and {1} medium boxes\".format(10, 12)\n",
    "print(sentense)"
   ]
  },
  {
   "cell_type": "markdown",
   "id": "d4ec7571",
   "metadata": {},
   "source": [
    "3. Given 2 variables chars and word, write code to move\n",
    "    the data contained in the variable word in the exact middle of\n",
    "    the characters contained in the variable chars and save this\n",
    "    in a new variable called result and print it.\n",
    "    \n",
    "    chars = \"----\"\n",
    "\n",
    "    word = \"python\"\n",
    "\n",
    "    Expected Result Printed: --python--"
   ]
  },
  {
   "cell_type": "code",
   "execution_count": 10,
   "id": "82d2b2db",
   "metadata": {},
   "outputs": [
    {
     "name": "stdout",
     "output_type": "stream",
     "text": [
      "--python--\n"
     ]
    }
   ],
   "source": [
    "chars = \"----\"\n",
    "word = \"python\"\n",
    "\n",
    "full_word = chars[0:2] + word + chars[2:]\n",
    "print(full_word)"
   ]
  },
  {
   "cell_type": "markdown",
   "id": "de1eac64",
   "metadata": {},
   "source": [
    "4. Given 2 variables word1 and word2, write code to\n",
    "    print the concatenation of the 2 words omitting the\n",
    "    first_folder letter of the string saved in word1 and the second_folder\n",
    "    letter of the string saved in word2.\n",
    "    \n",
    "    word1 = \"Machine\"\n",
    "    \n",
    "    word2 = \"Learning\"\n",
    "\n",
    "    Expected Result Printed: achineLarning"
   ]
  },
  {
   "cell_type": "code",
   "execution_count": 13,
   "id": "ee0cb6b1",
   "metadata": {},
   "outputs": [
    {
     "name": "stdout",
     "output_type": "stream",
     "text": [
      "achineLarning\n"
     ]
    }
   ],
   "source": [
    "word1 = \"Machine\"\n",
    "\n",
    "word2 = \"Learning\"\n",
    "\n",
    "full_word2 = word1[1:] + word2[0] + word2[2:]\n",
    "print(full_word2)"
   ]
  }
 ],
 "metadata": {
  "kernelspec": {
   "display_name": "Python 3 (ipykernel)",
   "language": "python",
   "name": "python3"
  },
  "language_info": {
   "codemirror_mode": {
    "name": "ipython",
    "version": 3
   },
   "file_extension": ".py",
   "mimetype": "text/x-python",
   "name": "python",
   "nbconvert_exporter": "python",
   "pygments_lexer": "ipython3",
   "version": "3.9.13"
  }
 },
 "nbformat": 4,
 "nbformat_minor": 5
}
