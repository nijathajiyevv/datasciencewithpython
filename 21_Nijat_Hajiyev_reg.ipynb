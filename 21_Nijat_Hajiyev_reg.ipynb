{
 "cells": [
  {
   "cell_type": "code",
   "execution_count": null,
   "id": "a80b923f",
   "metadata": {},
   "outputs": [],
   "source": [
    "import numpy as np\n",
    "import matplotlib.pyplot as plt\n",
    "import pandas as pd\n",
    "import seaborn as sns\n",
    "sns.set()"
   ]
  },
  {
   "cell_type": "code",
   "execution_count": null,
   "id": "98d1068f",
   "metadata": {},
   "outputs": [],
   "source": [
    "data = pd.read_excel(r'C:\\Users\\nijat\\Desktop\\PYTHON - KURS\\Ders 21\\Daily_Demand_Forecasting_Orders_reg.xls')\n",
    "data.head(5)"
   ]
  },
  {
   "cell_type": "code",
   "execution_count": null,
   "id": "851d2ecd",
   "metadata": {},
   "outputs": [],
   "source": [
    "data.describe(include = 'all')"
   ]
  },
  {
   "cell_type": "code",
   "execution_count": null,
   "id": "f9051014",
   "metadata": {},
   "outputs": [],
   "source": [
    "data.dtypes"
   ]
  },
  {
   "cell_type": "code",
   "execution_count": null,
   "id": "7a926599",
   "metadata": {},
   "outputs": [],
   "source": [
    "data.isnull().sum()"
   ]
  },
  {
   "cell_type": "code",
   "execution_count": null,
   "id": "5548e705",
   "metadata": {},
   "outputs": [],
   "source": [
    "data.corr()"
   ]
  },
  {
   "cell_type": "code",
   "execution_count": null,
   "id": "b9c5b273",
   "metadata": {},
   "outputs": [],
   "source": [
    "data.columns"
   ]
  },
  {
   "cell_type": "code",
   "execution_count": null,
   "id": "fd381f28",
   "metadata": {},
   "outputs": [],
   "source": [
    "data.head()"
   ]
  },
  {
   "cell_type": "code",
   "execution_count": null,
   "id": "03c1afe1",
   "metadata": {},
   "outputs": [],
   "source": [
    "data = data[['Day of the week', 'Order type B', 'Banking orders (1)', 'Target (Total orders)']]\n",
    "data.head()"
   ]
  },
  {
   "cell_type": "code",
   "execution_count": null,
   "id": "2da87232",
   "metadata": {},
   "outputs": [],
   "source": [
    "from statsmodels.stats.outliers_influence import variance_inflation_factor\n",
    "\n",
    "variables = data[['Day of the week', 'Order type B', 'Banking orders (1)']]\n",
    "vif = pd.DataFrame()\n",
    "\n",
    "vif[\"VIF\"] = [variance_inflation_factor(variables.values, i) for i in range(variables.shape[1])]\n",
    "vif[\"Features\"] = variables.columns\n",
    "vif"
   ]
  },
  {
   "cell_type": "code",
   "execution_count": null,
   "id": "c325f23f",
   "metadata": {},
   "outputs": [],
   "source": [
    "data = data[['Day of the week', 'Order type B', 'Banking orders (1)', 'Target (Total orders)']]\n",
    "data.head()"
   ]
  },
  {
   "cell_type": "code",
   "execution_count": null,
   "id": "f2243400",
   "metadata": {},
   "outputs": [],
   "source": [
    "for i in data[['Day of the week', 'Order type B', 'Banking orders (1)']]:\n",
    "    sns.boxplot(data=data,x=data[i])\n",
    "    plt.show()"
   ]
  },
  {
   "cell_type": "code",
   "execution_count": null,
   "id": "f9aa5676",
   "metadata": {},
   "outputs": [],
   "source": [
    "q1=data.quantile(0.25)\n",
    "q3=data.quantile(0.75)\n",
    "IQR=q3-q1\n",
    "\n",
    "Lower = q1-IQR\n",
    "Upper = q3+IQR"
   ]
  },
  {
   "cell_type": "code",
   "execution_count": null,
   "id": "637eef53",
   "metadata": {},
   "outputs": [],
   "source": [
    "for i in data[['Day of the week', 'Order type B', 'Banking orders (1)']]:\n",
    "    data[i] = np.where(data[i] > Upper[i],Upper[i],data[i])\n",
    "    data[i] = np.where(data[i] < Lower[i],Lower[i],data[i])\n",
    "    sns.boxplot(data=data,x=data[i])\n",
    "    plt.show()"
   ]
  },
  {
   "cell_type": "code",
   "execution_count": null,
   "id": "db0d199b",
   "metadata": {},
   "outputs": [],
   "source": [
    "data.columns"
   ]
  },
  {
   "cell_type": "code",
   "execution_count": null,
   "id": "53f6045a",
   "metadata": {},
   "outputs": [],
   "source": [
    "y = data[['Target (Total orders)']]\n",
    "\n",
    "X= data[['Day of the week', 'Order type B', 'Banking orders (1)']]"
   ]
  },
  {
   "cell_type": "code",
   "execution_count": null,
   "id": "61b7d57e",
   "metadata": {},
   "outputs": [],
   "source": [
    "from sklearn.preprocessing import StandardScaler\n",
    "scaler = StandardScaler()\n",
    "scaler.fit(X)\n",
    "x_scaled = scaler.transform(X)"
   ]
  },
  {
   "cell_type": "code",
   "execution_count": null,
   "id": "3102ccfe",
   "metadata": {},
   "outputs": [],
   "source": [
    "from sklearn.model_selection import train_test_split\n",
    "\n",
    "x_train, x_test, y_train, y_test = train_test_split(X, y, test_size=0.2, random_state=42)"
   ]
  },
  {
   "cell_type": "code",
   "execution_count": null,
   "id": "5fc117fa",
   "metadata": {},
   "outputs": [],
   "source": [
    "from sklearn import metrics\n",
    "\n",
    "def evaluate(model, x_test, y_test):\n",
    "    y_pred = model.predict(x_test)\n",
    "    mae = metrics.mean_absolute_error(y_test, y_pred)\n",
    "    mse = metrics.mean_squared_error(y_test, y_pred)\n",
    "    rmse = np.sqrt(mse)\n",
    "    r2 = metrics.r2_score(y_test, y_pred)\n",
    "    print('Model Performance')\n",
    "    print('Accuracy is', r2*100, '%')\n",
    "    \n",
    "    return mae\n",
    "    return mse\n",
    "    return rmse\n",
    "    return r2"
   ]
  },
  {
   "cell_type": "code",
   "execution_count": null,
   "id": "a21d75e4",
   "metadata": {},
   "outputs": [],
   "source": [
    "from sklearn.svm import SVR\n",
    "\n",
    "base_model = SVR(kernel = 'linear')\n",
    "base_model.fit(x_train, y_train)\n",
    "base_accuracy = evaluate(base_model, x_test, y_test)"
   ]
  },
  {
   "cell_type": "code",
   "execution_count": null,
   "id": "53d794f5",
   "metadata": {},
   "outputs": [],
   "source": [
    "from sklearn.model_selection import RandomizedSearchCV\n",
    "\n",
    "kernel = ['linear', 'poly']\n",
    "# kernel trick\n",
    "\n",
    "gamma = ['scale', 'auto'] \n",
    "#Kernel coefficient for ‘rbf’, ‘poly’ and ‘sigmoid’.\n",
    "\n",
    "#if gamma='scale' (default) is passed then it uses 1 / (n_features * X.var()) as value of gamma\n",
    "#if ‘auto’, uses 1 / n_features.\n",
    "\n",
    "C = [1, 10, 100, 1e3, 1e4, 1e5, 1e6]\n",
    "# Must be strictly positive.\n",
    "\n",
    "epsilon = [0.1 , 0.01, 0.001, 0.0001]\n",
    "\n",
    "\n",
    "# Create the random grid\n",
    "random_grid = {'kernel': kernel,\n",
    "               'gamma': gamma,\n",
    "               'C': C,\n",
    "               'epsilon': epsilon}\n",
    "print(random_grid)"
   ]
  },
  {
   "cell_type": "code",
   "execution_count": null,
   "id": "a3d708be",
   "metadata": {},
   "outputs": [],
   "source": [
    "svr_random = RandomizedSearchCV(estimator = base_model, param_distributions = random_grid, n_iter = 1, cv = 3, verbose=1, n_jobs = -1)\n",
    "# Fit the random search model\n",
    "svr_random.fit(x_train, y_train)"
   ]
  },
  {
   "cell_type": "code",
   "execution_count": null,
   "id": "001e2973",
   "metadata": {},
   "outputs": [],
   "source": [
    "svr_random.best_params_"
   ]
  },
  {
   "cell_type": "code",
   "execution_count": null,
   "id": "f19374db",
   "metadata": {},
   "outputs": [],
   "source": [
    "optimized_model = svr_random.best_estimator_\n",
    "optmized_accuracy = evaluate(optimized_model, x_test, y_test)"
   ]
  }
 ],
 "metadata": {
  "kernelspec": {
   "display_name": "Python 3 (ipykernel)",
   "language": "python",
   "name": "python3"
  },
  "language_info": {
   "codemirror_mode": {
    "name": "ipython",
    "version": 3
   },
   "file_extension": ".py",
   "mimetype": "text/x-python",
   "name": "python",
   "nbconvert_exporter": "python",
   "pygments_lexer": "ipython3",
   "version": "3.9.13"
  }
 },
 "nbformat": 4,
 "nbformat_minor": 5
}
