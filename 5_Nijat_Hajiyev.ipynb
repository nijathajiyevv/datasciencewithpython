{
 "cells": [
  {
   "cell_type": "markdown",
   "id": "a7fc3cba",
   "metadata": {},
   "source": [
    "# Task 1\n",
    "\n",
    "Input vasitesile soz daxil edin ve hemin sozun yalniz \n",
    "cut movqelerinde(indekslerinde) olan herf=ler print olunsun\n",
    "\n",
    "daxil edilecek soz: programming\n",
    "sozun olchusun gosterin\n",
    "herfleri gosterin"
   ]
  },
  {
   "cell_type": "code",
   "execution_count": 56,
   "id": "04680e66",
   "metadata": {},
   "outputs": [
    {
     "name": "stdout",
     "output_type": "stream",
     "text": [
      "Sozu daxil edin: programming\n",
      "Sozun uzunlugu uzunlugu:  11\n",
      "0 p\n",
      "2 o\n",
      "4 r\n",
      "6 m\n",
      "8 i\n",
      "10 g\n"
     ]
    }
   ],
   "source": [
    "x = input(\"Sozu daxil edin: \")\n",
    "uzunluq = len(x)\n",
    "print(\"Sozun uzunlugu uzunlugu: \", uzunluq)\n",
    "\n",
    "\n",
    "for i in range(0, uzunluq, 2):\n",
    "    print(i, x[i])\n",
    "    "
   ]
  },
  {
   "cell_type": "markdown",
   "id": "25cbff05",
   "metadata": {},
   "source": [
    "# Task 2\n",
    "\n",
    "a=5\n",
    "b='8'\n",
    "print(a+b)\n",
    "\n",
    "#### Burada int ve str cemlene bilmir\n",
    "\n",
    "try\n",
    "except\n",
    "finally\n",
    "\n",
    "bloklarindan istifade ederek error-un qarshisini alin\n",
    "\n",
    "except blok-da \"unsupported operand type\" yazilsin\n",
    "\n",
    "finally blokda ise a ve b variable-lardan istifade ederek 58 deyeri alinsin ve print olunsun"
   ]
  },
  {
   "cell_type": "code",
   "execution_count": 58,
   "id": "1d66ad4c",
   "metadata": {},
   "outputs": [
    {
     "name": "stdout",
     "output_type": "stream",
     "text": [
      "error\n",
      "58\n"
     ]
    }
   ],
   "source": [
    "a = 5\n",
    "b = '8'\n",
    "\n",
    "try:\n",
    "    print(a+b)\n",
    "except:\n",
    "    print(\"error\")\n",
    "finally:\n",
    "    print(str(a) + b)"
   ]
  },
  {
   "cell_type": "markdown",
   "id": "e83968a4",
   "metadata": {},
   "source": [
    "# 3\n",
    "\n",
    "Sizin data ancaq numerical value-lardan teshkil olunub,yeni bir variable menimsedin.yeni variable string olsun.\n",
    "Meselen a = 'data'\n",
    "\n",
    "\n",
    "Eger daxil olunan data-nin tipi integer ve float-dan ferqli olarsa o zaman ashaqidaki error print olunsun\n",
    "Eks halda numeric value ozun qaytarsin\n",
    "\n",
    "---------------------------------------------------------------------------\n",
    "Exception                                 Traceback (most recent call last)\n",
    "<ipython-input-28-349fda7fe505> in <module>\n",
    " \n",
    "Exception: Only numerical data is allowed\n"
   ]
  },
  {
   "cell_type": "code",
   "execution_count": 59,
   "id": "56969126",
   "metadata": {},
   "outputs": [
    {
     "ename": "Exception",
     "evalue": "Only numerical data is allowed0",
     "output_type": "error",
     "traceback": [
      "\u001b[1;31m---------------------------------------------------------------------------\u001b[0m",
      "\u001b[1;31mException\u001b[0m                                 Traceback (most recent call last)",
      "\u001b[1;32m~\\AppData\\Local\\Temp\\ipykernel_11468\\2215463281.py\u001b[0m in \u001b[0;36m<module>\u001b[1;34m\u001b[0m\n\u001b[0;32m      3\u001b[0m \u001b[1;33m\u001b[0m\u001b[0m\n\u001b[0;32m      4\u001b[0m \u001b[1;32mif\u001b[0m \u001b[0mtype\u001b[0m\u001b[1;33m(\u001b[0m\u001b[0mvalue\u001b[0m\u001b[1;33m)\u001b[0m \u001b[1;33m!=\u001b[0m \u001b[0mint\u001b[0m \u001b[1;32mand\u001b[0m \u001b[0mtype\u001b[0m\u001b[1;33m(\u001b[0m\u001b[0mvalue\u001b[0m\u001b[1;33m)\u001b[0m \u001b[1;33m!=\u001b[0m \u001b[0mfloat\u001b[0m\u001b[1;33m:\u001b[0m\u001b[1;33m\u001b[0m\u001b[1;33m\u001b[0m\u001b[0m\n\u001b[1;32m----> 5\u001b[1;33m     \u001b[1;32mraise\u001b[0m \u001b[0mException\u001b[0m\u001b[1;33m(\u001b[0m\u001b[1;34m\"Only numerical data is allowed0\"\u001b[0m\u001b[1;33m)\u001b[0m\u001b[1;33m\u001b[0m\u001b[1;33m\u001b[0m\u001b[0m\n\u001b[0m\u001b[0;32m      6\u001b[0m \u001b[1;32melse\u001b[0m\u001b[1;33m:\u001b[0m\u001b[1;33m\u001b[0m\u001b[1;33m\u001b[0m\u001b[0m\n\u001b[0;32m      7\u001b[0m     \u001b[0mprint\u001b[0m\u001b[1;33m(\u001b[0m\u001b[0mvalue\u001b[0m\u001b[1;33m)\u001b[0m\u001b[1;33m\u001b[0m\u001b[1;33m\u001b[0m\u001b[0m\n",
      "\u001b[1;31mException\u001b[0m: Only numerical data is allowed0"
     ]
    }
   ],
   "source": [
    "value = 'data'\n",
    "#value = 7.5\n",
    "\n",
    "if type(value) != int and type(value) != float:\n",
    "    raise Exception(\"Only numerical data is allowed0\")\n",
    "else:\n",
    "    print(value)"
   ]
  },
  {
   "cell_type": "code",
   "execution_count": 61,
   "id": "4b7f4699",
   "metadata": {},
   "outputs": [
    {
     "name": "stdout",
     "output_type": "stream",
     "text": [
      "[1, 2, 3, 5, 5]\n"
     ]
    }
   ],
   "source": [
    "my_list = [1, 2, 3, 5]\n",
    "\n",
    "data = 5\n",
    "\n",
    "if type(data) != int and type(data) != float:\n",
    "    raise Exception(\"Only numerical data is allowed0\")\n",
    "else:\n",
    "    my_list.append(data)\n",
    "    print(my_list)"
   ]
  }
 ],
 "metadata": {
  "kernelspec": {
   "display_name": "Python 3 (ipykernel)",
   "language": "python",
   "name": "python3"
  },
  "language_info": {
   "codemirror_mode": {
    "name": "ipython",
    "version": 3
   },
   "file_extension": ".py",
   "mimetype": "text/x-python",
   "name": "python",
   "nbconvert_exporter": "python",
   "pygments_lexer": "ipython3",
   "version": "3.9.13"
  }
 },
 "nbformat": 4,
 "nbformat_minor": 5
}
