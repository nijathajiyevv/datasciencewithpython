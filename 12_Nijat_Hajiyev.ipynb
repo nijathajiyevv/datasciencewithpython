{
 "cells": [
  {
   "cell_type": "code",
   "execution_count": 1,
   "id": "f74fef69",
   "metadata": {},
   "outputs": [],
   "source": [
    "import numpy as np\n",
    "import pandas as pd\n",
    "import matplotlib.pyplot as plt\n",
    "import seaborn as sns\n",
    "sns.set()\n",
    "\n",
    "\n",
    "# for OLS method\n",
    "import statsmodels.api as sm\n",
    "#the actual regression (machine learning) module\n",
    "from sklearn.linear_model import LinearRegression\n",
    "\n",
    "from sklearn.model_selection import train_test_split\n",
    "\n",
    "from sklearn.metrics import mean_squared_error\n",
    "from sklearn import metrics"
   ]
  },
  {
   "cell_type": "code",
   "execution_count": 2,
   "id": "d326b3c4",
   "metadata": {},
   "outputs": [
    {
     "data": {
      "text/html": [
       "<div>\n",
       "<style scoped>\n",
       "    .dataframe tbody tr th:only-of-type {\n",
       "        vertical-align: middle;\n",
       "    }\n",
       "\n",
       "    .dataframe tbody tr th {\n",
       "        vertical-align: top;\n",
       "    }\n",
       "\n",
       "    .dataframe thead th {\n",
       "        text-align: right;\n",
       "    }\n",
       "</style>\n",
       "<table border=\"1\" class=\"dataframe\">\n",
       "  <thead>\n",
       "    <tr style=\"text-align: right;\">\n",
       "      <th></th>\n",
       "      <th>income</th>\n",
       "      <th>happiness</th>\n",
       "    </tr>\n",
       "  </thead>\n",
       "  <tbody>\n",
       "    <tr>\n",
       "      <th>0</th>\n",
       "      <td>3.862647</td>\n",
       "      <td>2.314489</td>\n",
       "    </tr>\n",
       "    <tr>\n",
       "      <th>1</th>\n",
       "      <td>4.979381</td>\n",
       "      <td>3.433490</td>\n",
       "    </tr>\n",
       "    <tr>\n",
       "      <th>2</th>\n",
       "      <td>4.923957</td>\n",
       "      <td>4.599373</td>\n",
       "    </tr>\n",
       "    <tr>\n",
       "      <th>3</th>\n",
       "      <td>3.214372</td>\n",
       "      <td>2.791114</td>\n",
       "    </tr>\n",
       "    <tr>\n",
       "      <th>4</th>\n",
       "      <td>7.196409</td>\n",
       "      <td>5.596398</td>\n",
       "    </tr>\n",
       "    <tr>\n",
       "      <th>...</th>\n",
       "      <td>...</td>\n",
       "      <td>...</td>\n",
       "    </tr>\n",
       "    <tr>\n",
       "      <th>493</th>\n",
       "      <td>5.249209</td>\n",
       "      <td>4.568705</td>\n",
       "    </tr>\n",
       "    <tr>\n",
       "      <th>494</th>\n",
       "      <td>3.471799</td>\n",
       "      <td>2.535002</td>\n",
       "    </tr>\n",
       "    <tr>\n",
       "      <th>495</th>\n",
       "      <td>6.087610</td>\n",
       "      <td>4.397451</td>\n",
       "    </tr>\n",
       "    <tr>\n",
       "      <th>496</th>\n",
       "      <td>3.440847</td>\n",
       "      <td>2.070664</td>\n",
       "    </tr>\n",
       "    <tr>\n",
       "      <th>497</th>\n",
       "      <td>4.530545</td>\n",
       "      <td>3.710193</td>\n",
       "    </tr>\n",
       "  </tbody>\n",
       "</table>\n",
       "<p>498 rows × 2 columns</p>\n",
       "</div>"
      ],
      "text/plain": [
       "       income  happiness\n",
       "0    3.862647   2.314489\n",
       "1    4.979381   3.433490\n",
       "2    4.923957   4.599373\n",
       "3    3.214372   2.791114\n",
       "4    7.196409   5.596398\n",
       "..        ...        ...\n",
       "493  5.249209   4.568705\n",
       "494  3.471799   2.535002\n",
       "495  6.087610   4.397451\n",
       "496  3.440847   2.070664\n",
       "497  4.530545   3.710193\n",
       "\n",
       "[498 rows x 2 columns]"
      ]
     },
     "execution_count": 2,
     "metadata": {},
     "output_type": "execute_result"
    }
   ],
   "source": [
    "# Load the data from a .csv \n",
    "data = pd.read_csv(r'C:\\Users\\nijat\\Desktop\\PYTHON - KURS\\Ders 12 - SLR MLR class\\Income_happiness.csv')\n",
    "data"
   ]
  },
  {
   "cell_type": "code",
   "execution_count": 3,
   "id": "17e60f2e",
   "metadata": {},
   "outputs": [
    {
     "data": {
      "text/html": [
       "<div>\n",
       "<style scoped>\n",
       "    .dataframe tbody tr th:only-of-type {\n",
       "        vertical-align: middle;\n",
       "    }\n",
       "\n",
       "    .dataframe tbody tr th {\n",
       "        vertical-align: top;\n",
       "    }\n",
       "\n",
       "    .dataframe thead th {\n",
       "        text-align: right;\n",
       "    }\n",
       "</style>\n",
       "<table border=\"1\" class=\"dataframe\">\n",
       "  <thead>\n",
       "    <tr style=\"text-align: right;\">\n",
       "      <th></th>\n",
       "      <th>income</th>\n",
       "      <th>happiness</th>\n",
       "    </tr>\n",
       "  </thead>\n",
       "  <tbody>\n",
       "    <tr>\n",
       "      <th>count</th>\n",
       "      <td>498.000000</td>\n",
       "      <td>498.000000</td>\n",
       "    </tr>\n",
       "    <tr>\n",
       "      <th>mean</th>\n",
       "      <td>4.466902</td>\n",
       "      <td>3.392859</td>\n",
       "    </tr>\n",
       "    <tr>\n",
       "      <th>std</th>\n",
       "      <td>1.737527</td>\n",
       "      <td>1.432813</td>\n",
       "    </tr>\n",
       "    <tr>\n",
       "      <th>min</th>\n",
       "      <td>1.506275</td>\n",
       "      <td>0.266044</td>\n",
       "    </tr>\n",
       "    <tr>\n",
       "      <th>25%</th>\n",
       "      <td>3.006256</td>\n",
       "      <td>2.265864</td>\n",
       "    </tr>\n",
       "    <tr>\n",
       "      <th>50%</th>\n",
       "      <td>4.423710</td>\n",
       "      <td>3.472536</td>\n",
       "    </tr>\n",
       "    <tr>\n",
       "      <th>75%</th>\n",
       "      <td>5.991913</td>\n",
       "      <td>4.502621</td>\n",
       "    </tr>\n",
       "    <tr>\n",
       "      <th>max</th>\n",
       "      <td>7.481521</td>\n",
       "      <td>6.863388</td>\n",
       "    </tr>\n",
       "  </tbody>\n",
       "</table>\n",
       "</div>"
      ],
      "text/plain": [
       "           income   happiness\n",
       "count  498.000000  498.000000\n",
       "mean     4.466902    3.392859\n",
       "std      1.737527    1.432813\n",
       "min      1.506275    0.266044\n",
       "25%      3.006256    2.265864\n",
       "50%      4.423710    3.472536\n",
       "75%      5.991913    4.502621\n",
       "max      7.481521    6.863388"
      ]
     },
     "execution_count": 3,
     "metadata": {},
     "output_type": "execute_result"
    }
   ],
   "source": [
    "data.describe()"
   ]
  },
  {
   "cell_type": "code",
   "execution_count": 4,
   "id": "71360da3",
   "metadata": {},
   "outputs": [
    {
     "data": {
      "image/png": "[encoded data removed]",
      "text/plain": [
       "<Figure size 640x480 with 1 Axes>"
      ]
     },
     "metadata": {},
     "output_type": "display_data"
    }
   ],
   "source": [
    "plt.scatter(data['income'],data['happiness'])\n",
    "plt.xlabel('income', fontsize = 15)\n",
    "plt.ylabel('happiness', fontsize = 15)\n",
    "plt.show()"
   ]
  },
  {
   "cell_type": "code",
   "execution_count": 34,
   "id": "74cc4220",
   "metadata": {},
   "outputs": [
    {
     "data": {
      "text/plain": [
       "<AxesSubplot:xlabel='income'>"
      ]
     },
     "execution_count": 34,
     "metadata": {},
     "output_type": "execute_result"
    },
    {
     "data": {
      "image/png": "[encoded data removed]",
      "text/plain": [
       "<Figure size 640x480 with 1 Axes>"
      ]
     },
     "metadata": {},
     "output_type": "display_data"
    }
   ],
   "source": [
    "sns.boxplot(x=data['income'],data=data)"
   ]
  },
  {
   "cell_type": "code",
   "execution_count": 35,
   "id": "c0bb8e9b",
   "metadata": {},
   "outputs": [
    {
     "data": {
      "text/plain": [
       "<AxesSubplot:xlabel='happiness'>"
      ]
     },
     "execution_count": 35,
     "metadata": {},
     "output_type": "execute_result"
    },
    {
     "data": {
      "image/png": "[encoded data removed]",
      "text/plain": [
       "<Figure size 640x480 with 1 Axes>"
      ]
     },
     "metadata": {},
     "output_type": "display_data"
    }
   ],
   "source": [
    "sns.boxplot(x=data['happiness'],data=data)"
   ]
  },
  {
   "cell_type": "code",
   "execution_count": 5,
   "id": "bb8feba0",
   "metadata": {},
   "outputs": [],
   "source": [
    "# Define the dependent and the independent variables\n",
    "\n",
    "# Following the regression equation, our dependent variable (y) is the happiness\n",
    "y = data['happiness']\n",
    "# Similarly, our independent variable (x) is the income score\n",
    "x1 = data['income']"
   ]
  },
  {
   "cell_type": "code",
   "execution_count": 6,
   "id": "809081d2",
   "metadata": {},
   "outputs": [],
   "source": [
    "# Create Regression using OLS\n",
    "\n",
    "# Add a constant. Essentially, we are adding a new column (equal in lenght to x), which consists only of 1s\n",
    "x = sm.add_constant(x1)\n",
    "# Fit the model, according to the OLS (ordinary least squares) method with a dependent variable y and an idependent x\n",
    "results = sm.OLS(y,x).fit()"
   ]
  },
  {
   "cell_type": "code",
   "execution_count": 7,
   "id": "65ff9fca",
   "metadata": {},
   "outputs": [
    {
     "data": {
      "text/html": [
       "<table class=\"simpletable\">\n",
       "<caption>OLS Regression Results</caption>\n",
       "<tr>\n",
       "  <th>Dep. Variable:</th>        <td>happiness</td>    <th>  R-squared:         </th> <td>   0.749</td> \n",
       "</tr>\n",
       "<tr>\n",
       "  <th>Model:</th>                   <td>OLS</td>       <th>  Adj. R-squared:    </th> <td>   0.749</td> \n",
       "</tr>\n",
       "<tr>\n",
       "  <th>Method:</th>             <td>Least Squares</td>  <th>  F-statistic:       </th> <td>   1483.</td> \n",
       "</tr>\n",
       "<tr>\n",
       "  <th>Date:</th>             <td>Sat, 28 Jan 2023</td> <th>  Prob (F-statistic):</th> <td>3.96e-151</td>\n",
       "</tr>\n",
       "<tr>\n",
       "  <th>Time:</th>                 <td>13:17:58</td>     <th>  Log-Likelihood:    </th> <td> -540.72</td> \n",
       "</tr>\n",
       "<tr>\n",
       "  <th>No. Observations:</th>      <td>   498</td>      <th>  AIC:               </th> <td>   1085.</td> \n",
       "</tr>\n",
       "<tr>\n",
       "  <th>Df Residuals:</th>          <td>   496</td>      <th>  BIC:               </th> <td>   1094.</td> \n",
       "</tr>\n",
       "<tr>\n",
       "  <th>Df Model:</th>              <td>     1</td>      <th>                     </th>     <td> </td>    \n",
       "</tr>\n",
       "<tr>\n",
       "  <th>Covariance Type:</th>      <td>nonrobust</td>    <th>                     </th>     <td> </td>    \n",
       "</tr>\n",
       "</table>\n",
       "<table class=\"simpletable\">\n",
       "<tr>\n",
       "     <td></td>       <th>coef</th>     <th>std err</th>      <th>t</th>      <th>P>|t|</th>  <th>[0.025</th>    <th>0.975]</th>  \n",
       "</tr>\n",
       "<tr>\n",
       "  <th>const</th>  <td>    0.2043</td> <td>    0.089</td> <td>    2.299</td> <td> 0.022</td> <td>    0.030</td> <td>    0.379</td>\n",
       "</tr>\n",
       "<tr>\n",
       "  <th>income</th> <td>    0.7138</td> <td>    0.019</td> <td>   38.505</td> <td> 0.000</td> <td>    0.677</td> <td>    0.750</td>\n",
       "</tr>\n",
       "</table>\n",
       "<table class=\"simpletable\">\n",
       "<tr>\n",
       "  <th>Omnibus:</th>       <td> 1.396</td> <th>  Durbin-Watson:     </th> <td>   1.877</td>\n",
       "</tr>\n",
       "<tr>\n",
       "  <th>Prob(Omnibus):</th> <td> 0.498</td> <th>  Jarque-Bera (JB):  </th> <td>   1.349</td>\n",
       "</tr>\n",
       "<tr>\n",
       "  <th>Skew:</th>          <td> 0.127</td> <th>  Prob(JB):          </th> <td>   0.509</td>\n",
       "</tr>\n",
       "<tr>\n",
       "  <th>Kurtosis:</th>      <td> 2.995</td> <th>  Cond. No.          </th> <td>    13.7</td>\n",
       "</tr>\n",
       "</table><br/><br/>Notes:<br/>[1] Standard Errors assume that the covariance matrix of the errors is correctly specified."
      ],
      "text/plain": [
       "<class 'statsmodels.iolib.summary.Summary'>\n",
       "\"\"\"\n",
       "                            OLS Regression Results                            \n",
       "==============================================================================\n",
       "Dep. Variable:              happiness   R-squared:                       0.749\n",
       "Model:                            OLS   Adj. R-squared:                  0.749\n",
       "Method:                 Least Squares   F-statistic:                     1483.\n",
       "Date:                Sat, 28 Jan 2023   Prob (F-statistic):          3.96e-151\n",
       "Time:                        13:17:58   Log-Likelihood:                -540.72\n",
       "No. Observations:                 498   AIC:                             1085.\n",
       "Df Residuals:                     496   BIC:                             1094.\n",
       "Df Model:                           1                                         \n",
       "Covariance Type:            nonrobust                                         \n",
       "==============================================================================\n",
       "                 coef    std err          t      P>|t|      [0.025      0.975]\n",
       "------------------------------------------------------------------------------\n",
       "const          0.2043      0.089      2.299      0.022       0.030       0.379\n",
       "income         0.7138      0.019     38.505      0.000       0.677       0.750\n",
       "==============================================================================\n",
       "Omnibus:                        1.396   Durbin-Watson:                   1.877\n",
       "Prob(Omnibus):                  0.498   Jarque-Bera (JB):                1.349\n",
       "Skew:                           0.127   Prob(JB):                        0.509\n",
       "Kurtosis:                       2.995   Cond. No.                         13.7\n",
       "==============================================================================\n",
       "\n",
       "Notes:\n",
       "[1] Standard Errors assume that the covariance matrix of the errors is correctly specified.\n",
       "\"\"\""
      ]
     },
     "execution_count": 7,
     "metadata": {},
     "output_type": "execute_result"
    }
   ],
   "source": [
    "# Print summary of the regression.\n",
    "\n",
    "# R-squared - shows accuracy\n",
    "# Adj. R-squared - how important is independend variable\n",
    "\n",
    "results.summary()"
   ]
  },
  {
   "cell_type": "code",
   "execution_count": 8,
   "id": "d622f7d7",
   "metadata": {},
   "outputs": [
    {
     "data": {
      "image/png": "[encoded data removed]",
      "text/plain": [
       "<Figure size 640x480 with 1 Axes>"
      ]
     },
     "metadata": {},
     "output_type": "display_data"
    }
   ],
   "source": [
    "# Create a scatter plot\n",
    "plt.scatter(x1,y)\n",
    "\n",
    "# Define the regression equation, so we can plot it later\n",
    "yhat = 0.7138*x1 + 0.2045\n",
    "\n",
    "# Plot the regression line against the independent variable (SAT) , lw - line width\n",
    "fig = plt.plot(x1,yhat, lw=4, c='orange')\n",
    "# Label the axes\n",
    "plt.xlabel('income', fontsize = 15)\n",
    "plt.ylabel('happiness', fontsize = 15)\n",
    "plt.show()"
   ]
  },
  {
   "cell_type": "code",
   "execution_count": 9,
   "id": "944b2f9b",
   "metadata": {},
   "outputs": [],
   "source": [
    "# Create Regression using sklearn library\n",
    "\n",
    "# There is a single independent variable: 'income'\n",
    "x2 = data[['income']]\n",
    "# and a single depended variable: 'happiness'\n",
    "y2 = data['happiness']"
   ]
  },
  {
   "cell_type": "code",
   "execution_count": 10,
   "id": "d0b93d94",
   "metadata": {},
   "outputs": [],
   "source": [
    "# We start by creating a linear regression object\n",
    "reg = LinearRegression()"
   ]
  },
  {
   "cell_type": "code",
   "execution_count": 11,
   "id": "8003cc49",
   "metadata": {},
   "outputs": [
    {
     "data": {
      "text/plain": [
       "LinearRegression()"
      ]
     },
     "execution_count": 11,
     "metadata": {},
     "output_type": "execute_result"
    }
   ],
   "source": [
    "# First argument is the independent variable, while the second - the dependent (unlike with StatsModels)\n",
    "reg.fit(x2,y2)"
   ]
  },
  {
   "cell_type": "code",
   "execution_count": 12,
   "id": "6e9196be",
   "metadata": {},
   "outputs": [
    {
     "data": {
      "text/plain": [
       "array([0.71382551])"
      ]
     },
     "execution_count": 12,
     "metadata": {},
     "output_type": "execute_result"
    }
   ],
   "source": [
    "# Getting the coefficients of the regression\n",
    "reg.coef_"
   ]
  },
  {
   "cell_type": "code",
   "execution_count": 13,
   "id": "776293c8",
   "metadata": {},
   "outputs": [
    {
     "data": {
      "text/plain": [
       "0.20427039623160237"
      ]
     },
     "execution_count": 13,
     "metadata": {},
     "output_type": "execute_result"
    }
   ],
   "source": [
    "reg.intercept_"
   ]
  },
  {
   "cell_type": "code",
   "execution_count": 14,
   "id": "c6635d31",
   "metadata": {},
   "outputs": [
    {
     "data": {
      "text/plain": [
       "array([2.96152667, 3.75867986, 3.71911648, 2.49877145, 5.34125092,\n",
       "       2.86658506, 3.54106017, 3.41513166, 2.43256991, 3.51635969,\n",
       "       3.51130944, 2.18383624, 5.28633585, 5.53415794, 1.7159689 ,\n",
       "       2.03106825, 1.88518187, 1.90899797, 3.5989963 , 1.6278348 ,\n",
       "       5.42298877, 2.72287448, 1.9379753 , 2.73317421, 3.93558   ,\n",
       "       4.98118583, 2.98848252, 1.83968425, 1.9035411 , 2.02424619,\n",
       "       5.15343384, 1.52887726, 2.76620668, 5.07718449, 1.68231885,\n",
       "       3.9334414 , 1.80546213, 5.25541848, 3.19567934, 1.6008601 ,\n",
       "       3.81748253, 3.04685917, 2.39218744, 2.83320231, 2.9092617 ,\n",
       "       4.02945835, 3.91339326, 3.94556523, 5.27358764, 2.64842401,\n",
       "       1.81280411, 4.03775389, 4.64826679, 4.11807734, 3.08396537,\n",
       "       4.85143061, 4.50807707, 5.16472447, 5.34027157, 2.17252896,\n",
       "       5.1696974 , 3.53797301, 4.75012017, 4.60620474, 4.54015955,\n",
       "       4.11940272, 1.3389494 , 1.40383556, 4.13027356, 3.09090289,\n",
       "       3.77703364, 3.67601911, 1.27948795, 2.24914053, 4.40006987,\n",
       "       4.83270345, 3.7291669 , 4.219849  , 5.36399052, 4.01428572,\n",
       "       2.22141751, 4.43823125, 2.71711837, 2.51702265, 2.70150784,\n",
       "       5.33390066, 3.57293154, 2.77033175, 2.51274101, 1.2851116 ,\n",
       "       3.06138347, 4.62863499, 1.83225717, 1.76745227, 2.65565509,\n",
       "       4.43887584, 3.9931416 , 4.2476243 , 5.51459513, 1.72807525,\n",
       "       4.84504616, 2.8105781 , 1.83642914, 3.5941272 , 4.10115862,\n",
       "       2.65487961, 5.32696755, 4.13487571, 2.41542753, 3.52181443,\n",
       "       1.50936211, 2.72733395, 3.49227622, 4.03144812, 5.11491383,\n",
       "       3.28587819, 2.61925887, 3.72500575, 3.72742511, 2.06132552,\n",
       "       4.28111602, 4.57111978, 2.89640275, 5.28472369, 1.77103306,\n",
       "       4.45296121, 3.00411018, 5.25928933, 5.1658895 , 2.81749747,\n",
       "       1.48136975, 2.73145619, 3.44032354, 3.67870147, 3.09955056,\n",
       "       4.22642266, 4.10292543, 2.47864399, 3.35771278, 4.3161118 ,\n",
       "       2.85734586, 1.76223852, 3.26799785, 2.638437  , 2.76054882,\n",
       "       2.70955745, 4.95850275, 4.68123156, 2.87042127, 3.34025459,\n",
       "       2.71138042, 4.65835574, 2.83220873, 5.37330436, 4.7337572 ,\n",
       "       4.44420943, 1.95979674, 2.01673682, 4.99304289, 5.08064255,\n",
       "       3.83240129, 4.50907179, 4.89738406, 2.75569473, 4.15166012,\n",
       "       1.92414856, 3.24858598, 2.7243206 , 4.58940746, 3.88596637,\n",
       "       3.5669935 , 5.09220149, 4.10506991, 3.18558573, 2.87975496,\n",
       "       1.82788302, 1.32952047, 1.57776612, 4.41887185, 3.90833316,\n",
       "       1.54616826, 2.02049066, 2.50378334, 5.38691069, 4.83101394,\n",
       "       4.26485806, 4.93951675, 4.46776555, 2.98657516, 4.81647072,\n",
       "       4.9355318 , 2.43066304, 3.55636903, 1.32761312, 2.82427909,\n",
       "       5.33982163, 1.47522149, 1.7335413 , 2.81436338, 1.69641851,\n",
       "       2.60493496, 1.9339723 , 5.28070023, 2.37425845, 1.89834397,\n",
       "       1.62090259, 2.08054852, 5.29867174, 2.42064033, 1.31687935,\n",
       "       5.54257638, 2.21290404, 4.30486935, 4.87339476, 4.88896028,\n",
       "       4.10898517, 1.69268976, 3.48042434, 3.82657922, 5.53191411,\n",
       "       4.38293768, 2.89149506, 5.24587159, 4.75660439, 1.57543124,\n",
       "       5.46103378, 4.86969037, 5.41584102, 2.37232389, 4.98923327,\n",
       "       1.58052362, 3.21915069, 2.29057273, 3.36445346, 1.68229067,\n",
       "       3.933345  , 5.31659797, 1.78232194, 5.34885348, 1.76332598,\n",
       "       3.35580894, 3.78396948, 2.06167088, 2.28653416, 4.66164076,\n",
       "       5.10086678, 1.89691517, 4.46156686, 5.31074547, 1.8388576 ,\n",
       "       4.75578464, 2.73157269, 2.4455581 , 4.81611308, 2.08973232,\n",
       "       1.63350151, 4.76663486, 2.17708408, 5.08059632, 2.93626232,\n",
       "       2.89587148, 2.45985543, 3.84436446, 4.2091105 , 1.52939591,\n",
       "       4.03303741, 1.87186213, 3.75616005, 2.08130797, 2.0933797 ,\n",
       "       2.95956006, 3.1463241 , 4.76271774, 2.9472946 , 3.76665126,\n",
       "       2.63170325, 2.93116621, 1.56731961, 2.24471501, 5.52334166,\n",
       "       2.59862112, 4.99248716, 4.71986354, 1.58279643, 3.86515682,\n",
       "       3.25816575, 1.33173658, 2.27984812, 4.23361132, 2.75346653,\n",
       "       1.87826801, 4.37672116, 3.98646089, 2.65604683, 1.5362654 ,\n",
       "       3.84165073, 1.29700001, 1.3594624 , 4.97810501, 5.4489217 ,\n",
       "       4.47569212, 3.91336656, 3.19734607, 1.88010966, 3.56602406,\n",
       "       1.85120698, 2.15356285, 2.97570759, 2.75576377, 3.17348214,\n",
       "       1.30686979, 2.61978217, 2.78456773, 4.84690753, 1.52371444,\n",
       "       3.35960181, 4.82782762, 4.88797938, 5.33018515, 2.20947106,\n",
       "       4.26322889, 3.63087823, 1.92666865, 2.29271221, 2.47007804,\n",
       "       2.12126996, 1.72074219, 2.12733212, 3.22438676, 4.02360498,\n",
       "       3.83876975, 4.66589558, 4.00512896, 1.66654032, 1.90416394,\n",
       "       5.14390223, 1.88854726, 3.44911235, 5.42269369, 1.41596329,\n",
       "       3.40476834, 1.68899558, 3.65518659, 3.60303956, 3.25233142,\n",
       "       4.04450562, 3.24199571, 3.21409317, 4.2685966 , 2.34326332,\n",
       "       2.23828637, 2.87752812, 2.66091038, 3.2594974 , 1.50661343,\n",
       "       2.26668505, 1.7532557 , 5.18455868, 2.11998622, 1.38290774,\n",
       "       3.35675269, 2.97469766, 2.90578627, 4.67800083, 1.55363386,\n",
       "       1.46207248, 4.55086995, 4.75437543, 4.76738794, 2.49159315,\n",
       "       2.28017985, 1.88172614, 5.20418898, 2.69095232, 2.00130029,\n",
       "       4.27197034, 3.33219903, 3.61068792, 4.05537078, 4.09921741,\n",
       "       1.48084733, 2.42611853, 3.8311953 , 3.66726204, 4.92085256,\n",
       "       2.43630011, 4.88893794, 1.87681745, 1.34641478, 3.95055199,\n",
       "       2.37106013, 3.73583085, 1.32851247, 4.3028601 , 4.42331843,\n",
       "       4.62642229, 4.12502107, 3.42879482, 3.28213324, 3.5119532 ,\n",
       "       5.50359143, 1.99437956, 4.28206049, 5.07425709, 2.60814335,\n",
       "       4.7157842 , 1.84510067, 3.55917598, 5.37718888, 4.24948471,\n",
       "       3.12200504, 2.57028508, 5.03568147, 4.06303199, 2.79708695,\n",
       "       3.71982513, 2.84485767, 5.12747448, 5.21926416, 4.82673688,\n",
       "       1.37450207, 4.94118374, 3.49101516, 5.22393216, 2.41880415,\n",
       "       2.37723678, 4.61778161, 4.06967333, 2.96013368, 4.26974854,\n",
       "       4.74771192, 1.70265687, 2.70192268, 4.48337044, 5.08750143,\n",
       "       4.3122941 , 5.14874054, 1.36339007, 4.42037977, 5.54477123,\n",
       "       2.06582251, 1.38968509, 4.65539031, 2.32147096, 4.68657   ,\n",
       "       1.78925132, 1.68256752, 2.25182079, 3.00827759, 5.08380152,\n",
       "       2.65780626, 3.87302317, 4.49045089, 2.54787869, 4.42949587,\n",
       "       2.99546988, 2.09026778, 4.28797865, 2.63121748, 1.3546761 ,\n",
       "       3.61898714, 3.48179246, 4.2529743 , 4.52486449, 3.28499439,\n",
       "       4.84117725, 4.87706684, 3.55084117, 2.43606301, 5.04512388,\n",
       "       5.28635497, 5.41357074, 4.39691993, 1.33733659, 4.48851325,\n",
       "       4.2896552 , 3.94321209, 4.80840593, 3.18259076, 4.86039123,\n",
       "       5.52092601, 5.36179668, 2.54228794, 1.65463375, 2.23163532,\n",
       "       4.55972295, 4.54028055, 3.23365489, 4.00080534, 4.52461459,\n",
       "       2.45570646, 1.97625772, 2.65633366, 3.95128955, 2.6825288 ,\n",
       "       4.54976145, 2.66043468, 3.43828929])"
      ]
     },
     "execution_count": 14,
     "metadata": {},
     "output_type": "execute_result"
    }
   ],
   "source": [
    "# we want to predict values\n",
    "predicted = reg.predict(x2)\n",
    "predicted"
   ]
  },
  {
   "cell_type": "code",
   "execution_count": 15,
   "id": "ce664a8f",
   "metadata": {},
   "outputs": [
    {
     "data": {
      "image/png": "[encoded data removed]",
      "text/plain": [
       "<Figure size 640x480 with 1 Axes>"
      ]
     },
     "metadata": {},
     "output_type": "display_data"
    }
   ],
   "source": [
    "# There are different ways to plot the data - here's the matplotlib code\n",
    "plt.scatter(x2,y2)\n",
    "\n",
    "# Parametrized version of the regression line\n",
    "yhat = reg.coef_*x2 + reg.intercept_\n",
    "\n",
    "# Non-parametrized version of the regression line\n",
    "# yhat = 0.7138*x1 + 0.2045\n",
    "\n",
    "# Plotting the regression line\n",
    "fig = plt.plot(x2,yhat, lw=4, c='orange', label ='regression line')\n",
    "\n",
    "# Labelling our axes\n",
    "plt.xlabel('income', fontsize = 15)\n",
    "plt.ylabel('happiness', fontsize = 15)\n",
    "plt.show()"
   ]
  },
  {
   "cell_type": "code",
   "execution_count": 16,
   "id": "9b9c5a08",
   "metadata": {},
   "outputs": [
    {
     "data": {
      "text/plain": [
       "0      2.314489\n",
       "1      3.433490\n",
       "2      4.599373\n",
       "3      2.791114\n",
       "4      5.596398\n",
       "         ...   \n",
       "493    4.568705\n",
       "494    2.535002\n",
       "495    4.397451\n",
       "496    2.070664\n",
       "497    3.710193\n",
       "Name: happiness, Length: 498, dtype: float64"
      ]
     },
     "execution_count": 16,
     "metadata": {},
     "output_type": "execute_result"
    }
   ],
   "source": [
    "y2"
   ]
  },
  {
   "cell_type": "code",
   "execution_count": 17,
   "id": "6b5508ae",
   "metadata": {},
   "outputs": [
    {
     "data": {
      "text/plain": [
       "array([2.96152667, 3.75867986, 3.71911648, 2.49877145, 5.34125092,\n",
       "       2.86658506, 3.54106017, 3.41513166, 2.43256991, 3.51635969,\n",
       "       3.51130944, 2.18383624, 5.28633585, 5.53415794, 1.7159689 ,\n",
       "       2.03106825, 1.88518187, 1.90899797, 3.5989963 , 1.6278348 ,\n",
       "       5.42298877, 2.72287448, 1.9379753 , 2.73317421, 3.93558   ,\n",
       "       4.98118583, 2.98848252, 1.83968425, 1.9035411 , 2.02424619,\n",
       "       5.15343384, 1.52887726, 2.76620668, 5.07718449, 1.68231885,\n",
       "       3.9334414 , 1.80546213, 5.25541848, 3.19567934, 1.6008601 ,\n",
       "       3.81748253, 3.04685917, 2.39218744, 2.83320231, 2.9092617 ,\n",
       "       4.02945835, 3.91339326, 3.94556523, 5.27358764, 2.64842401,\n",
       "       1.81280411, 4.03775389, 4.64826679, 4.11807734, 3.08396537,\n",
       "       4.85143061, 4.50807707, 5.16472447, 5.34027157, 2.17252896,\n",
       "       5.1696974 , 3.53797301, 4.75012017, 4.60620474, 4.54015955,\n",
       "       4.11940272, 1.3389494 , 1.40383556, 4.13027356, 3.09090289,\n",
       "       3.77703364, 3.67601911, 1.27948795, 2.24914053, 4.40006987,\n",
       "       4.83270345, 3.7291669 , 4.219849  , 5.36399052, 4.01428572,\n",
       "       2.22141751, 4.43823125, 2.71711837, 2.51702265, 2.70150784,\n",
       "       5.33390066, 3.57293154, 2.77033175, 2.51274101, 1.2851116 ,\n",
       "       3.06138347, 4.62863499, 1.83225717, 1.76745227, 2.65565509,\n",
       "       4.43887584, 3.9931416 , 4.2476243 , 5.51459513, 1.72807525,\n",
       "       4.84504616, 2.8105781 , 1.83642914, 3.5941272 , 4.10115862,\n",
       "       2.65487961, 5.32696755, 4.13487571, 2.41542753, 3.52181443,\n",
       "       1.50936211, 2.72733395, 3.49227622, 4.03144812, 5.11491383,\n",
       "       3.28587819, 2.61925887, 3.72500575, 3.72742511, 2.06132552,\n",
       "       4.28111602, 4.57111978, 2.89640275, 5.28472369, 1.77103306,\n",
       "       4.45296121, 3.00411018, 5.25928933, 5.1658895 , 2.81749747,\n",
       "       1.48136975, 2.73145619, 3.44032354, 3.67870147, 3.09955056,\n",
       "       4.22642266, 4.10292543, 2.47864399, 3.35771278, 4.3161118 ,\n",
       "       2.85734586, 1.76223852, 3.26799785, 2.638437  , 2.76054882,\n",
       "       2.70955745, 4.95850275, 4.68123156, 2.87042127, 3.34025459,\n",
       "       2.71138042, 4.65835574, 2.83220873, 5.37330436, 4.7337572 ,\n",
       "       4.44420943, 1.95979674, 2.01673682, 4.99304289, 5.08064255,\n",
       "       3.83240129, 4.50907179, 4.89738406, 2.75569473, 4.15166012,\n",
       "       1.92414856, 3.24858598, 2.7243206 , 4.58940746, 3.88596637,\n",
       "       3.5669935 , 5.09220149, 4.10506991, 3.18558573, 2.87975496,\n",
       "       1.82788302, 1.32952047, 1.57776612, 4.41887185, 3.90833316,\n",
       "       1.54616826, 2.02049066, 2.50378334, 5.38691069, 4.83101394,\n",
       "       4.26485806, 4.93951675, 4.46776555, 2.98657516, 4.81647072,\n",
       "       4.9355318 , 2.43066304, 3.55636903, 1.32761312, 2.82427909,\n",
       "       5.33982163, 1.47522149, 1.7335413 , 2.81436338, 1.69641851,\n",
       "       2.60493496, 1.9339723 , 5.28070023, 2.37425845, 1.89834397,\n",
       "       1.62090259, 2.08054852, 5.29867174, 2.42064033, 1.31687935,\n",
       "       5.54257638, 2.21290404, 4.30486935, 4.87339476, 4.88896028,\n",
       "       4.10898517, 1.69268976, 3.48042434, 3.82657922, 5.53191411,\n",
       "       4.38293768, 2.89149506, 5.24587159, 4.75660439, 1.57543124,\n",
       "       5.46103378, 4.86969037, 5.41584102, 2.37232389, 4.98923327,\n",
       "       1.58052362, 3.21915069, 2.29057273, 3.36445346, 1.68229067,\n",
       "       3.933345  , 5.31659797, 1.78232194, 5.34885348, 1.76332598,\n",
       "       3.35580894, 3.78396948, 2.06167088, 2.28653416, 4.66164076,\n",
       "       5.10086678, 1.89691517, 4.46156686, 5.31074547, 1.8388576 ,\n",
       "       4.75578464, 2.73157269, 2.4455581 , 4.81611308, 2.08973232,\n",
       "       1.63350151, 4.76663486, 2.17708408, 5.08059632, 2.93626232,\n",
       "       2.89587148, 2.45985543, 3.84436446, 4.2091105 , 1.52939591,\n",
       "       4.03303741, 1.87186213, 3.75616005, 2.08130797, 2.0933797 ,\n",
       "       2.95956006, 3.1463241 , 4.76271774, 2.9472946 , 3.76665126,\n",
       "       2.63170325, 2.93116621, 1.56731961, 2.24471501, 5.52334166,\n",
       "       2.59862112, 4.99248716, 4.71986354, 1.58279643, 3.86515682,\n",
       "       3.25816575, 1.33173658, 2.27984812, 4.23361132, 2.75346653,\n",
       "       1.87826801, 4.37672116, 3.98646089, 2.65604683, 1.5362654 ,\n",
       "       3.84165073, 1.29700001, 1.3594624 , 4.97810501, 5.4489217 ,\n",
       "       4.47569212, 3.91336656, 3.19734607, 1.88010966, 3.56602406,\n",
       "       1.85120698, 2.15356285, 2.97570759, 2.75576377, 3.17348214,\n",
       "       1.30686979, 2.61978217, 2.78456773, 4.84690753, 1.52371444,\n",
       "       3.35960181, 4.82782762, 4.88797938, 5.33018515, 2.20947106,\n",
       "       4.26322889, 3.63087823, 1.92666865, 2.29271221, 2.47007804,\n",
       "       2.12126996, 1.72074219, 2.12733212, 3.22438676, 4.02360498,\n",
       "       3.83876975, 4.66589558, 4.00512896, 1.66654032, 1.90416394,\n",
       "       5.14390223, 1.88854726, 3.44911235, 5.42269369, 1.41596329,\n",
       "       3.40476834, 1.68899558, 3.65518659, 3.60303956, 3.25233142,\n",
       "       4.04450562, 3.24199571, 3.21409317, 4.2685966 , 2.34326332,\n",
       "       2.23828637, 2.87752812, 2.66091038, 3.2594974 , 1.50661343,\n",
       "       2.26668505, 1.7532557 , 5.18455868, 2.11998622, 1.38290774,\n",
       "       3.35675269, 2.97469766, 2.90578627, 4.67800083, 1.55363386,\n",
       "       1.46207248, 4.55086995, 4.75437543, 4.76738794, 2.49159315,\n",
       "       2.28017985, 1.88172614, 5.20418898, 2.69095232, 2.00130029,\n",
       "       4.27197034, 3.33219903, 3.61068792, 4.05537078, 4.09921741,\n",
       "       1.48084733, 2.42611853, 3.8311953 , 3.66726204, 4.92085256,\n",
       "       2.43630011, 4.88893794, 1.87681745, 1.34641478, 3.95055199,\n",
       "       2.37106013, 3.73583085, 1.32851247, 4.3028601 , 4.42331843,\n",
       "       4.62642229, 4.12502107, 3.42879482, 3.28213324, 3.5119532 ,\n",
       "       5.50359143, 1.99437956, 4.28206049, 5.07425709, 2.60814335,\n",
       "       4.7157842 , 1.84510067, 3.55917598, 5.37718888, 4.24948471,\n",
       "       3.12200504, 2.57028508, 5.03568147, 4.06303199, 2.79708695,\n",
       "       3.71982513, 2.84485767, 5.12747448, 5.21926416, 4.82673688,\n",
       "       1.37450207, 4.94118374, 3.49101516, 5.22393216, 2.41880415,\n",
       "       2.37723678, 4.61778161, 4.06967333, 2.96013368, 4.26974854,\n",
       "       4.74771192, 1.70265687, 2.70192268, 4.48337044, 5.08750143,\n",
       "       4.3122941 , 5.14874054, 1.36339007, 4.42037977, 5.54477123,\n",
       "       2.06582251, 1.38968509, 4.65539031, 2.32147096, 4.68657   ,\n",
       "       1.78925132, 1.68256752, 2.25182079, 3.00827759, 5.08380152,\n",
       "       2.65780626, 3.87302317, 4.49045089, 2.54787869, 4.42949587,\n",
       "       2.99546988, 2.09026778, 4.28797865, 2.63121748, 1.3546761 ,\n",
       "       3.61898714, 3.48179246, 4.2529743 , 4.52486449, 3.28499439,\n",
       "       4.84117725, 4.87706684, 3.55084117, 2.43606301, 5.04512388,\n",
       "       5.28635497, 5.41357074, 4.39691993, 1.33733659, 4.48851325,\n",
       "       4.2896552 , 3.94321209, 4.80840593, 3.18259076, 4.86039123,\n",
       "       5.52092601, 5.36179668, 2.54228794, 1.65463375, 2.23163532,\n",
       "       4.55972295, 4.54028055, 3.23365489, 4.00080534, 4.52461459,\n",
       "       2.45570646, 1.97625772, 2.65633366, 3.95128955, 2.6825288 ,\n",
       "       4.54976145, 2.66043468, 3.43828929])"
      ]
     },
     "execution_count": 17,
     "metadata": {},
     "output_type": "execute_result"
    }
   ],
   "source": [
    "predicted"
   ]
  },
  {
   "cell_type": "code",
   "execution_count": 18,
   "id": "e0b3afa6",
   "metadata": {},
   "outputs": [
    {
     "name": "stdout",
     "output_type": "stream",
     "text": [
      "The model performance for testing set\n",
      "--------------------------------------\n",
      "MAE is 0.574598873075896\n",
      "MSE is 0.5135973650248548\n",
      "RMSE is 0.716657076309761\n",
      "R2 score is 0.7493217544889172\n"
     ]
    }
   ],
   "source": [
    "# model evaluation for testing set\n",
    "\n",
    "mae = metrics.mean_absolute_error(y2, predicted)\n",
    "mse = metrics.mean_squared_error(y2, predicted)\n",
    "rmse = np.sqrt(mse)\n",
    "r2 = metrics.r2_score(y2, predicted)\n",
    "\n",
    "print(\"The model performance for testing set\")\n",
    "print(\"--------------------------------------\")\n",
    "print('MAE is {}'.format(mae)) # MEAN ABSOLUTE ERROR\n",
    "# actual - predicted \n",
    "print('MSE is {}'.format(mse)) # MEAN SQUARED ERROR\n",
    "# The Mean Squared Error measures how close a regression line is to a set of data points.\n",
    "print('RMSE is {}'.format(rmse)) # ROOT MEAN SQUARED ERROR\n",
    "# mse kokalti\n",
    "print('R2 score is {}'.format(r2)) # R2\n",
    "# accuracy"
   ]
  },
  {
   "cell_type": "code",
   "execution_count": 19,
   "id": "86be2bc5",
   "metadata": {},
   "outputs": [
    {
     "data": {
      "text/html": [
       "<div>\n",
       "<style scoped>\n",
       "    .dataframe tbody tr th:only-of-type {\n",
       "        vertical-align: middle;\n",
       "    }\n",
       "\n",
       "    .dataframe tbody tr th {\n",
       "        vertical-align: top;\n",
       "    }\n",
       "\n",
       "    .dataframe thead th {\n",
       "        text-align: right;\n",
       "    }\n",
       "</style>\n",
       "<table border=\"1\" class=\"dataframe\">\n",
       "  <thead>\n",
       "    <tr style=\"text-align: right;\">\n",
       "      <th></th>\n",
       "      <th>income</th>\n",
       "      <th>happiness</th>\n",
       "    </tr>\n",
       "  </thead>\n",
       "  <tbody>\n",
       "    <tr>\n",
       "      <th>0</th>\n",
       "      <td>3.862647</td>\n",
       "      <td>2.314489</td>\n",
       "    </tr>\n",
       "    <tr>\n",
       "      <th>1</th>\n",
       "      <td>4.979381</td>\n",
       "      <td>3.433490</td>\n",
       "    </tr>\n",
       "    <tr>\n",
       "      <th>2</th>\n",
       "      <td>4.923957</td>\n",
       "      <td>4.599373</td>\n",
       "    </tr>\n",
       "    <tr>\n",
       "      <th>3</th>\n",
       "      <td>3.214372</td>\n",
       "      <td>2.791114</td>\n",
       "    </tr>\n",
       "    <tr>\n",
       "      <th>4</th>\n",
       "      <td>7.196409</td>\n",
       "      <td>5.596398</td>\n",
       "    </tr>\n",
       "  </tbody>\n",
       "</table>\n",
       "</div>"
      ],
      "text/plain": [
       "     income  happiness\n",
       "0  3.862647   2.314489\n",
       "1  4.979381   3.433490\n",
       "2  4.923957   4.599373\n",
       "3  3.214372   2.791114\n",
       "4  7.196409   5.596398"
      ]
     },
     "execution_count": 19,
     "metadata": {},
     "output_type": "execute_result"
    }
   ],
   "source": [
    "data.head()"
   ]
  },
  {
   "cell_type": "code",
   "execution_count": 20,
   "id": "64ff3cb8",
   "metadata": {},
   "outputs": [
    {
     "data": {
      "text/html": [
       "<div>\n",
       "<style scoped>\n",
       "    .dataframe tbody tr th:only-of-type {\n",
       "        vertical-align: middle;\n",
       "    }\n",
       "\n",
       "    .dataframe tbody tr th {\n",
       "        vertical-align: top;\n",
       "    }\n",
       "\n",
       "    .dataframe thead th {\n",
       "        text-align: right;\n",
       "    }\n",
       "</style>\n",
       "<table border=\"1\" class=\"dataframe\">\n",
       "  <thead>\n",
       "    <tr style=\"text-align: right;\">\n",
       "      <th></th>\n",
       "      <th>income</th>\n",
       "    </tr>\n",
       "  </thead>\n",
       "  <tbody>\n",
       "    <tr>\n",
       "      <th>0</th>\n",
       "      <td>3.862647</td>\n",
       "    </tr>\n",
       "    <tr>\n",
       "      <th>1</th>\n",
       "      <td>4.979381</td>\n",
       "    </tr>\n",
       "    <tr>\n",
       "      <th>2</th>\n",
       "      <td>4.923957</td>\n",
       "    </tr>\n",
       "    <tr>\n",
       "      <th>3</th>\n",
       "      <td>3.214372</td>\n",
       "    </tr>\n",
       "    <tr>\n",
       "      <th>4</th>\n",
       "      <td>7.196409</td>\n",
       "    </tr>\n",
       "  </tbody>\n",
       "</table>\n",
       "</div>"
      ],
      "text/plain": [
       "     income\n",
       "0  3.862647\n",
       "1  4.979381\n",
       "2  4.923957\n",
       "3  3.214372\n",
       "4  7.196409"
      ]
     },
     "execution_count": 20,
     "metadata": {},
     "output_type": "execute_result"
    }
   ],
   "source": [
    "new_data = pd.DataFrame(data=[3.862647,4.979381,4.923957,3.214372,7.196409],columns=['income'])\n",
    "new_data"
   ]
  },
  {
   "cell_type": "code",
   "execution_count": 21,
   "id": "310e3c68",
   "metadata": {},
   "outputs": [],
   "source": [
    "new_predict=reg.predict(new_data)"
   ]
  },
  {
   "cell_type": "code",
   "execution_count": 22,
   "id": "cbd385ad",
   "metadata": {},
   "outputs": [
    {
     "data": {
      "text/html": [
       "<div>\n",
       "<style scoped>\n",
       "    .dataframe tbody tr th:only-of-type {\n",
       "        vertical-align: middle;\n",
       "    }\n",
       "\n",
       "    .dataframe tbody tr th {\n",
       "        vertical-align: top;\n",
       "    }\n",
       "\n",
       "    .dataframe thead th {\n",
       "        text-align: right;\n",
       "    }\n",
       "</style>\n",
       "<table border=\"1\" class=\"dataframe\">\n",
       "  <thead>\n",
       "    <tr style=\"text-align: right;\">\n",
       "      <th></th>\n",
       "      <th>income</th>\n",
       "      <th>actual</th>\n",
       "      <th>prediction</th>\n",
       "    </tr>\n",
       "  </thead>\n",
       "  <tbody>\n",
       "    <tr>\n",
       "      <th>0</th>\n",
       "      <td>3.862647</td>\n",
       "      <td>2.314489</td>\n",
       "      <td>2.961526</td>\n",
       "    </tr>\n",
       "    <tr>\n",
       "      <th>1</th>\n",
       "      <td>4.979381</td>\n",
       "      <td>3.433490</td>\n",
       "      <td>3.758680</td>\n",
       "    </tr>\n",
       "    <tr>\n",
       "      <th>2</th>\n",
       "      <td>4.923957</td>\n",
       "      <td>4.599373</td>\n",
       "      <td>3.719117</td>\n",
       "    </tr>\n",
       "    <tr>\n",
       "      <th>3</th>\n",
       "      <td>3.214372</td>\n",
       "      <td>2.791114</td>\n",
       "      <td>2.498771</td>\n",
       "    </tr>\n",
       "    <tr>\n",
       "      <th>4</th>\n",
       "      <td>7.196409</td>\n",
       "      <td>5.596398</td>\n",
       "      <td>5.341251</td>\n",
       "    </tr>\n",
       "  </tbody>\n",
       "</table>\n",
       "</div>"
      ],
      "text/plain": [
       "     income    actual  prediction\n",
       "0  3.862647  2.314489    2.961526\n",
       "1  4.979381  3.433490    3.758680\n",
       "2  4.923957  4.599373    3.719117\n",
       "3  3.214372  2.791114    2.498771\n",
       "4  7.196409  5.596398    5.341251"
      ]
     },
     "execution_count": 22,
     "metadata": {},
     "output_type": "execute_result"
    }
   ],
   "source": [
    "new_data['actual']=data['happiness']\n",
    "new_data['prediction']=new_predict\n",
    "\n",
    "new_data"
   ]
  },
  {
   "cell_type": "code",
   "execution_count": null,
   "id": "c880fd13",
   "metadata": {},
   "outputs": [],
   "source": []
  },
  {
   "cell_type": "markdown",
   "id": "29bdd4be",
   "metadata": {},
   "source": [
    "# Train - test"
   ]
  },
  {
   "cell_type": "code",
   "execution_count": 23,
   "id": "696a293c",
   "metadata": {},
   "outputs": [],
   "source": [
    "# Following the regression equation, our dependent variable (y) is the happiness\n",
    "y = data['happiness']\n",
    "# Similarly, our independent variable (x) is the income score\n",
    "x = data[['income']]"
   ]
  },
  {
   "cell_type": "code",
   "execution_count": 24,
   "id": "23eccf2a",
   "metadata": {},
   "outputs": [],
   "source": [
    "X_train, X_test, y_train, y_test = train_test_split(x, y, test_size = 0.2, random_state=42)"
   ]
  },
  {
   "cell_type": "code",
   "execution_count": 25,
   "id": "61946455",
   "metadata": {},
   "outputs": [],
   "source": [
    "reg = LinearRegression()"
   ]
  },
  {
   "cell_type": "code",
   "execution_count": 26,
   "id": "36005698",
   "metadata": {},
   "outputs": [
    {
     "data": {
      "text/plain": [
       "LinearRegression()"
      ]
     },
     "execution_count": 26,
     "metadata": {},
     "output_type": "execute_result"
    }
   ],
   "source": [
    "reg.fit(X_train, y_train)"
   ]
  },
  {
   "cell_type": "code",
   "execution_count": 27,
   "id": "e93af6e0",
   "metadata": {},
   "outputs": [
    {
     "data": {
      "text/plain": [
       "array([0.7247687])"
      ]
     },
     "execution_count": 27,
     "metadata": {},
     "output_type": "execute_result"
    }
   ],
   "source": [
    "reg.coef_"
   ]
  },
  {
   "cell_type": "code",
   "execution_count": 28,
   "id": "71ac1c12",
   "metadata": {},
   "outputs": [
    {
     "data": {
      "text/plain": [
       "0.14170387227353665"
      ]
     },
     "execution_count": 28,
     "metadata": {},
     "output_type": "execute_result"
    }
   ],
   "source": [
    "reg.intercept_"
   ]
  },
  {
   "cell_type": "code",
   "execution_count": 29,
   "id": "e8e1447c",
   "metadata": {},
   "outputs": [
    {
     "data": {
      "image/png": "[encoded data removed]",
      "text/plain": [
       "<Figure size 640x480 with 1 Axes>"
      ]
     },
     "metadata": {},
     "output_type": "display_data"
    }
   ],
   "source": [
    "# Create a scatter plot\n",
    "plt.scatter(x1,y)\n",
    "\n",
    "# Define the regression equation, so we can plot it later\n",
    "yhat = reg.coef_*x + reg.intercept_\n",
    "\n",
    "# Plot the regression line against the independent variable (SAT) , lw - line width\n",
    "fig = plt.plot(x1,yhat, lw=4, c='orange')\n",
    "# Label the axes\n",
    "plt.xlabel('income', fontsize = 15)\n",
    "plt.ylabel('happiness', fontsize = 15)\n",
    "plt.show()"
   ]
  },
  {
   "cell_type": "code",
   "execution_count": 30,
   "id": "8c33fe59",
   "metadata": {},
   "outputs": [],
   "source": [
    "y_pred = reg.predict(X_test)"
   ]
  },
  {
   "cell_type": "code",
   "execution_count": 31,
   "id": "ad1176b3",
   "metadata": {},
   "outputs": [
    {
     "data": {
      "text/plain": [
       "array([3.21752987, 2.21792257, 3.20280332, 1.79020704, 1.74394749,\n",
       "       2.39018719, 4.44664262, 4.86010664, 1.89050708, 3.50456863,\n",
       "       4.09833273, 2.4318678 , 2.85594355, 3.54519132, 2.78796716,\n",
       "       1.80768864, 2.52124048, 5.16673969, 2.45094439, 3.996441  ,\n",
       "       1.83486036, 2.72998006, 2.63135811, 1.23340488, 4.61112137,\n",
       "       1.72884986, 2.46409207, 5.3782968 , 4.21884267, 4.12789401,\n",
       "       1.34529138, 3.72063824, 2.83545189, 3.71043375, 4.0008309 ,\n",
       "       4.01012804, 1.2713695 , 2.47646914, 1.31859325, 2.24910091,\n",
       "       5.35598486, 4.42244764, 5.0893214 , 4.83614181, 2.94122983,\n",
       "       2.15161714, 1.6263909 , 3.1687238 , 2.67722482, 1.46401227,\n",
       "       4.0291672 , 2.98869745, 5.14038236, 3.7164133 , 3.58847209,\n",
       "       3.3425148 , 3.54804131, 3.94616611, 4.93059286, 3.81954393,\n",
       "       4.89818897, 1.55970378, 5.09603988, 2.34495858, 2.2134292 ,\n",
       "       5.38998089, 4.72238072, 3.7692388 , 2.40771063, 5.32646295,\n",
       "       4.52828042, 3.42736682, 3.04261746, 3.07258943, 1.94085637,\n",
       "       3.12886027, 5.11336675, 5.38052427, 2.69307466, 4.2524758 ,\n",
       "       4.26288758, 1.61430179, 2.70763229, 3.93796482, 3.18066442,\n",
       "       1.73248554, 3.64552379, 4.26950719, 2.98446615, 2.04751707,\n",
       "       4.48640398, 3.56200774, 4.84109238, 5.16197444, 1.99650716,\n",
       "       4.46426615, 3.65778436, 1.58709201, 3.62084278, 4.67172729])"
      ]
     },
     "execution_count": 31,
     "metadata": {},
     "output_type": "execute_result"
    }
   ],
   "source": [
    "y_pred"
   ]
  },
  {
   "cell_type": "code",
   "execution_count": 32,
   "id": "8a5c980a",
   "metadata": {},
   "outputs": [
    {
     "data": {
      "text/html": [
       "<div>\n",
       "<style scoped>\n",
       "    .dataframe tbody tr th:only-of-type {\n",
       "        vertical-align: middle;\n",
       "    }\n",
       "\n",
       "    .dataframe tbody tr th {\n",
       "        vertical-align: top;\n",
       "    }\n",
       "\n",
       "    .dataframe thead th {\n",
       "        text-align: right;\n",
       "    }\n",
       "</style>\n",
       "<table border=\"1\" class=\"dataframe\">\n",
       "  <thead>\n",
       "    <tr style=\"text-align: right;\">\n",
       "      <th></th>\n",
       "      <th>income</th>\n",
       "      <th>actual</th>\n",
       "      <th>predicted</th>\n",
       "    </tr>\n",
       "  </thead>\n",
       "  <tbody>\n",
       "    <tr>\n",
       "      <th>487</th>\n",
       "      <td>4.243873</td>\n",
       "      <td>4.754168</td>\n",
       "      <td>3.217530</td>\n",
       "    </tr>\n",
       "    <tr>\n",
       "      <th>73</th>\n",
       "      <td>2.864664</td>\n",
       "      <td>4.159609</td>\n",
       "      <td>2.217923</td>\n",
       "    </tr>\n",
       "    <tr>\n",
       "      <th>231</th>\n",
       "      <td>4.223554</td>\n",
       "      <td>2.295700</td>\n",
       "      <td>3.202803</td>\n",
       "    </tr>\n",
       "    <tr>\n",
       "      <th>175</th>\n",
       "      <td>2.274523</td>\n",
       "      <td>2.311554</td>\n",
       "      <td>1.790207</td>\n",
       "    </tr>\n",
       "    <tr>\n",
       "      <th>237</th>\n",
       "      <td>2.210696</td>\n",
       "      <td>2.861274</td>\n",
       "      <td>1.743947</td>\n",
       "    </tr>\n",
       "    <tr>\n",
       "      <th>...</th>\n",
       "      <td>...</td>\n",
       "      <td>...</td>\n",
       "      <td>...</td>\n",
       "    </tr>\n",
       "    <tr>\n",
       "      <th>247</th>\n",
       "      <td>5.964058</td>\n",
       "      <td>3.427723</td>\n",
       "      <td>4.464266</td>\n",
       "    </tr>\n",
       "    <tr>\n",
       "      <th>383</th>\n",
       "      <td>4.851314</td>\n",
       "      <td>3.835578</td>\n",
       "      <td>3.657784</td>\n",
       "    </tr>\n",
       "    <tr>\n",
       "      <th>19</th>\n",
       "      <td>1.994275</td>\n",
       "      <td>2.584729</td>\n",
       "      <td>1.587092</td>\n",
       "    </tr>\n",
       "    <tr>\n",
       "      <th>321</th>\n",
       "      <td>4.800344</td>\n",
       "      <td>2.842868</td>\n",
       "      <td>3.620843</td>\n",
       "    </tr>\n",
       "    <tr>\n",
       "      <th>331</th>\n",
       "      <td>6.250302</td>\n",
       "      <td>4.939259</td>\n",
       "      <td>4.671727</td>\n",
       "    </tr>\n",
       "  </tbody>\n",
       "</table>\n",
       "<p>100 rows × 3 columns</p>\n",
       "</div>"
      ],
      "text/plain": [
       "       income    actual  predicted\n",
       "487  4.243873  4.754168   3.217530\n",
       "73   2.864664  4.159609   2.217923\n",
       "231  4.223554  2.295700   3.202803\n",
       "175  2.274523  2.311554   1.790207\n",
       "237  2.210696  2.861274   1.743947\n",
       "..        ...       ...        ...\n",
       "247  5.964058  3.427723   4.464266\n",
       "383  4.851314  3.835578   3.657784\n",
       "19   1.994275  2.584729   1.587092\n",
       "321  4.800344  2.842868   3.620843\n",
       "331  6.250302  4.939259   4.671727\n",
       "\n",
       "[100 rows x 3 columns]"
      ]
     },
     "execution_count": 32,
     "metadata": {},
     "output_type": "execute_result"
    }
   ],
   "source": [
    "X_test['actual'] = y_test\n",
    "X_test['predicted'] = y_pred\n",
    "\n",
    "X_test"
   ]
  },
  {
   "cell_type": "code",
   "execution_count": 33,
   "id": "3e6a784a",
   "metadata": {},
   "outputs": [
    {
     "name": "stdout",
     "output_type": "stream",
     "text": [
      "The model performance for testing set\n",
      "--------------------------------------\n",
      "MAE is 0.6269683431894553\n",
      "MSE is 0.590146394343082\n",
      "RMSE is 0.768209863476825\n",
      "R2 score is 0.6662585264303966\n"
     ]
    }
   ],
   "source": [
    "# model evaluation for testing set\n",
    "\n",
    "mae = metrics.mean_absolute_error(y_test, y_pred)\n",
    "mse = metrics.mean_squared_error(y_test, y_pred)\n",
    "rmse = np.sqrt(mse)\n",
    "r2 = metrics.r2_score(y_test, y_pred)\n",
    "\n",
    "print(\"The model performance for testing set\")\n",
    "print(\"--------------------------------------\")\n",
    "print('MAE is {}'.format(mae))\n",
    "print('MSE is {}'.format(mse))\n",
    "print('RMSE is {}'.format(rmse))\n",
    "print('R2 score is {}'.format(r2))"
   ]
  }
 ],
 "metadata": {
  "kernelspec": {
   "display_name": "Python 3 (ipykernel)",
   "language": "python",
   "name": "python3"
  },
  "language_info": {
   "codemirror_mode": {
    "name": "ipython",
    "version": 3
   },
   "file_extension": ".py",
   "mimetype": "text/x-python",
   "name": "python",
   "nbconvert_exporter": "python",
   "pygments_lexer": "ipython3",
   "version": "3.9.13"
  }
 },
 "nbformat": 4,
 "nbformat_minor": 5
}
