{
 "cells": [
  {
   "cell_type": "markdown",
   "id": "e12492a4",
   "metadata": {},
   "source": [
    "# Homework"
   ]
  },
  {
   "cell_type": "markdown",
   "id": "e178a51e",
   "metadata": {},
   "source": [
    "1. Create a function named merge_lists that accepts 2 lists.\n",
    "\n",
    "1st list = [1,2,3,4]\n",
    "\n",
    "2nd list = ['a','b','c']\n",
    "\n",
    "The function is supposed to merge both of those lists together\n",
    "and return the result.\n",
    "    \n",
    "Output:\n",
    "    \n",
    "[1, 2, 3, 4, 'a', 'b', 'c']"
   ]
  },
  {
   "cell_type": "code",
   "execution_count": 73,
   "id": "51af3b80",
   "metadata": {},
   "outputs": [
    {
     "name": "stdout",
     "output_type": "stream",
     "text": [
      "[1, 2, 3, 4, 'a', 'b', 'c']\n"
     ]
    }
   ],
   "source": [
    "def merge_lists(list1, list2):\n",
    "\n",
    "    lists = list1 + list2\n",
    "    return lists\n",
    "\n",
    "print(merge_lists([1,2,3,4],['a','b','c'] ))\n"
   ]
  },
  {
   "cell_type": "markdown",
   "id": "a261d5a9",
   "metadata": {},
   "source": [
    "2. Create a function called multi_merge that takes a list and a string\n",
    "as arguments.\n",
    "\n",
    "\n",
    "List is [1,2,3,4]\n",
    "\n",
    "String is \"Python Programming Language\"\n",
    "\n",
    "Output:\n",
    "\n",
    "[1, 2, 3, 4, 'P', 'y', 't', 'h', 'o', 'n', ' ', 'P', 'r', 'o', 'g', 'r', 'a', 'm', 'm', 'i', 'n', 'g', ' ', 'L', 'a', 'n', 'g', 'u', 'a', 'g', 'e']"
   ]
  },
  {
   "cell_type": "code",
   "execution_count": 72,
   "id": "ecb322ac",
   "metadata": {},
   "outputs": [
    {
     "name": "stdout",
     "output_type": "stream",
     "text": [
      "[1, 2, 3, 4, 'P', 'y', 't', 'h', 'o', 'n', ' ', 'P', 'r', 'o', 'g', 'r', 'a', 'm', 'm', 'i', 'n', 'g', ' ', 'L', 'a', 'n', 'g', 'u', 'a', 'g', 'e']\n"
     ]
    }
   ],
   "source": [
    "def multi_merge(list1, str):\n",
    "    \n",
    "    return list1 + list(str)\n",
    "\n",
    "print(multi_merge([1,2,3,4], \"Python Programming Language\"))\n"
   ]
  },
  {
   "cell_type": "markdown",
   "id": "17721b24",
   "metadata": {},
   "source": [
    "3. Define a function called last_list that can accept an unlimited number\n",
    "of lists but returns only the last list.\n",
    "\n",
    "Example:\n",
    "\n",
    "For example, the below function call should return ['x', 'y']\n",
    "    \n",
    "last_list([1,2,3,4,5], ['a', 'b', 'c'], ['x', 'y'])\n",
    "\n",
    "Output:\n",
    "\n",
    "['x', 'y']"
   ]
  },
  {
   "cell_type": "code",
   "execution_count": 82,
   "id": "06430599",
   "metadata": {},
   "outputs": [
    {
     "name": "stdout",
     "output_type": "stream",
     "text": [
      "['x', 'y']\n"
     ]
    }
   ],
   "source": [
    "def last_list(*args):\n",
    "    return args[-1]\n",
    "\n",
    "print(last_list([1,2,3,4,5], ['a', 'b', 'c', 'd', 'e'], ['x', 'y']))"
   ]
  },
  {
   "cell_type": "markdown",
   "id": "08b1168b",
   "metadata": {},
   "source": [
    "4. Define a function called key_list_items that can accept an unlimited number\n",
    "of lists along with another argument. The function should return\n",
    "the second_folder to last item in the specific list specified by the user of the function.\n",
    "\n",
    "Example:\n",
    "\n",
    "given lists: things = ['book', 'tv'], people=['pete', 'mike', 'jan', 'tom'],\n",
    "                        ages=[20, 30, 40]\n",
    "\n",
    "Your function should return: mike\n",
    "    \n",
    "Output:\n",
    "\n",
    "mike\n"
   ]
  },
  {
   "cell_type": "code",
   "execution_count": 83,
   "id": "e2b2bbe9",
   "metadata": {},
   "outputs": [
    {
     "name": "stdout",
     "output_type": "stream",
     "text": [
      "mike\n"
     ]
    }
   ],
   "source": [
    "def key_list_items(list_name, **kwargs):\n",
    "     return kwargs[list_name][1]\n",
    "\n",
    "result = key_list_items(\"people\", things=['book', 'tv', 'shoes'], people=['pete', 'mike', 'jan', 'tom'],\n",
    "                 ages=[20, 30, 40])\n",
    "print(result)"
   ]
  }
 ],
 "metadata": {
  "kernelspec": {
   "display_name": "Python 3 (ipykernel)",
   "language": "python",
   "name": "python3"
  },
  "language_info": {
   "codemirror_mode": {
    "name": "ipython",
    "version": 3
   },
   "file_extension": ".py",
   "mimetype": "text/x-python",
   "name": "python",
   "nbconvert_exporter": "python",
   "pygments_lexer": "ipython3",
   "version": "3.9.13"
  }
 },
 "nbformat": 4,
 "nbformat_minor": 5
}
