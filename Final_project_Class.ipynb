{
 "cells": [
  {
   "cell_type": "markdown",
   "id": "30ecf183",
   "metadata": {},
   "source": [
    "# Importing Libraries"
   ]
  },
  {
   "cell_type": "code",
   "execution_count": 1,
   "id": "e10e0798",
   "metadata": {},
   "outputs": [],
   "source": [
    "import pandas as pd\n",
    "import numpy as np\n",
    "import seaborn as sns\n",
    "import matplotlib.pyplot as plt\n",
    "sns.set()\n",
    "\n",
    "from sklearn.linear_model import LogisticRegression\n",
    "from sklearn.model_selection import train_test_split\n",
    "from sklearn.metrics import mean_squared_error\n",
    "\n",
    "from sklearn import metrics\n",
    "\n",
    "from sklearn.metrics import confusion_matrix, classification_report\n",
    "\n",
    "from sklearn.metrics import accuracy_score, confusion_matrix\n",
    "\n",
    "from imblearn.over_sampling import RandomOverSampler\n",
    "from imblearn.under_sampling import RandomUnderSampler\n",
    "\n",
    "from collections import Counter\n",
    "\n",
    "from sklearn.preprocessing import LabelEncoder\n",
    "\n",
    "pd.set_option('display.max_columns', None)\n",
    "pd.set_option('display.max_rows', None)"
   ]
  },
  {
   "cell_type": "markdown",
   "id": "b2ee8890",
   "metadata": {},
   "source": [
    "# Read Data"
   ]
  },
  {
   "cell_type": "code",
   "execution_count": 2,
   "id": "27e73b38",
   "metadata": {},
   "outputs": [
    {
     "data": {
      "text/html": [
       "<div>\n",
       "<style scoped>\n",
       "    .dataframe tbody tr th:only-of-type {\n",
       "        vertical-align: middle;\n",
       "    }\n",
       "\n",
       "    .dataframe tbody tr th {\n",
       "        vertical-align: top;\n",
       "    }\n",
       "\n",
       "    .dataframe thead th {\n",
       "        text-align: right;\n",
       "    }\n",
       "</style>\n",
       "<table border=\"1\" class=\"dataframe\">\n",
       "  <thead>\n",
       "    <tr style=\"text-align: right;\">\n",
       "      <th></th>\n",
       "      <th>ID</th>\n",
       "      <th>LIMIT_BAL</th>\n",
       "      <th>SEX</th>\n",
       "      <th>EDUCATION</th>\n",
       "      <th>MARRIAGE</th>\n",
       "      <th>AGE</th>\n",
       "      <th>PAY_0</th>\n",
       "      <th>PAY_2</th>\n",
       "      <th>PAY_3</th>\n",
       "      <th>PAY_4</th>\n",
       "      <th>PAY_5</th>\n",
       "      <th>PAY_6</th>\n",
       "      <th>BILL_AMT1</th>\n",
       "      <th>BILL_AMT2</th>\n",
       "      <th>BILL_AMT3</th>\n",
       "      <th>BILL_AMT4</th>\n",
       "      <th>BILL_AMT5</th>\n",
       "      <th>BILL_AMT6</th>\n",
       "      <th>PAY_AMT1</th>\n",
       "      <th>PAY_AMT2</th>\n",
       "      <th>PAY_AMT3</th>\n",
       "      <th>PAY_AMT4</th>\n",
       "      <th>PAY_AMT5</th>\n",
       "      <th>PAY_AMT6</th>\n",
       "      <th>default</th>\n",
       "    </tr>\n",
       "  </thead>\n",
       "  <tbody>\n",
       "    <tr>\n",
       "      <th>0</th>\n",
       "      <td>1</td>\n",
       "      <td>20000</td>\n",
       "      <td>female</td>\n",
       "      <td>university</td>\n",
       "      <td>married</td>\n",
       "      <td>24</td>\n",
       "      <td>2</td>\n",
       "      <td>2</td>\n",
       "      <td>-1</td>\n",
       "      <td>-1</td>\n",
       "      <td>-2</td>\n",
       "      <td>-2</td>\n",
       "      <td>3913</td>\n",
       "      <td>3102</td>\n",
       "      <td>689</td>\n",
       "      <td>0</td>\n",
       "      <td>0</td>\n",
       "      <td>0</td>\n",
       "      <td>0</td>\n",
       "      <td>689</td>\n",
       "      <td>0</td>\n",
       "      <td>0</td>\n",
       "      <td>0</td>\n",
       "      <td>0</td>\n",
       "      <td>1</td>\n",
       "    </tr>\n",
       "    <tr>\n",
       "      <th>1</th>\n",
       "      <td>2</td>\n",
       "      <td>120000</td>\n",
       "      <td>female</td>\n",
       "      <td>university</td>\n",
       "      <td>single</td>\n",
       "      <td>26</td>\n",
       "      <td>-1</td>\n",
       "      <td>2</td>\n",
       "      <td>0</td>\n",
       "      <td>0</td>\n",
       "      <td>0</td>\n",
       "      <td>2</td>\n",
       "      <td>2682</td>\n",
       "      <td>1725</td>\n",
       "      <td>2682</td>\n",
       "      <td>3272</td>\n",
       "      <td>3455</td>\n",
       "      <td>3261</td>\n",
       "      <td>0</td>\n",
       "      <td>1000</td>\n",
       "      <td>1000</td>\n",
       "      <td>1000</td>\n",
       "      <td>0</td>\n",
       "      <td>2000</td>\n",
       "      <td>1</td>\n",
       "    </tr>\n",
       "    <tr>\n",
       "      <th>2</th>\n",
       "      <td>3</td>\n",
       "      <td>90000</td>\n",
       "      <td>female</td>\n",
       "      <td>university</td>\n",
       "      <td>single</td>\n",
       "      <td>34</td>\n",
       "      <td>0</td>\n",
       "      <td>0</td>\n",
       "      <td>0</td>\n",
       "      <td>0</td>\n",
       "      <td>0</td>\n",
       "      <td>0</td>\n",
       "      <td>29239</td>\n",
       "      <td>14027</td>\n",
       "      <td>13559</td>\n",
       "      <td>14331</td>\n",
       "      <td>14948</td>\n",
       "      <td>15549</td>\n",
       "      <td>1518</td>\n",
       "      <td>1500</td>\n",
       "      <td>1000</td>\n",
       "      <td>1000</td>\n",
       "      <td>1000</td>\n",
       "      <td>5000</td>\n",
       "      <td>0</td>\n",
       "    </tr>\n",
       "    <tr>\n",
       "      <th>3</th>\n",
       "      <td>4</td>\n",
       "      <td>50000</td>\n",
       "      <td>female</td>\n",
       "      <td>university</td>\n",
       "      <td>married</td>\n",
       "      <td>37</td>\n",
       "      <td>0</td>\n",
       "      <td>0</td>\n",
       "      <td>0</td>\n",
       "      <td>0</td>\n",
       "      <td>0</td>\n",
       "      <td>0</td>\n",
       "      <td>46990</td>\n",
       "      <td>48233</td>\n",
       "      <td>49291</td>\n",
       "      <td>28314</td>\n",
       "      <td>28959</td>\n",
       "      <td>29547</td>\n",
       "      <td>2000</td>\n",
       "      <td>2019</td>\n",
       "      <td>1200</td>\n",
       "      <td>1100</td>\n",
       "      <td>1069</td>\n",
       "      <td>1000</td>\n",
       "      <td>0</td>\n",
       "    </tr>\n",
       "    <tr>\n",
       "      <th>4</th>\n",
       "      <td>5</td>\n",
       "      <td>50000</td>\n",
       "      <td>male</td>\n",
       "      <td>university</td>\n",
       "      <td>married</td>\n",
       "      <td>57</td>\n",
       "      <td>-1</td>\n",
       "      <td>0</td>\n",
       "      <td>-1</td>\n",
       "      <td>0</td>\n",
       "      <td>0</td>\n",
       "      <td>0</td>\n",
       "      <td>8617</td>\n",
       "      <td>5670</td>\n",
       "      <td>35835</td>\n",
       "      <td>20940</td>\n",
       "      <td>19146</td>\n",
       "      <td>19131</td>\n",
       "      <td>2000</td>\n",
       "      <td>36681</td>\n",
       "      <td>10000</td>\n",
       "      <td>9000</td>\n",
       "      <td>689</td>\n",
       "      <td>679</td>\n",
       "      <td>0</td>\n",
       "    </tr>\n",
       "  </tbody>\n",
       "</table>\n",
       "</div>"
      ],
      "text/plain": [
       "   ID  LIMIT_BAL     SEX   EDUCATION MARRIAGE  AGE  PAY_0  PAY_2  PAY_3  \\\n",
       "0   1      20000  female  university  married   24      2      2     -1   \n",
       "1   2     120000  female  university   single   26     -1      2      0   \n",
       "2   3      90000  female  university   single   34      0      0      0   \n",
       "3   4      50000  female  university  married   37      0      0      0   \n",
       "4   5      50000    male  university  married   57     -1      0     -1   \n",
       "\n",
       "   PAY_4  PAY_5  PAY_6  BILL_AMT1  BILL_AMT2  BILL_AMT3  BILL_AMT4  BILL_AMT5  \\\n",
       "0     -1     -2     -2       3913       3102        689          0          0   \n",
       "1      0      0      2       2682       1725       2682       3272       3455   \n",
       "2      0      0      0      29239      14027      13559      14331      14948   \n",
       "3      0      0      0      46990      48233      49291      28314      28959   \n",
       "4      0      0      0       8617       5670      35835      20940      19146   \n",
       "\n",
       "   BILL_AMT6  PAY_AMT1  PAY_AMT2  PAY_AMT3  PAY_AMT4  PAY_AMT5  PAY_AMT6  \\\n",
       "0          0         0       689         0         0         0         0   \n",
       "1       3261         0      1000      1000      1000         0      2000   \n",
       "2      15549      1518      1500      1000      1000      1000      5000   \n",
       "3      29547      2000      2019      1200      1100      1069      1000   \n",
       "4      19131      2000     36681     10000      9000       689       679   \n",
       "\n",
       "   default  \n",
       "0        1  \n",
       "1        1  \n",
       "2        0  \n",
       "3        0  \n",
       "4        0  "
      ]
     },
     "execution_count": 2,
     "metadata": {},
     "output_type": "execute_result"
    }
   ],
   "source": [
    "data = pd.read_excel('default of credit card clients.xls')\n",
    "data.head()"
   ]
  },
  {
   "cell_type": "markdown",
   "id": "edc610ff",
   "metadata": {},
   "source": [
    "# Preprocessing"
   ]
  },
  {
   "cell_type": "code",
   "execution_count": 3,
   "id": "84324164",
   "metadata": {},
   "outputs": [
    {
     "data": {
      "text/html": [
       "<div>\n",
       "<style scoped>\n",
       "    .dataframe tbody tr th:only-of-type {\n",
       "        vertical-align: middle;\n",
       "    }\n",
       "\n",
       "    .dataframe tbody tr th {\n",
       "        vertical-align: top;\n",
       "    }\n",
       "\n",
       "    .dataframe thead th {\n",
       "        text-align: right;\n",
       "    }\n",
       "</style>\n",
       "<table border=\"1\" class=\"dataframe\">\n",
       "  <thead>\n",
       "    <tr style=\"text-align: right;\">\n",
       "      <th></th>\n",
       "      <th>ID</th>\n",
       "      <th>LIMIT_BAL</th>\n",
       "      <th>SEX</th>\n",
       "      <th>EDUCATION</th>\n",
       "      <th>MARRIAGE</th>\n",
       "      <th>AGE</th>\n",
       "      <th>PAY_0</th>\n",
       "      <th>PAY_2</th>\n",
       "      <th>PAY_3</th>\n",
       "      <th>PAY_4</th>\n",
       "      <th>PAY_5</th>\n",
       "      <th>PAY_6</th>\n",
       "      <th>BILL_AMT1</th>\n",
       "      <th>BILL_AMT2</th>\n",
       "      <th>BILL_AMT3</th>\n",
       "      <th>BILL_AMT4</th>\n",
       "      <th>BILL_AMT5</th>\n",
       "      <th>BILL_AMT6</th>\n",
       "      <th>PAY_AMT1</th>\n",
       "      <th>PAY_AMT2</th>\n",
       "      <th>PAY_AMT3</th>\n",
       "      <th>PAY_AMT4</th>\n",
       "      <th>PAY_AMT5</th>\n",
       "      <th>PAY_AMT6</th>\n",
       "      <th>default</th>\n",
       "    </tr>\n",
       "  </thead>\n",
       "  <tbody>\n",
       "    <tr>\n",
       "      <th>count</th>\n",
       "      <td>30000.000000</td>\n",
       "      <td>30000.000000</td>\n",
       "      <td>30000</td>\n",
       "      <td>30000</td>\n",
       "      <td>30000</td>\n",
       "      <td>30000.000000</td>\n",
       "      <td>30000.000000</td>\n",
       "      <td>30000.000000</td>\n",
       "      <td>30000.000000</td>\n",
       "      <td>30000.000000</td>\n",
       "      <td>30000.000000</td>\n",
       "      <td>30000.000000</td>\n",
       "      <td>30000.000000</td>\n",
       "      <td>30000.000000</td>\n",
       "      <td>3.000000e+04</td>\n",
       "      <td>30000.000000</td>\n",
       "      <td>30000.000000</td>\n",
       "      <td>30000.000000</td>\n",
       "      <td>30000.000000</td>\n",
       "      <td>3.000000e+04</td>\n",
       "      <td>30000.00000</td>\n",
       "      <td>30000.000000</td>\n",
       "      <td>30000.000000</td>\n",
       "      <td>30000.000000</td>\n",
       "      <td>30000.000000</td>\n",
       "    </tr>\n",
       "    <tr>\n",
       "      <th>unique</th>\n",
       "      <td>NaN</td>\n",
       "      <td>NaN</td>\n",
       "      <td>2</td>\n",
       "      <td>5</td>\n",
       "      <td>3</td>\n",
       "      <td>NaN</td>\n",
       "      <td>NaN</td>\n",
       "      <td>NaN</td>\n",
       "      <td>NaN</td>\n",
       "      <td>NaN</td>\n",
       "      <td>NaN</td>\n",
       "      <td>NaN</td>\n",
       "      <td>NaN</td>\n",
       "      <td>NaN</td>\n",
       "      <td>NaN</td>\n",
       "      <td>NaN</td>\n",
       "      <td>NaN</td>\n",
       "      <td>NaN</td>\n",
       "      <td>NaN</td>\n",
       "      <td>NaN</td>\n",
       "      <td>NaN</td>\n",
       "      <td>NaN</td>\n",
       "      <td>NaN</td>\n",
       "      <td>NaN</td>\n",
       "      <td>NaN</td>\n",
       "    </tr>\n",
       "    <tr>\n",
       "      <th>top</th>\n",
       "      <td>NaN</td>\n",
       "      <td>NaN</td>\n",
       "      <td>female</td>\n",
       "      <td>university</td>\n",
       "      <td>single</td>\n",
       "      <td>NaN</td>\n",
       "      <td>NaN</td>\n",
       "      <td>NaN</td>\n",
       "      <td>NaN</td>\n",
       "      <td>NaN</td>\n",
       "      <td>NaN</td>\n",
       "      <td>NaN</td>\n",
       "      <td>NaN</td>\n",
       "      <td>NaN</td>\n",
       "      <td>NaN</td>\n",
       "      <td>NaN</td>\n",
       "      <td>NaN</td>\n",
       "      <td>NaN</td>\n",
       "      <td>NaN</td>\n",
       "      <td>NaN</td>\n",
       "      <td>NaN</td>\n",
       "      <td>NaN</td>\n",
       "      <td>NaN</td>\n",
       "      <td>NaN</td>\n",
       "      <td>NaN</td>\n",
       "    </tr>\n",
       "    <tr>\n",
       "      <th>freq</th>\n",
       "      <td>NaN</td>\n",
       "      <td>NaN</td>\n",
       "      <td>18112</td>\n",
       "      <td>14030</td>\n",
       "      <td>15964</td>\n",
       "      <td>NaN</td>\n",
       "      <td>NaN</td>\n",
       "      <td>NaN</td>\n",
       "      <td>NaN</td>\n",
       "      <td>NaN</td>\n",
       "      <td>NaN</td>\n",
       "      <td>NaN</td>\n",
       "      <td>NaN</td>\n",
       "      <td>NaN</td>\n",
       "      <td>NaN</td>\n",
       "      <td>NaN</td>\n",
       "      <td>NaN</td>\n",
       "      <td>NaN</td>\n",
       "      <td>NaN</td>\n",
       "      <td>NaN</td>\n",
       "      <td>NaN</td>\n",
       "      <td>NaN</td>\n",
       "      <td>NaN</td>\n",
       "      <td>NaN</td>\n",
       "      <td>NaN</td>\n",
       "    </tr>\n",
       "    <tr>\n",
       "      <th>mean</th>\n",
       "      <td>15000.500000</td>\n",
       "      <td>167484.322667</td>\n",
       "      <td>NaN</td>\n",
       "      <td>NaN</td>\n",
       "      <td>NaN</td>\n",
       "      <td>35.485500</td>\n",
       "      <td>-0.016700</td>\n",
       "      <td>-0.133767</td>\n",
       "      <td>-0.166200</td>\n",
       "      <td>-0.220667</td>\n",
       "      <td>-0.266200</td>\n",
       "      <td>-0.291100</td>\n",
       "      <td>51223.330900</td>\n",
       "      <td>49179.075167</td>\n",
       "      <td>4.701315e+04</td>\n",
       "      <td>43262.948967</td>\n",
       "      <td>40311.400967</td>\n",
       "      <td>38871.760400</td>\n",
       "      <td>5663.580500</td>\n",
       "      <td>5.921163e+03</td>\n",
       "      <td>5225.68150</td>\n",
       "      <td>4826.076867</td>\n",
       "      <td>4799.387633</td>\n",
       "      <td>5215.502567</td>\n",
       "      <td>0.221200</td>\n",
       "    </tr>\n",
       "    <tr>\n",
       "      <th>std</th>\n",
       "      <td>8660.398374</td>\n",
       "      <td>129747.661567</td>\n",
       "      <td>NaN</td>\n",
       "      <td>NaN</td>\n",
       "      <td>NaN</td>\n",
       "      <td>9.217904</td>\n",
       "      <td>1.123802</td>\n",
       "      <td>1.197186</td>\n",
       "      <td>1.196868</td>\n",
       "      <td>1.169139</td>\n",
       "      <td>1.133187</td>\n",
       "      <td>1.149988</td>\n",
       "      <td>73635.860576</td>\n",
       "      <td>71173.768783</td>\n",
       "      <td>6.934939e+04</td>\n",
       "      <td>64332.856134</td>\n",
       "      <td>60797.155770</td>\n",
       "      <td>59554.107537</td>\n",
       "      <td>16563.280354</td>\n",
       "      <td>2.304087e+04</td>\n",
       "      <td>17606.96147</td>\n",
       "      <td>15666.159744</td>\n",
       "      <td>15278.305679</td>\n",
       "      <td>17777.465775</td>\n",
       "      <td>0.415062</td>\n",
       "    </tr>\n",
       "    <tr>\n",
       "      <th>min</th>\n",
       "      <td>1.000000</td>\n",
       "      <td>10000.000000</td>\n",
       "      <td>NaN</td>\n",
       "      <td>NaN</td>\n",
       "      <td>NaN</td>\n",
       "      <td>21.000000</td>\n",
       "      <td>-2.000000</td>\n",
       "      <td>-2.000000</td>\n",
       "      <td>-2.000000</td>\n",
       "      <td>-2.000000</td>\n",
       "      <td>-2.000000</td>\n",
       "      <td>-2.000000</td>\n",
       "      <td>-165580.000000</td>\n",
       "      <td>-69777.000000</td>\n",
       "      <td>-1.572640e+05</td>\n",
       "      <td>-170000.000000</td>\n",
       "      <td>-81334.000000</td>\n",
       "      <td>-339603.000000</td>\n",
       "      <td>0.000000</td>\n",
       "      <td>0.000000e+00</td>\n",
       "      <td>0.00000</td>\n",
       "      <td>0.000000</td>\n",
       "      <td>0.000000</td>\n",
       "      <td>0.000000</td>\n",
       "      <td>0.000000</td>\n",
       "    </tr>\n",
       "    <tr>\n",
       "      <th>25%</th>\n",
       "      <td>7500.750000</td>\n",
       "      <td>50000.000000</td>\n",
       "      <td>NaN</td>\n",
       "      <td>NaN</td>\n",
       "      <td>NaN</td>\n",
       "      <td>28.000000</td>\n",
       "      <td>-1.000000</td>\n",
       "      <td>-1.000000</td>\n",
       "      <td>-1.000000</td>\n",
       "      <td>-1.000000</td>\n",
       "      <td>-1.000000</td>\n",
       "      <td>-1.000000</td>\n",
       "      <td>3558.750000</td>\n",
       "      <td>2984.750000</td>\n",
       "      <td>2.666250e+03</td>\n",
       "      <td>2326.750000</td>\n",
       "      <td>1763.000000</td>\n",
       "      <td>1256.000000</td>\n",
       "      <td>1000.000000</td>\n",
       "      <td>8.330000e+02</td>\n",
       "      <td>390.00000</td>\n",
       "      <td>296.000000</td>\n",
       "      <td>252.500000</td>\n",
       "      <td>117.750000</td>\n",
       "      <td>0.000000</td>\n",
       "    </tr>\n",
       "    <tr>\n",
       "      <th>50%</th>\n",
       "      <td>15000.500000</td>\n",
       "      <td>140000.000000</td>\n",
       "      <td>NaN</td>\n",
       "      <td>NaN</td>\n",
       "      <td>NaN</td>\n",
       "      <td>34.000000</td>\n",
       "      <td>0.000000</td>\n",
       "      <td>0.000000</td>\n",
       "      <td>0.000000</td>\n",
       "      <td>0.000000</td>\n",
       "      <td>0.000000</td>\n",
       "      <td>0.000000</td>\n",
       "      <td>22381.500000</td>\n",
       "      <td>21200.000000</td>\n",
       "      <td>2.008850e+04</td>\n",
       "      <td>19052.000000</td>\n",
       "      <td>18104.500000</td>\n",
       "      <td>17071.000000</td>\n",
       "      <td>2100.000000</td>\n",
       "      <td>2.009000e+03</td>\n",
       "      <td>1800.00000</td>\n",
       "      <td>1500.000000</td>\n",
       "      <td>1500.000000</td>\n",
       "      <td>1500.000000</td>\n",
       "      <td>0.000000</td>\n",
       "    </tr>\n",
       "    <tr>\n",
       "      <th>75%</th>\n",
       "      <td>22500.250000</td>\n",
       "      <td>240000.000000</td>\n",
       "      <td>NaN</td>\n",
       "      <td>NaN</td>\n",
       "      <td>NaN</td>\n",
       "      <td>41.000000</td>\n",
       "      <td>0.000000</td>\n",
       "      <td>0.000000</td>\n",
       "      <td>0.000000</td>\n",
       "      <td>0.000000</td>\n",
       "      <td>0.000000</td>\n",
       "      <td>0.000000</td>\n",
       "      <td>67091.000000</td>\n",
       "      <td>64006.250000</td>\n",
       "      <td>6.016475e+04</td>\n",
       "      <td>54506.000000</td>\n",
       "      <td>50190.500000</td>\n",
       "      <td>49198.250000</td>\n",
       "      <td>5006.000000</td>\n",
       "      <td>5.000000e+03</td>\n",
       "      <td>4505.00000</td>\n",
       "      <td>4013.250000</td>\n",
       "      <td>4031.500000</td>\n",
       "      <td>4000.000000</td>\n",
       "      <td>0.000000</td>\n",
       "    </tr>\n",
       "    <tr>\n",
       "      <th>max</th>\n",
       "      <td>30000.000000</td>\n",
       "      <td>1000000.000000</td>\n",
       "      <td>NaN</td>\n",
       "      <td>NaN</td>\n",
       "      <td>NaN</td>\n",
       "      <td>79.000000</td>\n",
       "      <td>8.000000</td>\n",
       "      <td>8.000000</td>\n",
       "      <td>8.000000</td>\n",
       "      <td>8.000000</td>\n",
       "      <td>8.000000</td>\n",
       "      <td>8.000000</td>\n",
       "      <td>964511.000000</td>\n",
       "      <td>983931.000000</td>\n",
       "      <td>1.664089e+06</td>\n",
       "      <td>891586.000000</td>\n",
       "      <td>927171.000000</td>\n",
       "      <td>961664.000000</td>\n",
       "      <td>873552.000000</td>\n",
       "      <td>1.684259e+06</td>\n",
       "      <td>896040.00000</td>\n",
       "      <td>621000.000000</td>\n",
       "      <td>426529.000000</td>\n",
       "      <td>528666.000000</td>\n",
       "      <td>1.000000</td>\n",
       "    </tr>\n",
       "  </tbody>\n",
       "</table>\n",
       "</div>"
      ],
      "text/plain": [
       "                  ID       LIMIT_BAL     SEX   EDUCATION MARRIAGE  \\\n",
       "count   30000.000000    30000.000000   30000       30000    30000   \n",
       "unique           NaN             NaN       2           5        3   \n",
       "top              NaN             NaN  female  university   single   \n",
       "freq             NaN             NaN   18112       14030    15964   \n",
       "mean    15000.500000   167484.322667     NaN         NaN      NaN   \n",
       "std      8660.398374   129747.661567     NaN         NaN      NaN   \n",
       "min         1.000000    10000.000000     NaN         NaN      NaN   \n",
       "25%      7500.750000    50000.000000     NaN         NaN      NaN   \n",
       "50%     15000.500000   140000.000000     NaN         NaN      NaN   \n",
       "75%     22500.250000   240000.000000     NaN         NaN      NaN   \n",
       "max     30000.000000  1000000.000000     NaN         NaN      NaN   \n",
       "\n",
       "                 AGE         PAY_0         PAY_2         PAY_3         PAY_4  \\\n",
       "count   30000.000000  30000.000000  30000.000000  30000.000000  30000.000000   \n",
       "unique           NaN           NaN           NaN           NaN           NaN   \n",
       "top              NaN           NaN           NaN           NaN           NaN   \n",
       "freq             NaN           NaN           NaN           NaN           NaN   \n",
       "mean       35.485500     -0.016700     -0.133767     -0.166200     -0.220667   \n",
       "std         9.217904      1.123802      1.197186      1.196868      1.169139   \n",
       "min        21.000000     -2.000000     -2.000000     -2.000000     -2.000000   \n",
       "25%        28.000000     -1.000000     -1.000000     -1.000000     -1.000000   \n",
       "50%        34.000000      0.000000      0.000000      0.000000      0.000000   \n",
       "75%        41.000000      0.000000      0.000000      0.000000      0.000000   \n",
       "max        79.000000      8.000000      8.000000      8.000000      8.000000   \n",
       "\n",
       "               PAY_5         PAY_6      BILL_AMT1      BILL_AMT2  \\\n",
       "count   30000.000000  30000.000000   30000.000000   30000.000000   \n",
       "unique           NaN           NaN            NaN            NaN   \n",
       "top              NaN           NaN            NaN            NaN   \n",
       "freq             NaN           NaN            NaN            NaN   \n",
       "mean       -0.266200     -0.291100   51223.330900   49179.075167   \n",
       "std         1.133187      1.149988   73635.860576   71173.768783   \n",
       "min        -2.000000     -2.000000 -165580.000000  -69777.000000   \n",
       "25%        -1.000000     -1.000000    3558.750000    2984.750000   \n",
       "50%         0.000000      0.000000   22381.500000   21200.000000   \n",
       "75%         0.000000      0.000000   67091.000000   64006.250000   \n",
       "max         8.000000      8.000000  964511.000000  983931.000000   \n",
       "\n",
       "           BILL_AMT3      BILL_AMT4      BILL_AMT5      BILL_AMT6  \\\n",
       "count   3.000000e+04   30000.000000   30000.000000   30000.000000   \n",
       "unique           NaN            NaN            NaN            NaN   \n",
       "top              NaN            NaN            NaN            NaN   \n",
       "freq             NaN            NaN            NaN            NaN   \n",
       "mean    4.701315e+04   43262.948967   40311.400967   38871.760400   \n",
       "std     6.934939e+04   64332.856134   60797.155770   59554.107537   \n",
       "min    -1.572640e+05 -170000.000000  -81334.000000 -339603.000000   \n",
       "25%     2.666250e+03    2326.750000    1763.000000    1256.000000   \n",
       "50%     2.008850e+04   19052.000000   18104.500000   17071.000000   \n",
       "75%     6.016475e+04   54506.000000   50190.500000   49198.250000   \n",
       "max     1.664089e+06  891586.000000  927171.000000  961664.000000   \n",
       "\n",
       "             PAY_AMT1      PAY_AMT2      PAY_AMT3       PAY_AMT4  \\\n",
       "count    30000.000000  3.000000e+04   30000.00000   30000.000000   \n",
       "unique            NaN           NaN           NaN            NaN   \n",
       "top               NaN           NaN           NaN            NaN   \n",
       "freq              NaN           NaN           NaN            NaN   \n",
       "mean      5663.580500  5.921163e+03    5225.68150    4826.076867   \n",
       "std      16563.280354  2.304087e+04   17606.96147   15666.159744   \n",
       "min          0.000000  0.000000e+00       0.00000       0.000000   \n",
       "25%       1000.000000  8.330000e+02     390.00000     296.000000   \n",
       "50%       2100.000000  2.009000e+03    1800.00000    1500.000000   \n",
       "75%       5006.000000  5.000000e+03    4505.00000    4013.250000   \n",
       "max     873552.000000  1.684259e+06  896040.00000  621000.000000   \n",
       "\n",
       "             PAY_AMT5       PAY_AMT6       default  \n",
       "count    30000.000000   30000.000000  30000.000000  \n",
       "unique            NaN            NaN           NaN  \n",
       "top               NaN            NaN           NaN  \n",
       "freq              NaN            NaN           NaN  \n",
       "mean      4799.387633    5215.502567      0.221200  \n",
       "std      15278.305679   17777.465775      0.415062  \n",
       "min          0.000000       0.000000      0.000000  \n",
       "25%        252.500000     117.750000      0.000000  \n",
       "50%       1500.000000    1500.000000      0.000000  \n",
       "75%       4031.500000    4000.000000      0.000000  \n",
       "max     426529.000000  528666.000000      1.000000  "
      ]
     },
     "execution_count": 3,
     "metadata": {},
     "output_type": "execute_result"
    }
   ],
   "source": [
    "data.describe(include = 'all')"
   ]
  },
  {
   "cell_type": "code",
   "execution_count": 4,
   "id": "28a492bb",
   "metadata": {},
   "outputs": [
    {
     "data": {
      "text/plain": [
       "ID           0\n",
       "LIMIT_BAL    0\n",
       "SEX          0\n",
       "EDUCATION    0\n",
       "MARRIAGE     0\n",
       "AGE          0\n",
       "PAY_0        0\n",
       "PAY_2        0\n",
       "PAY_3        0\n",
       "PAY_4        0\n",
       "PAY_5        0\n",
       "PAY_6        0\n",
       "BILL_AMT1    0\n",
       "BILL_AMT2    0\n",
       "BILL_AMT3    0\n",
       "BILL_AMT4    0\n",
       "BILL_AMT5    0\n",
       "BILL_AMT6    0\n",
       "PAY_AMT1     0\n",
       "PAY_AMT2     0\n",
       "PAY_AMT3     0\n",
       "PAY_AMT4     0\n",
       "PAY_AMT5     0\n",
       "PAY_AMT6     0\n",
       "default      0\n",
       "dtype: int64"
      ]
     },
     "execution_count": 4,
     "metadata": {},
     "output_type": "execute_result"
    }
   ],
   "source": [
    "data.isnull().sum()"
   ]
  },
  {
   "cell_type": "code",
   "execution_count": 5,
   "id": "b0d57b75",
   "metadata": {},
   "outputs": [
    {
     "data": {
      "text/plain": [
       "female    18112\n",
       "male      11888\n",
       "Name: SEX, dtype: int64"
      ]
     },
     "execution_count": 5,
     "metadata": {},
     "output_type": "execute_result"
    }
   ],
   "source": [
    "data['SEX'].value_counts()"
   ]
  },
  {
   "cell_type": "code",
   "execution_count": 6,
   "id": "4a238377",
   "metadata": {},
   "outputs": [],
   "source": [
    "data['SEX'] = data['SEX'].map({'female': 0, 'male': 1})"
   ]
  },
  {
   "cell_type": "code",
   "execution_count": 7,
   "id": "0a774822",
   "metadata": {},
   "outputs": [
    {
     "data": {
      "text/plain": [
       "0    18112\n",
       "1    11888\n",
       "Name: SEX, dtype: int64"
      ]
     },
     "execution_count": 7,
     "metadata": {},
     "output_type": "execute_result"
    }
   ],
   "source": [
    "data['SEX'].value_counts()"
   ]
  },
  {
   "cell_type": "code",
   "execution_count": 8,
   "id": "2c695c88",
   "metadata": {},
   "outputs": [],
   "source": [
    "data = pd.get_dummies(data, prefix=['dm'], columns=['EDUCATION'])"
   ]
  },
  {
   "cell_type": "code",
   "execution_count": 9,
   "id": "2833785b",
   "metadata": {},
   "outputs": [
    {
     "data": {
      "text/html": [
       "<div>\n",
       "<style scoped>\n",
       "    .dataframe tbody tr th:only-of-type {\n",
       "        vertical-align: middle;\n",
       "    }\n",
       "\n",
       "    .dataframe tbody tr th {\n",
       "        vertical-align: top;\n",
       "    }\n",
       "\n",
       "    .dataframe thead th {\n",
       "        text-align: right;\n",
       "    }\n",
       "</style>\n",
       "<table border=\"1\" class=\"dataframe\">\n",
       "  <thead>\n",
       "    <tr style=\"text-align: right;\">\n",
       "      <th></th>\n",
       "      <th>ID</th>\n",
       "      <th>LIMIT_BAL</th>\n",
       "      <th>SEX</th>\n",
       "      <th>MARRIAGE</th>\n",
       "      <th>AGE</th>\n",
       "      <th>PAY_0</th>\n",
       "      <th>PAY_2</th>\n",
       "      <th>PAY_3</th>\n",
       "      <th>PAY_4</th>\n",
       "      <th>PAY_5</th>\n",
       "      <th>PAY_6</th>\n",
       "      <th>BILL_AMT1</th>\n",
       "      <th>BILL_AMT2</th>\n",
       "      <th>BILL_AMT3</th>\n",
       "      <th>BILL_AMT4</th>\n",
       "      <th>BILL_AMT5</th>\n",
       "      <th>BILL_AMT6</th>\n",
       "      <th>PAY_AMT1</th>\n",
       "      <th>PAY_AMT2</th>\n",
       "      <th>PAY_AMT3</th>\n",
       "      <th>PAY_AMT4</th>\n",
       "      <th>PAY_AMT5</th>\n",
       "      <th>PAY_AMT6</th>\n",
       "      <th>default</th>\n",
       "      <th>dm_graduate school</th>\n",
       "      <th>dm_high school</th>\n",
       "      <th>dm_not educated</th>\n",
       "      <th>dm_others</th>\n",
       "      <th>dm_university</th>\n",
       "    </tr>\n",
       "  </thead>\n",
       "  <tbody>\n",
       "    <tr>\n",
       "      <th>0</th>\n",
       "      <td>1</td>\n",
       "      <td>20000</td>\n",
       "      <td>0</td>\n",
       "      <td>married</td>\n",
       "      <td>24</td>\n",
       "      <td>2</td>\n",
       "      <td>2</td>\n",
       "      <td>-1</td>\n",
       "      <td>-1</td>\n",
       "      <td>-2</td>\n",
       "      <td>-2</td>\n",
       "      <td>3913</td>\n",
       "      <td>3102</td>\n",
       "      <td>689</td>\n",
       "      <td>0</td>\n",
       "      <td>0</td>\n",
       "      <td>0</td>\n",
       "      <td>0</td>\n",
       "      <td>689</td>\n",
       "      <td>0</td>\n",
       "      <td>0</td>\n",
       "      <td>0</td>\n",
       "      <td>0</td>\n",
       "      <td>1</td>\n",
       "      <td>0</td>\n",
       "      <td>0</td>\n",
       "      <td>0</td>\n",
       "      <td>0</td>\n",
       "      <td>1</td>\n",
       "    </tr>\n",
       "    <tr>\n",
       "      <th>1</th>\n",
       "      <td>2</td>\n",
       "      <td>120000</td>\n",
       "      <td>0</td>\n",
       "      <td>single</td>\n",
       "      <td>26</td>\n",
       "      <td>-1</td>\n",
       "      <td>2</td>\n",
       "      <td>0</td>\n",
       "      <td>0</td>\n",
       "      <td>0</td>\n",
       "      <td>2</td>\n",
       "      <td>2682</td>\n",
       "      <td>1725</td>\n",
       "      <td>2682</td>\n",
       "      <td>3272</td>\n",
       "      <td>3455</td>\n",
       "      <td>3261</td>\n",
       "      <td>0</td>\n",
       "      <td>1000</td>\n",
       "      <td>1000</td>\n",
       "      <td>1000</td>\n",
       "      <td>0</td>\n",
       "      <td>2000</td>\n",
       "      <td>1</td>\n",
       "      <td>0</td>\n",
       "      <td>0</td>\n",
       "      <td>0</td>\n",
       "      <td>0</td>\n",
       "      <td>1</td>\n",
       "    </tr>\n",
       "    <tr>\n",
       "      <th>2</th>\n",
       "      <td>3</td>\n",
       "      <td>90000</td>\n",
       "      <td>0</td>\n",
       "      <td>single</td>\n",
       "      <td>34</td>\n",
       "      <td>0</td>\n",
       "      <td>0</td>\n",
       "      <td>0</td>\n",
       "      <td>0</td>\n",
       "      <td>0</td>\n",
       "      <td>0</td>\n",
       "      <td>29239</td>\n",
       "      <td>14027</td>\n",
       "      <td>13559</td>\n",
       "      <td>14331</td>\n",
       "      <td>14948</td>\n",
       "      <td>15549</td>\n",
       "      <td>1518</td>\n",
       "      <td>1500</td>\n",
       "      <td>1000</td>\n",
       "      <td>1000</td>\n",
       "      <td>1000</td>\n",
       "      <td>5000</td>\n",
       "      <td>0</td>\n",
       "      <td>0</td>\n",
       "      <td>0</td>\n",
       "      <td>0</td>\n",
       "      <td>0</td>\n",
       "      <td>1</td>\n",
       "    </tr>\n",
       "    <tr>\n",
       "      <th>3</th>\n",
       "      <td>4</td>\n",
       "      <td>50000</td>\n",
       "      <td>0</td>\n",
       "      <td>married</td>\n",
       "      <td>37</td>\n",
       "      <td>0</td>\n",
       "      <td>0</td>\n",
       "      <td>0</td>\n",
       "      <td>0</td>\n",
       "      <td>0</td>\n",
       "      <td>0</td>\n",
       "      <td>46990</td>\n",
       "      <td>48233</td>\n",
       "      <td>49291</td>\n",
       "      <td>28314</td>\n",
       "      <td>28959</td>\n",
       "      <td>29547</td>\n",
       "      <td>2000</td>\n",
       "      <td>2019</td>\n",
       "      <td>1200</td>\n",
       "      <td>1100</td>\n",
       "      <td>1069</td>\n",
       "      <td>1000</td>\n",
       "      <td>0</td>\n",
       "      <td>0</td>\n",
       "      <td>0</td>\n",
       "      <td>0</td>\n",
       "      <td>0</td>\n",
       "      <td>1</td>\n",
       "    </tr>\n",
       "    <tr>\n",
       "      <th>4</th>\n",
       "      <td>5</td>\n",
       "      <td>50000</td>\n",
       "      <td>1</td>\n",
       "      <td>married</td>\n",
       "      <td>57</td>\n",
       "      <td>-1</td>\n",
       "      <td>0</td>\n",
       "      <td>-1</td>\n",
       "      <td>0</td>\n",
       "      <td>0</td>\n",
       "      <td>0</td>\n",
       "      <td>8617</td>\n",
       "      <td>5670</td>\n",
       "      <td>35835</td>\n",
       "      <td>20940</td>\n",
       "      <td>19146</td>\n",
       "      <td>19131</td>\n",
       "      <td>2000</td>\n",
       "      <td>36681</td>\n",
       "      <td>10000</td>\n",
       "      <td>9000</td>\n",
       "      <td>689</td>\n",
       "      <td>679</td>\n",
       "      <td>0</td>\n",
       "      <td>0</td>\n",
       "      <td>0</td>\n",
       "      <td>0</td>\n",
       "      <td>0</td>\n",
       "      <td>1</td>\n",
       "    </tr>\n",
       "  </tbody>\n",
       "</table>\n",
       "</div>"
      ],
      "text/plain": [
       "   ID  LIMIT_BAL  SEX MARRIAGE  AGE  PAY_0  PAY_2  PAY_3  PAY_4  PAY_5  PAY_6  \\\n",
       "0   1      20000    0  married   24      2      2     -1     -1     -2     -2   \n",
       "1   2     120000    0   single   26     -1      2      0      0      0      2   \n",
       "2   3      90000    0   single   34      0      0      0      0      0      0   \n",
       "3   4      50000    0  married   37      0      0      0      0      0      0   \n",
       "4   5      50000    1  married   57     -1      0     -1      0      0      0   \n",
       "\n",
       "   BILL_AMT1  BILL_AMT2  BILL_AMT3  BILL_AMT4  BILL_AMT5  BILL_AMT6  PAY_AMT1  \\\n",
       "0       3913       3102        689          0          0          0         0   \n",
       "1       2682       1725       2682       3272       3455       3261         0   \n",
       "2      29239      14027      13559      14331      14948      15549      1518   \n",
       "3      46990      48233      49291      28314      28959      29547      2000   \n",
       "4       8617       5670      35835      20940      19146      19131      2000   \n",
       "\n",
       "   PAY_AMT2  PAY_AMT3  PAY_AMT4  PAY_AMT5  PAY_AMT6  default  \\\n",
       "0       689         0         0         0         0        1   \n",
       "1      1000      1000      1000         0      2000        1   \n",
       "2      1500      1000      1000      1000      5000        0   \n",
       "3      2019      1200      1100      1069      1000        0   \n",
       "4     36681     10000      9000       689       679        0   \n",
       "\n",
       "   dm_graduate school  dm_high school  dm_not educated  dm_others  \\\n",
       "0                   0               0                0          0   \n",
       "1                   0               0                0          0   \n",
       "2                   0               0                0          0   \n",
       "3                   0               0                0          0   \n",
       "4                   0               0                0          0   \n",
       "\n",
       "   dm_university  \n",
       "0              1  \n",
       "1              1  \n",
       "2              1  \n",
       "3              1  \n",
       "4              1  "
      ]
     },
     "execution_count": 9,
     "metadata": {},
     "output_type": "execute_result"
    }
   ],
   "source": [
    "data.head()"
   ]
  },
  {
   "cell_type": "code",
   "execution_count": 10,
   "id": "858f0b0d",
   "metadata": {},
   "outputs": [
    {
     "data": {
      "text/plain": [
       "single     15964\n",
       "married    13659\n",
       "others       377\n",
       "Name: MARRIAGE, dtype: int64"
      ]
     },
     "execution_count": 10,
     "metadata": {},
     "output_type": "execute_result"
    }
   ],
   "source": [
    "data['MARRIAGE'].value_counts()"
   ]
  },
  {
   "cell_type": "code",
   "execution_count": 11,
   "id": "82100bd1",
   "metadata": {},
   "outputs": [
    {
     "data": {
      "text/html": [
       "<div>\n",
       "<style scoped>\n",
       "    .dataframe tbody tr th:only-of-type {\n",
       "        vertical-align: middle;\n",
       "    }\n",
       "\n",
       "    .dataframe tbody tr th {\n",
       "        vertical-align: top;\n",
       "    }\n",
       "\n",
       "    .dataframe thead th {\n",
       "        text-align: right;\n",
       "    }\n",
       "</style>\n",
       "<table border=\"1\" class=\"dataframe\">\n",
       "  <thead>\n",
       "    <tr style=\"text-align: right;\">\n",
       "      <th></th>\n",
       "      <th>ID</th>\n",
       "      <th>LIMIT_BAL</th>\n",
       "      <th>SEX</th>\n",
       "      <th>MARRIAGE</th>\n",
       "      <th>AGE</th>\n",
       "      <th>PAY_0</th>\n",
       "      <th>PAY_2</th>\n",
       "      <th>PAY_3</th>\n",
       "      <th>PAY_4</th>\n",
       "      <th>PAY_5</th>\n",
       "      <th>PAY_6</th>\n",
       "      <th>BILL_AMT1</th>\n",
       "      <th>BILL_AMT2</th>\n",
       "      <th>BILL_AMT3</th>\n",
       "      <th>BILL_AMT4</th>\n",
       "      <th>BILL_AMT5</th>\n",
       "      <th>BILL_AMT6</th>\n",
       "      <th>PAY_AMT1</th>\n",
       "      <th>PAY_AMT2</th>\n",
       "      <th>PAY_AMT3</th>\n",
       "      <th>PAY_AMT4</th>\n",
       "      <th>PAY_AMT5</th>\n",
       "      <th>PAY_AMT6</th>\n",
       "      <th>default</th>\n",
       "      <th>dm_graduate school</th>\n",
       "      <th>dm_high school</th>\n",
       "      <th>dm_not educated</th>\n",
       "      <th>dm_others</th>\n",
       "      <th>dm_university</th>\n",
       "      <th>MARRIAGE_LE</th>\n",
       "    </tr>\n",
       "  </thead>\n",
       "  <tbody>\n",
       "    <tr>\n",
       "      <th>0</th>\n",
       "      <td>1</td>\n",
       "      <td>20000</td>\n",
       "      <td>0</td>\n",
       "      <td>married</td>\n",
       "      <td>24</td>\n",
       "      <td>2</td>\n",
       "      <td>2</td>\n",
       "      <td>-1</td>\n",
       "      <td>-1</td>\n",
       "      <td>-2</td>\n",
       "      <td>-2</td>\n",
       "      <td>3913</td>\n",
       "      <td>3102</td>\n",
       "      <td>689</td>\n",
       "      <td>0</td>\n",
       "      <td>0</td>\n",
       "      <td>0</td>\n",
       "      <td>0</td>\n",
       "      <td>689</td>\n",
       "      <td>0</td>\n",
       "      <td>0</td>\n",
       "      <td>0</td>\n",
       "      <td>0</td>\n",
       "      <td>1</td>\n",
       "      <td>0</td>\n",
       "      <td>0</td>\n",
       "      <td>0</td>\n",
       "      <td>0</td>\n",
       "      <td>1</td>\n",
       "      <td>0</td>\n",
       "    </tr>\n",
       "    <tr>\n",
       "      <th>1</th>\n",
       "      <td>2</td>\n",
       "      <td>120000</td>\n",
       "      <td>0</td>\n",
       "      <td>single</td>\n",
       "      <td>26</td>\n",
       "      <td>-1</td>\n",
       "      <td>2</td>\n",
       "      <td>0</td>\n",
       "      <td>0</td>\n",
       "      <td>0</td>\n",
       "      <td>2</td>\n",
       "      <td>2682</td>\n",
       "      <td>1725</td>\n",
       "      <td>2682</td>\n",
       "      <td>3272</td>\n",
       "      <td>3455</td>\n",
       "      <td>3261</td>\n",
       "      <td>0</td>\n",
       "      <td>1000</td>\n",
       "      <td>1000</td>\n",
       "      <td>1000</td>\n",
       "      <td>0</td>\n",
       "      <td>2000</td>\n",
       "      <td>1</td>\n",
       "      <td>0</td>\n",
       "      <td>0</td>\n",
       "      <td>0</td>\n",
       "      <td>0</td>\n",
       "      <td>1</td>\n",
       "      <td>2</td>\n",
       "    </tr>\n",
       "    <tr>\n",
       "      <th>2</th>\n",
       "      <td>3</td>\n",
       "      <td>90000</td>\n",
       "      <td>0</td>\n",
       "      <td>single</td>\n",
       "      <td>34</td>\n",
       "      <td>0</td>\n",
       "      <td>0</td>\n",
       "      <td>0</td>\n",
       "      <td>0</td>\n",
       "      <td>0</td>\n",
       "      <td>0</td>\n",
       "      <td>29239</td>\n",
       "      <td>14027</td>\n",
       "      <td>13559</td>\n",
       "      <td>14331</td>\n",
       "      <td>14948</td>\n",
       "      <td>15549</td>\n",
       "      <td>1518</td>\n",
       "      <td>1500</td>\n",
       "      <td>1000</td>\n",
       "      <td>1000</td>\n",
       "      <td>1000</td>\n",
       "      <td>5000</td>\n",
       "      <td>0</td>\n",
       "      <td>0</td>\n",
       "      <td>0</td>\n",
       "      <td>0</td>\n",
       "      <td>0</td>\n",
       "      <td>1</td>\n",
       "      <td>2</td>\n",
       "    </tr>\n",
       "    <tr>\n",
       "      <th>3</th>\n",
       "      <td>4</td>\n",
       "      <td>50000</td>\n",
       "      <td>0</td>\n",
       "      <td>married</td>\n",
       "      <td>37</td>\n",
       "      <td>0</td>\n",
       "      <td>0</td>\n",
       "      <td>0</td>\n",
       "      <td>0</td>\n",
       "      <td>0</td>\n",
       "      <td>0</td>\n",
       "      <td>46990</td>\n",
       "      <td>48233</td>\n",
       "      <td>49291</td>\n",
       "      <td>28314</td>\n",
       "      <td>28959</td>\n",
       "      <td>29547</td>\n",
       "      <td>2000</td>\n",
       "      <td>2019</td>\n",
       "      <td>1200</td>\n",
       "      <td>1100</td>\n",
       "      <td>1069</td>\n",
       "      <td>1000</td>\n",
       "      <td>0</td>\n",
       "      <td>0</td>\n",
       "      <td>0</td>\n",
       "      <td>0</td>\n",
       "      <td>0</td>\n",
       "      <td>1</td>\n",
       "      <td>0</td>\n",
       "    </tr>\n",
       "    <tr>\n",
       "      <th>4</th>\n",
       "      <td>5</td>\n",
       "      <td>50000</td>\n",
       "      <td>1</td>\n",
       "      <td>married</td>\n",
       "      <td>57</td>\n",
       "      <td>-1</td>\n",
       "      <td>0</td>\n",
       "      <td>-1</td>\n",
       "      <td>0</td>\n",
       "      <td>0</td>\n",
       "      <td>0</td>\n",
       "      <td>8617</td>\n",
       "      <td>5670</td>\n",
       "      <td>35835</td>\n",
       "      <td>20940</td>\n",
       "      <td>19146</td>\n",
       "      <td>19131</td>\n",
       "      <td>2000</td>\n",
       "      <td>36681</td>\n",
       "      <td>10000</td>\n",
       "      <td>9000</td>\n",
       "      <td>689</td>\n",
       "      <td>679</td>\n",
       "      <td>0</td>\n",
       "      <td>0</td>\n",
       "      <td>0</td>\n",
       "      <td>0</td>\n",
       "      <td>0</td>\n",
       "      <td>1</td>\n",
       "      <td>0</td>\n",
       "    </tr>\n",
       "  </tbody>\n",
       "</table>\n",
       "</div>"
      ],
      "text/plain": [
       "   ID  LIMIT_BAL  SEX MARRIAGE  AGE  PAY_0  PAY_2  PAY_3  PAY_4  PAY_5  PAY_6  \\\n",
       "0   1      20000    0  married   24      2      2     -1     -1     -2     -2   \n",
       "1   2     120000    0   single   26     -1      2      0      0      0      2   \n",
       "2   3      90000    0   single   34      0      0      0      0      0      0   \n",
       "3   4      50000    0  married   37      0      0      0      0      0      0   \n",
       "4   5      50000    1  married   57     -1      0     -1      0      0      0   \n",
       "\n",
       "   BILL_AMT1  BILL_AMT2  BILL_AMT3  BILL_AMT4  BILL_AMT5  BILL_AMT6  PAY_AMT1  \\\n",
       "0       3913       3102        689          0          0          0         0   \n",
       "1       2682       1725       2682       3272       3455       3261         0   \n",
       "2      29239      14027      13559      14331      14948      15549      1518   \n",
       "3      46990      48233      49291      28314      28959      29547      2000   \n",
       "4       8617       5670      35835      20940      19146      19131      2000   \n",
       "\n",
       "   PAY_AMT2  PAY_AMT3  PAY_AMT4  PAY_AMT5  PAY_AMT6  default  \\\n",
       "0       689         0         0         0         0        1   \n",
       "1      1000      1000      1000         0      2000        1   \n",
       "2      1500      1000      1000      1000      5000        0   \n",
       "3      2019      1200      1100      1069      1000        0   \n",
       "4     36681     10000      9000       689       679        0   \n",
       "\n",
       "   dm_graduate school  dm_high school  dm_not educated  dm_others  \\\n",
       "0                   0               0                0          0   \n",
       "1                   0               0                0          0   \n",
       "2                   0               0                0          0   \n",
       "3                   0               0                0          0   \n",
       "4                   0               0                0          0   \n",
       "\n",
       "   dm_university  MARRIAGE_LE  \n",
       "0              1            0  \n",
       "1              1            2  \n",
       "2              1            2  \n",
       "3              1            0  \n",
       "4              1            0  "
      ]
     },
     "execution_count": 11,
     "metadata": {},
     "output_type": "execute_result"
    }
   ],
   "source": [
    "labelencoder = LabelEncoder()\n",
    "\n",
    "data['MARRIAGE_LE'] = labelencoder.fit_transform(data['MARRIAGE'])\n",
    "data.head()"
   ]
  },
  {
   "cell_type": "code",
   "execution_count": 12,
   "id": "3903b676",
   "metadata": {},
   "outputs": [
    {
     "data": {
      "text/plain": [
       "2    15964\n",
       "0    13659\n",
       "1      377\n",
       "Name: MARRIAGE_LE, dtype: int64"
      ]
     },
     "execution_count": 12,
     "metadata": {},
     "output_type": "execute_result"
    }
   ],
   "source": [
    "data['MARRIAGE_LE'].value_counts()"
   ]
  },
  {
   "cell_type": "code",
   "execution_count": 13,
   "id": "b638b991",
   "metadata": {},
   "outputs": [
    {
     "data": {
      "text/plain": [
       "Index(['ID', 'LIMIT_BAL', 'SEX', 'MARRIAGE', 'AGE', 'PAY_0', 'PAY_2', 'PAY_3',\n",
       "       'PAY_4', 'PAY_5', 'PAY_6', 'BILL_AMT1', 'BILL_AMT2', 'BILL_AMT3',\n",
       "       'BILL_AMT4', 'BILL_AMT5', 'BILL_AMT6', 'PAY_AMT1', 'PAY_AMT2',\n",
       "       'PAY_AMT3', 'PAY_AMT4', 'PAY_AMT5', 'PAY_AMT6', 'default',\n",
       "       'dm_graduate school', 'dm_high school', 'dm_not educated', 'dm_others',\n",
       "       'dm_university', 'MARRIAGE_LE'],\n",
       "      dtype='object')"
      ]
     },
     "execution_count": 13,
     "metadata": {},
     "output_type": "execute_result"
    }
   ],
   "source": [
    "data.columns"
   ]
  },
  {
   "cell_type": "code",
   "execution_count": 14,
   "id": "4eeeff94",
   "metadata": {},
   "outputs": [],
   "source": [
    "data = data[['LIMIT_BAL', 'SEX', 'AGE', 'PAY_0', 'PAY_2', 'PAY_3',\n",
    "       'PAY_4', 'PAY_5', 'PAY_6', 'BILL_AMT1', 'BILL_AMT2', 'BILL_AMT3',\n",
    "       'BILL_AMT4', 'BILL_AMT5', 'BILL_AMT6', 'PAY_AMT1', 'PAY_AMT2',\n",
    "       'PAY_AMT3', 'PAY_AMT4', 'PAY_AMT5', 'PAY_AMT6',\n",
    "       'dm_graduate school', 'dm_high school', 'dm_not educated', 'dm_others',\n",
    "       'dm_university', 'MARRIAGE_LE',  'default']]"
   ]
  },
  {
   "cell_type": "code",
   "execution_count": 15,
   "id": "3dd2a264",
   "metadata": {},
   "outputs": [
    {
     "data": {
      "text/html": [
       "<div>\n",
       "<style scoped>\n",
       "    .dataframe tbody tr th:only-of-type {\n",
       "        vertical-align: middle;\n",
       "    }\n",
       "\n",
       "    .dataframe tbody tr th {\n",
       "        vertical-align: top;\n",
       "    }\n",
       "\n",
       "    .dataframe thead th {\n",
       "        text-align: right;\n",
       "    }\n",
       "</style>\n",
       "<table border=\"1\" class=\"dataframe\">\n",
       "  <thead>\n",
       "    <tr style=\"text-align: right;\">\n",
       "      <th></th>\n",
       "      <th>LIMIT_BAL</th>\n",
       "      <th>SEX</th>\n",
       "      <th>AGE</th>\n",
       "      <th>PAY_0</th>\n",
       "      <th>PAY_2</th>\n",
       "      <th>PAY_3</th>\n",
       "      <th>PAY_4</th>\n",
       "      <th>PAY_5</th>\n",
       "      <th>PAY_6</th>\n",
       "      <th>BILL_AMT1</th>\n",
       "      <th>BILL_AMT2</th>\n",
       "      <th>BILL_AMT3</th>\n",
       "      <th>BILL_AMT4</th>\n",
       "      <th>BILL_AMT5</th>\n",
       "      <th>BILL_AMT6</th>\n",
       "      <th>PAY_AMT1</th>\n",
       "      <th>PAY_AMT2</th>\n",
       "      <th>PAY_AMT3</th>\n",
       "      <th>PAY_AMT4</th>\n",
       "      <th>PAY_AMT5</th>\n",
       "      <th>PAY_AMT6</th>\n",
       "      <th>dm_graduate school</th>\n",
       "      <th>dm_high school</th>\n",
       "      <th>dm_not educated</th>\n",
       "      <th>dm_others</th>\n",
       "      <th>dm_university</th>\n",
       "      <th>MARRIAGE_LE</th>\n",
       "      <th>default</th>\n",
       "    </tr>\n",
       "  </thead>\n",
       "  <tbody>\n",
       "    <tr>\n",
       "      <th>0</th>\n",
       "      <td>20000</td>\n",
       "      <td>0</td>\n",
       "      <td>24</td>\n",
       "      <td>2</td>\n",
       "      <td>2</td>\n",
       "      <td>-1</td>\n",
       "      <td>-1</td>\n",
       "      <td>-2</td>\n",
       "      <td>-2</td>\n",
       "      <td>3913</td>\n",
       "      <td>3102</td>\n",
       "      <td>689</td>\n",
       "      <td>0</td>\n",
       "      <td>0</td>\n",
       "      <td>0</td>\n",
       "      <td>0</td>\n",
       "      <td>689</td>\n",
       "      <td>0</td>\n",
       "      <td>0</td>\n",
       "      <td>0</td>\n",
       "      <td>0</td>\n",
       "      <td>0</td>\n",
       "      <td>0</td>\n",
       "      <td>0</td>\n",
       "      <td>0</td>\n",
       "      <td>1</td>\n",
       "      <td>0</td>\n",
       "      <td>1</td>\n",
       "    </tr>\n",
       "    <tr>\n",
       "      <th>1</th>\n",
       "      <td>120000</td>\n",
       "      <td>0</td>\n",
       "      <td>26</td>\n",
       "      <td>-1</td>\n",
       "      <td>2</td>\n",
       "      <td>0</td>\n",
       "      <td>0</td>\n",
       "      <td>0</td>\n",
       "      <td>2</td>\n",
       "      <td>2682</td>\n",
       "      <td>1725</td>\n",
       "      <td>2682</td>\n",
       "      <td>3272</td>\n",
       "      <td>3455</td>\n",
       "      <td>3261</td>\n",
       "      <td>0</td>\n",
       "      <td>1000</td>\n",
       "      <td>1000</td>\n",
       "      <td>1000</td>\n",
       "      <td>0</td>\n",
       "      <td>2000</td>\n",
       "      <td>0</td>\n",
       "      <td>0</td>\n",
       "      <td>0</td>\n",
       "      <td>0</td>\n",
       "      <td>1</td>\n",
       "      <td>2</td>\n",
       "      <td>1</td>\n",
       "    </tr>\n",
       "    <tr>\n",
       "      <th>2</th>\n",
       "      <td>90000</td>\n",
       "      <td>0</td>\n",
       "      <td>34</td>\n",
       "      <td>0</td>\n",
       "      <td>0</td>\n",
       "      <td>0</td>\n",
       "      <td>0</td>\n",
       "      <td>0</td>\n",
       "      <td>0</td>\n",
       "      <td>29239</td>\n",
       "      <td>14027</td>\n",
       "      <td>13559</td>\n",
       "      <td>14331</td>\n",
       "      <td>14948</td>\n",
       "      <td>15549</td>\n",
       "      <td>1518</td>\n",
       "      <td>1500</td>\n",
       "      <td>1000</td>\n",
       "      <td>1000</td>\n",
       "      <td>1000</td>\n",
       "      <td>5000</td>\n",
       "      <td>0</td>\n",
       "      <td>0</td>\n",
       "      <td>0</td>\n",
       "      <td>0</td>\n",
       "      <td>1</td>\n",
       "      <td>2</td>\n",
       "      <td>0</td>\n",
       "    </tr>\n",
       "    <tr>\n",
       "      <th>3</th>\n",
       "      <td>50000</td>\n",
       "      <td>0</td>\n",
       "      <td>37</td>\n",
       "      <td>0</td>\n",
       "      <td>0</td>\n",
       "      <td>0</td>\n",
       "      <td>0</td>\n",
       "      <td>0</td>\n",
       "      <td>0</td>\n",
       "      <td>46990</td>\n",
       "      <td>48233</td>\n",
       "      <td>49291</td>\n",
       "      <td>28314</td>\n",
       "      <td>28959</td>\n",
       "      <td>29547</td>\n",
       "      <td>2000</td>\n",
       "      <td>2019</td>\n",
       "      <td>1200</td>\n",
       "      <td>1100</td>\n",
       "      <td>1069</td>\n",
       "      <td>1000</td>\n",
       "      <td>0</td>\n",
       "      <td>0</td>\n",
       "      <td>0</td>\n",
       "      <td>0</td>\n",
       "      <td>1</td>\n",
       "      <td>0</td>\n",
       "      <td>0</td>\n",
       "    </tr>\n",
       "    <tr>\n",
       "      <th>4</th>\n",
       "      <td>50000</td>\n",
       "      <td>1</td>\n",
       "      <td>57</td>\n",
       "      <td>-1</td>\n",
       "      <td>0</td>\n",
       "      <td>-1</td>\n",
       "      <td>0</td>\n",
       "      <td>0</td>\n",
       "      <td>0</td>\n",
       "      <td>8617</td>\n",
       "      <td>5670</td>\n",
       "      <td>35835</td>\n",
       "      <td>20940</td>\n",
       "      <td>19146</td>\n",
       "      <td>19131</td>\n",
       "      <td>2000</td>\n",
       "      <td>36681</td>\n",
       "      <td>10000</td>\n",
       "      <td>9000</td>\n",
       "      <td>689</td>\n",
       "      <td>679</td>\n",
       "      <td>0</td>\n",
       "      <td>0</td>\n",
       "      <td>0</td>\n",
       "      <td>0</td>\n",
       "      <td>1</td>\n",
       "      <td>0</td>\n",
       "      <td>0</td>\n",
       "    </tr>\n",
       "  </tbody>\n",
       "</table>\n",
       "</div>"
      ],
      "text/plain": [
       "   LIMIT_BAL  SEX  AGE  PAY_0  PAY_2  PAY_3  PAY_4  PAY_5  PAY_6  BILL_AMT1  \\\n",
       "0      20000    0   24      2      2     -1     -1     -2     -2       3913   \n",
       "1     120000    0   26     -1      2      0      0      0      2       2682   \n",
       "2      90000    0   34      0      0      0      0      0      0      29239   \n",
       "3      50000    0   37      0      0      0      0      0      0      46990   \n",
       "4      50000    1   57     -1      0     -1      0      0      0       8617   \n",
       "\n",
       "   BILL_AMT2  BILL_AMT3  BILL_AMT4  BILL_AMT5  BILL_AMT6  PAY_AMT1  PAY_AMT2  \\\n",
       "0       3102        689          0          0          0         0       689   \n",
       "1       1725       2682       3272       3455       3261         0      1000   \n",
       "2      14027      13559      14331      14948      15549      1518      1500   \n",
       "3      48233      49291      28314      28959      29547      2000      2019   \n",
       "4       5670      35835      20940      19146      19131      2000     36681   \n",
       "\n",
       "   PAY_AMT3  PAY_AMT4  PAY_AMT5  PAY_AMT6  dm_graduate school  dm_high school  \\\n",
       "0         0         0         0         0                   0               0   \n",
       "1      1000      1000         0      2000                   0               0   \n",
       "2      1000      1000      1000      5000                   0               0   \n",
       "3      1200      1100      1069      1000                   0               0   \n",
       "4     10000      9000       689       679                   0               0   \n",
       "\n",
       "   dm_not educated  dm_others  dm_university  MARRIAGE_LE  default  \n",
       "0                0          0              1            0        1  \n",
       "1                0          0              1            2        1  \n",
       "2                0          0              1            2        0  \n",
       "3                0          0              1            0        0  \n",
       "4                0          0              1            0        0  "
      ]
     },
     "execution_count": 15,
     "metadata": {},
     "output_type": "execute_result"
    }
   ],
   "source": [
    "data.head()"
   ]
  },
  {
   "cell_type": "code",
   "execution_count": 16,
   "id": "3406507a",
   "metadata": {},
   "outputs": [
    {
     "data": {
      "image/png": "[encoded data removed]",
      "text/plain": [
       "<Figure size 640x480 with 1 Axes>"
      ]
     },
     "metadata": {},
     "output_type": "display_data"
    },
    {
     "data": {
      "image/png": "[encoded data removed]",
      "text/plain": [
       "<Figure size 640x480 with 1 Axes>"
      ]
     },
     "metadata": {},
     "output_type": "display_data"
    },
    {
     "data": {
      "image/png": "[encoded data removed]",
      "text/plain": [
       "<Figure size 640x480 with 1 Axes>"
      ]
     },
     "metadata": {},
     "output_type": "display_data"
    },
    {
     "data": {
      "image/png": "[encoded data removed]",
      "text/plain": [
       "<Figure size 640x480 with 1 Axes>"
      ]
     },
     "metadata": {},
     "output_type": "display_data"
    },
    {
     "data": {
      "image/png": "[encoded data removed]",
      "text/plain": [
       "<Figure size 640x480 with 1 Axes>"
      ]
     },
     "metadata": {},
     "output_type": "display_data"
    },
    {
     "data": {
      "image/png": "[encoded data removed]",
      "text/plain": [
       "<Figure size 640x480 with 1 Axes>"
      ]
     },
     "metadata": {},
     "output_type": "display_data"
    },
    {
     "data": {
      "image/png": "[encoded data removed]",
      "text/plain": [
       "<Figure size 640x480 with 1 Axes>"
      ]
     },
     "metadata": {},
     "output_type": "display_data"
    },
    {
     "data": {
      "image/png": "[encoded data removed]",
      "text/plain": [
       "<Figure size 640x480 with 1 Axes>"
      ]
     },
     "metadata": {},
     "output_type": "display_data"
    },
    {
     "data": {
      "image/png": "[encoded data removed]",
      "text/plain": [
       "<Figure size 640x480 with 1 Axes>"
      ]
     },
     "metadata": {},
     "output_type": "display_data"
    },
    {
     "data": {
      "image/png": "[encoded data removed]",
      "text/plain": [
       "<Figure size 640x480 with 1 Axes>"
      ]
     },
     "metadata": {},
     "output_type": "display_data"
    },
    {
     "data": {
      "image/png": "[encoded data removed]",
      "text/plain": [
       "<Figure size 640x480 with 1 Axes>"
      ]
     },
     "metadata": {},
     "output_type": "display_data"
    },
    {
     "data": {
      "image/png": "[encoded data removed]",
      "text/plain": [
       "<Figure size 640x480 with 1 Axes>"
      ]
     },
     "metadata": {},
     "output_type": "display_data"
    },
    {
     "data": {
      "image/png": "[encoded data removed]",
      "text/plain": [
       "<Figure size 640x480 with 1 Axes>"
      ]
     },
     "metadata": {},
     "output_type": "display_data"
    },
    {
     "data": {
      "image/png": "[encoded data removed]",
      "text/plain": [
       "<Figure size 640x480 with 1 Axes>"
      ]
     },
     "metadata": {},
     "output_type": "display_data"
    },
    {
     "data": {
      "image/png": "[encoded data removed]",
      "text/plain": [
       "<Figure size 640x480 with 1 Axes>"
      ]
     },
     "metadata": {},
     "output_type": "display_data"
    },
    {
     "data": {
      "image/png": "[encoded data removed]",
      "text/plain": [
       "<Figure size 640x480 with 1 Axes>"
      ]
     },
     "metadata": {},
     "output_type": "display_data"
    },
    {
     "data": {
      "image/png": "[encoded data removed]",
      "text/plain": [
       "<Figure size 640x480 with 1 Axes>"
      ]
     },
     "metadata": {},
     "output_type": "display_data"
    },
    {
     "data": {
      "image/png": "[encoded data removed]",
      "text/plain": [
       "<Figure size 640x480 with 1 Axes>"
      ]
     },
     "metadata": {},
     "output_type": "display_data"
    },
    {
     "data": {
      "image/png": "[encoded data removed]",
      "text/plain": [
       "<Figure size 640x480 with 1 Axes>"
      ]
     },
     "metadata": {},
     "output_type": "display_data"
    },
    {
     "data": {
      "image/png": "[encoded data removed]",
      "text/plain": [
       "<Figure size 640x480 with 1 Axes>"
      ]
     },
     "metadata": {},
     "output_type": "display_data"
    },
    {
     "data": {
      "image/png": "[encoded data removed]",
      "text/plain": [
       "<Figure size 640x480 with 1 Axes>"
      ]
     },
     "metadata": {},
     "output_type": "display_data"
    }
   ],
   "source": [
    "for i in data.iloc[:,0:-7]:\n",
    "    sns.boxplot(data = data, x = data[i])\n",
    "    plt.show()"
   ]
  },
  {
   "cell_type": "code",
   "execution_count": 17,
   "id": "6cf077bb",
   "metadata": {},
   "outputs": [],
   "source": [
    "q1=data.quantile(0.25)\n",
    "q3=data.quantile(0.75)\n",
    "IQR=q3-q1\n",
    "\n",
    "Lower = q1-1.5*IQR\n",
    "Upper = q3+1.5*IQR"
   ]
  },
  {
   "cell_type": "code",
   "execution_count": 18,
   "id": "24a61f18",
   "metadata": {},
   "outputs": [
    {
     "data": {
      "image/png": "[encoded data removed]",
      "text/plain": [
       "<Figure size 640x480 with 1 Axes>"
      ]
     },
     "metadata": {},
     "output_type": "display_data"
    },
    {
     "data": {
      "image/png": "[encoded data removed]",
      "text/plain": [
       "<Figure size 640x480 with 1 Axes>"
      ]
     },
     "metadata": {},
     "output_type": "display_data"
    },
    {
     "data": {
      "image/png": "[encoded data removed]",
      "text/plain": [
       "<Figure size 640x480 with 1 Axes>"
      ]
     },
     "metadata": {},
     "output_type": "display_data"
    },
    {
     "data": {
      "image/png": "[encoded data removed]",
      "text/plain": [
       "<Figure size 640x480 with 1 Axes>"
      ]
     },
     "metadata": {},
     "output_type": "display_data"
    },
    {
     "data": {
      "image/png": "[encoded data removed]",
      "text/plain": [
       "<Figure size 640x480 with 1 Axes>"
      ]
     },
     "metadata": {},
     "output_type": "display_data"
    },
    {
     "data": {
      "image/png": "[encoded data removed]",
      "text/plain": [
       "<Figure size 640x480 with 1 Axes>"
      ]
     },
     "metadata": {},
     "output_type": "display_data"
    },
    {
     "data": {
      "image/png": "[encoded data removed]",
      "text/plain": [
       "<Figure size 640x480 with 1 Axes>"
      ]
     },
     "metadata": {},
     "output_type": "display_data"
    },
    {
     "data": {
      "image/png": "[encoded data removed]",
      "text/plain": [
       "<Figure size 640x480 with 1 Axes>"
      ]
     },
     "metadata": {},
     "output_type": "display_data"
    },
    {
     "data": {
      "image/png": "[encoded data removed]",
      "text/plain": [
       "<Figure size 640x480 with 1 Axes>"
      ]
     },
     "metadata": {},
     "output_type": "display_data"
    },
    {
     "data": {
      "image/png": "[encoded data removed]",
      "text/plain": [
       "<Figure size 640x480 with 1 Axes>"
      ]
     },
     "metadata": {},
     "output_type": "display_data"
    },
    {
     "data": {
      "image/png": "[encoded data removed]",
      "text/plain": [
       "<Figure size 640x480 with 1 Axes>"
      ]
     },
     "metadata": {},
     "output_type": "display_data"
    },
    {
     "data": {
      "image/png": "[encoded data removed]",
      "text/plain": [
       "<Figure size 640x480 with 1 Axes>"
      ]
     },
     "metadata": {},
     "output_type": "display_data"
    },
    {
     "data": {
      "image/png": "[encoded data removed]",
      "text/plain": [
       "<Figure size 640x480 with 1 Axes>"
      ]
     },
     "metadata": {},
     "output_type": "display_data"
    },
    {
     "data": {
      "image/png": "[encoded data removed]",
      "text/plain": [
       "<Figure size 640x480 with 1 Axes>"
      ]
     },
     "metadata": {},
     "output_type": "display_data"
    },
    {
     "data": {
      "image/png": "[encoded data removed]",
      "text/plain": [
       "<Figure size 640x480 with 1 Axes>"
      ]
     },
     "metadata": {},
     "output_type": "display_data"
    },
    {
     "data": {
      "image/png": "[encoded data removed]",
      "text/plain": [
       "<Figure size 640x480 with 1 Axes>"
      ]
     },
     "metadata": {},
     "output_type": "display_data"
    },
    {
     "data": {
      "image/png": "[encoded data removed]",
      "text/plain": [
       "<Figure size 640x480 with 1 Axes>"
      ]
     },
     "metadata": {},
     "output_type": "display_data"
    },
    {
     "data": {
      "image/png": "[encoded data removed]",
      "text/plain": [
       "<Figure size 640x480 with 1 Axes>"
      ]
     },
     "metadata": {},
     "output_type": "display_data"
    },
    {
     "data": {
      "image/png": "[encoded data removed]",
      "text/plain": [
       "<Figure size 640x480 with 1 Axes>"
      ]
     },
     "metadata": {},
     "output_type": "display_data"
    },
    {
     "data": {
      "image/png": "[encoded data removed]",
      "text/plain": [
       "<Figure size 640x480 with 1 Axes>"
      ]
     },
     "metadata": {},
     "output_type": "display_data"
    },
    {
     "data": {
      "image/png": "[encoded data removed]",
      "text/plain": [
       "<Figure size 640x480 with 1 Axes>"
      ]
     },
     "metadata": {},
     "output_type": "display_data"
    }
   ],
   "source": [
    "for i in data.iloc[:,0:-7]:\n",
    "    data[i] = np.where(data[i] > Upper[i],Upper[i],data[i])\n",
    "    data[i] = np.where(data[i] < Lower[i],Lower[i],data[i])\n",
    "    sns.boxplot(data=data,x=data[i])\n",
    "    plt.show()"
   ]
  },
  {
   "cell_type": "code",
   "execution_count": 19,
   "id": "cebd5ab6",
   "metadata": {},
   "outputs": [
    {
     "data": {
      "text/plain": [
       "Index(['LIMIT_BAL', 'SEX', 'AGE', 'PAY_0', 'PAY_2', 'PAY_3', 'PAY_4', 'PAY_5',\n",
       "       'PAY_6', 'BILL_AMT1', 'BILL_AMT2', 'BILL_AMT3', 'BILL_AMT4',\n",
       "       'BILL_AMT5', 'BILL_AMT6', 'PAY_AMT1', 'PAY_AMT2', 'PAY_AMT3',\n",
       "       'PAY_AMT4', 'PAY_AMT5', 'PAY_AMT6', 'dm_graduate school',\n",
       "       'dm_high school', 'dm_not educated', 'dm_others', 'dm_university',\n",
       "       'MARRIAGE_LE', 'default'],\n",
       "      dtype='object')"
      ]
     },
     "execution_count": 19,
     "metadata": {},
     "output_type": "execute_result"
    }
   ],
   "source": [
    "data.columns"
   ]
  },
  {
   "cell_type": "markdown",
   "id": "63eef55a",
   "metadata": {},
   "source": [
    "# VIF"
   ]
  },
  {
   "cell_type": "code",
   "execution_count": 20,
   "id": "c3e79315",
   "metadata": {},
   "outputs": [
    {
     "data": {
      "text/html": [
       "<div>\n",
       "<style scoped>\n",
       "    .dataframe tbody tr th:only-of-type {\n",
       "        vertical-align: middle;\n",
       "    }\n",
       "\n",
       "    .dataframe tbody tr th {\n",
       "        vertical-align: top;\n",
       "    }\n",
       "\n",
       "    .dataframe thead th {\n",
       "        text-align: right;\n",
       "    }\n",
       "</style>\n",
       "<table border=\"1\" class=\"dataframe\">\n",
       "  <thead>\n",
       "    <tr style=\"text-align: right;\">\n",
       "      <th></th>\n",
       "      <th>VIF</th>\n",
       "      <th>Features</th>\n",
       "    </tr>\n",
       "  </thead>\n",
       "  <tbody>\n",
       "    <tr>\n",
       "      <th>0</th>\n",
       "      <td>3.674551</td>\n",
       "      <td>LIMIT_BAL</td>\n",
       "    </tr>\n",
       "    <tr>\n",
       "      <th>1</th>\n",
       "      <td>1.545825</td>\n",
       "      <td>SEX</td>\n",
       "    </tr>\n",
       "    <tr>\n",
       "      <th>2</th>\n",
       "      <td>1.847274</td>\n",
       "      <td>PAY_0</td>\n",
       "    </tr>\n",
       "    <tr>\n",
       "      <th>3</th>\n",
       "      <td>3.758714</td>\n",
       "      <td>PAY_2</td>\n",
       "    </tr>\n",
       "    <tr>\n",
       "      <th>4</th>\n",
       "      <td>4.783164</td>\n",
       "      <td>PAY_3</td>\n",
       "    </tr>\n",
       "    <tr>\n",
       "      <th>5</th>\n",
       "      <td>4.231278</td>\n",
       "      <td>PAY_4</td>\n",
       "    </tr>\n",
       "    <tr>\n",
       "      <th>6</th>\n",
       "      <td>2.741070</td>\n",
       "      <td>PAY_6</td>\n",
       "    </tr>\n",
       "    <tr>\n",
       "      <th>7</th>\n",
       "      <td>3.157251</td>\n",
       "      <td>BILL_AMT1</td>\n",
       "    </tr>\n",
       "    <tr>\n",
       "      <th>8</th>\n",
       "      <td>4.094778</td>\n",
       "      <td>PAY_AMT1</td>\n",
       "    </tr>\n",
       "    <tr>\n",
       "      <th>9</th>\n",
       "      <td>3.999705</td>\n",
       "      <td>PAY_AMT2</td>\n",
       "    </tr>\n",
       "    <tr>\n",
       "      <th>10</th>\n",
       "      <td>3.418459</td>\n",
       "      <td>PAY_AMT3</td>\n",
       "    </tr>\n",
       "    <tr>\n",
       "      <th>11</th>\n",
       "      <td>3.311486</td>\n",
       "      <td>PAY_AMT4</td>\n",
       "    </tr>\n",
       "    <tr>\n",
       "      <th>12</th>\n",
       "      <td>3.231412</td>\n",
       "      <td>PAY_AMT5</td>\n",
       "    </tr>\n",
       "    <tr>\n",
       "      <th>13</th>\n",
       "      <td>3.062593</td>\n",
       "      <td>PAY_AMT6</td>\n",
       "    </tr>\n",
       "    <tr>\n",
       "      <th>14</th>\n",
       "      <td>1.194733</td>\n",
       "      <td>dm_high school</td>\n",
       "    </tr>\n",
       "    <tr>\n",
       "      <th>15</th>\n",
       "      <td>1.002229</td>\n",
       "      <td>dm_not educated</td>\n",
       "    </tr>\n",
       "    <tr>\n",
       "      <th>16</th>\n",
       "      <td>1.032024</td>\n",
       "      <td>dm_others</td>\n",
       "    </tr>\n",
       "    <tr>\n",
       "      <th>17</th>\n",
       "      <td>1.644269</td>\n",
       "      <td>dm_university</td>\n",
       "    </tr>\n",
       "    <tr>\n",
       "      <th>18</th>\n",
       "      <td>1.726877</td>\n",
       "      <td>MARRIAGE_LE</td>\n",
       "    </tr>\n",
       "  </tbody>\n",
       "</table>\n",
       "</div>"
      ],
      "text/plain": [
       "         VIF         Features\n",
       "0   3.674551        LIMIT_BAL\n",
       "1   1.545825              SEX\n",
       "2   1.847274            PAY_0\n",
       "3   3.758714            PAY_2\n",
       "4   4.783164            PAY_3\n",
       "5   4.231278            PAY_4\n",
       "6   2.741070            PAY_6\n",
       "7   3.157251        BILL_AMT1\n",
       "8   4.094778         PAY_AMT1\n",
       "9   3.999705         PAY_AMT2\n",
       "10  3.418459         PAY_AMT3\n",
       "11  3.311486         PAY_AMT4\n",
       "12  3.231412         PAY_AMT5\n",
       "13  3.062593         PAY_AMT6\n",
       "14  1.194733   dm_high school\n",
       "15  1.002229  dm_not educated\n",
       "16  1.032024        dm_others\n",
       "17  1.644269    dm_university\n",
       "18  1.726877      MARRIAGE_LE"
      ]
     },
     "execution_count": 20,
     "metadata": {},
     "output_type": "execute_result"
    }
   ],
   "source": [
    "from statsmodels.stats.outliers_influence import variance_inflation_factor\n",
    "\n",
    "variables = data[['LIMIT_BAL', 'SEX', 'PAY_0', 'PAY_2', 'PAY_3', 'PAY_4',\n",
    "       'PAY_6', 'BILL_AMT1', 'PAY_AMT1', 'PAY_AMT2', 'PAY_AMT3',\n",
    "       'PAY_AMT4', 'PAY_AMT5', 'PAY_AMT6', \n",
    "       'dm_high school', 'dm_not educated', 'dm_others', 'dm_university',\n",
    "       'MARRIAGE_LE']]\n",
    "\n",
    "vif = pd.DataFrame()\n",
    "\n",
    "vif[\"VIF\"] = [variance_inflation_factor(variables.values, i) for i in range(variables.shape[1])]\n",
    "\n",
    "vif[\"Features\"] = variables.columns\n",
    "vif"
   ]
  },
  {
   "cell_type": "code",
   "execution_count": 21,
   "id": "406fbdf4",
   "metadata": {},
   "outputs": [
    {
     "data": {
      "text/html": [
       "<div>\n",
       "<style scoped>\n",
       "    .dataframe tbody tr th:only-of-type {\n",
       "        vertical-align: middle;\n",
       "    }\n",
       "\n",
       "    .dataframe tbody tr th {\n",
       "        vertical-align: top;\n",
       "    }\n",
       "\n",
       "    .dataframe thead th {\n",
       "        text-align: right;\n",
       "    }\n",
       "</style>\n",
       "<table border=\"1\" class=\"dataframe\">\n",
       "  <thead>\n",
       "    <tr style=\"text-align: right;\">\n",
       "      <th></th>\n",
       "      <th>LIMIT_BAL</th>\n",
       "      <th>SEX</th>\n",
       "      <th>PAY_0</th>\n",
       "      <th>PAY_2</th>\n",
       "      <th>PAY_3</th>\n",
       "      <th>PAY_4</th>\n",
       "      <th>PAY_6</th>\n",
       "      <th>BILL_AMT1</th>\n",
       "      <th>PAY_AMT1</th>\n",
       "      <th>PAY_AMT2</th>\n",
       "      <th>PAY_AMT3</th>\n",
       "      <th>PAY_AMT4</th>\n",
       "      <th>PAY_AMT5</th>\n",
       "      <th>PAY_AMT6</th>\n",
       "      <th>dm_high school</th>\n",
       "      <th>dm_not educated</th>\n",
       "      <th>dm_others</th>\n",
       "      <th>dm_university</th>\n",
       "      <th>MARRIAGE_LE</th>\n",
       "      <th>default</th>\n",
       "    </tr>\n",
       "  </thead>\n",
       "  <tbody>\n",
       "    <tr>\n",
       "      <th>0</th>\n",
       "      <td>20000.0</td>\n",
       "      <td>0.0</td>\n",
       "      <td>1.5</td>\n",
       "      <td>1.5</td>\n",
       "      <td>-1.0</td>\n",
       "      <td>-1.0</td>\n",
       "      <td>-2.0</td>\n",
       "      <td>3913.0</td>\n",
       "      <td>0.0</td>\n",
       "      <td>689.0</td>\n",
       "      <td>0.0</td>\n",
       "      <td>0.0</td>\n",
       "      <td>0.0</td>\n",
       "      <td>0.0</td>\n",
       "      <td>0</td>\n",
       "      <td>0</td>\n",
       "      <td>0</td>\n",
       "      <td>1</td>\n",
       "      <td>0</td>\n",
       "      <td>1</td>\n",
       "    </tr>\n",
       "    <tr>\n",
       "      <th>1</th>\n",
       "      <td>120000.0</td>\n",
       "      <td>0.0</td>\n",
       "      <td>-1.0</td>\n",
       "      <td>1.5</td>\n",
       "      <td>0.0</td>\n",
       "      <td>0.0</td>\n",
       "      <td>1.5</td>\n",
       "      <td>2682.0</td>\n",
       "      <td>0.0</td>\n",
       "      <td>1000.0</td>\n",
       "      <td>1000.0</td>\n",
       "      <td>1000.0</td>\n",
       "      <td>0.0</td>\n",
       "      <td>2000.0</td>\n",
       "      <td>0</td>\n",
       "      <td>0</td>\n",
       "      <td>0</td>\n",
       "      <td>1</td>\n",
       "      <td>2</td>\n",
       "      <td>1</td>\n",
       "    </tr>\n",
       "    <tr>\n",
       "      <th>2</th>\n",
       "      <td>90000.0</td>\n",
       "      <td>0.0</td>\n",
       "      <td>0.0</td>\n",
       "      <td>0.0</td>\n",
       "      <td>0.0</td>\n",
       "      <td>0.0</td>\n",
       "      <td>0.0</td>\n",
       "      <td>29239.0</td>\n",
       "      <td>1518.0</td>\n",
       "      <td>1500.0</td>\n",
       "      <td>1000.0</td>\n",
       "      <td>1000.0</td>\n",
       "      <td>1000.0</td>\n",
       "      <td>5000.0</td>\n",
       "      <td>0</td>\n",
       "      <td>0</td>\n",
       "      <td>0</td>\n",
       "      <td>1</td>\n",
       "      <td>2</td>\n",
       "      <td>0</td>\n",
       "    </tr>\n",
       "    <tr>\n",
       "      <th>3</th>\n",
       "      <td>50000.0</td>\n",
       "      <td>0.0</td>\n",
       "      <td>0.0</td>\n",
       "      <td>0.0</td>\n",
       "      <td>0.0</td>\n",
       "      <td>0.0</td>\n",
       "      <td>0.0</td>\n",
       "      <td>46990.0</td>\n",
       "      <td>2000.0</td>\n",
       "      <td>2019.0</td>\n",
       "      <td>1200.0</td>\n",
       "      <td>1100.0</td>\n",
       "      <td>1069.0</td>\n",
       "      <td>1000.0</td>\n",
       "      <td>0</td>\n",
       "      <td>0</td>\n",
       "      <td>0</td>\n",
       "      <td>1</td>\n",
       "      <td>0</td>\n",
       "      <td>0</td>\n",
       "    </tr>\n",
       "    <tr>\n",
       "      <th>4</th>\n",
       "      <td>50000.0</td>\n",
       "      <td>1.0</td>\n",
       "      <td>-1.0</td>\n",
       "      <td>0.0</td>\n",
       "      <td>-1.0</td>\n",
       "      <td>0.0</td>\n",
       "      <td>0.0</td>\n",
       "      <td>8617.0</td>\n",
       "      <td>2000.0</td>\n",
       "      <td>11250.5</td>\n",
       "      <td>10000.0</td>\n",
       "      <td>9000.0</td>\n",
       "      <td>689.0</td>\n",
       "      <td>679.0</td>\n",
       "      <td>0</td>\n",
       "      <td>0</td>\n",
       "      <td>0</td>\n",
       "      <td>1</td>\n",
       "      <td>0</td>\n",
       "      <td>0</td>\n",
       "    </tr>\n",
       "  </tbody>\n",
       "</table>\n",
       "</div>"
      ],
      "text/plain": [
       "   LIMIT_BAL  SEX  PAY_0  PAY_2  PAY_3  PAY_4  PAY_6  BILL_AMT1  PAY_AMT1  \\\n",
       "0    20000.0  0.0    1.5    1.5   -1.0   -1.0   -2.0     3913.0       0.0   \n",
       "1   120000.0  0.0   -1.0    1.5    0.0    0.0    1.5     2682.0       0.0   \n",
       "2    90000.0  0.0    0.0    0.0    0.0    0.0    0.0    29239.0    1518.0   \n",
       "3    50000.0  0.0    0.0    0.0    0.0    0.0    0.0    46990.0    2000.0   \n",
       "4    50000.0  1.0   -1.0    0.0   -1.0    0.0    0.0     8617.0    2000.0   \n",
       "\n",
       "   PAY_AMT2  PAY_AMT3  PAY_AMT4  PAY_AMT5  PAY_AMT6  dm_high school  \\\n",
       "0     689.0       0.0       0.0       0.0       0.0               0   \n",
       "1    1000.0    1000.0    1000.0       0.0    2000.0               0   \n",
       "2    1500.0    1000.0    1000.0    1000.0    5000.0               0   \n",
       "3    2019.0    1200.0    1100.0    1069.0    1000.0               0   \n",
       "4   11250.5   10000.0    9000.0     689.0     679.0               0   \n",
       "\n",
       "   dm_not educated  dm_others  dm_university  MARRIAGE_LE  default  \n",
       "0                0          0              1            0        1  \n",
       "1                0          0              1            2        1  \n",
       "2                0          0              1            2        0  \n",
       "3                0          0              1            0        0  \n",
       "4                0          0              1            0        0  "
      ]
     },
     "execution_count": 21,
     "metadata": {},
     "output_type": "execute_result"
    }
   ],
   "source": [
    "data = data[['LIMIT_BAL', 'SEX', 'PAY_0', 'PAY_2', 'PAY_3', 'PAY_4',\n",
    "       'PAY_6', 'BILL_AMT1', 'PAY_AMT1', 'PAY_AMT2', 'PAY_AMT3',\n",
    "       'PAY_AMT4', 'PAY_AMT5', 'PAY_AMT6', \n",
    "       'dm_high school', 'dm_not educated', 'dm_others', 'dm_university',\n",
    "       'MARRIAGE_LE', 'default']]\n",
    "data.head()"
   ]
  },
  {
   "cell_type": "code",
   "execution_count": 22,
   "id": "eb3ec80d",
   "metadata": {},
   "outputs": [
    {
     "data": {
      "text/plain": [
       "Index(['LIMIT_BAL', 'SEX', 'PAY_0', 'PAY_2', 'PAY_3', 'PAY_4', 'PAY_6',\n",
       "       'BILL_AMT1', 'PAY_AMT1', 'PAY_AMT2', 'PAY_AMT3', 'PAY_AMT4', 'PAY_AMT5',\n",
       "       'PAY_AMT6', 'dm_high school', 'dm_not educated', 'dm_others',\n",
       "       'dm_university', 'MARRIAGE_LE', 'default'],\n",
       "      dtype='object')"
      ]
     },
     "execution_count": 22,
     "metadata": {},
     "output_type": "execute_result"
    }
   ],
   "source": [
    "data.columns"
   ]
  },
  {
   "cell_type": "code",
   "execution_count": 23,
   "id": "661ca1ed",
   "metadata": {},
   "outputs": [
    {
     "data": {
      "text/html": [
       "<div>\n",
       "<style scoped>\n",
       "    .dataframe tbody tr th:only-of-type {\n",
       "        vertical-align: middle;\n",
       "    }\n",
       "\n",
       "    .dataframe tbody tr th {\n",
       "        vertical-align: top;\n",
       "    }\n",
       "\n",
       "    .dataframe thead th {\n",
       "        text-align: right;\n",
       "    }\n",
       "</style>\n",
       "<table border=\"1\" class=\"dataframe\">\n",
       "  <thead>\n",
       "    <tr style=\"text-align: right;\">\n",
       "      <th></th>\n",
       "      <th>LIMIT_BAL</th>\n",
       "      <th>SEX</th>\n",
       "      <th>PAY_0</th>\n",
       "      <th>PAY_2</th>\n",
       "      <th>PAY_3</th>\n",
       "      <th>PAY_4</th>\n",
       "      <th>PAY_6</th>\n",
       "      <th>BILL_AMT1</th>\n",
       "      <th>PAY_AMT1</th>\n",
       "      <th>PAY_AMT2</th>\n",
       "      <th>PAY_AMT3</th>\n",
       "      <th>PAY_AMT4</th>\n",
       "      <th>PAY_AMT5</th>\n",
       "      <th>PAY_AMT6</th>\n",
       "      <th>dm_high school</th>\n",
       "      <th>dm_not educated</th>\n",
       "      <th>dm_others</th>\n",
       "      <th>dm_university</th>\n",
       "      <th>MARRIAGE_LE</th>\n",
       "      <th>default</th>\n",
       "    </tr>\n",
       "  </thead>\n",
       "  <tbody>\n",
       "    <tr>\n",
       "      <th>LIMIT_BAL</th>\n",
       "      <td>1.000000</td>\n",
       "      <td>-0.025538</td>\n",
       "      <td>-0.281256</td>\n",
       "      <td>-0.308840</td>\n",
       "      <td>-0.296653</td>\n",
       "      <td>-0.275536</td>\n",
       "      <td>-0.237806</td>\n",
       "      <td>0.198285</td>\n",
       "      <td>0.343157</td>\n",
       "      <td>0.353506</td>\n",
       "      <td>0.358593</td>\n",
       "      <td>0.349563</td>\n",
       "      <td>0.354400</td>\n",
       "      <td>0.371924</td>\n",
       "      <td>-0.140990</td>\n",
       "      <td>0.008469</td>\n",
       "      <td>0.012292</td>\n",
       "      <td>-0.148458</td>\n",
       "      <td>-0.098799</td>\n",
       "      <td>-0.154380</td>\n",
       "    </tr>\n",
       "    <tr>\n",
       "      <th>SEX</th>\n",
       "      <td>-0.025538</td>\n",
       "      <td>1.000000</td>\n",
       "      <td>0.055758</td>\n",
       "      <td>0.071145</td>\n",
       "      <td>0.066619</td>\n",
       "      <td>0.058835</td>\n",
       "      <td>0.041439</td>\n",
       "      <td>0.030498</td>\n",
       "      <td>0.003137</td>\n",
       "      <td>-0.006234</td>\n",
       "      <td>-0.012512</td>\n",
       "      <td>-0.008921</td>\n",
       "      <td>-0.011855</td>\n",
       "      <td>-0.025256</td>\n",
       "      <td>0.007650</td>\n",
       "      <td>0.007738</td>\n",
       "      <td>-0.009995</td>\n",
       "      <td>-0.025353</td>\n",
       "      <td>0.030927</td>\n",
       "      <td>0.039961</td>\n",
       "    </tr>\n",
       "    <tr>\n",
       "      <th>PAY_0</th>\n",
       "      <td>-0.281256</td>\n",
       "      <td>0.055758</td>\n",
       "      <td>1.000000</td>\n",
       "      <td>0.645076</td>\n",
       "      <td>0.559973</td>\n",
       "      <td>0.528837</td>\n",
       "      <td>0.476768</td>\n",
       "      <td>0.251773</td>\n",
       "      <td>-0.102186</td>\n",
       "      <td>-0.095138</td>\n",
       "      <td>-0.087057</td>\n",
       "      <td>-0.067292</td>\n",
       "      <td>-0.061694</td>\n",
       "      <td>-0.076801</td>\n",
       "      <td>0.059483</td>\n",
       "      <td>-0.009215</td>\n",
       "      <td>-0.023464</td>\n",
       "      <td>0.102198</td>\n",
       "      <td>0.018953</td>\n",
       "      <td>0.291685</td>\n",
       "    </tr>\n",
       "    <tr>\n",
       "      <th>PAY_2</th>\n",
       "      <td>-0.308840</td>\n",
       "      <td>0.071145</td>\n",
       "      <td>0.645076</td>\n",
       "      <td>1.000000</td>\n",
       "      <td>0.786833</td>\n",
       "      <td>0.694651</td>\n",
       "      <td>0.615124</td>\n",
       "      <td>0.345197</td>\n",
       "      <td>-0.044281</td>\n",
       "      <td>-0.010027</td>\n",
       "      <td>-0.011084</td>\n",
       "      <td>0.002347</td>\n",
       "      <td>0.009338</td>\n",
       "      <td>-0.003035</td>\n",
       "      <td>0.065874</td>\n",
       "      <td>-0.016724</td>\n",
       "      <td>-0.027807</td>\n",
       "      <td>0.131326</td>\n",
       "      <td>0.028297</td>\n",
       "      <td>0.235276</td>\n",
       "    </tr>\n",
       "    <tr>\n",
       "      <th>PAY_3</th>\n",
       "      <td>-0.296653</td>\n",
       "      <td>0.066619</td>\n",
       "      <td>0.559973</td>\n",
       "      <td>0.786833</td>\n",
       "      <td>1.000000</td>\n",
       "      <td>0.792073</td>\n",
       "      <td>0.653343</td>\n",
       "      <td>0.319670</td>\n",
       "      <td>0.114352</td>\n",
       "      <td>-0.040379</td>\n",
       "      <td>0.000133</td>\n",
       "      <td>0.021869</td>\n",
       "      <td>0.028235</td>\n",
       "      <td>0.009207</td>\n",
       "      <td>0.064798</td>\n",
       "      <td>-0.015294</td>\n",
       "      <td>-0.028965</td>\n",
       "      <td>0.125117</td>\n",
       "      <td>0.033868</td>\n",
       "      <td>0.208608</td>\n",
       "    </tr>\n",
       "    <tr>\n",
       "      <th>PAY_4</th>\n",
       "      <td>-0.275536</td>\n",
       "      <td>0.058835</td>\n",
       "      <td>0.528837</td>\n",
       "      <td>0.694651</td>\n",
       "      <td>0.792073</td>\n",
       "      <td>1.000000</td>\n",
       "      <td>0.719471</td>\n",
       "      <td>0.319552</td>\n",
       "      <td>0.087344</td>\n",
       "      <td>0.126888</td>\n",
       "      <td>-0.016672</td>\n",
       "      <td>0.037965</td>\n",
       "      <td>0.055232</td>\n",
       "      <td>0.040393</td>\n",
       "      <td>0.058565</td>\n",
       "      <td>-0.013124</td>\n",
       "      <td>-0.025908</td>\n",
       "      <td>0.120729</td>\n",
       "      <td>0.035123</td>\n",
       "      <td>0.186960</td>\n",
       "    </tr>\n",
       "    <tr>\n",
       "      <th>PAY_6</th>\n",
       "      <td>-0.237806</td>\n",
       "      <td>0.041439</td>\n",
       "      <td>0.476768</td>\n",
       "      <td>0.615124</td>\n",
       "      <td>0.653343</td>\n",
       "      <td>0.719471</td>\n",
       "      <td>1.000000</td>\n",
       "      <td>0.316668</td>\n",
       "      <td>0.088892</td>\n",
       "      <td>0.091165</td>\n",
       "      <td>0.113354</td>\n",
       "      <td>0.156453</td>\n",
       "      <td>0.045744</td>\n",
       "      <td>0.078345</td>\n",
       "      <td>0.040705</td>\n",
       "      <td>-0.022109</td>\n",
       "      <td>-0.030477</td>\n",
       "      <td>0.106960</td>\n",
       "      <td>0.035966</td>\n",
       "      <td>0.156596</td>\n",
       "    </tr>\n",
       "    <tr>\n",
       "      <th>BILL_AMT1</th>\n",
       "      <td>0.198285</td>\n",
       "      <td>0.030498</td>\n",
       "      <td>0.251773</td>\n",
       "      <td>0.345197</td>\n",
       "      <td>0.319670</td>\n",
       "      <td>0.319552</td>\n",
       "      <td>0.316668</td>\n",
       "      <td>1.000000</td>\n",
       "      <td>0.466516</td>\n",
       "      <td>0.424701</td>\n",
       "      <td>0.392170</td>\n",
       "      <td>0.403331</td>\n",
       "      <td>0.394699</td>\n",
       "      <td>0.379730</td>\n",
       "      <td>-0.012855</td>\n",
       "      <td>-0.013696</td>\n",
       "      <td>0.042466</td>\n",
       "      <td>0.048586</td>\n",
       "      <td>-0.019525</td>\n",
       "      <td>-0.029033</td>\n",
       "    </tr>\n",
       "    <tr>\n",
       "      <th>PAY_AMT1</th>\n",
       "      <td>0.343157</td>\n",
       "      <td>0.003137</td>\n",
       "      <td>-0.102186</td>\n",
       "      <td>-0.044281</td>\n",
       "      <td>0.114352</td>\n",
       "      <td>0.087344</td>\n",
       "      <td>0.088892</td>\n",
       "      <td>0.466516</td>\n",
       "      <td>1.000000</td>\n",
       "      <td>0.538179</td>\n",
       "      <td>0.515902</td>\n",
       "      <td>0.490235</td>\n",
       "      <td>0.481460</td>\n",
       "      <td>0.465544</td>\n",
       "      <td>-0.047505</td>\n",
       "      <td>0.006744</td>\n",
       "      <td>0.020356</td>\n",
       "      <td>-0.045907</td>\n",
       "      <td>-0.009253</td>\n",
       "      <td>-0.143442</td>\n",
       "    </tr>\n",
       "    <tr>\n",
       "      <th>PAY_AMT2</th>\n",
       "      <td>0.353506</td>\n",
       "      <td>-0.006234</td>\n",
       "      <td>-0.095138</td>\n",
       "      <td>-0.010027</td>\n",
       "      <td>-0.040379</td>\n",
       "      <td>0.126888</td>\n",
       "      <td>0.091165</td>\n",
       "      <td>0.424701</td>\n",
       "      <td>0.538179</td>\n",
       "      <td>1.000000</td>\n",
       "      <td>0.521045</td>\n",
       "      <td>0.505590</td>\n",
       "      <td>0.491160</td>\n",
       "      <td>0.483899</td>\n",
       "      <td>-0.056271</td>\n",
       "      <td>0.010326</td>\n",
       "      <td>0.027315</td>\n",
       "      <td>-0.046231</td>\n",
       "      <td>-0.021684</td>\n",
       "      <td>-0.139699</td>\n",
       "    </tr>\n",
       "    <tr>\n",
       "      <th>PAY_AMT3</th>\n",
       "      <td>0.358593</td>\n",
       "      <td>-0.012512</td>\n",
       "      <td>-0.087057</td>\n",
       "      <td>-0.011084</td>\n",
       "      <td>0.000133</td>\n",
       "      <td>-0.016672</td>\n",
       "      <td>0.113354</td>\n",
       "      <td>0.392170</td>\n",
       "      <td>0.515902</td>\n",
       "      <td>0.521045</td>\n",
       "      <td>1.000000</td>\n",
       "      <td>0.516321</td>\n",
       "      <td>0.511004</td>\n",
       "      <td>0.494951</td>\n",
       "      <td>-0.056347</td>\n",
       "      <td>0.010735</td>\n",
       "      <td>0.026323</td>\n",
       "      <td>-0.046077</td>\n",
       "      <td>-0.015706</td>\n",
       "      <td>-0.124561</td>\n",
       "    </tr>\n",
       "    <tr>\n",
       "      <th>PAY_AMT4</th>\n",
       "      <td>0.349563</td>\n",
       "      <td>-0.008921</td>\n",
       "      <td>-0.067292</td>\n",
       "      <td>0.002347</td>\n",
       "      <td>0.021869</td>\n",
       "      <td>0.037965</td>\n",
       "      <td>0.156453</td>\n",
       "      <td>0.403331</td>\n",
       "      <td>0.490235</td>\n",
       "      <td>0.505590</td>\n",
       "      <td>0.516321</td>\n",
       "      <td>1.000000</td>\n",
       "      <td>0.528226</td>\n",
       "      <td>0.515595</td>\n",
       "      <td>-0.054729</td>\n",
       "      <td>-0.001400</td>\n",
       "      <td>0.006061</td>\n",
       "      <td>-0.035809</td>\n",
       "      <td>-0.018621</td>\n",
       "      <td>-0.113716</td>\n",
       "    </tr>\n",
       "    <tr>\n",
       "      <th>PAY_AMT5</th>\n",
       "      <td>0.354400</td>\n",
       "      <td>-0.011855</td>\n",
       "      <td>-0.061694</td>\n",
       "      <td>0.009338</td>\n",
       "      <td>0.028235</td>\n",
       "      <td>0.055232</td>\n",
       "      <td>0.045744</td>\n",
       "      <td>0.394699</td>\n",
       "      <td>0.481460</td>\n",
       "      <td>0.491160</td>\n",
       "      <td>0.511004</td>\n",
       "      <td>0.528226</td>\n",
       "      <td>1.000000</td>\n",
       "      <td>0.534212</td>\n",
       "      <td>-0.058064</td>\n",
       "      <td>-0.001326</td>\n",
       "      <td>0.001327</td>\n",
       "      <td>-0.031795</td>\n",
       "      <td>-0.015496</td>\n",
       "      <td>-0.108081</td>\n",
       "    </tr>\n",
       "    <tr>\n",
       "      <th>PAY_AMT6</th>\n",
       "      <td>0.371924</td>\n",
       "      <td>-0.025256</td>\n",
       "      <td>-0.076801</td>\n",
       "      <td>-0.003035</td>\n",
       "      <td>0.009207</td>\n",
       "      <td>0.040393</td>\n",
       "      <td>0.078345</td>\n",
       "      <td>0.379730</td>\n",
       "      <td>0.465544</td>\n",
       "      <td>0.483899</td>\n",
       "      <td>0.494951</td>\n",
       "      <td>0.515595</td>\n",
       "      <td>0.534212</td>\n",
       "      <td>1.000000</td>\n",
       "      <td>-0.054713</td>\n",
       "      <td>-0.000719</td>\n",
       "      <td>0.002844</td>\n",
       "      <td>-0.038765</td>\n",
       "      <td>-0.016927</td>\n",
       "      <td>-0.114552</td>\n",
       "    </tr>\n",
       "    <tr>\n",
       "      <th>dm_high school</th>\n",
       "      <td>-0.140990</td>\n",
       "      <td>0.007650</td>\n",
       "      <td>0.059483</td>\n",
       "      <td>0.065874</td>\n",
       "      <td>0.064798</td>\n",
       "      <td>0.058565</td>\n",
       "      <td>0.040705</td>\n",
       "      <td>-0.012855</td>\n",
       "      <td>-0.047505</td>\n",
       "      <td>-0.056271</td>\n",
       "      <td>-0.056347</td>\n",
       "      <td>-0.054729</td>\n",
       "      <td>-0.058064</td>\n",
       "      <td>-0.054713</td>\n",
       "      <td>1.000000</td>\n",
       "      <td>-0.009567</td>\n",
       "      <td>-0.054883</td>\n",
       "      <td>-0.414989</td>\n",
       "      <td>-0.120862</td>\n",
       "      <td>0.032403</td>\n",
       "    </tr>\n",
       "    <tr>\n",
       "      <th>dm_not educated</th>\n",
       "      <td>0.008469</td>\n",
       "      <td>0.007738</td>\n",
       "      <td>-0.009215</td>\n",
       "      <td>-0.016724</td>\n",
       "      <td>-0.015294</td>\n",
       "      <td>-0.013124</td>\n",
       "      <td>-0.022109</td>\n",
       "      <td>-0.013696</td>\n",
       "      <td>0.006744</td>\n",
       "      <td>0.010326</td>\n",
       "      <td>0.010735</td>\n",
       "      <td>-0.001400</td>\n",
       "      <td>-0.001326</td>\n",
       "      <td>-0.000719</td>\n",
       "      <td>-0.009567</td>\n",
       "      <td>1.000000</td>\n",
       "      <td>-0.002678</td>\n",
       "      <td>-0.020253</td>\n",
       "      <td>0.007671</td>\n",
       "      <td>-0.011516</td>\n",
       "    </tr>\n",
       "    <tr>\n",
       "      <th>dm_others</th>\n",
       "      <td>0.012292</td>\n",
       "      <td>-0.009995</td>\n",
       "      <td>-0.023464</td>\n",
       "      <td>-0.027807</td>\n",
       "      <td>-0.028965</td>\n",
       "      <td>-0.025908</td>\n",
       "      <td>-0.030477</td>\n",
       "      <td>0.042466</td>\n",
       "      <td>0.020356</td>\n",
       "      <td>0.027315</td>\n",
       "      <td>0.026323</td>\n",
       "      <td>0.006061</td>\n",
       "      <td>0.001327</td>\n",
       "      <td>0.002844</td>\n",
       "      <td>-0.054883</td>\n",
       "      <td>-0.002678</td>\n",
       "      <td>1.000000</td>\n",
       "      <td>-0.116186</td>\n",
       "      <td>-0.013472</td>\n",
       "      <td>-0.044354</td>\n",
       "    </tr>\n",
       "    <tr>\n",
       "      <th>dm_university</th>\n",
       "      <td>-0.148458</td>\n",
       "      <td>-0.025353</td>\n",
       "      <td>0.102198</td>\n",
       "      <td>0.131326</td>\n",
       "      <td>0.125117</td>\n",
       "      <td>0.120729</td>\n",
       "      <td>0.106960</td>\n",
       "      <td>0.048586</td>\n",
       "      <td>-0.045907</td>\n",
       "      <td>-0.046231</td>\n",
       "      <td>-0.046077</td>\n",
       "      <td>-0.035809</td>\n",
       "      <td>-0.031795</td>\n",
       "      <td>-0.038765</td>\n",
       "      <td>-0.414989</td>\n",
       "      <td>-0.020253</td>\n",
       "      <td>-0.116186</td>\n",
       "      <td>1.000000</td>\n",
       "      <td>-0.060687</td>\n",
       "      <td>0.036467</td>\n",
       "    </tr>\n",
       "    <tr>\n",
       "      <th>MARRIAGE_LE</th>\n",
       "      <td>-0.098799</td>\n",
       "      <td>0.030927</td>\n",
       "      <td>0.018953</td>\n",
       "      <td>0.028297</td>\n",
       "      <td>0.033868</td>\n",
       "      <td>0.035123</td>\n",
       "      <td>0.035966</td>\n",
       "      <td>-0.019525</td>\n",
       "      <td>-0.009253</td>\n",
       "      <td>-0.021684</td>\n",
       "      <td>-0.015706</td>\n",
       "      <td>-0.018621</td>\n",
       "      <td>-0.015496</td>\n",
       "      <td>-0.016927</td>\n",
       "      <td>-0.120862</td>\n",
       "      <td>0.007671</td>\n",
       "      <td>-0.013472</td>\n",
       "      <td>-0.060687</td>\n",
       "      <td>1.000000</td>\n",
       "      <td>-0.030388</td>\n",
       "    </tr>\n",
       "    <tr>\n",
       "      <th>default</th>\n",
       "      <td>-0.154380</td>\n",
       "      <td>0.039961</td>\n",
       "      <td>0.291685</td>\n",
       "      <td>0.235276</td>\n",
       "      <td>0.208608</td>\n",
       "      <td>0.186960</td>\n",
       "      <td>0.156596</td>\n",
       "      <td>-0.029033</td>\n",
       "      <td>-0.143442</td>\n",
       "      <td>-0.139699</td>\n",
       "      <td>-0.124561</td>\n",
       "      <td>-0.113716</td>\n",
       "      <td>-0.108081</td>\n",
       "      <td>-0.114552</td>\n",
       "      <td>0.032403</td>\n",
       "      <td>-0.011516</td>\n",
       "      <td>-0.044354</td>\n",
       "      <td>0.036467</td>\n",
       "      <td>-0.030388</td>\n",
       "      <td>1.000000</td>\n",
       "    </tr>\n",
       "  </tbody>\n",
       "</table>\n",
       "</div>"
      ],
      "text/plain": [
       "                 LIMIT_BAL       SEX     PAY_0     PAY_2     PAY_3     PAY_4  \\\n",
       "LIMIT_BAL         1.000000 -0.025538 -0.281256 -0.308840 -0.296653 -0.275536   \n",
       "SEX              -0.025538  1.000000  0.055758  0.071145  0.066619  0.058835   \n",
       "PAY_0            -0.281256  0.055758  1.000000  0.645076  0.559973  0.528837   \n",
       "PAY_2            -0.308840  0.071145  0.645076  1.000000  0.786833  0.694651   \n",
       "PAY_3            -0.296653  0.066619  0.559973  0.786833  1.000000  0.792073   \n",
       "PAY_4            -0.275536  0.058835  0.528837  0.694651  0.792073  1.000000   \n",
       "PAY_6            -0.237806  0.041439  0.476768  0.615124  0.653343  0.719471   \n",
       "BILL_AMT1         0.198285  0.030498  0.251773  0.345197  0.319670  0.319552   \n",
       "PAY_AMT1          0.343157  0.003137 -0.102186 -0.044281  0.114352  0.087344   \n",
       "PAY_AMT2          0.353506 -0.006234 -0.095138 -0.010027 -0.040379  0.126888   \n",
       "PAY_AMT3          0.358593 -0.012512 -0.087057 -0.011084  0.000133 -0.016672   \n",
       "PAY_AMT4          0.349563 -0.008921 -0.067292  0.002347  0.021869  0.037965   \n",
       "PAY_AMT5          0.354400 -0.011855 -0.061694  0.009338  0.028235  0.055232   \n",
       "PAY_AMT6          0.371924 -0.025256 -0.076801 -0.003035  0.009207  0.040393   \n",
       "dm_high school   -0.140990  0.007650  0.059483  0.065874  0.064798  0.058565   \n",
       "dm_not educated   0.008469  0.007738 -0.009215 -0.016724 -0.015294 -0.013124   \n",
       "dm_others         0.012292 -0.009995 -0.023464 -0.027807 -0.028965 -0.025908   \n",
       "dm_university    -0.148458 -0.025353  0.102198  0.131326  0.125117  0.120729   \n",
       "MARRIAGE_LE      -0.098799  0.030927  0.018953  0.028297  0.033868  0.035123   \n",
       "default          -0.154380  0.039961  0.291685  0.235276  0.208608  0.186960   \n",
       "\n",
       "                    PAY_6  BILL_AMT1  PAY_AMT1  PAY_AMT2  PAY_AMT3  PAY_AMT4  \\\n",
       "LIMIT_BAL       -0.237806   0.198285  0.343157  0.353506  0.358593  0.349563   \n",
       "SEX              0.041439   0.030498  0.003137 -0.006234 -0.012512 -0.008921   \n",
       "PAY_0            0.476768   0.251773 -0.102186 -0.095138 -0.087057 -0.067292   \n",
       "PAY_2            0.615124   0.345197 -0.044281 -0.010027 -0.011084  0.002347   \n",
       "PAY_3            0.653343   0.319670  0.114352 -0.040379  0.000133  0.021869   \n",
       "PAY_4            0.719471   0.319552  0.087344  0.126888 -0.016672  0.037965   \n",
       "PAY_6            1.000000   0.316668  0.088892  0.091165  0.113354  0.156453   \n",
       "BILL_AMT1        0.316668   1.000000  0.466516  0.424701  0.392170  0.403331   \n",
       "PAY_AMT1         0.088892   0.466516  1.000000  0.538179  0.515902  0.490235   \n",
       "PAY_AMT2         0.091165   0.424701  0.538179  1.000000  0.521045  0.505590   \n",
       "PAY_AMT3         0.113354   0.392170  0.515902  0.521045  1.000000  0.516321   \n",
       "PAY_AMT4         0.156453   0.403331  0.490235  0.505590  0.516321  1.000000   \n",
       "PAY_AMT5         0.045744   0.394699  0.481460  0.491160  0.511004  0.528226   \n",
       "PAY_AMT6         0.078345   0.379730  0.465544  0.483899  0.494951  0.515595   \n",
       "dm_high school   0.040705  -0.012855 -0.047505 -0.056271 -0.056347 -0.054729   \n",
       "dm_not educated -0.022109  -0.013696  0.006744  0.010326  0.010735 -0.001400   \n",
       "dm_others       -0.030477   0.042466  0.020356  0.027315  0.026323  0.006061   \n",
       "dm_university    0.106960   0.048586 -0.045907 -0.046231 -0.046077 -0.035809   \n",
       "MARRIAGE_LE      0.035966  -0.019525 -0.009253 -0.021684 -0.015706 -0.018621   \n",
       "default          0.156596  -0.029033 -0.143442 -0.139699 -0.124561 -0.113716   \n",
       "\n",
       "                 PAY_AMT5  PAY_AMT6  dm_high school  dm_not educated  \\\n",
       "LIMIT_BAL        0.354400  0.371924       -0.140990         0.008469   \n",
       "SEX             -0.011855 -0.025256        0.007650         0.007738   \n",
       "PAY_0           -0.061694 -0.076801        0.059483        -0.009215   \n",
       "PAY_2            0.009338 -0.003035        0.065874        -0.016724   \n",
       "PAY_3            0.028235  0.009207        0.064798        -0.015294   \n",
       "PAY_4            0.055232  0.040393        0.058565        -0.013124   \n",
       "PAY_6            0.045744  0.078345        0.040705        -0.022109   \n",
       "BILL_AMT1        0.394699  0.379730       -0.012855        -0.013696   \n",
       "PAY_AMT1         0.481460  0.465544       -0.047505         0.006744   \n",
       "PAY_AMT2         0.491160  0.483899       -0.056271         0.010326   \n",
       "PAY_AMT3         0.511004  0.494951       -0.056347         0.010735   \n",
       "PAY_AMT4         0.528226  0.515595       -0.054729        -0.001400   \n",
       "PAY_AMT5         1.000000  0.534212       -0.058064        -0.001326   \n",
       "PAY_AMT6         0.534212  1.000000       -0.054713        -0.000719   \n",
       "dm_high school  -0.058064 -0.054713        1.000000        -0.009567   \n",
       "dm_not educated -0.001326 -0.000719       -0.009567         1.000000   \n",
       "dm_others        0.001327  0.002844       -0.054883        -0.002678   \n",
       "dm_university   -0.031795 -0.038765       -0.414989        -0.020253   \n",
       "MARRIAGE_LE     -0.015496 -0.016927       -0.120862         0.007671   \n",
       "default         -0.108081 -0.114552        0.032403        -0.011516   \n",
       "\n",
       "                 dm_others  dm_university  MARRIAGE_LE   default  \n",
       "LIMIT_BAL         0.012292      -0.148458    -0.098799 -0.154380  \n",
       "SEX              -0.009995      -0.025353     0.030927  0.039961  \n",
       "PAY_0            -0.023464       0.102198     0.018953  0.291685  \n",
       "PAY_2            -0.027807       0.131326     0.028297  0.235276  \n",
       "PAY_3            -0.028965       0.125117     0.033868  0.208608  \n",
       "PAY_4            -0.025908       0.120729     0.035123  0.186960  \n",
       "PAY_6            -0.030477       0.106960     0.035966  0.156596  \n",
       "BILL_AMT1         0.042466       0.048586    -0.019525 -0.029033  \n",
       "PAY_AMT1          0.020356      -0.045907    -0.009253 -0.143442  \n",
       "PAY_AMT2          0.027315      -0.046231    -0.021684 -0.139699  \n",
       "PAY_AMT3          0.026323      -0.046077    -0.015706 -0.124561  \n",
       "PAY_AMT4          0.006061      -0.035809    -0.018621 -0.113716  \n",
       "PAY_AMT5          0.001327      -0.031795    -0.015496 -0.108081  \n",
       "PAY_AMT6          0.002844      -0.038765    -0.016927 -0.114552  \n",
       "dm_high school   -0.054883      -0.414989    -0.120862  0.032403  \n",
       "dm_not educated  -0.002678      -0.020253     0.007671 -0.011516  \n",
       "dm_others         1.000000      -0.116186    -0.013472 -0.044354  \n",
       "dm_university    -0.116186       1.000000    -0.060687  0.036467  \n",
       "MARRIAGE_LE      -0.013472      -0.060687     1.000000 -0.030388  \n",
       "default          -0.044354       0.036467    -0.030388  1.000000  "
      ]
     },
     "execution_count": 23,
     "metadata": {},
     "output_type": "execute_result"
    }
   ],
   "source": [
    "data.corr()"
   ]
  },
  {
   "cell_type": "code",
   "execution_count": 24,
   "id": "2de6b0c5",
   "metadata": {},
   "outputs": [],
   "source": [
    "data = data[['LIMIT_BAL', 'PAY_0', 'PAY_2', 'PAY_3', 'PAY_4', 'PAY_6', 'default']]"
   ]
  },
  {
   "cell_type": "code",
   "execution_count": 25,
   "id": "c7e6f3cd",
   "metadata": {},
   "outputs": [
    {
     "data": {
      "text/html": [
       "<div>\n",
       "<style scoped>\n",
       "    .dataframe tbody tr th:only-of-type {\n",
       "        vertical-align: middle;\n",
       "    }\n",
       "\n",
       "    .dataframe tbody tr th {\n",
       "        vertical-align: top;\n",
       "    }\n",
       "\n",
       "    .dataframe thead th {\n",
       "        text-align: right;\n",
       "    }\n",
       "</style>\n",
       "<table border=\"1\" class=\"dataframe\">\n",
       "  <thead>\n",
       "    <tr style=\"text-align: right;\">\n",
       "      <th></th>\n",
       "      <th>LIMIT_BAL</th>\n",
       "      <th>PAY_0</th>\n",
       "      <th>PAY_2</th>\n",
       "      <th>PAY_3</th>\n",
       "      <th>PAY_4</th>\n",
       "      <th>PAY_6</th>\n",
       "      <th>default</th>\n",
       "    </tr>\n",
       "  </thead>\n",
       "  <tbody>\n",
       "    <tr>\n",
       "      <th>LIMIT_BAL</th>\n",
       "      <td>1.000000</td>\n",
       "      <td>-0.281256</td>\n",
       "      <td>-0.308840</td>\n",
       "      <td>-0.296653</td>\n",
       "      <td>-0.275536</td>\n",
       "      <td>-0.237806</td>\n",
       "      <td>-0.154380</td>\n",
       "    </tr>\n",
       "    <tr>\n",
       "      <th>PAY_0</th>\n",
       "      <td>-0.281256</td>\n",
       "      <td>1.000000</td>\n",
       "      <td>0.645076</td>\n",
       "      <td>0.559973</td>\n",
       "      <td>0.528837</td>\n",
       "      <td>0.476768</td>\n",
       "      <td>0.291685</td>\n",
       "    </tr>\n",
       "    <tr>\n",
       "      <th>PAY_2</th>\n",
       "      <td>-0.308840</td>\n",
       "      <td>0.645076</td>\n",
       "      <td>1.000000</td>\n",
       "      <td>0.786833</td>\n",
       "      <td>0.694651</td>\n",
       "      <td>0.615124</td>\n",
       "      <td>0.235276</td>\n",
       "    </tr>\n",
       "    <tr>\n",
       "      <th>PAY_3</th>\n",
       "      <td>-0.296653</td>\n",
       "      <td>0.559973</td>\n",
       "      <td>0.786833</td>\n",
       "      <td>1.000000</td>\n",
       "      <td>0.792073</td>\n",
       "      <td>0.653343</td>\n",
       "      <td>0.208608</td>\n",
       "    </tr>\n",
       "    <tr>\n",
       "      <th>PAY_4</th>\n",
       "      <td>-0.275536</td>\n",
       "      <td>0.528837</td>\n",
       "      <td>0.694651</td>\n",
       "      <td>0.792073</td>\n",
       "      <td>1.000000</td>\n",
       "      <td>0.719471</td>\n",
       "      <td>0.186960</td>\n",
       "    </tr>\n",
       "    <tr>\n",
       "      <th>PAY_6</th>\n",
       "      <td>-0.237806</td>\n",
       "      <td>0.476768</td>\n",
       "      <td>0.615124</td>\n",
       "      <td>0.653343</td>\n",
       "      <td>0.719471</td>\n",
       "      <td>1.000000</td>\n",
       "      <td>0.156596</td>\n",
       "    </tr>\n",
       "    <tr>\n",
       "      <th>default</th>\n",
       "      <td>-0.154380</td>\n",
       "      <td>0.291685</td>\n",
       "      <td>0.235276</td>\n",
       "      <td>0.208608</td>\n",
       "      <td>0.186960</td>\n",
       "      <td>0.156596</td>\n",
       "      <td>1.000000</td>\n",
       "    </tr>\n",
       "  </tbody>\n",
       "</table>\n",
       "</div>"
      ],
      "text/plain": [
       "           LIMIT_BAL     PAY_0     PAY_2     PAY_3     PAY_4     PAY_6  \\\n",
       "LIMIT_BAL   1.000000 -0.281256 -0.308840 -0.296653 -0.275536 -0.237806   \n",
       "PAY_0      -0.281256  1.000000  0.645076  0.559973  0.528837  0.476768   \n",
       "PAY_2      -0.308840  0.645076  1.000000  0.786833  0.694651  0.615124   \n",
       "PAY_3      -0.296653  0.559973  0.786833  1.000000  0.792073  0.653343   \n",
       "PAY_4      -0.275536  0.528837  0.694651  0.792073  1.000000  0.719471   \n",
       "PAY_6      -0.237806  0.476768  0.615124  0.653343  0.719471  1.000000   \n",
       "default    -0.154380  0.291685  0.235276  0.208608  0.186960  0.156596   \n",
       "\n",
       "            default  \n",
       "LIMIT_BAL -0.154380  \n",
       "PAY_0      0.291685  \n",
       "PAY_2      0.235276  \n",
       "PAY_3      0.208608  \n",
       "PAY_4      0.186960  \n",
       "PAY_6      0.156596  \n",
       "default    1.000000  "
      ]
     },
     "execution_count": 25,
     "metadata": {},
     "output_type": "execute_result"
    }
   ],
   "source": [
    "data.corr()"
   ]
  },
  {
   "cell_type": "code",
   "execution_count": 26,
   "id": "30bea9c8",
   "metadata": {},
   "outputs": [
    {
     "data": {
      "text/plain": [
       "<AxesSubplot:>"
      ]
     },
     "execution_count": 26,
     "metadata": {},
     "output_type": "execute_result"
    },
    {
     "data": {
      "image/png": "[encoded data removed]",
      "text/plain": [
       "<Figure size 1200x600 with 2 Axes>"
      ]
     },
     "metadata": {},
     "output_type": "display_data"
    }
   ],
   "source": [
    "plt.figure(figsize = (12,6))\n",
    "sns.heatmap(data.corr(),annot = True)"
   ]
  },
  {
   "cell_type": "code",
   "execution_count": 27,
   "id": "e65c3fd5",
   "metadata": {},
   "outputs": [
    {
     "data": {
      "text/html": [
       "<div>\n",
       "<style scoped>\n",
       "    .dataframe tbody tr th:only-of-type {\n",
       "        vertical-align: middle;\n",
       "    }\n",
       "\n",
       "    .dataframe tbody tr th {\n",
       "        vertical-align: top;\n",
       "    }\n",
       "\n",
       "    .dataframe thead th {\n",
       "        text-align: right;\n",
       "    }\n",
       "</style>\n",
       "<table border=\"1\" class=\"dataframe\">\n",
       "  <thead>\n",
       "    <tr style=\"text-align: right;\">\n",
       "      <th></th>\n",
       "      <th>LIMIT_BAL</th>\n",
       "      <th>PAY_0</th>\n",
       "      <th>PAY_2</th>\n",
       "      <th>PAY_3</th>\n",
       "      <th>PAY_4</th>\n",
       "      <th>PAY_6</th>\n",
       "      <th>default</th>\n",
       "    </tr>\n",
       "  </thead>\n",
       "  <tbody>\n",
       "    <tr>\n",
       "      <th>0</th>\n",
       "      <td>20000.0</td>\n",
       "      <td>1.5</td>\n",
       "      <td>1.5</td>\n",
       "      <td>-1.0</td>\n",
       "      <td>-1.0</td>\n",
       "      <td>-2.0</td>\n",
       "      <td>1</td>\n",
       "    </tr>\n",
       "    <tr>\n",
       "      <th>1</th>\n",
       "      <td>120000.0</td>\n",
       "      <td>-1.0</td>\n",
       "      <td>1.5</td>\n",
       "      <td>0.0</td>\n",
       "      <td>0.0</td>\n",
       "      <td>1.5</td>\n",
       "      <td>1</td>\n",
       "    </tr>\n",
       "    <tr>\n",
       "      <th>2</th>\n",
       "      <td>90000.0</td>\n",
       "      <td>0.0</td>\n",
       "      <td>0.0</td>\n",
       "      <td>0.0</td>\n",
       "      <td>0.0</td>\n",
       "      <td>0.0</td>\n",
       "      <td>0</td>\n",
       "    </tr>\n",
       "    <tr>\n",
       "      <th>3</th>\n",
       "      <td>50000.0</td>\n",
       "      <td>0.0</td>\n",
       "      <td>0.0</td>\n",
       "      <td>0.0</td>\n",
       "      <td>0.0</td>\n",
       "      <td>0.0</td>\n",
       "      <td>0</td>\n",
       "    </tr>\n",
       "    <tr>\n",
       "      <th>4</th>\n",
       "      <td>50000.0</td>\n",
       "      <td>-1.0</td>\n",
       "      <td>0.0</td>\n",
       "      <td>-1.0</td>\n",
       "      <td>0.0</td>\n",
       "      <td>0.0</td>\n",
       "      <td>0</td>\n",
       "    </tr>\n",
       "  </tbody>\n",
       "</table>\n",
       "</div>"
      ],
      "text/plain": [
       "   LIMIT_BAL  PAY_0  PAY_2  PAY_3  PAY_4  PAY_6  default\n",
       "0    20000.0    1.5    1.5   -1.0   -1.0   -2.0        1\n",
       "1   120000.0   -1.0    1.5    0.0    0.0    1.5        1\n",
       "2    90000.0    0.0    0.0    0.0    0.0    0.0        0\n",
       "3    50000.0    0.0    0.0    0.0    0.0    0.0        0\n",
       "4    50000.0   -1.0    0.0   -1.0    0.0    0.0        0"
      ]
     },
     "execution_count": 27,
     "metadata": {},
     "output_type": "execute_result"
    }
   ],
   "source": [
    "data.head()"
   ]
  },
  {
   "cell_type": "code",
   "execution_count": 28,
   "id": "9e1783a6",
   "metadata": {},
   "outputs": [],
   "source": [
    "X = data[['LIMIT_BAL', 'PAY_0', 'PAY_2', 'PAY_3', 'PAY_4', 'PAY_6']]\n",
    "\n",
    "y = data[['default']]\n"
   ]
  },
  {
   "cell_type": "code",
   "execution_count": 29,
   "id": "8750d461",
   "metadata": {},
   "outputs": [],
   "source": [
    "from sklearn.preprocessing import StandardScaler\n",
    "scaler = StandardScaler()\n",
    "scaler.fit(X)\n",
    "x_scaled = scaler.transform(X)"
   ]
  },
  {
   "cell_type": "code",
   "execution_count": 30,
   "id": "8cf5e902",
   "metadata": {},
   "outputs": [
    {
     "data": {
      "text/plain": [
       "array([[-1.14808251,  1.6744629 ,  1.74672933, -0.74368092, -0.71787648,\n",
       "        -1.68533672],\n",
       "       [-0.36690123, -0.9516787 ,  1.74672933,  0.26086342,  0.31350585,\n",
       "         1.91958817],\n",
       "       [-0.60125562,  0.09877794,  0.23429317,  0.26086342,  0.31350585,\n",
       "         0.37462036],\n",
       "       ...,\n",
       "       [-1.06996438,  1.6744629 ,  1.74672933,  1.76767993, -0.71787648,\n",
       "         0.37462036],\n",
       "       [-0.67937374,  1.14923458, -0.77399761,  0.26086342,  0.31350585,\n",
       "        -0.65535818],\n",
       "       [-0.91372813,  0.09877794,  0.23429317,  0.26086342,  0.31350585,\n",
       "         0.37462036]])"
      ]
     },
     "execution_count": 30,
     "metadata": {},
     "output_type": "execute_result"
    }
   ],
   "source": [
    "x_scaled"
   ]
  },
  {
   "cell_type": "code",
   "execution_count": 31,
   "id": "8adde594",
   "metadata": {},
   "outputs": [],
   "source": [
    "x_train, x_test, y_train, y_test = train_test_split(x_scaled, y, test_size=0.2, random_state=42)"
   ]
  },
  {
   "cell_type": "markdown",
   "id": "338a82f5",
   "metadata": {},
   "source": [
    "# Logistic Regression"
   ]
  },
  {
   "cell_type": "code",
   "execution_count": 32,
   "id": "a19e9c7c",
   "metadata": {},
   "outputs": [],
   "source": [
    "reg = LogisticRegression()"
   ]
  },
  {
   "cell_type": "code",
   "execution_count": 33,
   "id": "f48158d8",
   "metadata": {},
   "outputs": [
    {
     "name": "stderr",
     "output_type": "stream",
     "text": [
      "D:\\anaconda\\lib\\site-packages\\sklearn\\utils\\validation.py:993: DataConversionWarning: A column-vector y was passed when a 1d array was expected. Please change the shape of y to (n_samples, ), for example using ravel().\n",
      "  y = column_or_1d(y, warn=True)\n"
     ]
    },
    {
     "data": {
      "text/plain": [
       "LogisticRegression()"
      ]
     },
     "execution_count": 33,
     "metadata": {},
     "output_type": "execute_result"
    }
   ],
   "source": [
    "reg.fit(x_train, y_train)"
   ]
  },
  {
   "cell_type": "code",
   "execution_count": 34,
   "id": "8f659075",
   "metadata": {},
   "outputs": [
    {
     "data": {
      "text/plain": [
       "array([-1.44952725])"
      ]
     },
     "execution_count": 34,
     "metadata": {},
     "output_type": "execute_result"
    }
   ],
   "source": [
    "reg.intercept_"
   ]
  },
  {
   "cell_type": "code",
   "execution_count": 35,
   "id": "b442898f",
   "metadata": {},
   "outputs": [
    {
     "data": {
      "text/plain": [
       "array([[-0.20755019,  0.64999089,  0.11918961,  0.09725962,  0.0304429 ,\n",
       "        -0.0417568 ]])"
      ]
     },
     "execution_count": 35,
     "metadata": {},
     "output_type": "execute_result"
    }
   ],
   "source": [
    "reg.coef_"
   ]
  },
  {
   "cell_type": "code",
   "execution_count": 36,
   "id": "6ae3e383",
   "metadata": {},
   "outputs": [],
   "source": [
    "y_pred = reg.predict(x_test)"
   ]
  },
  {
   "cell_type": "code",
   "execution_count": 37,
   "id": "1b487635",
   "metadata": {},
   "outputs": [],
   "source": [
    "confusion_matrix = metrics.confusion_matrix(y_test, y_pred)"
   ]
  },
  {
   "cell_type": "code",
   "execution_count": 38,
   "id": "099cfc6a",
   "metadata": {},
   "outputs": [
    {
     "data": {
      "text/plain": [
       "array([[4590,   97],\n",
       "       [1094,  219]], dtype=int64)"
      ]
     },
     "execution_count": 38,
     "metadata": {},
     "output_type": "execute_result"
    }
   ],
   "source": [
    "confusion_matrix"
   ]
  },
  {
   "cell_type": "code",
   "execution_count": 39,
   "id": "04647aad",
   "metadata": {},
   "outputs": [
    {
     "name": "stdout",
     "output_type": "stream",
     "text": [
      "              precision    recall  f1-score   support\n",
      "\n",
      "           0       0.81      0.98      0.89      4687\n",
      "           1       0.69      0.17      0.27      1313\n",
      "\n",
      "    accuracy                           0.80      6000\n",
      "   macro avg       0.75      0.57      0.58      6000\n",
      "weighted avg       0.78      0.80      0.75      6000\n",
      "\n"
     ]
    }
   ],
   "source": [
    "from sklearn.metrics import classification_report\n",
    "print(classification_report(y_test, y_pred))"
   ]
  },
  {
   "cell_type": "code",
   "execution_count": 40,
   "id": "e8aa6f0e",
   "metadata": {},
   "outputs": [
    {
     "name": "stdout",
     "output_type": "stream",
     "text": [
      "AUC Score: 57.30490307897378\n"
     ]
    }
   ],
   "source": [
    "from sklearn.metrics import roc_auc_score\n",
    "\n",
    "print('AUC Score:', roc_auc_score(y_test, y_pred)*100)"
   ]
  },
  {
   "cell_type": "markdown",
   "id": "70e41570",
   "metadata": {},
   "source": [
    "## Balanced LogisticRegression"
   ]
  },
  {
   "cell_type": "code",
   "execution_count": 41,
   "id": "4d0a8819",
   "metadata": {},
   "outputs": [
    {
     "name": "stderr",
     "output_type": "stream",
     "text": [
      "D:\\anaconda\\lib\\site-packages\\sklearn\\utils\\validation.py:993: DataConversionWarning: A column-vector y was passed when a 1d array was expected. Please change the shape of y to (n_samples, ), for example using ravel().\n",
      "  y = column_or_1d(y, warn=True)\n"
     ]
    },
    {
     "data": {
      "text/plain": [
       "LogisticRegression(class_weight='balanced')"
      ]
     },
     "execution_count": 41,
     "metadata": {},
     "output_type": "execute_result"
    }
   ],
   "source": [
    "reg = LogisticRegression(class_weight='balanced')\n",
    "reg.fit(x_train, y_train)"
   ]
  },
  {
   "cell_type": "code",
   "execution_count": 42,
   "id": "2e1d4ebd",
   "metadata": {},
   "outputs": [],
   "source": [
    "y_pred = reg.predict(x_test)"
   ]
  },
  {
   "cell_type": "code",
   "execution_count": 43,
   "id": "dbf91e25",
   "metadata": {},
   "outputs": [],
   "source": [
    "confusion_matrix = metrics.confusion_matrix(y_test, y_pred)"
   ]
  },
  {
   "cell_type": "code",
   "execution_count": 44,
   "id": "f0834fa0",
   "metadata": {},
   "outputs": [
    {
     "data": {
      "text/plain": [
       "array([[2857, 1830],\n",
       "       [ 395,  918]], dtype=int64)"
      ]
     },
     "execution_count": 44,
     "metadata": {},
     "output_type": "execute_result"
    }
   ],
   "source": [
    "confusion_matrix"
   ]
  },
  {
   "cell_type": "code",
   "execution_count": 45,
   "id": "00ba52a8",
   "metadata": {},
   "outputs": [
    {
     "name": "stdout",
     "output_type": "stream",
     "text": [
      "              precision    recall  f1-score   support\n",
      "\n",
      "           0       0.88      0.61      0.72      4687\n",
      "           1       0.33      0.70      0.45      1313\n",
      "\n",
      "    accuracy                           0.63      6000\n",
      "   macro avg       0.61      0.65      0.59      6000\n",
      "weighted avg       0.76      0.63      0.66      6000\n",
      "\n"
     ]
    }
   ],
   "source": [
    "print(classification_report(y_test, y_pred))"
   ]
  },
  {
   "cell_type": "code",
   "execution_count": 46,
   "id": "e01453e8",
   "metadata": {},
   "outputs": [
    {
     "name": "stdout",
     "output_type": "stream",
     "text": [
      "AUC Score: 65.4360288402837\n"
     ]
    }
   ],
   "source": [
    "print('AUC Score:', roc_auc_score(y_test, y_pred)*100)"
   ]
  },
  {
   "cell_type": "markdown",
   "id": "150cc078",
   "metadata": {},
   "source": [
    "# DecisionTreeClassifier"
   ]
  },
  {
   "cell_type": "code",
   "execution_count": 47,
   "id": "7b8edc26",
   "metadata": {},
   "outputs": [],
   "source": [
    "from sklearn.tree import DecisionTreeClassifier"
   ]
  },
  {
   "cell_type": "code",
   "execution_count": 48,
   "id": "7da39177",
   "metadata": {},
   "outputs": [
    {
     "data": {
      "text/plain": [
       "DecisionTreeClassifier(random_state=42)"
      ]
     },
     "execution_count": 48,
     "metadata": {},
     "output_type": "execute_result"
    }
   ],
   "source": [
    "dt = DecisionTreeClassifier(random_state = 42)\n",
    "dt.fit(x_train, y_train)"
   ]
  },
  {
   "cell_type": "code",
   "execution_count": 49,
   "id": "174a8df0",
   "metadata": {},
   "outputs": [],
   "source": [
    "y_pred = dt.predict(x_test)"
   ]
  },
  {
   "cell_type": "code",
   "execution_count": 50,
   "id": "cf415aa4",
   "metadata": {},
   "outputs": [],
   "source": [
    "from sklearn.metrics import accuracy_score, confusion_matrix"
   ]
  },
  {
   "cell_type": "code",
   "execution_count": 51,
   "id": "4bb1a436",
   "metadata": {},
   "outputs": [
    {
     "data": {
      "text/plain": [
       "array([[4363,  851],\n",
       "       [ 324,  462]], dtype=int64)"
      ]
     },
     "execution_count": 51,
     "metadata": {},
     "output_type": "execute_result"
    }
   ],
   "source": [
    "confusion_matrix(y_pred, y_test)"
   ]
  },
  {
   "cell_type": "code",
   "execution_count": 52,
   "id": "138a3562",
   "metadata": {},
   "outputs": [
    {
     "data": {
      "text/plain": [
       "0.8041666666666667"
      ]
     },
     "execution_count": 52,
     "metadata": {},
     "output_type": "execute_result"
    }
   ],
   "source": [
    "accuracy_score(y_pred, y_test)"
   ]
  },
  {
   "cell_type": "code",
   "execution_count": 53,
   "id": "922c16aa",
   "metadata": {},
   "outputs": [
    {
     "name": "stdout",
     "output_type": "stream",
     "text": [
      "AUC Score: 71.22859184169455\n"
     ]
    }
   ],
   "source": [
    "from sklearn.metrics import roc_auc_score\n",
    "\n",
    "\n",
    "print('AUC Score:', roc_auc_score(y_pred, y_test)*100)"
   ]
  },
  {
   "cell_type": "code",
   "execution_count": 54,
   "id": "dfb1fb4a",
   "metadata": {},
   "outputs": [
    {
     "data": {
      "text/plain": [
       "42.45718368338911"
      ]
     },
     "execution_count": 54,
     "metadata": {},
     "output_type": "execute_result"
    }
   ],
   "source": [
    "Gini = ((roc_auc_score(y_pred, y_test)*2)-1)*100\n",
    "\n",
    "Gini"
   ]
  },
  {
   "cell_type": "markdown",
   "id": "f3fbe995",
   "metadata": {},
   "source": [
    "# Random Forest Classifier - by detault"
   ]
  },
  {
   "cell_type": "code",
   "execution_count": 55,
   "id": "03fe0f51",
   "metadata": {},
   "outputs": [],
   "source": [
    "from sklearn.ensemble import RandomForestClassifier\n",
    "rfc = RandomForestClassifier()"
   ]
  },
  {
   "cell_type": "code",
   "execution_count": 56,
   "id": "f470bd2b",
   "metadata": {},
   "outputs": [
    {
     "name": "stderr",
     "output_type": "stream",
     "text": [
      "C:\\Users\\nijat\\AppData\\Local\\Temp\\ipykernel_11920\\2446813824.py:1: DataConversionWarning: A column-vector y was passed when a 1d array was expected. Please change the shape of y to (n_samples,), for example using ravel().\n",
      "  rfc.fit(x_train, y_train)\n"
     ]
    },
    {
     "data": {
      "text/plain": [
       "RandomForestClassifier()"
      ]
     },
     "execution_count": 56,
     "metadata": {},
     "output_type": "execute_result"
    }
   ],
   "source": [
    "rfc.fit(x_train, y_train)"
   ]
  },
  {
   "cell_type": "code",
   "execution_count": 57,
   "id": "aed6fa9a",
   "metadata": {},
   "outputs": [],
   "source": [
    "y_predRF = rfc.predict(x_test)"
   ]
  },
  {
   "cell_type": "code",
   "execution_count": 58,
   "id": "511334d3",
   "metadata": {},
   "outputs": [
    {
     "data": {
      "text/plain": [
       "array([[4336,  824],\n",
       "       [ 351,  489]], dtype=int64)"
      ]
     },
     "execution_count": 58,
     "metadata": {},
     "output_type": "execute_result"
    }
   ],
   "source": [
    "confusion_matrix(y_predRF, y_test)"
   ]
  },
  {
   "cell_type": "code",
   "execution_count": 59,
   "id": "64a71fe1",
   "metadata": {},
   "outputs": [
    {
     "data": {
      "text/plain": [
       "80.41666666666667"
      ]
     },
     "execution_count": 59,
     "metadata": {},
     "output_type": "execute_result"
    }
   ],
   "source": [
    "accuracy_score(y_predRF, y_test)*100"
   ]
  },
  {
   "cell_type": "code",
   "execution_count": 60,
   "id": "5cda05b5",
   "metadata": {},
   "outputs": [
    {
     "name": "stdout",
     "output_type": "stream",
     "text": [
      "AUC Score: 71.12264673311185\n"
     ]
    }
   ],
   "source": [
    "print('AUC Score:', roc_auc_score(y_predRF, y_test)*100)"
   ]
  },
  {
   "cell_type": "code",
   "execution_count": 61,
   "id": "db384575",
   "metadata": {},
   "outputs": [
    {
     "data": {
      "text/plain": [
       "42.2452934662237"
      ]
     },
     "execution_count": 61,
     "metadata": {},
     "output_type": "execute_result"
    }
   ],
   "source": [
    "Gini = ((roc_auc_score(y_predRF, y_test)*2)-1)*100\n",
    "\n",
    "Gini"
   ]
  },
  {
   "cell_type": "markdown",
   "id": "d5f6711a",
   "metadata": {},
   "source": [
    "# Random Forest classification with feature importance selection"
   ]
  },
  {
   "cell_type": "code",
   "execution_count": 62,
   "id": "407e39c2",
   "metadata": {},
   "outputs": [],
   "source": [
    "from sklearn.feature_selection import SelectFromModel"
   ]
  },
  {
   "cell_type": "code",
   "execution_count": 63,
   "id": "6e348937",
   "metadata": {},
   "outputs": [
    {
     "name": "stderr",
     "output_type": "stream",
     "text": [
      "D:\\anaconda\\lib\\site-packages\\sklearn\\feature_selection\\_from_model.py:267: DataConversionWarning: A column-vector y was passed when a 1d array was expected. Please change the shape of y to (n_samples,), for example using ravel().\n",
      "  self.estimator_.fit(X, y, **fit_params)\n"
     ]
    },
    {
     "data": {
      "text/plain": [
       "SelectFromModel(estimator=RandomForestClassifier())"
      ]
     },
     "execution_count": 63,
     "metadata": {},
     "output_type": "execute_result"
    }
   ],
   "source": [
    "sel = SelectFromModel(RandomForestClassifier())\n",
    "sel.fit(x_train, y_train)"
   ]
  },
  {
   "cell_type": "code",
   "execution_count": 64,
   "id": "6ab39b6e",
   "metadata": {},
   "outputs": [
    {
     "data": {
      "text/html": [
       "<div>\n",
       "<style scoped>\n",
       "    .dataframe tbody tr th:only-of-type {\n",
       "        vertical-align: middle;\n",
       "    }\n",
       "\n",
       "    .dataframe tbody tr th {\n",
       "        vertical-align: top;\n",
       "    }\n",
       "\n",
       "    .dataframe thead th {\n",
       "        text-align: right;\n",
       "    }\n",
       "</style>\n",
       "<table border=\"1\" class=\"dataframe\">\n",
       "  <thead>\n",
       "    <tr style=\"text-align: right;\">\n",
       "      <th></th>\n",
       "      <th>LIMIT_BAL</th>\n",
       "      <th>PAY_0</th>\n",
       "      <th>PAY_2</th>\n",
       "      <th>PAY_3</th>\n",
       "      <th>PAY_4</th>\n",
       "      <th>PAY_6</th>\n",
       "    </tr>\n",
       "  </thead>\n",
       "  <tbody>\n",
       "    <tr>\n",
       "      <th>0</th>\n",
       "      <td>-0.679374</td>\n",
       "      <td>0.098778</td>\n",
       "      <td>0.234293</td>\n",
       "      <td>0.260863</td>\n",
       "      <td>0.313506</td>\n",
       "      <td>0.374620</td>\n",
       "    </tr>\n",
       "    <tr>\n",
       "      <th>1</th>\n",
       "      <td>-1.069964</td>\n",
       "      <td>0.098778</td>\n",
       "      <td>0.234293</td>\n",
       "      <td>0.260863</td>\n",
       "      <td>0.313506</td>\n",
       "      <td>0.374620</td>\n",
       "    </tr>\n",
       "    <tr>\n",
       "      <th>2</th>\n",
       "      <td>0.101808</td>\n",
       "      <td>0.098778</td>\n",
       "      <td>0.234293</td>\n",
       "      <td>-0.743681</td>\n",
       "      <td>-0.717876</td>\n",
       "      <td>-0.655358</td>\n",
       "    </tr>\n",
       "    <tr>\n",
       "      <th>3</th>\n",
       "      <td>-0.835610</td>\n",
       "      <td>0.098778</td>\n",
       "      <td>0.234293</td>\n",
       "      <td>0.260863</td>\n",
       "      <td>0.313506</td>\n",
       "      <td>0.374620</td>\n",
       "    </tr>\n",
       "    <tr>\n",
       "      <th>4</th>\n",
       "      <td>-0.288783</td>\n",
       "      <td>0.098778</td>\n",
       "      <td>0.234293</td>\n",
       "      <td>0.260863</td>\n",
       "      <td>0.313506</td>\n",
       "      <td>0.374620</td>\n",
       "    </tr>\n",
       "  </tbody>\n",
       "</table>\n",
       "</div>"
      ],
      "text/plain": [
       "   LIMIT_BAL     PAY_0     PAY_2     PAY_3     PAY_4     PAY_6\n",
       "0  -0.679374  0.098778  0.234293  0.260863  0.313506  0.374620\n",
       "1  -1.069964  0.098778  0.234293  0.260863  0.313506  0.374620\n",
       "2   0.101808  0.098778  0.234293 -0.743681 -0.717876 -0.655358\n",
       "3  -0.835610  0.098778  0.234293  0.260863  0.313506  0.374620\n",
       "4  -0.288783  0.098778  0.234293  0.260863  0.313506  0.374620"
      ]
     },
     "execution_count": 64,
     "metadata": {},
     "output_type": "execute_result"
    }
   ],
   "source": [
    "# Define the column names\n",
    "\n",
    "col_names = ['LIMIT_BAL', 'PAY_0', 'PAY_2', 'PAY_3', 'PAY_4', 'PAY_6']\n",
    "\n",
    "# Create the dataframe\n",
    "x_train = pd.DataFrame(x_train, columns=col_names)\n",
    "\n",
    "# Print the dataframe\n",
    "x_train.head()"
   ]
  },
  {
   "cell_type": "code",
   "execution_count": 65,
   "id": "69a53e3c",
   "metadata": {},
   "outputs": [
    {
     "data": {
      "text/plain": [
       "Index(['LIMIT_BAL', 'PAY_0'], dtype='object')"
      ]
     },
     "execution_count": 65,
     "metadata": {},
     "output_type": "execute_result"
    }
   ],
   "source": [
    "selected_feat= x_train.columns[(sel.get_support())]\n",
    "selected_feat"
   ]
  },
  {
   "cell_type": "code",
   "execution_count": 66,
   "id": "d45017c1",
   "metadata": {},
   "outputs": [
    {
     "data": {
      "text/plain": [
       "LIMIT_BAL    0.357207\n",
       "PAY_0        0.286428\n",
       "PAY_2        0.111725\n",
       "PAY_3        0.096997\n",
       "PAY_4        0.079574\n",
       "PAY_6        0.068069\n",
       "dtype: float64"
      ]
     },
     "execution_count": 66,
     "metadata": {},
     "output_type": "execute_result"
    }
   ],
   "source": [
    "feature_scores = pd.Series(rfc.feature_importances_, index=x_train.columns).sort_values(ascending=False)\n",
    "\n",
    "feature_scores"
   ]
  },
  {
   "cell_type": "code",
   "execution_count": 67,
   "id": "f2386681",
   "metadata": {},
   "outputs": [
    {
     "data": {
      "text/html": [
       "<div>\n",
       "<style scoped>\n",
       "    .dataframe tbody tr th:only-of-type {\n",
       "        vertical-align: middle;\n",
       "    }\n",
       "\n",
       "    .dataframe tbody tr th {\n",
       "        vertical-align: top;\n",
       "    }\n",
       "\n",
       "    .dataframe thead th {\n",
       "        text-align: right;\n",
       "    }\n",
       "</style>\n",
       "<table border=\"1\" class=\"dataframe\">\n",
       "  <thead>\n",
       "    <tr style=\"text-align: right;\">\n",
       "      <th></th>\n",
       "      <th>LIMIT_BAL</th>\n",
       "      <th>PAY_0</th>\n",
       "      <th>PAY_2</th>\n",
       "      <th>PAY_3</th>\n",
       "      <th>PAY_4</th>\n",
       "      <th>PAY_6</th>\n",
       "    </tr>\n",
       "  </thead>\n",
       "  <tbody>\n",
       "    <tr>\n",
       "      <th>0</th>\n",
       "      <td>-1.069964</td>\n",
       "      <td>0.098778</td>\n",
       "      <td>0.234293</td>\n",
       "      <td>0.260863</td>\n",
       "      <td>0.313506</td>\n",
       "      <td>0.374620</td>\n",
       "    </tr>\n",
       "    <tr>\n",
       "      <th>1</th>\n",
       "      <td>-0.132547</td>\n",
       "      <td>0.098778</td>\n",
       "      <td>0.234293</td>\n",
       "      <td>0.260863</td>\n",
       "      <td>0.313506</td>\n",
       "      <td>0.374620</td>\n",
       "    </tr>\n",
       "    <tr>\n",
       "      <th>2</th>\n",
       "      <td>-0.757492</td>\n",
       "      <td>0.098778</td>\n",
       "      <td>0.234293</td>\n",
       "      <td>0.260863</td>\n",
       "      <td>0.313506</td>\n",
       "      <td>0.374620</td>\n",
       "    </tr>\n",
       "    <tr>\n",
       "      <th>3</th>\n",
       "      <td>-0.288783</td>\n",
       "      <td>0.098778</td>\n",
       "      <td>0.234293</td>\n",
       "      <td>0.260863</td>\n",
       "      <td>0.313506</td>\n",
       "      <td>-0.655358</td>\n",
       "    </tr>\n",
       "    <tr>\n",
       "      <th>4</th>\n",
       "      <td>-0.913728</td>\n",
       "      <td>0.098778</td>\n",
       "      <td>0.234293</td>\n",
       "      <td>0.260863</td>\n",
       "      <td>0.313506</td>\n",
       "      <td>1.919588</td>\n",
       "    </tr>\n",
       "  </tbody>\n",
       "</table>\n",
       "</div>"
      ],
      "text/plain": [
       "   LIMIT_BAL     PAY_0     PAY_2     PAY_3     PAY_4     PAY_6\n",
       "0  -1.069964  0.098778  0.234293  0.260863  0.313506  0.374620\n",
       "1  -0.132547  0.098778  0.234293  0.260863  0.313506  0.374620\n",
       "2  -0.757492  0.098778  0.234293  0.260863  0.313506  0.374620\n",
       "3  -0.288783  0.098778  0.234293  0.260863  0.313506 -0.655358\n",
       "4  -0.913728  0.098778  0.234293  0.260863  0.313506  1.919588"
      ]
     },
     "execution_count": 67,
     "metadata": {},
     "output_type": "execute_result"
    }
   ],
   "source": [
    "x_test = pd.DataFrame(x_test, columns=col_names)\n",
    "\n",
    "# Print the dataframe\n",
    "x_test.head()"
   ]
  },
  {
   "cell_type": "code",
   "execution_count": 68,
   "id": "43d2b968",
   "metadata": {},
   "outputs": [],
   "source": [
    "x_train = x_train[['LIMIT_BAL', 'PAY_0']]\n",
    "\n",
    "x_test = x_test[['LIMIT_BAL', 'PAY_0']]"
   ]
  },
  {
   "cell_type": "code",
   "execution_count": 69,
   "id": "e2a59170",
   "metadata": {},
   "outputs": [
    {
     "name": "stderr",
     "output_type": "stream",
     "text": [
      "C:\\Users\\nijat\\AppData\\Local\\Temp\\ipykernel_11920\\721921725.py:2: DataConversionWarning: A column-vector y was passed when a 1d array was expected. Please change the shape of y to (n_samples,), for example using ravel().\n",
      "  rfc_imp.fit(x_train, y_train)\n"
     ]
    },
    {
     "data": {
      "text/plain": [
       "RandomForestClassifier()"
      ]
     },
     "execution_count": 69,
     "metadata": {},
     "output_type": "execute_result"
    }
   ],
   "source": [
    "rfc_imp = RandomForestClassifier()\n",
    "rfc_imp.fit(x_train, y_train)"
   ]
  },
  {
   "cell_type": "code",
   "execution_count": 70,
   "id": "bd91b208",
   "metadata": {},
   "outputs": [
    {
     "name": "stdout",
     "output_type": "stream",
     "text": [
      "Model accuracy score with important features : 81.78333333333333\n"
     ]
    }
   ],
   "source": [
    "y_pred_imp = rfc_imp.predict(x_test)\n",
    "\n",
    "\n",
    "print('Model accuracy score with important features :', accuracy_score(y_test, y_pred_imp)*100)"
   ]
  },
  {
   "cell_type": "code",
   "execution_count": 71,
   "id": "3c00657d",
   "metadata": {},
   "outputs": [
    {
     "name": "stdout",
     "output_type": "stream",
     "text": [
      "AUC Score: 75.57171123635926\n"
     ]
    }
   ],
   "source": [
    "print('AUC Score:', roc_auc_score(y_pred_imp, y_test)*100)"
   ]
  },
  {
   "cell_type": "code",
   "execution_count": 72,
   "id": "c20b28bb",
   "metadata": {},
   "outputs": [
    {
     "data": {
      "text/plain": [
       "51.14342247271853"
      ]
     },
     "execution_count": 72,
     "metadata": {},
     "output_type": "execute_result"
    }
   ],
   "source": [
    "Gini = ((roc_auc_score(y_pred_imp, y_test)*2)-1)*100\n",
    "\n",
    "Gini"
   ]
  },
  {
   "cell_type": "markdown",
   "id": "2a7d58b9",
   "metadata": {},
   "source": [
    "# Build Random Forest classification with hyperparameter optimization"
   ]
  },
  {
   "cell_type": "code",
   "execution_count": 73,
   "id": "06ba038d",
   "metadata": {},
   "outputs": [
    {
     "name": "stdout",
     "output_type": "stream",
     "text": [
      "{'n_estimators': [200, 400, 600, 800, 1000, 1200, 1400, 1600, 1800, 2000], 'max_features': ['auto', 'sqrt'], 'max_depth': [10, 20, 30, 40, 50, 60, 70, 80, 90, 100, 110], 'min_samples_split': [2, 5, 10], 'min_samples_leaf': [1, 2, 4]}\n"
     ]
    }
   ],
   "source": [
    "from sklearn.model_selection import RandomizedSearchCV\n",
    "# Number of trees in random forest\n",
    "n_estimators = [int(x) for x in np.linspace(start = 200, stop = 2000, num = 10)]\n",
    "# Number of features to consider at every split\n",
    "max_features = ['auto', 'sqrt']\n",
    "# Maximum number of levels in tree\n",
    "max_depth = [int(x) for x in np.linspace(10, 110, num = 11)]\n",
    "# Minimum number of samples required to split a node\n",
    "min_samples_split = [2, 5, 10]\n",
    "# Minimum number of samples required at each leaf node\n",
    "min_samples_leaf = [1, 2, 4]\n",
    "\n",
    "\n",
    "# Create the random grid\n",
    "random_grid = {'n_estimators': n_estimators,\n",
    "               'max_features': max_features,\n",
    "               'max_depth': max_depth,\n",
    "               'min_samples_split': min_samples_split,\n",
    "               'min_samples_leaf': min_samples_leaf}\n",
    "print(random_grid)"
   ]
  },
  {
   "cell_type": "code",
   "execution_count": 74,
   "id": "f207de81",
   "metadata": {},
   "outputs": [
    {
     "name": "stdout",
     "output_type": "stream",
     "text": [
      "Fitting 3 folds for each of 15 candidates, totalling 45 fits\n"
     ]
    },
    {
     "name": "stderr",
     "output_type": "stream",
     "text": [
      "D:\\anaconda\\lib\\site-packages\\sklearn\\model_selection\\_search.py:926: DataConversionWarning: A column-vector y was passed when a 1d array was expected. Please change the shape of y to (n_samples,), for example using ravel().\n",
      "  self.best_estimator_.fit(X, y, **fit_params)\n"
     ]
    },
    {
     "data": {
      "text/plain": [
       "RandomizedSearchCV(cv=3, estimator=RandomForestClassifier(), n_iter=15,\n",
       "                   n_jobs=-1,\n",
       "                   param_distributions={'max_depth': [10, 20, 30, 40, 50, 60,\n",
       "                                                      70, 80, 90, 100, 110],\n",
       "                                        'max_features': ['auto', 'sqrt'],\n",
       "                                        'min_samples_leaf': [1, 2, 4],\n",
       "                                        'min_samples_split': [2, 5, 10],\n",
       "                                        'n_estimators': [200, 400, 600, 800,\n",
       "                                                         1000, 1200, 1400, 1600,\n",
       "                                                         1800, 2000]},\n",
       "                   random_state=42, verbose=1)"
      ]
     },
     "execution_count": 74,
     "metadata": {},
     "output_type": "execute_result"
    }
   ],
   "source": [
    "rf_random = RandomizedSearchCV(estimator = rfc, param_distributions = random_grid, n_iter = 15, cv = 3, verbose=1, random_state=42, n_jobs = -1)\n",
    "# Fit the random search model\n",
    "rf_random.fit(x_train, y_train)"
   ]
  },
  {
   "cell_type": "code",
   "execution_count": 75,
   "id": "f9a4d56a",
   "metadata": {},
   "outputs": [
    {
     "data": {
      "text/plain": [
       "{'n_estimators': 1600,\n",
       " 'min_samples_split': 10,\n",
       " 'min_samples_leaf': 4,\n",
       " 'max_features': 'auto',\n",
       " 'max_depth': 10}"
      ]
     },
     "execution_count": 75,
     "metadata": {},
     "output_type": "execute_result"
    }
   ],
   "source": [
    "rf_random.best_params_"
   ]
  },
  {
   "cell_type": "code",
   "execution_count": 76,
   "id": "935b6837",
   "metadata": {},
   "outputs": [],
   "source": [
    "def evaluate(model, X_test, y_test):\n",
    "    y_pred = model.predict(X_test)\n",
    "    y_prob = model.predict_proba(X_test)[:,1]\n",
    "\n",
    "    roc_pred = roc_auc_score(y_test, y_pred)\n",
    "    roc_prob = roc_auc_score(y_test, y_prob)\n",
    "    \n",
    "    gini_pred = roc_pred*2-1\n",
    "    gini_prob = roc_prob*2-1\n",
    "    \n",
    "    print('Model Performance')\n",
    "\n",
    "    print('Gini pred is', gini_pred*100)\n",
    "    print('Gini prob is', gini_prob*100)\n",
    "    \n",
    "    return gini_pred\n",
    "    return gini_prob"
   ]
  },
  {
   "cell_type": "code",
   "execution_count": 77,
   "id": "afbbcc08",
   "metadata": {},
   "outputs": [
    {
     "name": "stdout",
     "output_type": "stream",
     "text": [
      "Model Performance\n",
      "Gini pred is 27.94296941305625\n",
      "Gini prob is 47.52860360956905\n"
     ]
    },
    {
     "name": "stderr",
     "output_type": "stream",
     "text": [
      "C:\\Users\\nijat\\AppData\\Local\\Temp\\ipykernel_11920\\18959469.py:2: DataConversionWarning: A column-vector y was passed when a 1d array was expected. Please change the shape of y to (n_samples,), for example using ravel().\n",
      "  base_model.fit(x_train, y_train)\n"
     ]
    }
   ],
   "source": [
    "base_model = RandomForestClassifier(n_estimators = 10, random_state = 42)\n",
    "base_model.fit(x_train, y_train)\n",
    "base_accuracy = evaluate(base_model, x_test, y_test)"
   ]
  },
  {
   "cell_type": "code",
   "execution_count": 78,
   "id": "de4851d7",
   "metadata": {},
   "outputs": [
    {
     "name": "stdout",
     "output_type": "stream",
     "text": [
      "Model Performance\n",
      "Gini pred is 27.68720209566706\n",
      "Gini prob is 48.24502833996122\n"
     ]
    }
   ],
   "source": [
    "optimized_model = rf_random.best_estimator_\n",
    "optmized_accuracy = evaluate(optimized_model, x_test, y_test)"
   ]
  },
  {
   "cell_type": "code",
   "execution_count": 79,
   "id": "86fc33b9",
   "metadata": {},
   "outputs": [
    {
     "data": {
      "image/png": "[encoded data removed]",
      "text/plain": [
       "<Figure size 640x480 with 1 Axes>"
      ]
     },
     "metadata": {},
     "output_type": "display_data"
    }
   ],
   "source": [
    "from sklearn.metrics import roc_auc_score\n",
    "from sklearn.metrics import roc_curve\n",
    "\n",
    "y_prob = base_model.predict_proba(x_test)[:,1]\n",
    "\n",
    "roc_auc = roc_auc_score(y_test, y_prob)\n",
    "gini = (2*roc_auc_score(y_test, y_prob))-1\n",
    "\n",
    "fpr, tpr, thresholds = roc_curve(y_test, y_prob)\n",
    "plt.figure()\n",
    "\n",
    "plt.plot(fpr, tpr, label='(Roc_Auc = %0.2f)' % roc_auc)\n",
    "plt.plot(fpr, tpr, label='(Gini = %0.2f)' % gini)\n",
    "plt.plot([0, 1], [0, 1])\n",
    "plt.xlim()\n",
    "plt.ylim()\n",
    "\n",
    "plt.xlabel('False Positive Rate')\n",
    "plt.ylabel('True Positive Rate')\n",
    "plt.title('ROC Curve')\n",
    "\n",
    "plt.legend(loc='lower right')\n",
    "plt.show()"
   ]
  },
  {
   "cell_type": "code",
   "execution_count": 80,
   "id": "f0195021",
   "metadata": {},
   "outputs": [
    {
     "data": {
      "image/png": "[encoded data removed]",
      "text/plain": [
       "<Figure size 640x480 with 1 Axes>"
      ]
     },
     "metadata": {},
     "output_type": "display_data"
    }
   ],
   "source": [
    "from sklearn.metrics import roc_auc_score\n",
    "from sklearn.metrics import roc_curve\n",
    "\n",
    "y_prob = optimized_model.predict_proba(x_test)[:,1]\n",
    "\n",
    "roc_auc = roc_auc_score(y_test, y_prob)\n",
    "gini = (2*roc_auc_score(y_test, y_prob))-1\n",
    "\n",
    "fpr, tpr, thresholds = roc_curve(y_test, y_prob)\n",
    "plt.figure()\n",
    "\n",
    "plt.plot(fpr, tpr, label='(Roc_Auc = %0.2f)' % roc_auc)\n",
    "plt.plot(fpr, tpr, label='(Gini = %0.2f)' % gini)\n",
    "plt.plot([0, 1], [0, 1])\n",
    "plt.xlim()\n",
    "plt.ylim()\n",
    "\n",
    "plt.xlabel('False Positive Rate')\n",
    "plt.ylabel('True Positive Rate')\n",
    "plt.title('ROC Curve')\n",
    "\n",
    "plt.legend(loc='lower right')\n",
    "plt.show()"
   ]
  },
  {
   "cell_type": "markdown",
   "id": "d7561c6d",
   "metadata": {},
   "source": [
    "## Checking"
   ]
  },
  {
   "cell_type": "code",
   "execution_count": 81,
   "id": "e9716a78",
   "metadata": {},
   "outputs": [
    {
     "data": {
      "text/html": [
       "<div>\n",
       "<style scoped>\n",
       "    .dataframe tbody tr th:only-of-type {\n",
       "        vertical-align: middle;\n",
       "    }\n",
       "\n",
       "    .dataframe tbody tr th {\n",
       "        vertical-align: top;\n",
       "    }\n",
       "\n",
       "    .dataframe thead th {\n",
       "        text-align: right;\n",
       "    }\n",
       "</style>\n",
       "<table border=\"1\" class=\"dataframe\">\n",
       "  <thead>\n",
       "    <tr style=\"text-align: right;\">\n",
       "      <th></th>\n",
       "      <th>LIMIT_BAL</th>\n",
       "      <th>PAY_0</th>\n",
       "      <th>PAY_2</th>\n",
       "      <th>PAY_3</th>\n",
       "      <th>PAY_4</th>\n",
       "      <th>PAY_6</th>\n",
       "      <th>default</th>\n",
       "    </tr>\n",
       "  </thead>\n",
       "  <tbody>\n",
       "    <tr>\n",
       "      <th>0</th>\n",
       "      <td>20000.0</td>\n",
       "      <td>1.5</td>\n",
       "      <td>1.5</td>\n",
       "      <td>-1.0</td>\n",
       "      <td>-1.0</td>\n",
       "      <td>-2.0</td>\n",
       "      <td>1</td>\n",
       "    </tr>\n",
       "    <tr>\n",
       "      <th>1</th>\n",
       "      <td>120000.0</td>\n",
       "      <td>-1.0</td>\n",
       "      <td>1.5</td>\n",
       "      <td>0.0</td>\n",
       "      <td>0.0</td>\n",
       "      <td>1.5</td>\n",
       "      <td>1</td>\n",
       "    </tr>\n",
       "    <tr>\n",
       "      <th>2</th>\n",
       "      <td>90000.0</td>\n",
       "      <td>0.0</td>\n",
       "      <td>0.0</td>\n",
       "      <td>0.0</td>\n",
       "      <td>0.0</td>\n",
       "      <td>0.0</td>\n",
       "      <td>0</td>\n",
       "    </tr>\n",
       "    <tr>\n",
       "      <th>3</th>\n",
       "      <td>50000.0</td>\n",
       "      <td>0.0</td>\n",
       "      <td>0.0</td>\n",
       "      <td>0.0</td>\n",
       "      <td>0.0</td>\n",
       "      <td>0.0</td>\n",
       "      <td>0</td>\n",
       "    </tr>\n",
       "    <tr>\n",
       "      <th>4</th>\n",
       "      <td>50000.0</td>\n",
       "      <td>-1.0</td>\n",
       "      <td>0.0</td>\n",
       "      <td>-1.0</td>\n",
       "      <td>0.0</td>\n",
       "      <td>0.0</td>\n",
       "      <td>0</td>\n",
       "    </tr>\n",
       "  </tbody>\n",
       "</table>\n",
       "</div>"
      ],
      "text/plain": [
       "   LIMIT_BAL  PAY_0  PAY_2  PAY_3  PAY_4  PAY_6  default\n",
       "0    20000.0    1.5    1.5   -1.0   -1.0   -2.0        1\n",
       "1   120000.0   -1.0    1.5    0.0    0.0    1.5        1\n",
       "2    90000.0    0.0    0.0    0.0    0.0    0.0        0\n",
       "3    50000.0    0.0    0.0    0.0    0.0    0.0        0\n",
       "4    50000.0   -1.0    0.0   -1.0    0.0    0.0        0"
      ]
     },
     "execution_count": 81,
     "metadata": {},
     "output_type": "execute_result"
    }
   ],
   "source": [
    "data.head()"
   ]
  },
  {
   "cell_type": "code",
   "execution_count": 82,
   "id": "f056917f",
   "metadata": {},
   "outputs": [],
   "source": [
    "data_new = {\n",
    "        'LIMIT_BAL': [10000,12000, 54000, 6000],\n",
    "       'PAY_0': [1, 2, 4, 0]}\n",
    " \n",
    "# Create DataFrame\n",
    "data_new = pd.DataFrame(data_new)"
   ]
  },
  {
   "cell_type": "code",
   "execution_count": 83,
   "id": "f00519b9",
   "metadata": {},
   "outputs": [
    {
     "data": {
      "text/html": [
       "<div>\n",
       "<style scoped>\n",
       "    .dataframe tbody tr th:only-of-type {\n",
       "        vertical-align: middle;\n",
       "    }\n",
       "\n",
       "    .dataframe tbody tr th {\n",
       "        vertical-align: top;\n",
       "    }\n",
       "\n",
       "    .dataframe thead th {\n",
       "        text-align: right;\n",
       "    }\n",
       "</style>\n",
       "<table border=\"1\" class=\"dataframe\">\n",
       "  <thead>\n",
       "    <tr style=\"text-align: right;\">\n",
       "      <th></th>\n",
       "      <th>LIMIT_BAL</th>\n",
       "      <th>PAY_0</th>\n",
       "    </tr>\n",
       "  </thead>\n",
       "  <tbody>\n",
       "    <tr>\n",
       "      <th>0</th>\n",
       "      <td>10000</td>\n",
       "      <td>1</td>\n",
       "    </tr>\n",
       "    <tr>\n",
       "      <th>1</th>\n",
       "      <td>12000</td>\n",
       "      <td>2</td>\n",
       "    </tr>\n",
       "    <tr>\n",
       "      <th>2</th>\n",
       "      <td>54000</td>\n",
       "      <td>4</td>\n",
       "    </tr>\n",
       "    <tr>\n",
       "      <th>3</th>\n",
       "      <td>6000</td>\n",
       "      <td>0</td>\n",
       "    </tr>\n",
       "  </tbody>\n",
       "</table>\n",
       "</div>"
      ],
      "text/plain": [
       "   LIMIT_BAL  PAY_0\n",
       "0      10000      1\n",
       "1      12000      2\n",
       "2      54000      4\n",
       "3       6000      0"
      ]
     },
     "execution_count": 83,
     "metadata": {},
     "output_type": "execute_result"
    }
   ],
   "source": [
    "data_new"
   ]
  },
  {
   "cell_type": "code",
   "execution_count": 84,
   "id": "02888158",
   "metadata": {},
   "outputs": [],
   "source": [
    "target=optimized_model.predict(data_new)\n",
    "probability=optimized_model.predict_proba(data_new)[:,1]"
   ]
  },
  {
   "cell_type": "code",
   "execution_count": 85,
   "id": "1f013cdb",
   "metadata": {},
   "outputs": [
    {
     "data": {
      "text/plain": [
       "array([0, 1, 1, 0], dtype=int64)"
      ]
     },
     "execution_count": 85,
     "metadata": {},
     "output_type": "execute_result"
    }
   ],
   "source": [
    "target"
   ]
  },
  {
   "cell_type": "code",
   "execution_count": 86,
   "id": "586a5577",
   "metadata": {},
   "outputs": [
    {
     "data": {
      "text/plain": [
       "array([0.02492815, 0.74346953, 0.74346953, 0.07510769])"
      ]
     },
     "execution_count": 86,
     "metadata": {},
     "output_type": "execute_result"
    }
   ],
   "source": [
    "probability"
   ]
  },
  {
   "cell_type": "code",
   "execution_count": 87,
   "id": "c640087d",
   "metadata": {},
   "outputs": [],
   "source": [
    "data_new['Predicted_target'] = target\n",
    "data_new['Predicted_probabilty'] = probability"
   ]
  },
  {
   "cell_type": "code",
   "execution_count": 88,
   "id": "2539f6cd",
   "metadata": {},
   "outputs": [
    {
     "data": {
      "text/html": [
       "<div>\n",
       "<style scoped>\n",
       "    .dataframe tbody tr th:only-of-type {\n",
       "        vertical-align: middle;\n",
       "    }\n",
       "\n",
       "    .dataframe tbody tr th {\n",
       "        vertical-align: top;\n",
       "    }\n",
       "\n",
       "    .dataframe thead th {\n",
       "        text-align: right;\n",
       "    }\n",
       "</style>\n",
       "<table border=\"1\" class=\"dataframe\">\n",
       "  <thead>\n",
       "    <tr style=\"text-align: right;\">\n",
       "      <th></th>\n",
       "      <th>LIMIT_BAL</th>\n",
       "      <th>PAY_0</th>\n",
       "      <th>Predicted_target</th>\n",
       "      <th>Predicted_probabilty</th>\n",
       "    </tr>\n",
       "  </thead>\n",
       "  <tbody>\n",
       "    <tr>\n",
       "      <th>0</th>\n",
       "      <td>10000</td>\n",
       "      <td>1</td>\n",
       "      <td>0</td>\n",
       "      <td>0.024928</td>\n",
       "    </tr>\n",
       "    <tr>\n",
       "      <th>1</th>\n",
       "      <td>12000</td>\n",
       "      <td>2</td>\n",
       "      <td>1</td>\n",
       "      <td>0.743470</td>\n",
       "    </tr>\n",
       "    <tr>\n",
       "      <th>2</th>\n",
       "      <td>54000</td>\n",
       "      <td>4</td>\n",
       "      <td>1</td>\n",
       "      <td>0.743470</td>\n",
       "    </tr>\n",
       "    <tr>\n",
       "      <th>3</th>\n",
       "      <td>6000</td>\n",
       "      <td>0</td>\n",
       "      <td>0</td>\n",
       "      <td>0.075108</td>\n",
       "    </tr>\n",
       "  </tbody>\n",
       "</table>\n",
       "</div>"
      ],
      "text/plain": [
       "   LIMIT_BAL  PAY_0  Predicted_target  Predicted_probabilty\n",
       "0      10000      1                 0              0.024928\n",
       "1      12000      2                 1              0.743470\n",
       "2      54000      4                 1              0.743470\n",
       "3       6000      0                 0              0.075108"
      ]
     },
     "execution_count": 88,
     "metadata": {},
     "output_type": "execute_result"
    }
   ],
   "source": [
    "data_new"
   ]
  },
  {
   "cell_type": "markdown",
   "id": "9e38fb42",
   "metadata": {},
   "source": [
    "# SVM"
   ]
  },
  {
   "cell_type": "code",
   "execution_count": 89,
   "id": "b74f3023",
   "metadata": {},
   "outputs": [],
   "source": [
    "import numpy as np\n",
    "import matplotlib.pyplot as plt\n",
    "import pandas as pd\n",
    "import seaborn as sns\n",
    "sns.set()"
   ]
  },
  {
   "cell_type": "code",
   "execution_count": 90,
   "id": "48af76ff",
   "metadata": {},
   "outputs": [
    {
     "data": {
      "text/html": [
       "<div>\n",
       "<style scoped>\n",
       "    .dataframe tbody tr th:only-of-type {\n",
       "        vertical-align: middle;\n",
       "    }\n",
       "\n",
       "    .dataframe tbody tr th {\n",
       "        vertical-align: top;\n",
       "    }\n",
       "\n",
       "    .dataframe thead th {\n",
       "        text-align: right;\n",
       "    }\n",
       "</style>\n",
       "<table border=\"1\" class=\"dataframe\">\n",
       "  <thead>\n",
       "    <tr style=\"text-align: right;\">\n",
       "      <th></th>\n",
       "      <th>LIMIT_BAL</th>\n",
       "      <th>PAY_0</th>\n",
       "      <th>PAY_2</th>\n",
       "      <th>PAY_3</th>\n",
       "      <th>PAY_4</th>\n",
       "      <th>PAY_6</th>\n",
       "      <th>default</th>\n",
       "    </tr>\n",
       "  </thead>\n",
       "  <tbody>\n",
       "    <tr>\n",
       "      <th>0</th>\n",
       "      <td>20000.0</td>\n",
       "      <td>1.5</td>\n",
       "      <td>1.5</td>\n",
       "      <td>-1.0</td>\n",
       "      <td>-1.0</td>\n",
       "      <td>-2.0</td>\n",
       "      <td>1</td>\n",
       "    </tr>\n",
       "    <tr>\n",
       "      <th>1</th>\n",
       "      <td>120000.0</td>\n",
       "      <td>-1.0</td>\n",
       "      <td>1.5</td>\n",
       "      <td>0.0</td>\n",
       "      <td>0.0</td>\n",
       "      <td>1.5</td>\n",
       "      <td>1</td>\n",
       "    </tr>\n",
       "    <tr>\n",
       "      <th>2</th>\n",
       "      <td>90000.0</td>\n",
       "      <td>0.0</td>\n",
       "      <td>0.0</td>\n",
       "      <td>0.0</td>\n",
       "      <td>0.0</td>\n",
       "      <td>0.0</td>\n",
       "      <td>0</td>\n",
       "    </tr>\n",
       "    <tr>\n",
       "      <th>3</th>\n",
       "      <td>50000.0</td>\n",
       "      <td>0.0</td>\n",
       "      <td>0.0</td>\n",
       "      <td>0.0</td>\n",
       "      <td>0.0</td>\n",
       "      <td>0.0</td>\n",
       "      <td>0</td>\n",
       "    </tr>\n",
       "    <tr>\n",
       "      <th>4</th>\n",
       "      <td>50000.0</td>\n",
       "      <td>-1.0</td>\n",
       "      <td>0.0</td>\n",
       "      <td>-1.0</td>\n",
       "      <td>0.0</td>\n",
       "      <td>0.0</td>\n",
       "      <td>0</td>\n",
       "    </tr>\n",
       "  </tbody>\n",
       "</table>\n",
       "</div>"
      ],
      "text/plain": [
       "   LIMIT_BAL  PAY_0  PAY_2  PAY_3  PAY_4  PAY_6  default\n",
       "0    20000.0    1.5    1.5   -1.0   -1.0   -2.0        1\n",
       "1   120000.0   -1.0    1.5    0.0    0.0    1.5        1\n",
       "2    90000.0    0.0    0.0    0.0    0.0    0.0        0\n",
       "3    50000.0    0.0    0.0    0.0    0.0    0.0        0\n",
       "4    50000.0   -1.0    0.0   -1.0    0.0    0.0        0"
      ]
     },
     "execution_count": 90,
     "metadata": {},
     "output_type": "execute_result"
    }
   ],
   "source": [
    "data.head()"
   ]
  },
  {
   "cell_type": "code",
   "execution_count": 91,
   "id": "d84c0369",
   "metadata": {},
   "outputs": [
    {
     "data": {
      "text/html": [
       "<div>\n",
       "<style scoped>\n",
       "    .dataframe tbody tr th:only-of-type {\n",
       "        vertical-align: middle;\n",
       "    }\n",
       "\n",
       "    .dataframe tbody tr th {\n",
       "        vertical-align: top;\n",
       "    }\n",
       "\n",
       "    .dataframe thead th {\n",
       "        text-align: right;\n",
       "    }\n",
       "</style>\n",
       "<table border=\"1\" class=\"dataframe\">\n",
       "  <thead>\n",
       "    <tr style=\"text-align: right;\">\n",
       "      <th></th>\n",
       "      <th>LIMIT_BAL</th>\n",
       "      <th>PAY_0</th>\n",
       "      <th>PAY_2</th>\n",
       "      <th>PAY_3</th>\n",
       "      <th>PAY_4</th>\n",
       "      <th>PAY_6</th>\n",
       "      <th>default</th>\n",
       "    </tr>\n",
       "  </thead>\n",
       "  <tbody>\n",
       "    <tr>\n",
       "      <th>LIMIT_BAL</th>\n",
       "      <td>1.000000</td>\n",
       "      <td>-0.281256</td>\n",
       "      <td>-0.308840</td>\n",
       "      <td>-0.296653</td>\n",
       "      <td>-0.275536</td>\n",
       "      <td>-0.237806</td>\n",
       "      <td>-0.154380</td>\n",
       "    </tr>\n",
       "    <tr>\n",
       "      <th>PAY_0</th>\n",
       "      <td>-0.281256</td>\n",
       "      <td>1.000000</td>\n",
       "      <td>0.645076</td>\n",
       "      <td>0.559973</td>\n",
       "      <td>0.528837</td>\n",
       "      <td>0.476768</td>\n",
       "      <td>0.291685</td>\n",
       "    </tr>\n",
       "    <tr>\n",
       "      <th>PAY_2</th>\n",
       "      <td>-0.308840</td>\n",
       "      <td>0.645076</td>\n",
       "      <td>1.000000</td>\n",
       "      <td>0.786833</td>\n",
       "      <td>0.694651</td>\n",
       "      <td>0.615124</td>\n",
       "      <td>0.235276</td>\n",
       "    </tr>\n",
       "    <tr>\n",
       "      <th>PAY_3</th>\n",
       "      <td>-0.296653</td>\n",
       "      <td>0.559973</td>\n",
       "      <td>0.786833</td>\n",
       "      <td>1.000000</td>\n",
       "      <td>0.792073</td>\n",
       "      <td>0.653343</td>\n",
       "      <td>0.208608</td>\n",
       "    </tr>\n",
       "    <tr>\n",
       "      <th>PAY_4</th>\n",
       "      <td>-0.275536</td>\n",
       "      <td>0.528837</td>\n",
       "      <td>0.694651</td>\n",
       "      <td>0.792073</td>\n",
       "      <td>1.000000</td>\n",
       "      <td>0.719471</td>\n",
       "      <td>0.186960</td>\n",
       "    </tr>\n",
       "    <tr>\n",
       "      <th>PAY_6</th>\n",
       "      <td>-0.237806</td>\n",
       "      <td>0.476768</td>\n",
       "      <td>0.615124</td>\n",
       "      <td>0.653343</td>\n",
       "      <td>0.719471</td>\n",
       "      <td>1.000000</td>\n",
       "      <td>0.156596</td>\n",
       "    </tr>\n",
       "    <tr>\n",
       "      <th>default</th>\n",
       "      <td>-0.154380</td>\n",
       "      <td>0.291685</td>\n",
       "      <td>0.235276</td>\n",
       "      <td>0.208608</td>\n",
       "      <td>0.186960</td>\n",
       "      <td>0.156596</td>\n",
       "      <td>1.000000</td>\n",
       "    </tr>\n",
       "  </tbody>\n",
       "</table>\n",
       "</div>"
      ],
      "text/plain": [
       "           LIMIT_BAL     PAY_0     PAY_2     PAY_3     PAY_4     PAY_6  \\\n",
       "LIMIT_BAL   1.000000 -0.281256 -0.308840 -0.296653 -0.275536 -0.237806   \n",
       "PAY_0      -0.281256  1.000000  0.645076  0.559973  0.528837  0.476768   \n",
       "PAY_2      -0.308840  0.645076  1.000000  0.786833  0.694651  0.615124   \n",
       "PAY_3      -0.296653  0.559973  0.786833  1.000000  0.792073  0.653343   \n",
       "PAY_4      -0.275536  0.528837  0.694651  0.792073  1.000000  0.719471   \n",
       "PAY_6      -0.237806  0.476768  0.615124  0.653343  0.719471  1.000000   \n",
       "default    -0.154380  0.291685  0.235276  0.208608  0.186960  0.156596   \n",
       "\n",
       "            default  \n",
       "LIMIT_BAL -0.154380  \n",
       "PAY_0      0.291685  \n",
       "PAY_2      0.235276  \n",
       "PAY_3      0.208608  \n",
       "PAY_4      0.186960  \n",
       "PAY_6      0.156596  \n",
       "default    1.000000  "
      ]
     },
     "execution_count": 91,
     "metadata": {},
     "output_type": "execute_result"
    }
   ],
   "source": [
    "data.corr()"
   ]
  },
  {
   "cell_type": "code",
   "execution_count": 92,
   "id": "aa0f31ff",
   "metadata": {},
   "outputs": [],
   "source": [
    "inputs = data[['LIMIT_BAL', 'PAY_0', 'PAY_2', 'PAY_3', 'PAY_4', 'PAY_6']]\n",
    "\n",
    "targets = data[['default']]"
   ]
  },
  {
   "cell_type": "code",
   "execution_count": 93,
   "id": "7b26dede",
   "metadata": {},
   "outputs": [],
   "source": [
    "from sklearn.preprocessing import StandardScaler\n",
    "scaler = StandardScaler()\n",
    "scaler.fit(inputs)\n",
    "x_scaled = scaler.transform(inputs)"
   ]
  },
  {
   "cell_type": "code",
   "execution_count": 94,
   "id": "a869ac71",
   "metadata": {},
   "outputs": [],
   "source": [
    "from sklearn.model_selection import train_test_split\n",
    "\n",
    "X_train, X_test, y_train, y_test = train_test_split(inputs, targets, test_size=0.3, random_state=42)"
   ]
  },
  {
   "cell_type": "code",
   "execution_count": 95,
   "id": "ce20654b",
   "metadata": {},
   "outputs": [],
   "source": [
    "from sklearn import svm\n",
    "from sklearn.metrics import accuracy_score, confusion_matrix\n",
    "from sklearn.metrics import roc_auc_score\n",
    "import seaborn as sns\n",
    "sns.set()"
   ]
  },
  {
   "cell_type": "code",
   "execution_count": 96,
   "id": "d66bf787",
   "metadata": {},
   "outputs": [],
   "source": [
    "def evaluate(model, X_test, y_test):\n",
    "    y_pred = model.predict(X_test)\n",
    "    accuracy = accuracy_score(y_test, y_pred)*100\n",
    "    cm = confusion_matrix(y_test, y_pred)\n",
    "    print('Model Performance')\n",
    "    print('Accuracy is', accuracy)\n",
    "    print('CM', cm)\n",
    "    return accuracy\n",
    "    return cm"
   ]
  },
  {
   "cell_type": "code",
   "execution_count": 97,
   "id": "700b00d9",
   "metadata": {},
   "outputs": [
    {
     "name": "stderr",
     "output_type": "stream",
     "text": [
      "D:\\anaconda\\lib\\site-packages\\sklearn\\utils\\validation.py:993: DataConversionWarning: A column-vector y was passed when a 1d array was expected. Please change the shape of y to (n_samples, ), for example using ravel().\n",
      "  y = column_or_1d(y, warn=True)\n"
     ]
    },
    {
     "name": "stdout",
     "output_type": "stream",
     "text": [
      "Model Performance\n",
      "Accuracy is 78.22222222222223\n",
      "CM [[7040    0]\n",
      " [1960    0]]\n"
     ]
    }
   ],
   "source": [
    "base_model = svm.SVC()\n",
    "base_model.fit(X_train, y_train)\n",
    "base_accuracy = evaluate(base_model, X_test, y_test)"
   ]
  },
  {
   "cell_type": "code",
   "execution_count": 98,
   "id": "6009c9a5",
   "metadata": {},
   "outputs": [
    {
     "name": "stdout",
     "output_type": "stream",
     "text": [
      "{'kernel': ['poly', 'rbf', 'sigmoid'], 'gamma': ['scale', 'auto'], 'C': [1, 10, 100, 1000.0, 10000.0, 100000.0, 1000000.0]}\n"
     ]
    }
   ],
   "source": [
    "from sklearn.model_selection import RandomizedSearchCV\n",
    "\n",
    "kernel = ['poly', 'rbf', 'sigmoid']\n",
    "# kernel trick\n",
    "\n",
    "gamma = ['scale', 'auto'] \n",
    "#Kernel coefficient for ‘rbf’, ‘poly’ and ‘sigmoid’.\n",
    "\n",
    "#if gamma='scale' (default) is passed then it uses 1 / (n_features * X.var()) as value of gamma\n",
    "#if ‘auto’, uses 1 / n_features.\n",
    "\n",
    "C = [1, 10, 100, 1e3, 1e4, 1e5, 1e6]\n",
    "# Must be strictly positive.\n",
    "\n",
    "#epsilon = [0.1 , 0.01, 0.001, 0.0001]\n",
    "\n",
    "\n",
    "# Create the random grid\n",
    "random_grid = {'kernel': kernel,\n",
    "               'gamma': gamma,\n",
    "               'C': C}\n",
    "print(random_grid)"
   ]
  },
  {
   "cell_type": "code",
   "execution_count": 99,
   "id": "3b2a9ac9",
   "metadata": {},
   "outputs": [],
   "source": [
    "#svc_random = RandomizedSearchCV(estimator = base_model, param_distributions = random_grid, n_iter = 2, cv = 3, verbose=1, n_jobs = -1)\n",
    "#svc_random.fit(X_train, y_train)"
   ]
  },
  {
   "cell_type": "code",
   "execution_count": 100,
   "id": "616e6e03",
   "metadata": {},
   "outputs": [],
   "source": [
    "#svc_random.best_params_"
   ]
  },
  {
   "cell_type": "code",
   "execution_count": 101,
   "id": "1d0f2d6c",
   "metadata": {},
   "outputs": [],
   "source": [
    "#optimized_model = svc_random.best_estimator_\n",
    "#optmized_accuracy = evaluate(optimized_model, X_test, y_test)"
   ]
  },
  {
   "cell_type": "markdown",
   "id": "ce91df5f",
   "metadata": {},
   "source": [
    "# KNN - k-Nearest Neighbors classifier"
   ]
  },
  {
   "cell_type": "code",
   "execution_count": 103,
   "id": "1de11482",
   "metadata": {},
   "outputs": [
    {
     "data": {
      "text/html": [
       "<div>\n",
       "<style scoped>\n",
       "    .dataframe tbody tr th:only-of-type {\n",
       "        vertical-align: middle;\n",
       "    }\n",
       "\n",
       "    .dataframe tbody tr th {\n",
       "        vertical-align: top;\n",
       "    }\n",
       "\n",
       "    .dataframe thead th {\n",
       "        text-align: right;\n",
       "    }\n",
       "</style>\n",
       "<table border=\"1\" class=\"dataframe\">\n",
       "  <thead>\n",
       "    <tr style=\"text-align: right;\">\n",
       "      <th></th>\n",
       "      <th>LIMIT_BAL</th>\n",
       "      <th>PAY_0</th>\n",
       "      <th>PAY_2</th>\n",
       "      <th>PAY_3</th>\n",
       "      <th>PAY_4</th>\n",
       "      <th>PAY_6</th>\n",
       "      <th>default</th>\n",
       "    </tr>\n",
       "  </thead>\n",
       "  <tbody>\n",
       "    <tr>\n",
       "      <th>0</th>\n",
       "      <td>20000.0</td>\n",
       "      <td>1.5</td>\n",
       "      <td>1.5</td>\n",
       "      <td>-1.0</td>\n",
       "      <td>-1.0</td>\n",
       "      <td>-2.0</td>\n",
       "      <td>1</td>\n",
       "    </tr>\n",
       "    <tr>\n",
       "      <th>1</th>\n",
       "      <td>120000.0</td>\n",
       "      <td>-1.0</td>\n",
       "      <td>1.5</td>\n",
       "      <td>0.0</td>\n",
       "      <td>0.0</td>\n",
       "      <td>1.5</td>\n",
       "      <td>1</td>\n",
       "    </tr>\n",
       "    <tr>\n",
       "      <th>2</th>\n",
       "      <td>90000.0</td>\n",
       "      <td>0.0</td>\n",
       "      <td>0.0</td>\n",
       "      <td>0.0</td>\n",
       "      <td>0.0</td>\n",
       "      <td>0.0</td>\n",
       "      <td>0</td>\n",
       "    </tr>\n",
       "    <tr>\n",
       "      <th>3</th>\n",
       "      <td>50000.0</td>\n",
       "      <td>0.0</td>\n",
       "      <td>0.0</td>\n",
       "      <td>0.0</td>\n",
       "      <td>0.0</td>\n",
       "      <td>0.0</td>\n",
       "      <td>0</td>\n",
       "    </tr>\n",
       "    <tr>\n",
       "      <th>4</th>\n",
       "      <td>50000.0</td>\n",
       "      <td>-1.0</td>\n",
       "      <td>0.0</td>\n",
       "      <td>-1.0</td>\n",
       "      <td>0.0</td>\n",
       "      <td>0.0</td>\n",
       "      <td>0</td>\n",
       "    </tr>\n",
       "  </tbody>\n",
       "</table>\n",
       "</div>"
      ],
      "text/plain": [
       "   LIMIT_BAL  PAY_0  PAY_2  PAY_3  PAY_4  PAY_6  default\n",
       "0    20000.0    1.5    1.5   -1.0   -1.0   -2.0        1\n",
       "1   120000.0   -1.0    1.5    0.0    0.0    1.5        1\n",
       "2    90000.0    0.0    0.0    0.0    0.0    0.0        0\n",
       "3    50000.0    0.0    0.0    0.0    0.0    0.0        0\n",
       "4    50000.0   -1.0    0.0   -1.0    0.0    0.0        0"
      ]
     },
     "execution_count": 103,
     "metadata": {},
     "output_type": "execute_result"
    }
   ],
   "source": [
    "data.head()"
   ]
  },
  {
   "cell_type": "code",
   "execution_count": 122,
   "id": "e0273bf0",
   "metadata": {},
   "outputs": [
    {
     "data": {
      "text/plain": [
       "Index(['LIMIT_BAL', 'PAY_0', 'PAY_2', 'PAY_3', 'PAY_4', 'PAY_6', 'default'], dtype='object')"
      ]
     },
     "execution_count": 122,
     "metadata": {},
     "output_type": "execute_result"
    }
   ],
   "source": [
    "data.columns"
   ]
  },
  {
   "cell_type": "code",
   "execution_count": 123,
   "id": "738d32f9",
   "metadata": {},
   "outputs": [],
   "source": [
    "X = data[['LIMIT_BAL', 'PAY_0', 'PAY_2', 'PAY_3', 'PAY_4', 'PAY_6']]\n",
    "y = data['default']"
   ]
  },
  {
   "cell_type": "code",
   "execution_count": 124,
   "id": "5ed1b894",
   "metadata": {},
   "outputs": [],
   "source": [
    "from sklearn.preprocessing import StandardScaler\n",
    "scaler = StandardScaler()\n",
    "scaler.fit(X)\n",
    "x_scaled = scaler.transform(X)"
   ]
  },
  {
   "cell_type": "code",
   "execution_count": 125,
   "id": "27f48d39",
   "metadata": {},
   "outputs": [],
   "source": [
    "from sklearn.model_selection import train_test_split\n",
    "X_train, X_test, y_train, y_test = train_test_split(x_scaled, y, test_size = 0.20, random_state = 0)"
   ]
  },
  {
   "cell_type": "code",
   "execution_count": 126,
   "id": "fdb11c97",
   "metadata": {},
   "outputs": [],
   "source": [
    "from sklearn import metrics\n",
    "\n",
    "def evaluate(model, X_test, y_test):\n",
    "    y_pred = model.predict(X_test)\n",
    "    mae = metrics.mean_absolute_error(y_test, y_pred)\n",
    "    mse = metrics.mean_squared_error(y_test, y_pred)\n",
    "    rmse = np.sqrt(mse)\n",
    "    r2 = (metrics.r2_score(y_test, y_pred))*100\n",
    "    print('Model Performance')\n",
    "    print('rmse is', rmse)\n",
    "    print('Accuracy is', r2.round(4), '%')\n",
    "    \n",
    "    return rmse\n",
    "    return r2"
   ]
  },
  {
   "cell_type": "code",
   "execution_count": 128,
   "id": "49037e59",
   "metadata": {},
   "outputs": [
    {
     "name": "stdout",
     "output_type": "stream",
     "text": [
      "Model Performance\n",
      "rmse is 0.3941235001028654\n",
      "Accuracy is 8.3247 %\n"
     ]
    }
   ],
   "source": [
    "from sklearn.neighbors import KNeighborsRegressor\n",
    "\n",
    "base_model = KNeighborsRegressor()\n",
    "base_model.fit(X_train, y_train)\n",
    "base_accuracy = evaluate(base_model, X_test, y_test)"
   ]
  },
  {
   "cell_type": "code",
   "execution_count": 110,
   "id": "381f81ef",
   "metadata": {},
   "outputs": [],
   "source": [
    "def evaluate(model, X_test, y_test):\n",
    "    y_pred = model.predict(X_test)\n",
    "    y_prob = model.predict_proba(X_test)[:,1]\n",
    "\n",
    "    roc_pred = roc_auc_score(y_test, y_pred)\n",
    "    roc_prob = roc_auc_score(y_test, y_prob)\n",
    "    \n",
    "    gini_pred = roc_pred*2-1\n",
    "    gini_prob = roc_prob*2-1\n",
    "    \n",
    "    print('Model Performance')\n",
    "\n",
    "    print('Gini pred is', gini_pred*100)\n",
    "    print('Gini prob is', gini_prob*100)\n",
    "    \n",
    "    return gini_pred\n",
    "    return gini_prob"
   ]
  },
  {
   "cell_type": "code",
   "execution_count": 111,
   "id": "abf28459",
   "metadata": {},
   "outputs": [
    {
     "name": "stderr",
     "output_type": "stream",
     "text": [
      "D:\\anaconda\\lib\\site-packages\\sklearn\\neighbors\\_classification.py:228: FutureWarning: Unlike other reduction functions (e.g. `skew`, `kurtosis`), the default behavior of `mode` typically preserves the axis it acts along. In SciPy 1.11.0, this behavior will change: the default value of `keepdims` will become False, the `axis` over which the statistic is taken will be eliminated, and the value None will no longer be accepted. Set `keepdims` to True or False to avoid this warning.\n",
      "  mode, _ = stats.mode(_y[neigh_ind, k], axis=1)\n"
     ]
    },
    {
     "name": "stdout",
     "output_type": "stream",
     "text": [
      "Model Performance\n",
      "Gini pred is 30.90635400458803\n",
      "Gini prob is 43.202627762164305\n"
     ]
    }
   ],
   "source": [
    "from sklearn.neighbors import KNeighborsClassifier\n",
    "from sklearn.metrics import accuracy_score, confusion_matrix\n",
    "from sklearn.metrics import roc_auc_score\n",
    "\n",
    "base_model = KNeighborsClassifier()\n",
    "base_model.fit(X_train, y_train)\n",
    "base_accuracy = evaluate(base_model, X_test, y_test)"
   ]
  },
  {
   "cell_type": "code",
   "execution_count": 112,
   "id": "1a4478d8",
   "metadata": {},
   "outputs": [
    {
     "name": "stdout",
     "output_type": "stream",
     "text": [
      "AUC score for k=  1 is: 0.6229160966334748\n",
      "AUC score for k=  2 is: 0.6640075864894388\n",
      "AUC score for k=  3 is: 0.6842290170269767\n",
      "AUC score for k=  4 is: 0.7066880652140376\n",
      "AUC score for k=  5 is: 0.7160131388108215\n",
      "AUC score for k=  6 is: 0.7204860789492624\n",
      "AUC score for k=  7 is: 0.7256378128365382\n",
      "AUC score for k=  8 is: 0.7276326352820941\n",
      "AUC score for k=  9 is: 0.7305173242820944\n",
      "AUC score for k=  10 is: 0.7364044932031277\n",
      "AUC score for k=  11 is: 0.7370487775728709\n",
      "AUC score for k=  12 is: 0.7394157439164719\n",
      "AUC score for k=  13 is: 0.7380866819863172\n",
      "AUC score for k=  14 is: 0.7413927788673416\n",
      "AUC score for k=  15 is: 0.7393421348370788\n",
      "AUC score for k=  16 is: 0.7411616234064413\n",
      "AUC score for k=  17 is: 0.7411890833636758\n",
      "AUC score for k=  18 is: 0.741916731245382\n",
      "AUC score for k=  19 is: 0.742616427349724\n",
      "AUC score for k=  20 is: 0.7439722115069188\n",
      "-------------------------------------\n",
      "Optimal Neighbor is  20  max AUC is 0.7439722115069188\n"
     ]
    }
   ],
   "source": [
    "from sklearn import neighbors\n",
    "\n",
    "auc_val = [] #to store rmse values for different k\n",
    "\n",
    "for K in range(20):\n",
    "    K = K+1\n",
    "    model = neighbors.KNeighborsClassifier(n_neighbors = K)\n",
    "\n",
    "    model.fit(X_train, y_train)  #fit the model\n",
    "    y1_pred=model.predict_proba(X_test)[:,1] #make prediction on test set\n",
    "    \n",
    "    auc = roc_auc_score(y_test,y1_pred) #calculate rmse\n",
    "    auc_val.append(auc) #store rmse values\n",
    "    \n",
    "    print('AUC score for k= ' , K , 'is:', auc)\n",
    "\n",
    "    \n",
    "\n",
    "max_auc = max(auc_val)\n",
    "max_auc_index = auc_val.index(max_auc) + 1\n",
    "\n",
    "print('-------------------------------------')\n",
    "print('Optimal Neighbor is ',max_auc_index,' max AUC is', max_auc) "
   ]
  },
  {
   "cell_type": "code",
   "execution_count": 113,
   "id": "d0f6efee",
   "metadata": {},
   "outputs": [
    {
     "name": "stderr",
     "output_type": "stream",
     "text": [
      "D:\\anaconda\\lib\\site-packages\\sklearn\\neighbors\\_classification.py:228: FutureWarning: Unlike other reduction functions (e.g. `skew`, `kurtosis`), the default behavior of `mode` typically preserves the axis it acts along. In SciPy 1.11.0, this behavior will change: the default value of `keepdims` will become False, the `axis` over which the statistic is taken will be eliminated, and the value None will no longer be accepted. Set `keepdims` to True or False to avoid this warning.\n",
      "  mode, _ = stats.mode(_y[neigh_ind, k], axis=1)\n"
     ]
    },
    {
     "name": "stdout",
     "output_type": "stream",
     "text": [
      "Model Performance\n",
      "Gini pred is 28.552666804485582\n",
      "Gini prob is 48.79444230138377\n"
     ]
    }
   ],
   "source": [
    "max_auc_model = KNeighborsClassifier(n_neighbors=20)\n",
    "max_auc_model.fit(X_train, y_train)\n",
    "max_auc_accuracy = evaluate(max_auc_model, X_test, y_test)"
   ]
  },
  {
   "cell_type": "code",
   "execution_count": 130,
   "id": "2654d332",
   "metadata": {},
   "outputs": [
    {
     "name": "stdout",
     "output_type": "stream",
     "text": [
      "Model Performance\n",
      "rmse is 0.37308455252574224\n",
      "Accuracy is 17.851 %\n"
     ]
    }
   ],
   "source": [
    "min_rmse_model = KNeighborsRegressor(n_neighbors=20)\n",
    "min_rmse_model.fit(X_train, y_train)\n",
    "min_rmse_accuracy = evaluate(min_rmse_model, X_test, y_test)"
   ]
  },
  {
   "cell_type": "code",
   "execution_count": 131,
   "id": "aecf6fc1",
   "metadata": {},
   "outputs": [
    {
     "name": "stdout",
     "output_type": "stream",
     "text": [
      "{'n_neighbors': [1, 2, 3, 4, 5, 6, 7, 8, 9, 10, 11, 12, 13, 14, 15, 16, 17, 18, 19, 20, 21, 22, 23, 24, 25, 26, 27, 28, 29, 30], 'weights': ['uniform', 'distance']}\n",
      "Fitting 3 folds for each of 60 candidates, totalling 180 fits\n"
     ]
    },
    {
     "name": "stderr",
     "output_type": "stream",
     "text": [
      "D:\\anaconda\\lib\\site-packages\\sklearn\\model_selection\\_search.py:292: UserWarning: The total space of parameters 60 is smaller than n_iter=100. Running 60 iterations. For exhaustive searches, use GridSearchCV.\n",
      "  warnings.warn(\n"
     ]
    },
    {
     "data": {
      "text/plain": [
       "{'weights': 'uniform', 'n_neighbors': 30}"
      ]
     },
     "execution_count": 131,
     "metadata": {},
     "output_type": "execute_result"
    }
   ],
   "source": [
    "from sklearn.model_selection import RandomizedSearchCV\n",
    "\n",
    "neighbors = [int(x) for x in np.linspace(start = 1, stop = 30, num = 30)]\n",
    "weight  = ['uniform','distance']\n",
    "\n",
    "\n",
    "# Create the random grid\n",
    "random_grid = {'n_neighbors': neighbors,\n",
    "               'weights': weight}\n",
    "print(random_grid)\n",
    "\n",
    "knn_random = RandomizedSearchCV(estimator = base_model, param_distributions = random_grid, n_iter = 100, cv = 3, verbose=1, n_jobs = -1)\n",
    "# Fit the random search model\n",
    "knn_random.fit(X_train, y_train)\n",
    "\n",
    "knn_random.best_params_"
   ]
  },
  {
   "cell_type": "code",
   "execution_count": 132,
   "id": "8f440896",
   "metadata": {},
   "outputs": [
    {
     "name": "stdout",
     "output_type": "stream",
     "text": [
      "Model Performance\n",
      "rmse is 0.369522965757505\n",
      "Accuracy is 19.412 %\n"
     ]
    }
   ],
   "source": [
    "optimized_model = knn_random.best_estimator_\n",
    "optmized_accuracy = evaluate(optimized_model, X_test, y_test)"
   ]
  },
  {
   "cell_type": "code",
   "execution_count": 133,
   "id": "3105c844",
   "metadata": {},
   "outputs": [
    {
     "data": {
      "image/png": "[encoded data removed]",
      "text/plain": [
       "<Figure size 640x480 with 1 Axes>"
      ]
     },
     "metadata": {},
     "output_type": "display_data"
    }
   ],
   "source": [
    "from sklearn.metrics import roc_curve\n",
    "y_prob = max_auc_model.predict_proba(X_test)[:,1]\n",
    "\n",
    "roc_auc = roc_auc_score(y_test, y_prob)\n",
    "gini = (2*roc_auc_score(y_test, y_prob))-1\n",
    "\n",
    "fpr, tpr, thresholds = roc_curve(y_test, y_prob)\n",
    "plt.figure()\n",
    "\n",
    "plt.plot(fpr, tpr, label='(Roc_Auc = %0.2f)' % roc_auc)\n",
    "plt.plot(fpr, tpr, label='(Gini = %0.2f)' % gini)\n",
    "plt.plot([0, 1], [0, 1])\n",
    "plt.xlim()\n",
    "plt.ylim()\n",
    "\n",
    "plt.xlabel('False Positive Rate')\n",
    "plt.ylabel('True Positive Rate')\n",
    "plt.title('ROC Curve')\n",
    "\n",
    "plt.legend(loc='lower right')\n",
    "plt.show()"
   ]
  }
 ],
 "metadata": {
  "kernelspec": {
   "display_name": "Python 3 (ipykernel)",
   "language": "python",
   "name": "python3"
  },
  "language_info": {
   "codemirror_mode": {
    "name": "ipython",
    "version": 3
   },
   "file_extension": ".py",
   "mimetype": "text/x-python",
   "name": "python",
   "nbconvert_exporter": "python",
   "pygments_lexer": "ipython3",
   "version": "3.9.13"
  }
 },
 "nbformat": 4,
 "nbformat_minor": 5
}
